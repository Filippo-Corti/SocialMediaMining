{
 "cells": [
  {
   "cell_type": "code",
   "id": "initial_id",
   "metadata": {
    "collapsed": true,
    "ExecuteTime": {
     "end_time": "2025-04-03T13:42:02.985266Z",
     "start_time": "2025-04-03T13:42:02.563163Z"
    }
   },
   "source": [
    "import networkx as nx\n",
    "from statsmodels.distributions.empirical_distribution import ECDF\n",
    "import numpy as np\n",
    "import pickle\n",
    "import matplotlib.pyplot as plt"
   ],
   "outputs": [],
   "execution_count": 2
  },
  {
   "metadata": {
    "ExecuteTime": {
     "end_time": "2025-04-03T13:42:15.053358Z",
     "start_time": "2025-04-03T13:42:15.043759Z"
    }
   },
   "cell_type": "code",
   "source": [
    "def draw_network_colored(g, p, colors = 'default', fs = (8,4)):\n",
    "\n",
    "    if colors == 'default': colors = {i:0 for i in g.nodes()}\n",
    "    plt.figure(figsize = fs)\n",
    "    nx.draw_networkx(g,\n",
    "                     pos=p,\n",
    "                     font_size = 12,\n",
    "                     font_weight = 'bold',\n",
    "                     font_color = 'plum',\n",
    "                     edge_color = 'grey',\n",
    "                     arrowsize = 20\n",
    "                    )\n",
    "\n",
    "    nodes = nx.draw_networkx_nodes(g, p,cmap=plt.get_cmap('Blues') ,node_color= [c for c in colors.values()],node_size = 300)\n",
    "    nodes.set_edgecolor('lightgrey')\n",
    "    plt.axis('off')\n",
    "    plt.show()"
   ],
   "id": "4d929f2e951b7dfc",
   "outputs": [],
   "execution_count": 3
  },
  {
   "metadata": {
    "ExecuteTime": {
     "end_time": "2025-04-03T13:42:20.594561Z",
     "start_time": "2025-04-03T13:42:20.502746Z"
    }
   },
   "cell_type": "code",
   "source": [
    "exercise_graph = nx.Graph()\n",
    "exercise_graph.add_edges_from([(1,2),(1,3),(1,5),(2,3),(3,4),(3,5),(5,6),(5,7)])\n",
    "p = nx.spring_layout(exercise_graph)\n",
    "draw_network_colored(exercise_graph, p, {i:0 for i in exercise_graph.nodes()})"
   ],
   "id": "744225da780411be",
   "outputs": [
    {
     "name": "stderr",
     "output_type": "stream",
     "text": [
      "C:\\Users\\corti\\miniconda3\\Lib\\site-packages\\networkx\\drawing\\nx_pylab.py:315: UserWarning: \n",
      "\n",
      "The arrowsize keyword argument is not applicable when drawing edges\n",
      "with LineCollection.\n",
      "\n",
      "To make this warning go away, either specify `arrows=True` to\n",
      "force FancyArrowPatches or use the default values.\n",
      "Note that using FancyArrowPatches may be slow for large graphs.\n",
      "\n",
      "  draw_networkx_edges(G, pos, arrows=arrows, **edge_kwds)\n"
     ]
    },
    {
     "data": {
      "text/plain": [
       "<Figure size 800x400 with 1 Axes>"
      ],
      "image/png": "[encoded data removed]"
     },
     "metadata": {},
     "output_type": "display_data"
    }
   ],
   "execution_count": 4
  },
  {
   "metadata": {
    "ExecuteTime": {
     "end_time": "2025-04-03T13:44:28.521306Z",
     "start_time": "2025-04-03T13:44:28.513419Z"
    }
   },
   "cell_type": "code",
   "source": [
    "print('exercise graph - dictionary keyed by nodes: number of triangles {}'.format(nx.triangles(exercise_graph)))\n",
    "print('exercise graph - number of triangles of node labelled 1: {}'.format(nx.triangles(exercise_graph,1)))\n",
    "print('exercise graph - list of the number of triangles: {}'.format(sum(nx.triangles(exercise_graph).values())/3))"
   ],
   "id": "3a3c10fd0e9edcd6",
   "outputs": [
    {
     "name": "stdout",
     "output_type": "stream",
     "text": [
      "exercise graph - dictionary keyed by nodes: number of triangles {1: 2, 2: 1, 3: 2, 5: 1, 4: 0, 6: 0, 7: 0}\n",
      "exercise graph - number of triangles of node labelled 1: 2\n",
      "exercise graph - list of the number of triangles: 2.0\n"
     ]
    }
   ],
   "execution_count": 5
  },
  {
   "metadata": {
    "ExecuteTime": {
     "end_time": "2025-04-03T13:50:15.637807Z",
     "start_time": "2025-04-03T13:50:15.628886Z"
    }
   },
   "cell_type": "code",
   "source": "print('exercise graph - transitivity: {}'.format(nx.transitivity(exercise_graph)))",
   "id": "26cb3a2ee7f2c2d6",
   "outputs": [
    {
     "name": "stdout",
     "output_type": "stream",
     "text": [
      "exercise graph - transitivity: 0.375\n"
     ]
    }
   ],
   "execution_count": 8
  },
  {
   "metadata": {},
   "cell_type": "markdown",
   "source": [
    "### Esercizio\n",
    "\n",
    "* crea un grafo indiretto sugli edge di ./data/out.arenas-jazz http://konect.cc/networks/arenas-jazz/\n",
    "* qual è il clustering medio del grafo?\n",
    "* il livello di clustering in questo grafo è più alto globalmente o localmente?\n",
    "* quanti sono i nodi con clustering = 1 ?\n",
    "* qual è il grado medio dei nodi con clustering = 1?\n",
    "* qual è il clustering medio dei nodi con degree = 23?\n",
    "* crea un plot dove si mostra la media dei clustering coeff per ogni valore di degree\n",
    "* aggiungi al plot un'area che delimita l'area tra media - devstandard e media + devstandard (con fill_between)"
   ],
   "id": "3bb628e506a8b86b"
  },
  {
   "metadata": {
    "ExecuteTime": {
     "end_time": "2025-04-03T15:13:11.970613Z",
     "start_time": "2025-04-03T15:13:11.955249Z"
    }
   },
   "cell_type": "code",
   "source": [
    "edge_list = {\n",
    "    (line.split()[0], line.split()[1])\n",
    "    for line in list(open(\"../data/jazz/out.arenas-jazz\"))[1:]\n",
    "}"
   ],
   "id": "c0565848fe954639",
   "outputs": [],
   "execution_count": 10
  },
  {
   "metadata": {
    "ExecuteTime": {
     "end_time": "2025-04-03T15:13:46.323235Z",
     "start_time": "2025-04-03T15:13:46.309296Z"
    }
   },
   "cell_type": "code",
   "source": "G = nx.from_edgelist(edge_list)",
   "id": "5d6757ff907066e3",
   "outputs": [],
   "execution_count": 12
  },
  {
   "metadata": {
    "ExecuteTime": {
     "end_time": "2025-04-03T15:13:52.785413Z",
     "start_time": "2025-04-03T15:13:52.768472Z"
    }
   },
   "cell_type": "code",
   "source": "G.size(), G.order()",
   "id": "15ab588b50c4afac",
   "outputs": [
    {
     "data": {
      "text/plain": [
       "(2742, 198)"
      ]
     },
     "execution_count": 13,
     "metadata": {},
     "output_type": "execute_result"
    }
   ],
   "execution_count": 13
  },
  {
   "metadata": {
    "ExecuteTime": {
     "end_time": "2025-04-03T15:15:11.226098Z",
     "start_time": "2025-04-03T15:15:11.172473Z"
    }
   },
   "cell_type": "code",
   "source": [
    "avg_clustering = nx.average_clustering(G)\n",
    "\n",
    "avg_clustering"
   ],
   "id": "7c05ee1008bcbff8",
   "outputs": [
    {
     "data": {
      "text/plain": [
       "0.6174507021536301"
      ]
     },
     "execution_count": 15,
     "metadata": {},
     "output_type": "execute_result"
    }
   ],
   "execution_count": 15
  },
  {
   "metadata": {
    "ExecuteTime": {
     "end_time": "2025-04-03T15:15:47.895345Z",
     "start_time": "2025-04-03T15:15:47.839243Z"
    }
   },
   "cell_type": "code",
   "source": [
    "global_clustering = nx.transitivity(G)\n",
    "\n",
    "global_clustering # E' più alto"
   ],
   "id": "5ce3d5fe0de2cc5f",
   "outputs": [
    {
     "data": {
      "text/plain": [
       "0.5202592721776538"
      ]
     },
     "execution_count": 16,
     "metadata": {},
     "output_type": "execute_result"
    }
   ],
   "execution_count": 16
  },
  {
   "metadata": {},
   "cell_type": "code",
   "outputs": [],
   "execution_count": null,
   "source": "",
   "id": "310359e32de9d1d1"
  }
 ],
 "metadata": {
  "kernelspec": {
   "display_name": "Python 3",
   "language": "python",
   "name": "python3"
  },
  "language_info": {
   "codemirror_mode": {
    "name": "ipython",
    "version": 2
   },
   "file_extension": ".py",
   "mimetype": "text/x-python",
   "name": "python",
   "nbconvert_exporter": "python",
   "pygments_lexer": "ipython2",
   "version": "2.7.6"
  }
 },
 "nbformat": 4,
 "nbformat_minor": 5
}
