{
 "cells": [
  {
   "cell_type": "code",
   "execution_count": 1,
   "metadata": {
    "ExecuteTime": {
     "end_time": "2025-04-11T07:06:11.395857Z",
     "start_time": "2025-04-11T07:06:10.925667Z"
    },
    "cell_id": "219ca92abd2c473cbd47a9d26b187bda",
    "deepnote_app_block_group_id": null,
    "deepnote_app_block_order": 0,
    "deepnote_app_block_visible": true,
    "deepnote_app_is_code_hidden": false,
    "deepnote_app_is_output_hidden": false,
    "deepnote_cell_type": "code",
    "execution_context_id": "65f07552-a707-4497-adef-9e369a2912c3",
    "execution_millis": 91,
    "execution_start": 1743843711632,
    "source_hash": "c1999fa4"
   },
   "outputs": [],
   "source": [
    "import json\n",
    "import requests\n",
    "\n",
    "credentials = json.load(open('tmdb_keys.json'))\n",
    "api_key = credentials['api_key']\n",
    "api_token = credentials['api_token']"
   ]
  },
  {
   "cell_type": "markdown",
   "metadata": {
    "cell_id": "de6d70396d164791810727a75117316b",
    "deepnote_app_block_group_id": null,
    "deepnote_app_block_order": 1,
    "deepnote_app_block_visible": true,
    "deepnote_cell_type": "markdown"
   },
   "source": [
    "# Piattaforma: [TMDB](https://www.themoviedb.org/)"
   ]
  },
  {
   "cell_type": "markdown",
   "metadata": {
    "cell_id": "5f17c3438f0b4d37a83bdfaaa109399f",
    "deepnote_app_block_group_id": null,
    "deepnote_app_block_order": 2,
    "deepnote_app_block_visible": true,
    "deepnote_cell_type": "markdown"
   },
   "source": [
    "## Documentazione della Piattaforma\n",
    "\n",
    "**TMDB** è uno dei più grandi database di Serie TV e Film, costruito e mantenuto dalla propria community. Ogni suo contenuto è pertanto generato dagli utenti, che possono anche recensire, votare e salvare i contenuti stessi.  \n",
    " La piattaforma offre un vasto insieme di dati relativi al mondo del cinema e del movie streaming, resi accessibili tramite le proprie API. La documentazione è studiata per supportare sia sviluppatori principianti che esperti, offrendo strumenti e riferimenti utili per un’integrazione efficace.\n",
    "\n",
    "Le API sono fornite in due versioni, v3 e v4, accessibili a questi link:\n",
    "* v3: https://developer.themoviedb.org/v3/docs/getting-started\n",
    "* v4: https://developer.themoviedb.org/v4/docs/getting-started\n",
    "Rispetto alla versione precedente, la versione 4 si limita a migliorare il meccanismo di Autenticazione degli Utenti. Questa differenza è meglio spiegata nella sezione dedicata.\n",
    "\n",
    "La versione 3 è ancora tuttavia la versione di riferimento dell'API, motivo per cui in questo report si fa riferimento ad essa, ove non specificato diversamente. "
   ]
  },
  {
   "cell_type": "markdown",
   "metadata": {
    "cell_id": "918bf23513924c2db15bd89cd736ca64",
    "deepnote_app_block_group_id": null,
    "deepnote_app_block_order": 3,
    "deepnote_app_block_visible": true,
    "deepnote_cell_type": "markdown"
   },
   "source": [
    "### Link alla Documentazione\n",
    "\n",
    "Gli sviluppatori possono iniziare a esplorare le API di TMDB attraverso le seguenti risorse fondamentali:\n",
    "- **Getting Started**: Il punto di partenza che illustra requisiti, modalità di autenticazione e best practices per l’integrazione. \n",
    "    - Link: https://developer.themoviedb.org/docs/getting-started\n",
    "\n",
    "- **OpenAPI Specification (OAS)**: La specifica completa dell'API secondo lo standard OAS. disponibile per entrambe le versioni dell'API. \n",
    "    - Link: https://developer.themoviedb.org/openapi/\n",
    "\n",
    "- **Daily Exports**: File aggiornati quotidianamente che forniscono un dump di alcuni dati senza richiedere alcuna autenticazione. Sono in particolare resi disponibili gli ID di Film, Serie TV, Persone, Collezioni, TV Networks, Keywords e Case di Produzione.   \n",
    "    I dati vengono scaricati in formato .gz, possono essere decompressi e letti riga per riga. L'intero file non corrisponde ad un JSON valido, mentre è garantito che ogni riga di esso lo sia.\n",
    "    - Link: https://developer.themoviedb.org/docs/daily-id-exports\n",
    "    - Esempio di URL per scaricare gli ID dei film: http://files.tmdb.org/p/exports/movie_ids_03_27_2025.json.gz\n",
    "\n",
    "- **FAQ** e altri approfondimenti: Sezioni dedicate per chiarire dubbi su limitazioni, utilizzo dei dati e specifiche tecniche, inclusa la documentazione su \"Popularity and Trending\" per comprendere come vengono calcolati i punteggi e le tendenze dei contenuti.\n",
    "    - Link: https://developer.themoviedb.org/docs/faq e https://developer.themoviedb.org/docs/popularity-and-trending\n",
    "\n",
    "\n",
    "TMDB adotta un modello di API RESTful. Le richieste vengono effettuate tramite il protocollo HTTP e le risposte sono solitamente restituite in formato JSON, facilitando così l'integrazione e l'interoperabilità con diverse applicazioni.\n"
   ]
  },
  {
   "cell_type": "markdown",
   "metadata": {
    "cell_id": "6204881b1086419bb847eea4d364e128",
    "deepnote_app_block_group_id": null,
    "deepnote_app_block_order": 4,
    "deepnote_app_block_visible": true,
    "deepnote_cell_type": "markdown"
   },
   "source": [
    "### Individuare i Dati Disponibili\n",
    "\n",
    "Le API di TMDB consentono l’accesso a numerose entità che rappresentano i dati disponibili sulla piattaforma. Questi includono:\n",
    "- **Film e Serie TV**: Informazioni dettagliate su titoli, generi, date di rilascio e altre caratteristiche.\n",
    "\n",
    "- **Cast e Crew**: Dati relativi a registi, attori e altri professionisti del settore.\n",
    "\n",
    "- **Recensioni e Voti**: Feedback degli utenti, punteggi e classifiche.\n",
    "\n",
    "- **Trending e Popularity**: Endpoints che evidenziano i contenuti più popolari e di tendenza.\n"
   ]
  },
  {
   "cell_type": "markdown",
   "metadata": {
    "cell_id": "c823089e13214466a87cd07c8aaf7e5c",
    "deepnote_app_block_group_id": null,
    "deepnote_app_block_order": 5,
    "deepnote_app_block_visible": true,
    "deepnote_cell_type": "markdown"
   },
   "source": [
    "#### Profilo Account \n",
    "\n",
    "Oltre ai dati inerenti ai contenuti cinematografici, TMDB offre anche endpoint dedicati alla gestione del profilo account. Questi dati, solitamente accessibili nella sezione \"Account\" dell’API, comprendono:\n",
    "- Avatar\n",
    "- Nome e Username\n",
    "- Descrizione del profilo\n",
    "- Indicazione sulla visibilità di contenuti per adulti (boolean)\n",
    "- Liste personalizzate, tra cui:\n",
    "    - Lista dei Preferiti\n",
    "    - Watchlist\n",
    "    - Lista dei Votati\n",
    "    - Altre liste personalizzate\n",
    "\n",
    "Questi endpoint permettono agli utenti di gestire le proprie preferenze e di interagire in maniera personalizzata con la piattaforma, facilitando operazioni come il salvataggio di contenuti e la visualizzazione di statistiche personali.\n",
    "\n",
    "| **Attributo**  | **Tipo**   | **Descrizione**                                                                                                              |\n",
    "|:---------------|:-----------|:-----------------------------------------------------------------------------------------------------------------------------|\n",
    "| id             | _integer_  | Identificatore univoco dell'account. Di default 0. utente                                                                    |\n",
    "| name           | _string_   | Nome impostato dall’utente; può essere visualizzato pubblicamente all’interno della piattaforma. Può essere nullo.           |\n",
    "| username       | _string_   | Nome univoco scelto dall’utente per l’accesso.                                                                               |\n",
    "| include_adult  | _boolean_  | Indica se l’account è abilitato a visualizzare contenuti contrassegnati come “per adulti”. Di default è impostato a _true_.  |\n",
    "| avatar         | _object_   | Oggetto che contiene informazioni sull’avatar dell’utente. Comprende due sottocampi: gravatar e tmdb.                        |\n",
    "| iso_639_1      | _string_   | Codice della lingua preferita dell'utente.                                                                                   |\n",
    "| iso_3166_1     | _string_   | Codice del paese dell'utente.                                                                                                |\n",
    "\n",
    "\n",
    "Di seguito è riportato un esempio:"
   ]
  },
  {
   "cell_type": "markdown",
   "metadata": {
    "cell_id": "ede55d9f92da49faada5f9428af15026",
    "deepnote_app_block_group_id": null,
    "deepnote_app_block_order": 6,
    "deepnote_app_block_visible": true,
    "deepnote_cell_type": "markdown"
   },
   "source": [
    "```python\n",
    "{\n",
    "    \"avatar\": {\n",
    "        \"gravatar\": {\"hash\": \"92d7f7061f387cc2da77463666996b6e\"},\n",
    "        \"tmdb\": {\"avatar_path\": null},\n",
    "    },\n",
    "    \"id\": 21900582,\n",
    "    \"iso_639_1\": \"en\",\n",
    "    \"iso_3166_1\": \"IT\",\n",
    "    \"name\": \"\",\n",
    "    \"include_adult\": true,\n",
    "    \"username\": \"FilippoCorti\",\n",
    "}\n",
    "```"
   ]
  },
  {
   "cell_type": "markdown",
   "metadata": {
    "cell_id": "21aa6f58f4f745f4a91afab1860e7868",
    "deepnote_app_block_group_id": null,
    "deepnote_app_block_order": 7,
    "deepnote_app_block_visible": true,
    "deepnote_cell_type": "markdown"
   },
   "source": [
    "#### Relazioni tra Oggetti\n",
    "\n",
    "Poiché il punto centrale del Portale TMDB consiste nei contenuti generati, le TMDB API non prevedono oggetti che modellino in modo esplicito le relazioni sociali tra gli utenti (come followers, friends, mentions o followings).\n",
    "Sono invece resi disponibili tutti i dati riguardanti i contenuti (serie tv e film) che gli utenti hanno caricato sulla piattaforma.\n",
    "\n",
    "Nonostante ciò, anche tramite TMDB è possibile costruire Reti Sociali, che coinvolgono direttamente gli utenti oppure gli attori ed i registi dei contenuti caricati. In seguito indichiamo alcuni spunti per riuscire a costruire Reti basandosi su relazioni implicite, ovvero non espressamente indicate nelle API della Piattaforma ma ottenibili incrociando opportunamente i dati disponibili.\n",
    "\n",
    "Una forma indiretta di relazione tra utenti può derivare dalla visibilità pubblica di alcune attività: ad esempio, se un utente condivide una lista o una watchlist pubblica, altri utenti possono consultarla e, in qualche caso, interagire con contenuti simili.\n",
    "Gli utenti registrati possono infatti creare liste personalizzate, aggiungere contenuti alla propria watchlist o segnare film e serie come preferiti. Queste azioni possono riflettere preferenze e interessi personali, ma non generano una vera e propria relazione diretta tra diversi account.   \n",
    "Similmente, è possibile associare utenti che hanno dato un giudizio simile ad uno stesso film, o che hanno lasciato una recensione sotto la stessa serie tv.\n",
    "\n",
    "Possiamo trovare relazioni implicite anche tra i contenuti presenti nella piattaforma. Ad esempio, è possibile individuare film che condividono lo stesso cast, in particolare attori o registi, oppure film appartenenti allo stesso genere cinematografico, come azione, commedia o fantascienza. Queste connessioni consentono di analizzare la rete di legami tematici o produttivi all’interno del database.\n",
    "\n",
    "L’unica forma di relazione esplicita tra account sulla piattaforma TMDB è rappresentata dalle Discussions, in cui gli utenti possono partecipare attivamente rispondendo a thread tematici. Le Discussions, tuttavia, non sono rese accessibili tramite le API ufficiali e, poiché qualsiasi forma di scraping è espressamente vietata dal regolamento della piattaforma, risultano di fatto inaccessibili.\n"
   ]
  },
  {
   "cell_type": "markdown",
   "metadata": {
    "cell_id": "65d0d869bf0245f7b2eebf25984e46ad",
    "deepnote_app_block_group_id": null,
    "deepnote_app_block_order": 8,
    "deepnote_app_block_visible": true,
    "deepnote_cell_type": "image",
    "deepnote_img_src": "image-20250404-113849.png"
   },
   "source": [
    "<img src=\"image-20250404-113849.png\" width=\"\" align=\"\" />"
   ]
  },
  {
   "cell_type": "markdown",
   "metadata": {
    "cell_id": "eb36cdb1172641fbbbf4dbccdbd26c70",
    "deepnote_app_block_group_id": null,
    "deepnote_app_block_order": 9,
    "deepnote_app_block_visible": true,
    "deepnote_cell_type": "markdown"
   },
   "source": [
    "#### Contenuti accessibili e meta-dati dei Contenuti\n",
    "In questa sezione vengono analizzate le principali entità messe a disposizione dalla piattaforma. Le entità considerate includono: film, serie TV, stagioni, episodi, persone, recensioni. Per ogni entità vengono presentati i principali attributi disponibili, il tipo di dato, una breve descrizione compresa di eventuali insiemi di valori di default e range di valori ammessi. In aggiunta a questo viene presentato un esempio esplicativo."
   ]
  },
  {
   "cell_type": "markdown",
   "metadata": {
    "cell_id": "38433fa2ef0e446dbccd2917f05a9744",
    "deepnote_app_block_group_id": null,
    "deepnote_app_block_order": 10,
    "deepnote_app_block_visible": true,
    "deepnote_cell_type": "markdown"
   },
   "source": [
    "##### 1. Movie\n",
    "\n",
    "\n",
    "| Attributo               | Tipo              | Descrizione                                                                                                        |\n",
    "|:------------------------|:------------------|:-------------------------------------------------------------------------------------------------------------------|\n",
    "| adult                   | boolean           | Indica se il contenuto è destinato a un pubblico adulto                                                            |\n",
    "| backdrop_path           | string            | Percorso relativo all’immagine di sfondo associata al contenuto                                                    |\n",
    "| belongs_to_collection   | string            | Nome della collezione (franchise) a cui appartiene il contenuto                                                    |\n",
    "| budget                  | integer           | Budget stimato per la produzione del film, in dollari americani. Di default 0 se non disponibile.                  |\n",
    "| genres                  | array of objects  | Elenco dei generi associati al contenuto. Ogni oggetto contiene id (intero) e name (stringa)                       |\n",
    "| homepage                | string            | URL del sito ufficiale del film                                                                                    |\n",
    "| id                      | integer           | Identificativo univoco del contenuto all’interno di TMDb. Di default 0 se non disponibile.                         |\n",
    "| imdb_id                 | string            | Identificativo del contenuto su IMDb, utile per cross-reference                                                    |\n",
    "| original_language       | string            | Lingua originale del contenuto                                                                                     |\n",
    "| original_title          | string            | Titolo originale del film (prima della localizzazione).                                                            |\n",
    "| overview                | string            | Trama o descrizione breve del contenuto                                                                            |\n",
    "| popularity              | number            | Indicatore di popolarità. Di default 0 se non disponibile.                                                         |\n",
    "| poster_path             | string            | Percorso relativo all’immagine del poster ufficiale del contenuto                                                  |\n",
    "| production_companies    | array of objects  | Elenco delle case di produzione coinvolte. Ogni oggetto contiene id, logo_path, name, origin_country.              |\n",
    "| production_countries    | array of objects  | Elenco dei paesi di produzione. Ogni oggetto contiene iso_3166_1 (codice paese) e name                             |\n",
    "| release_date            | string            | Data ufficiale di uscita del contenuto.                                                                            |\n",
    "| revenue                 | integer           | Ricavi ottenuti dal contenuto, in dollari americani. Di default 0 se non disponibile.                              |\n",
    "| runtime                 | integer           | Durata del contenuto in minuti. Di default 0 se non disponibile.                                                   |\n",
    "| spoken_languages        | array of objects  | Elenco delle lingue parlate nel contenuto. Ogni oggetto contiene english_name, iso_639_1 e name.                   |\n",
    "| status                  | string            | Stato di distribuzione del contenuto.                                                                              |\n",
    "| tagline                 | string            | Frase promozionale o slogan del contenuto.                                                                         |\n",
    "| title                   | string            | Titolo ufficiale del contenuto.                                                                                    |\n",
    "| video                   | boolean           | Indica se l’elemento è un video. Di default è impostato a true                                                     |\n",
    "| vote_average            | number            | Media dei voti assegnati dagli utenti. Si tratta di un valore compreso tra 0 e 10. Di default viene impostato a 0. |\n",
    "| vote_count              | integer           | Numero totale di voti ricevuti da un film o da una serie TV. Di default viene impostato a 0.                       |"
   ]
  },
  {
   "cell_type": "markdown",
   "metadata": {
    "cell_id": "83fa0d643f3a43a0868fb9f27eeb8505",
    "deepnote_app_block_group_id": null,
    "deepnote_app_block_order": 11,
    "deepnote_app_block_visible": true,
    "deepnote_cell_type": "markdown",
    "execution_context_id": "68c60679-46d4-456d-8b3a-1ee6aa6f0586",
    "execution_millis": 3,
    "execution_start": 1743093630818,
    "source_hash": "29447f9"
   },
   "source": [
    "```python\n",
    "{\n",
    "  \"adult\": false,\n",
    "  \"backdrop_path\": \"/9KbUro9uJHUt5xyorQtjWmGfJDE.jpg\",\n",
    "  \"belongs_to_collection\": null,\n",
    "  \"budget\": 270000000,\n",
    "  \"genres\": [\n",
    "    {\n",
    "      \"id\": 10751,\n",
    "      \"name\": \"Famiglia\"\n",
    "    },\n",
    "    {\n",
    "      \"id\": 14,\n",
    "      \"name\": \"Fantasy\"\n",
    "    }\n",
    "  ],\n",
    "  \"homepage\": \"\",\n",
    "  \"id\": 447273,\n",
    "  \"imdb_id\": \"tt6208148\",\n",
    "  \"origin_country\": [\n",
    "    \"US\"\n",
    "  ],\n",
    "  \"original_language\": \"en\",\n",
    "  \"original_title\": \"Snow White\",\n",
    "  \"overview\": \"Una rivisitazione musicale live-action del classico film del 1937. La magica avventura musicale torna alla storia senza tempo con gli amati personaggi Mammolo, Dotto, Cucciolo, Brontolo, Gongolo, Pisolo e Eolo.\",\n",
    "  \"popularity\": 173.1867,\n",
    "  \"poster_path\": \"/cC0uxvCOCdKggiYZYrf011K1HaE.jpg\",\n",
    "  \"production_companies\": [\n",
    "    {\n",
    "      \"id\": 2,\n",
    "      \"logo_path\": \"/wdrCwmRnLFJhEoH8GSfymY85KHT.png\",\n",
    "      \"name\": \"Walt Disney Pictures\",\n",
    "      \"origin_country\": \"US\"\n",
    "    },\n",
    "    {\n",
    "      \"id\": 2527,\n",
    "      \"logo_path\": \"/osO7TGmlRMistSQ5JZusPhbKUHk.png\",\n",
    "      \"name\": \"Marc Platt Productions\",\n",
    "      \"origin_country\": \"US\"\n",
    "    }\n",
    "  ],\n",
    "  \"production_countries\": [\n",
    "    {\n",
    "      \"iso_3166_1\": \"US\",\n",
    "      \"name\": \"United States of America\"\n",
    "    }\n",
    "  ],\n",
    "  \"release_date\": \"2025-03-19\",\n",
    "  \"revenue\": 144119098,\n",
    "  \"runtime\": 109,\n",
    "  \"spoken_languages\": [\n",
    "    {\n",
    "      \"english_name\": \"English\",\n",
    "      \"iso_639_1\": \"en\",\n",
    "      \"name\": \"English\"\n",
    "    },\n",
    "    {\n",
    "      \"english_name\": \"Spanish\",\n",
    "      \"iso_639_1\": \"es\",\n",
    "      \"name\": \"Español\"\n",
    "    }\n",
    "  ],\n",
    "  \"status\": \"Released\",\n",
    "  \"tagline\": \"\",\n",
    "  \"title\": \"Biancaneve\",\n",
    "  \"video\": false,\n",
    "  \"vote_average\": 4.5,\n",
    "  \"vote_count\": 475\n",
    "}\n",
    "```"
   ]
  },
  {
   "cell_type": "markdown",
   "metadata": {
    "cell_id": "ea20ce939314412099cf666ce6df0548",
    "deepnote_app_block_group_id": null,
    "deepnote_app_block_order": 12,
    "deepnote_app_block_visible": true,
    "deepnote_cell_type": "markdown"
   },
   "source": [
    "##### 2. TV Series\n",
    "\n",
    "| Attributo                  | Tipo                  | Descrizione                                                                 |\n",
    "|----------------------------|-----------------------|-----------------------------------------------------------------------------|\n",
    "| adult                      | Boolean               | Indica se il contenuto è destinato a un pubblico adulto. Di default è `true`. |\n",
    "| backdrop_path              | String                | Percorso relativo all’immagine di sfondo della serie.                      |\n",
    "| created_by                 | Array of Objects      | Creatori della serie. Ogni oggetto contiene: `id` (default 0), `credit_id`, `name`, `gender` (default 0), `profile_path`. |\n",
    "| episode_run_time           | Array of Integers     | Durata tipica degli episodi in minuti.                                     |\n",
    "| first_air_date             | String                | Data di prima messa in onda della serie.               |\n",
    "| genres                     | Array of Objects      | Generi associati alla serie. Ogni oggetto include `id` (default 0) e `name`. |\n",
    "| homepage                   | String                | URL del sito ufficiale della serie.                                       |\n",
    "| id                         | Integer               | Identificativo univoco della serie su TMDb. Valore di default: 0.         |\n",
    "| in_production              | Boolean               | Indica se la serie è ancora in produzione. Di default è `true`.           |\n",
    "| languages                  | Array of Strings      | Lingue usate nella serie.                              |\n",
    "| last_air_date              | String                | Data dell'ultima messa in onda della serie.                               |\n",
    "| last_episode_to_air        | Object                | Informazioni sull’ultimo episodio trasmesso: `id`, `name`, `overview`, `air_date`, `episode_number`, `runtime`, `production_code`, `season_number`, `still_path`, `vote_average`, `vote_count`, `show_id`. |\n",
    "| next_episode_to_air        | String         | Informazioni sul prossimo episodio, se previsto.                          |\n",
    "| networks                   | Array of Objects      | Reti televisive che trasmettono la serie. Ogni oggetto ha `id` (default 0), `logo_path`, `name`, `origin_country`. |\n",
    "| number_of_episodes         | Integer               | Numero totale di episodi. Valore di default: 0.                           |\n",
    "| name         | String               | Nome della serie in lingua originale.                           |\n",
    "| number_of_seasons          | Integer               | Numero totale di stagioni. Valore di default: 0.                          |\n",
    "| origin_country             | Array of Strings      | Paesi di origine della serie.                         |\n",
    "| original_language          | String                | Lingua originale della serie.                          |\n",
    "| original_name              | String                | Nome originale della serie.                                               |\n",
    "| overview                   | String                | Trama o descrizione generale della serie.                                 |\n",
    "| popularity                 | Number                | Valore indicativo della popolarità della serie. Di default è `0`.        |\n",
    "| poster_path                | String                | Percorso dell’immagine ufficiale del poster della serie.                 |\n",
    "| production_companies       | Array of Objects      | Case di produzione. Ogni oggetto ha `id` (default 0), `name`, `logo_path`, `origin_country`. |\n",
    "| production_countries       | Array of Objects      | Paesi di produzione. Ogni oggetto ha `iso_3166_1` e `name`.              |\n",
    "| seasons                    | Array of Objects      | Informazioni sulle stagioni. Ogni oggetto ha: `air_date`, `episode_count` (default 0), `id` (default 0), `name`, `overview`, `poster_path`, `season_number` (default 0), `vote_average` (default 0). |\n",
    "| spoken_languages           | Array of Objects      | Lingue parlate nella serie. Ogni oggetto include `english_name`, `iso_639_1`, `name`. |\n",
    "| status                     | String                | Stato attuale della serie (es. \"Ended\").              |\n",
    "| tagline                    | String                | Frase promozionale associata alla serie.                                  |\n",
    "| type                       | String                | Tipo di serie (es. \"Scripted\", \"Documentary\").                            |\n",
    "| vote_average               | Number                | Media dei voti assegnati dagli utenti. Si tratta di un valore compreso tra 0 e 10. Di default viene impostato a 0.     |\n",
    "| vote_count                 | Integer               | Numero totale di voti ricevuti da un film o da una serie TV. Di default viene impostato a 0.                         |\n"
   ]
  },
  {
   "cell_type": "markdown",
   "metadata": {
    "cell_id": "900d1693e46e49ccbfcc01209d62d6b0",
    "deepnote_app_block_group_id": null,
    "deepnote_app_block_order": 13,
    "deepnote_app_block_visible": true,
    "deepnote_cell_type": "markdown"
   },
   "source": [
    "```json\n",
    "{\n",
    "  \"adult\": false,\n",
    "  \"backdrop_path\": \"/aY7zv2pfk9H0QxaaL3PBjvalbKQ.jpg\",\n",
    "  \"created_by\": [\n",
    "    ...,\n",
    "    {\n",
    "      \"id\": 1287248,\n",
    "      \"credit_id\": \"5dfc96e39824c80013dd32a6\",\n",
    "      \"name\": \"George Kay\",\n",
    "      \"original_name\": \"George Kay\",\n",
    "      \"gender\": 2,\n",
    "      \"profile_path\": null\n",
    "    },\n",
    "    ...,\n",
    "  ],\n",
    "  \"episode_run_time\": [],\n",
    "  \"first_air_date\": \"2021-01-08\",\n",
    "  \"genres\": [\n",
    "    {\n",
    "      \"id\": 80,\n",
    "      \"name\": \"Crime\"\n",
    "    },\n",
    "    {\n",
    "      \"id\": 18,\n",
    "      \"name\": \"Drama\"\n",
    "    },\n",
    "    {\n",
    "      \"id\": 9648,\n",
    "      \"name\": \"Mystery\"\n",
    "    }\n",
    "  ],\n",
    "  \"homepage\": \"https://www.netflix.com/title/80994082\",\n",
    "  \"id\": 96677,\n",
    "  \"in_production\": false,\n",
    "  \"languages\": [\n",
    "    \"fr\"\n",
    "  ],\n",
    "  \"last_air_date\": \"2023-10-05\",\n",
    "  \"last_episode_to_air\": {\n",
    "    \"id\": 4438258,\n",
    "    \"name\": \"Chapter 7\",\n",
    "    \"overview\": \"A family reunion years in the making comes to pass. With Mariama's help, Assane makes a final play to stop Keller, right his wrongs and go out in style.\",\n",
    "    \"vote_average\": 7.792,\n",
    "    \"vote_count\": 12,\n",
    "    \"air_date\": \"2023-10-05\",\n",
    "    \"episode_number\": 7,\n",
    "    \"episode_type\": \"mid_season\",\n",
    "    \"production_code\": \"\",\n",
    "    \"runtime\": 52,\n",
    "    \"season_number\": 2,\n",
    "    \"show_id\": 96677,\n",
    "    \"still_path\": \"/dd3xE8GzdMNgeFVK3Cavg8ox36r.jpg\"\n",
    "  },\n",
    "  \"name\": \"Lupin\",\n",
    "  \"next_episode_to_air\": null,\n",
    "  \"networks\": [\n",
    "    {\n",
    "      \"id\": 213,\n",
    "      \"logo_path\": \"/wwemzKWzjKYJFfCeiB57q3r4Bcm.png\",\n",
    "      \"name\": \"Netflix\",\n",
    "      \"origin_country\": \"\"\n",
    "    }\n",
    "  ],\n",
    "  \"number_of_episodes\": 17,\n",
    "  \"number_of_seasons\": 2,\n",
    "  \"origin_country\": [\n",
    "    \"FR\"\n",
    "  ],\n",
    "  \"original_language\": \"fr\",\n",
    "  \"original_name\": \"Lupin\",\n",
    "  \"overview\": \"Inspired by the adventures of Arsène Lupin, gentleman thief Assane Diop sets out to avenge his father for an injustice inflicted by a wealthy family.\",\n",
    "  \"popularity\": 14.5879,\n",
    "  \"poster_path\": \"/h6Z2oogE4mJk2uffdtIlLhb0EHx.jpg\",\n",
    "  \"production_companies\": [\n",
    "    {\n",
    "      \"id\": 9,\n",
    "      \"logo_path\": \"/nda3dTUYdDrJ6rZqBpYvY865aDv.png\",\n",
    "      \"name\": \"Gaumont\",\n",
    "      \"origin_country\": \"FR\"\n",
    "    }\n",
    "  ],\n",
    "  \"production_countries\": [\n",
    "    {\n",
    "      \"iso_3166_1\": \"FR\",\n",
    "      \"name\": \"France\"\n",
    "    }\n",
    "  ],\n",
    "  \"seasons\": [\n",
    "    {\n",
    "      \"air_date\": \"2021-01-08\",\n",
    "      \"episode_count\": 10,\n",
    "      \"id\": 157243,\n",
    "      \"name\": \"Season 1\",\n",
    "      \"overview\": \"\",\n",
    "      \"poster_path\": \"/i4OgrauapMFV21g6hWtMlQs6IpL.jpg\",\n",
    "      \"season_number\": 1,\n",
    "      \"vote_average\": 7.6\n",
    "    },\n",
    "    {\n",
    "      \"air_date\": \"2023-10-05\",\n",
    "      \"episode_count\": 7,\n",
    "      \"id\": 310008,\n",
    "      \"name\": \"Season 2\",\n",
    "      \"overview\": \"Now in hiding, Assane must learn to live far from his wife and son. With the suffering they endure because of him, Assane can’t stand it any longer and decides to return to Paris to make them a crazy proposal: leave France and start a new life elsewhere. But the ghosts of the past are never far away, and an unexpected return will turn his plans upside down.\",\n",
    "      \"poster_path\": \"/jPe8HRnnqUTQF1MlVEwsqm6TWsw.jpg\",\n",
    "      \"season_number\": 2,\n",
    "      \"vote_average\": 7.5\n",
    "    }\n",
    "  ],\n",
    "  \"spoken_languages\": [\n",
    "    {\n",
    "      \"english_name\": \"French\",\n",
    "      \"iso_639_1\": \"fr\",\n",
    "      \"name\": \"Français\"\n",
    "    }\n",
    "  ],\n",
    "  \"status\": \"Canceled\",\n",
    "  \"tagline\": \"\",\n",
    "  \"type\": \"Scripted\",\n",
    "  \"vote_average\": 7.734,\n",
    "  \"vote_count\": 2317\n",
    "}\n",
    "```"
   ]
  },
  {
   "cell_type": "markdown",
   "metadata": {
    "cell_id": "6bbad89d1a1c429db3fb871433bac335",
    "deepnote_app_block_group_id": null,
    "deepnote_app_block_order": 14,
    "deepnote_app_block_visible": true,
    "deepnote_cell_type": "markdown"
   },
   "source": [
    "##### 3. TV Seasons\n",
    "\n",
    "| Attributo        | Tipo                | Descrizione |\n",
    "|------------------|---------------------|-------------|\n",
    "| _id              | String              | Identificatore interno della stagione all'interno del database TMDb. |\n",
    "| air_date         | String              | Data di prima messa in onda della stagione. |\n",
    "| episodes         | Array di oggetti    | Lista degli episodi della stagione. Ogni oggetto include: `air_date` (string), `episode_number` (int, default 0), `id` (int, default 0), `name` (string), `overview` (string), `production_code` (string), `runtime` (int, default 0), `season_number` (int, default 0), `show_id` (int, default 0), `still_path` (string), `vote_average` (number, default 0), `vote_count` (int, default 0), `crew` (array), `guest_stars` (array). |\n",
    "| crew             | Array di oggetti    | Lista dei membri della crew per ogni episodio. Ogni oggetto include: `department` (string), `job` (string), `credit_id` (string), `adult` (boolean, default true), `gender` (int, default 0), `id` (int, default 0), `known_for_department` (string), `name` (string), `original_name` (string), `popularity` (number, default 0), `profile_path` (string). |\n",
    "| guest_stars      | Array di oggetti    | Guest star presenti negli episodi. Ogni oggetto include: `character` (string), `credit_id` (string), `order` (int, default 0), `adult` (boolean, default true), `gender` (int, default 0), `id` (int, default 0), `known_for_department` (string), `name` (string), `original_name` (string), `popularity` (number, default 0), `profile_path` (string). |\n",
    "| name             | String              | Nome ufficiale della stagione. |\n",
    "| overview         | String              | Descrizione generale della stagione. |\n",
    "| id               | Integer             | Identificativo univoco della stagione all'interno di TMDb. Default: 0. |\n",
    "| poster_path      | String              | Percorso relativo dell'immagine di copertina della stagione (poster). |\n",
    "| season_number    | Integer             | Numero progressivo della stagione nella serie. Default: 0. |\n",
    "| vote_average     | Number              | Valutazione media della stagione da parte degli utenti. Default: 0. |\n"
   ]
  },
  {
   "cell_type": "markdown",
   "metadata": {
    "cell_id": "39ae010e72cd44348cb29089017fd5fd",
    "deepnote_app_block_group_id": null,
    "deepnote_app_block_order": 15,
    "deepnote_app_block_visible": true,
    "deepnote_cell_type": "markdown",
    "execution_context_id": "80807b5a-cbb4-4bb5-9333-fbe9e8f38748",
    "execution_millis": 84,
    "execution_start": 1744352931240,
    "source_hash": "4d4065b"
   },
   "source": [
    "```json\n",
    "{\n",
    "  \"_id\": \"5f1b6fe566a7c30036fc3304\",\n",
    "  \"air_date\": \"2021-01-08\",\n",
    "  \"episodes\": [\n",
    "    ...,\n",
    "    {\n",
    "      \"air_date\": \"2021-06-11\",\n",
    "      \"episode_number\": 10,\n",
    "      \"episode_type\": \"finale\",\n",
    "      \"id\": 2944656,\n",
    "      \"name\": \"Capitolo 10\",\n",
    "      \"overview\": \"Con uno stratagemma impareggiabile Assane e Benjamin reclutano e travestono un astuto complice per assicurare Hubert alla giustizia.\",\n",
    "      \"production_code\": \"\",\n",
    "      \"runtime\": 50,\n",
    "      \"season_number\": 1,\n",
    "      \"show_id\": 96677,\n",
    "      \"still_path\": \"/8r8dgHAINYk6SuZvKbjS0df8Rjs.jpg\",\n",
    "      \"vote_average\": 7.483,\n",
    "      \"vote_count\": 29,\n",
    "      \"crew\": [\n",
    "        ...,\n",
    "        {\n",
    "          \"job\": \"Story\",\n",
    "          \"department\": \"Writing\",\n",
    "          \"credit_id\": \"60767722d8f44e00417730b5\",\n",
    "          \"adult\": false,\n",
    "          \"gender\": 2,\n",
    "          \"id\": 1287248,\n",
    "          \"known_for_department\": \"Creator\",\n",
    "          \"name\": \"George Kay\",\n",
    "          \"original_name\": \"George Kay\",\n",
    "          \"popularity\": 0.2469,\n",
    "          \"profile_path\": null\n",
    "        },\n",
    "        ...\n",
    "      ],\n",
    "      \"guest_stars\": [\n",
    "        ...,\n",
    "        {\n",
    "          \"character\": \"Sofia Belkacem\",\n",
    "          \"credit_id\": \"6005e625e942ee003fe65b7a\",\n",
    "          \"order\": 559,\n",
    "          \"adult\": false,\n",
    "          \"gender\": 1,\n",
    "          \"id\": 2280476,\n",
    "          \"known_for_department\": \"Acting\",\n",
    "          \"name\": \"Shirine Boutella\",\n",
    "          \"original_name\": \"Shirine Boutella\",\n",
    "          \"popularity\": 0.3135,\n",
    "          \"profile_path\": \"/4qBT877sIjMLycDBmahEpL1nwEk.jpg\"\n",
    "        },\n",
    "        ...\n",
    "      ]\n",
    "    }\n",
    "  ],\n",
    "  \"name\": \"Stagione 1\",\n",
    "  \"overview\": \"Ispirandosi alle avventure di Arsenio Lupin, il ladro gentiluomo Assane Diop decide di vendicare il padre per un'ingiustizia subita per colpa di una ricca famiglia.\",\n",
    "  \"id\": 157243,\n",
    "  \"poster_path\": \"/pk3ahGmVunewuDfnXxJYr4U5Fck.jpg\",\n",
    "  \"season_number\": 1,\n",
    "  \"vote_average\": 7.6\n",
    "}\n",
    "```"
   ]
  },
  {
   "cell_type": "markdown",
   "metadata": {
    "cell_id": "059664ef222a4c32830b498bfccfbd7f",
    "deepnote_app_block_group_id": null,
    "deepnote_app_block_order": 16,
    "deepnote_app_block_visible": true,
    "deepnote_cell_type": "markdown"
   },
   "source": [
    "##### 4. TV Episodes\n",
    "\n",
    "\n",
    "| Attributo        | Tipo                | Descrizione |\n",
    "|------------------|---------------------|-------------|\n",
    "| air_date         | String              | Data di messa in onda dell’episodio. |\n",
    "| crew             | Array di oggetti    | Lista dei membri della crew dell’episodio. Ogni oggetto include: `department` (string), `job` (string), `credit_id` (string), `adult` (boolean, default true), `gender` (integer, default 0), `id` (integer, default 0), `known_for_department` (string), `name` (string), `original_name` (string), `popularity` (number, default 0), `profile_path` (string). |\n",
    "| episode_number   | Integer             | Numero progressivo dell’episodio nella stagione. Default: 0. |\n",
    "| guest_stars      | Array di oggetti    | Guest star presenti nell’episodio. Ogni oggetto include: `character` (string), `credit_id` (string), `order` (integer, default 0), `adult` (boolean, default true), `gender` (integer, default 0), `id` (integer, default 0), `known_for_department` (string), `name` (string), `original_name` (string), `popularity` (number, default 0), `profile_path` (string). |\n",
    "| name             | String              | Titolo ufficiale dell’episodio. |\n",
    "| overview         | String              | Trama o descrizione dell’episodio. |\n",
    "| id               | Integer             | Identificatore univoco dell’episodio all’interno di TMDb. Default: 0. |\n",
    "| production_code  | String              | Codice interno di produzione assegnato all’episodio. |\n",
    "| runtime          | Integer             | Durata in minuti dell’episodio. Default: 0. |\n",
    "| season_number    | Integer             | Numero della stagione a cui appartiene l’episodio. Default: 0. |\n",
    "| still_path       | String              | Percorso relativo all’immagine (still) dell’episodio. |\n",
    "| vote_average     | Number              | Voto medio ricevuto dagli utenti per l’episodio. Default: 0. |\n",
    "| vote_count       | Integer             | Numero di voti ricevuti per l’episodio. Default: 0. |\n"
   ]
  },
  {
   "cell_type": "markdown",
   "metadata": {
    "cell_id": "dfe1a1661a5b48c4a0ef52b052b7302e",
    "deepnote_app_block_group_id": null,
    "deepnote_app_block_order": 17,
    "deepnote_app_block_visible": true,
    "deepnote_cell_type": "markdown"
   },
   "source": [
    "```json\n",
    "{\n",
    "  \"air_date\": \"2021-01-08\",\n",
    "  \"crew\": [\n",
    "    ...,\n",
    "    {\n",
    "      \"job\": \"Director\",\n",
    "      \"department\": \"Directing\",\n",
    "      \"credit_id\": \"6005e750cb3084003ce05931\",\n",
    "      \"adult\": false,\n",
    "      \"gender\": 2,\n",
    "      \"id\": 18865,\n",
    "      \"known_for_department\": \"Directing\",\n",
    "      \"name\": \"Louis Leterrier\",\n",
    "      \"original_name\": \"Louis Leterrier\",\n",
    "      \"popularity\": 0.6132,\n",
    "      \"profile_path\": \"/bpqqRRyCLeoAup2OAv1Dtm5C8Tn.jpg\"\n",
    "    },\n",
    "    ...\n",
    "  ],\n",
    "  \"episode_number\": 1,\n",
    "  \"guest_stars\": [\n",
    "    ...,\n",
    "    {\n",
    "      \"character\": \"Kevin\",\n",
    "      \"credit_id\": \"6074f4edfb8346006f8a6db2\",\n",
    "      \"order\": 501,\n",
    "      \"adult\": false,\n",
    "      \"gender\": 2,\n",
    "      \"id\": 2218461,\n",
    "      \"known_for_department\": \"Acting\",\n",
    "      \"name\": \"Kamel Guenfoud\",\n",
    "      \"original_name\": \"Kamel Guenfoud\",\n",
    "      \"popularity\": 0.175,\n",
    "      \"profile_path\": \"/2No4vnSwvQuGaNYoIq3ipJWTh5L.jpg\"\n",
    "    },\n",
    "    ...\n",
    "  ],\n",
    "  \"name\": \"Capitolo 1 - Il collier della regina\",\n",
    "  \"overview\": \"Anni dopo una tragica ingiustizia, Assane vuole regolare i conti e un debito rubando un collier di diamanti... ma il colpo prende una piega inaspettata.\",\n",
    "  \"id\": 2613188,\n",
    "  \"production_code\": \"\",\n",
    "  \"runtime\": 47,\n",
    "  \"season_number\": 1,\n",
    "  \"still_path\": \"/edgLqKlZR1dB73duRSO3fgBqhOP.jpg\",\n",
    "  \"vote_average\": 8.185,\n",
    "  \"vote_count\": 92\n",
    "}\n",
    "```"
   ]
  },
  {
   "cell_type": "markdown",
   "metadata": {
    "cell_id": "c9d928c41a0e4cf290f235404a8513e7",
    "deepnote_app_block_group_id": null,
    "deepnote_app_block_order": 18,
    "deepnote_app_block_visible": true,
    "deepnote_cell_type": "markdown"
   },
   "source": [
    "##### 5. Reviews\n",
    "\n",
    "\n",
    "| Attributo      | Tipo   | Descrizione                         |\n",
    "|----------------|--------|-------------------------------------|\n",
    "| author         | string | Nome dell’autore della recensione |\n",
    "| author_details | object | Oggetto che contiene dettagli aggiuntivi sull’autore tra cui: `name` (nome dell’autore della recensione) `username` (username dell’autore associato al profilo TMDB) `avatar_path` (percorso per l’avatar dell’autore (se disponibile)) `rating` (valutazione numerica assegnata dall’autore (se fornita), con valori compresi tra 0 e 10) |\n",
    "| content        | string | Contenuto testuale della recensione |\n",
    "| created_at     | string | Data e ora in cui la recensione è stata creata |\n",
    "| id             | string | Identificativo univoco della recensione |\n",
    "| updated_at     | string | Data e ora dell’ultima modifica della recensione |\n",
    "| url            | string | URL pubblico della recensione sul sito TMDB |\n",
    "\n"
   ]
  },
  {
   "cell_type": "markdown",
   "metadata": {
    "cell_id": "4952152e2624436baa4996bacdad7919",
    "deepnote_app_block_group_id": null,
    "deepnote_app_block_order": 19,
    "deepnote_app_block_visible": true,
    "deepnote_cell_type": "markdown"
   },
   "source": [
    "```json\n",
    "{\n",
    "    \"author\": \"Peter McGinn\",\n",
    "    \"author_details\": {\n",
    "        \"name\": \"Peter McGinn\",\n",
    "        \"username\": \"narrator56\",\n",
    "        \"avatar_path\": \"/tVbrLJzA2RwRlE7dJLJG54UsAkq.jpg\",\n",
    "        \"rating\": 7\n",
    "    },\n",
    "    \"content\": \"Well, with ten other reviews on this site, I am not going to give a blow-by-blow assessment of what I like or don’t like. I am sure other reviews have touched upon hinge I might point out.\\r\\n\\r\\nI will only say that I thought it a really good movie: smartly written and nicely acted. I had some trouble following details in places — not because of the complex time structure (though I admit prefer the straight ahead story style of, say, The Godfather) but rather because I couldn’t get volume up loud enough to hear when the characters spoke softly and/or quickly, and without captions I had to wait for the context of conversations to help fill in what I was missing. It was a shame to have such a little thing in the way of a good movie being great.\",\n",
    "    \"created_at\": \"2023-11-14T20:44:12.255Z\",\n",
    "    \"id\": \"6553dc1cd4fe04011b90af5f\",\n",
    "    \"updated_at\": \"2023-11-14T20:44:12.367Z\",\n",
    "    \"url\": \"https://www.themoviedb.org/review/6553dc1cd4fe04011b90af5f\"\n",
    "}\n",
    "```"
   ]
  },
  {
   "cell_type": "markdown",
   "metadata": {
    "cell_id": "c0322bf7d5ba4e269b5f5abeb16b39f5",
    "deepnote_app_block_group_id": null,
    "deepnote_app_block_order": 20,
    "deepnote_app_block_visible": true,
    "deepnote_cell_type": "markdown"
   },
   "source": [
    "##### 6. People\n",
    "\n",
    "| Attributo            | Tipo              | Descrizione |\n",
    "|----------------------|-------------------|-------------|\n",
    "| adult                | Boolean           | Indica se la persona è associata a contenuti per adulti. Valore di default: true. |\n",
    "| also_known_as        | Array di stringhe | Altri nomi o pseudonimi con cui la persona è conosciuta. |\n",
    "| biography            | String            | Biografia testuale della persona. |\n",
    "| birthday             | String            | Data di nascita. |\n",
    "| deathday             | String            | Data di morte (se presente). |\n",
    "| gender               | Integer           | Sesso della persona: 0 = non specificato, 1 = femmina, 2 = maschio, 3 = non binario. Default: 0. |\n",
    "| homepage             | String            | URL del sito web personale, se disponibile. |\n",
    "| id                   | Integer           | Identificatore univoco della persona in TMDb. Default: 0. |\n",
    "| imdb_id              | String            | ID della persona su IMDb. |\n",
    "| known_for_department | String            | Dipartimento per cui la persona è nota. |\n",
    "| name                 | String            | Nome completo della persona. |\n",
    "| place_of_birth       | String            | Luogo di nascita. |\n",
    "| popularity           | Number            | Indice di popolarità calcolato da TMDb. Valore numerico continuo. Default: 0. |\n",
    "| profile_path         | String            | Percorso relativo all'immagine del profilo. Usato per costruire URL all'immagine. |\n"
   ]
  },
  {
   "cell_type": "markdown",
   "metadata": {
    "cell_id": "e05995a91a11448da3dc0599295f9c02",
    "deepnote_app_block_visible": false,
    "deepnote_cell_type": "markdown"
   },
   "source": [
    "```json\n",
    "{\n",
    "  \"adult\": false,\n",
    "  \"also_known_as\": [\n",
    "    \"Christopher Edward Nolan\",\n",
    "    \"Chris Nolan\",\n",
    "    \"Sir Christopher Nolan\",\n",
    "    \"Sir Christopher Edward Nolan\",\n",
    "    \"کریستوفر نولان\"\n",
    "  ],\n",
    "  \"biography\": \"Regista, sceneggiatore e produttore cinematografico britannico.\\n\\nÈ uno dei registi con maggiori incassi nella storia del cinema con oltre 5 miliardi di dollari.\",\n",
    "  \"birthday\": \"1970-07-30\",\n",
    "  \"deathday\": null,\n",
    "  \"gender\": 2,\n",
    "  \"homepage\": null,\n",
    "  \"id\": 525,\n",
    "  \"imdb_id\": \"nm0634240\",\n",
    "  \"known_for_department\": \"Directing\",\n",
    "  \"name\": \"Christopher Nolan\",\n",
    "  \"place_of_birth\": \"Westminster, London, England, UK\",\n",
    "  \"popularity\": 2.7953,\n",
    "  \"profile_path\": \"/xuAIuYSmsUzKlUMBFGVZaWsY3DZ.jpg\"\n",
    "}\n",
    "```"
   ]
  },
  {
   "cell_type": "markdown",
   "metadata": {
    "cell_id": "05167f6c3e334914ac5c49dd021e2519",
    "deepnote_app_block_group_id": null,
    "deepnote_app_block_order": 21,
    "deepnote_app_block_visible": true,
    "deepnote_cell_type": "markdown"
   },
   "source": [
    "## Estrazione dei Dati\n",
    "\n",
    "In questa sezione vengono esplicitate tutte le procedure per ottenere i dati social prodotti e rilasciati dalla piattaforma."
   ]
  },
  {
   "cell_type": "markdown",
   "metadata": {
    "cell_id": "a36f803aeb0c49c98648b2a6fc328805",
    "deepnote_app_block_group_id": null,
    "deepnote_app_block_order": 22,
    "deepnote_app_block_visible": true,
    "deepnote_cell_type": "markdown"
   },
   "source": [
    "### Protocollo di Accesso e Autorizzazione all'Accesso ai Dati\n",
    "\n",
    "La piattaforma mette a disposizione 3 modalità di autenticazione e accesso ai dati:\n",
    "1. **Application Level Authentication**\n",
    "2. **User Level Authentication**\n",
    "3. **Guest Sessions**"
   ]
  },
  {
   "cell_type": "markdown",
   "metadata": {
    "cell_id": "4af1aef1ae3b453c89c679a946b498e6",
    "deepnote_app_block_group_id": null,
    "deepnote_app_block_order": 23,
    "deepnote_app_block_visible": true,
    "deepnote_cell_type": "markdown"
   },
   "source": [
    "#### Application Level Authentication\n",
    "\n",
    "L'**Autenticazione a Livello di Applicazione** è considerato il meccanismo di default per l'autenticazione. Il procedimento prevede che l'utente registri un'applicazione attraverso un flusso di autenticazione simile a quello di OAuth 2.0 Client Credentials. La registrazione avviene all'URL https://www.themoviedb.org/settings/api/request e richiede che l'utente sia registrato con un account TMDB.\n",
    "\n",
    "Al termine della registrazione, l'utente riceve:\n",
    "* Un'**API Key**\n",
    "* Un **API Read Access Token**\n",
    "\n",
    "Entrambe queste credenziali possono essere utilizzate per effettuare una richiesta ad un Endpoint:\n",
    "* L'API Key può essere aggiunta come *Query Parameter* ad una richiesta, sebbene questa modalità di autenticazione è limitata alle chiamate *GET* a partire dalla Versione 4 dell'API.\n",
    "* L'API Read Access Token è un *Bearer Access Token*, pertanto può essere inserito nell'Header della richiesta per tutte le chiamate. Nonostante il nome, è possibile utilizzare il Read Access Token anche per semplici operazioni di scrittura (rating di un film, salvataggio in una lista, ecc.).\n",
    "     **Nota:** qualora si utilizzi l'API Read Access Token per operazioni di scrittura, queste verranno eseguite per conto dell'account a cui il token è associato.\n",
    "\n",
    "La validità di API Key e API Read Access Token può essere verificata con una semplice chiamata all'endpoint https://api.themoviedb.org/3/authentication:\n"
   ]
  },
  {
   "cell_type": "code",
   "execution_count": 9,
   "metadata": {
    "cell_id": "cfc8320ea2784ebdb3e3041c12b3fd2f",
    "deepnote_app_block_group_id": null,
    "deepnote_app_block_order": 24,
    "deepnote_app_block_visible": true,
    "deepnote_app_is_code_hidden": false,
    "deepnote_app_is_output_hidden": false,
    "deepnote_cell_type": "code",
    "execution_context_id": "a7e7ace3-2e73-4df5-b628-879467fa215d",
    "execution_millis": 27,
    "execution_start": 1742997252679,
    "source_hash": "18b0ddcb"
   },
   "outputs": [
    {
     "data": {
      "text/plain": [
       "{'success': True}"
      ]
     },
     "execution_count": 9,
     "metadata": {},
     "output_type": "execute_result"
    }
   ],
   "source": [
    "# Validate API Key\n",
    "\n",
    "response = requests.get(\n",
    "    url=\"https://api.themoviedb.org/3/authentication\", \n",
    "    params={\n",
    "        'api_key': api_key\n",
    "    },\n",
    "    headers={\n",
    "        \"accept\": \"application/json\"\n",
    "    }\n",
    ")\n",
    "\n",
    "response.json()"
   ]
  },
  {
   "cell_type": "code",
   "execution_count": 18,
   "metadata": {
    "cell_id": "62443d732d144136a01ce22fa47aea9d",
    "deepnote_app_block_group_id": null,
    "deepnote_app_block_order": 25,
    "deepnote_app_block_visible": true,
    "deepnote_app_is_code_hidden": false,
    "deepnote_app_is_output_hidden": false,
    "deepnote_cell_type": "code",
    "execution_context_id": "a7e7ace3-2e73-4df5-b628-879467fa215d",
    "execution_millis": 22,
    "execution_start": 1742998096130,
    "source_hash": "80421a44"
   },
   "outputs": [
    {
     "data": {
      "text/plain": [
       "{'success': True}"
      ]
     },
     "execution_count": 18,
     "metadata": {},
     "output_type": "execute_result"
    }
   ],
   "source": [
    "# Validate API Read Access Token\n",
    "\n",
    "response = requests.get(\n",
    "    url=\"https://api.themoviedb.org/3/authentication\", \n",
    "    headers={\n",
    "        \"accept\": \"application/json\",\n",
    "        \"Authorization\": f\"Bearer {api_token}\"\n",
    "    }\n",
    ")\n",
    "\n",
    "response.json()"
   ]
  },
  {
   "cell_type": "markdown",
   "metadata": {
    "cell_id": "60c23dc381ac482791e9ee28069c6333",
    "deepnote_app_block_group_id": null,
    "deepnote_app_block_order": 26,
    "deepnote_app_block_visible": true,
    "deepnote_cell_type": "markdown"
   },
   "source": [
    "#### User Level Authentication\n",
    "\n",
    "L'**Autenticazione a Livello Utente** consente di eseguire operazioni di scrittura per conto di altri utenti di TMDB. Questo flusso richiede chiaramente l'autorizzazione di tale utente e funziona in maniera simile all'Authorization Grant Code Flow di OAuth 2.0.\n",
    "\n",
    "Il flusso è implementato in maniera molto simile nelle versioni 3 e 4 dell'API, tuttavia:\n",
    "* Nella *Version 3* il flusso termina con l'acquisizione di un **session_id**, da passare come *Query Parameter* nelle richieste di scrittura.\n",
    "* Nella *Version 4* il flusso termina con l'acquisizione di un **access_token**, che può essere utilizzato esattamente come l'API Read Access Token dell'applicazione.\n",
    "\n",
    "A scopo dimostrativo, utilizziamo la versione 3 dell'API, in quanto l'attuale versione di default.\n",
    "\n",
    "Le fasi per l'acquisizione del session_id sono 3:\n",
    "1. Creazione di un **Request Token**, all'endpoint https://api.themoviedb.org/3/authentication/token/new, avente una validità di 60 minuti dal momento della creazione.\n",
    "2. Richiesta di **Autorizzazione** all'utente, ridirezionandolo all'URL https://www.themoviedb.org/authenticate/{REQUEST_TOKEN}. Questa richiesta valida il Request Token utilizzato.\n",
    "3. Creazione del **session_id**, all'endpoint https://api.themoviedb.org/3/authentication/session/new, utilizzando come *Body Parameter* il Request Token precedentemente ottenuto e validato dall'utente.\n",
    "\n",
    "In seguito è un esempio di implementazione di questo flusso:"
   ]
  },
  {
   "cell_type": "code",
   "execution_count": 44,
   "metadata": {
    "cell_id": "188efebc64544f6cae349a67b27bbaa2",
    "deepnote_app_block_group_id": null,
    "deepnote_app_block_order": 27,
    "deepnote_app_block_visible": true,
    "deepnote_app_is_code_hidden": false,
    "deepnote_app_is_output_hidden": false,
    "deepnote_cell_type": "code",
    "execution_context_id": "a7e7ace3-2e73-4df5-b628-879467fa215d",
    "execution_millis": 50,
    "execution_start": 1742998321129,
    "source_hash": "943f7a31"
   },
   "outputs": [
    {
     "name": "stdout",
     "output_type": "stream",
     "text": [
      "ad96431dfcde3f5fe68bfff206b224c16050970a\n",
      "Redirect to https://www.themoviedb.org/authenticate/ad96431dfcde3f5fe68bfff206b224c16050970a\n"
     ]
    }
   ],
   "source": [
    "# 1. Obtain a Request Token\n",
    "\n",
    "response = requests.get(\n",
    "    url=\"https://api.themoviedb.org/3/authentication/token/new\", \n",
    "    headers={\n",
    "        \"accept\": \"application/json\",\n",
    "        \"Authorization\": f\"Bearer {api_token}\"\n",
    "    }\n",
    ")\n",
    "\n",
    "request_token = response.json()['request_token']\n",
    "\n",
    "print(request_token)\n",
    "print(f\"Redirect to https://www.themoviedb.org/authenticate/{request_token}\")"
   ]
  },
  {
   "cell_type": "markdown",
   "metadata": {
    "cell_id": "45f50914c350409bb4e7227e72882f86",
    "deepnote_app_block_group_id": null,
    "deepnote_app_block_order": 28,
    "deepnote_app_block_visible": true,
    "deepnote_cell_type": "markdown"
   },
   "source": [
    "2. Redirect the user to https://www.themoviedb.org/authenticate/{request_token} to validate the Request Token. Optionally, you can provide a `redirect_url` just like in OAuth.\n",
    "\n",
    "| ![](auth_part1.jpg) | ![](auth_part2.jpg) |\n",
    "|---|---|\n"
   ]
  },
  {
   "cell_type": "code",
   "execution_count": 46,
   "metadata": {
    "cell_id": "c3d93e51b8d347d7b94bdce057cd42ad",
    "deepnote_app_block_group_id": null,
    "deepnote_app_block_order": 29,
    "deepnote_app_block_visible": true,
    "deepnote_app_is_code_hidden": false,
    "deepnote_app_is_output_hidden": false,
    "deepnote_cell_type": "code",
    "execution_context_id": "a7e7ace3-2e73-4df5-b628-879467fa215d",
    "execution_millis": 27,
    "execution_start": 1742998335804,
    "source_hash": "6c1c2669"
   },
   "outputs": [
    {
     "name": "stdout",
     "output_type": "stream",
     "text": [
      "662bb2f9b49bf554220ac85c558b8ec945cf8d26\n"
     ]
    }
   ],
   "source": [
    "# 3. Create the session_id\n",
    "\n",
    "response = requests.post(\n",
    "    url=\"https://api.themoviedb.org/3/authentication/session/new\", \n",
    "    params={\n",
    "        'request_token': request_token\n",
    "    },\n",
    "    headers={\n",
    "        \"accept\": \"application/json\",\n",
    "        \"Authorization\": f\"Bearer {api_token}\"\n",
    "    }\n",
    ")\n",
    "\n",
    "if response.json()['success']:\n",
    "    print(response.json()['session_id'])\n",
    "    session_id = response.json()['session_id']\n",
    "else:\n",
    "    print(response.json()['status_message'])\n",
    "    session_id = None\n",
    "\n"
   ]
  },
  {
   "cell_type": "code",
   "execution_count": 48,
   "metadata": {
    "cell_id": "1e399afca0b64e598d1aa25efd85372f",
    "deepnote_app_block_group_id": null,
    "deepnote_app_block_order": 30,
    "deepnote_app_block_visible": true,
    "deepnote_app_is_code_hidden": false,
    "deepnote_app_is_output_hidden": false,
    "deepnote_cell_type": "code",
    "execution_context_id": "a7e7ace3-2e73-4df5-b628-879467fa215d",
    "execution_millis": 1,
    "execution_start": 1742998340066,
    "source_hash": "de1f28ef"
   },
   "outputs": [
    {
     "name": "stdout",
     "output_type": "stream",
     "text": [
      "{\"success\":true,\"status_code\":12,\"status_message\":\"The item/record was updated successfully.\"}\n"
     ]
    }
   ],
   "source": [
    "# 4. Use the session_id in a new request\n",
    "\n",
    "if session_id:\n",
    "    response = requests.post(\n",
    "        url=\"https://api.themoviedb.org/3/account/21900582/favorite\",\n",
    "        params={\n",
    "            'session_id': session_id\n",
    "        },\n",
    "        json={\n",
    "            \"media_type\": \"movie\",\n",
    "            \"media_id\": 550,\n",
    "            \"favorite\": True\n",
    "        },\n",
    "        headers={\n",
    "            \"accept\": \"application/json\",\n",
    "            \"content-type\": \"application/json\",\n",
    "            \"Authorization\": f\"Bearer {api_token}\"\n",
    "        }\n",
    "    )\n",
    "\n",
    "    print(response.text)"
   ]
  },
  {
   "cell_type": "markdown",
   "metadata": {
    "cell_id": "c47503977415487c9844fec4417ffff0",
    "deepnote_app_block_group_id": null,
    "deepnote_app_block_order": 31,
    "deepnote_app_block_visible": true,
    "deepnote_cell_type": "markdown"
   },
   "source": [
    "#### Guest Sessions\n",
    "\n",
    "Le **Guest Sessions** sono un meccanismo alternativo di Autenticazione a Livello Utente. \n",
    "\n",
    "Consentono la creazione di un **guest_session_id**, senza necessità di autorizzazione da parte di alcun utente, con permessi di scrittura limitati. In particolare, è consentito solamente il rating di film, serie TV ed episodi di serie TV, mentre non possono essere utilizzati guest_session_id per creare liste, aggiungere ai preferiti, ecc..\n",
    "\n",
    "Il codice per creare un guest_session_id è il seguente:"
   ]
  },
  {
   "cell_type": "code",
   "execution_count": 5,
   "metadata": {
    "cell_id": "61487967b10e403cac6f436e83f9f880",
    "deepnote_app_block_group_id": null,
    "deepnote_app_block_order": 32,
    "deepnote_app_block_visible": true,
    "deepnote_app_is_code_hidden": false,
    "deepnote_app_is_output_hidden": false,
    "deepnote_cell_type": "code",
    "execution_context_id": "9b472e32-8eaf-483a-8b6d-05e9d33d2416",
    "execution_millis": 49,
    "execution_start": 1743006344297,
    "source_hash": "6c4fd90d"
   },
   "outputs": [
    {
     "data": {
      "text/plain": [
       "{'success': True,\n",
       " 'guest_session_id': 'd2268adca9c6ce6eb59f5d6883f74333',\n",
       " 'expires_at': '2025-03-27 16:25:44 UTC'}"
      ]
     },
     "execution_count": 5,
     "metadata": {},
     "output_type": "execute_result"
    }
   ],
   "source": [
    "# Create a Guest Session\n",
    "\n",
    "response = requests.get(\n",
    "    url=\"https://api.themoviedb.org/3/authentication/guest_session/new\", \n",
    "    headers={\n",
    "        \"accept\": \"application/json\",\n",
    "        \"Authorization\": f\"Bearer {api_token}\"\n",
    "    }\n",
    ")\n",
    "\n",
    "response.json()"
   ]
  },
  {
   "cell_type": "markdown",
   "metadata": {
    "cell_id": "487bb74c57ba49be93d9fb200ca38ba4",
    "deepnote_app_block_group_id": null,
    "deepnote_app_block_order": 33,
    "deepnote_app_block_visible": true,
    "deepnote_cell_type": "markdown"
   },
   "source": [
    "### Endpoint di Accesso ai Dati identificati\n",
    "\n",
    "In seguito sono specificati alcuni degli Endpoint più significativi, in dettaglio. Il resto degli Endpoint funziona in maniera fondamentalmente equivalente."
   ]
  },
  {
   "cell_type": "markdown",
   "metadata": {
    "cell_id": "3a373da6df3f4ec89eb8b4acc820c6fd",
    "deepnote_cell_type": "markdown"
   },
   "source": [
    "#### Movie"
   ]
  },
  {
   "cell_type": "markdown",
   "metadata": {
    "cell_id": "32a47b4d506d44d2a3e756b548050a63",
    "deepnote_cell_type": "markdown"
   },
   "source": [
    "##### [GET /3/movie/{movie_id}/account_states](https://developer.themoviedb.org/reference/movie-account-states)\n",
    "\n",
    "**Parametri**\n",
    "\n",
    "| Nome                                    | Tipo  | Tipo del parametro | Descrizione                                  |\n",
    "| --------------------------------------- | ----- | ------------------ | -------------------------------------------- |\n",
    "| `movie_id` <sup><b>NECESSARIO</b></sup> | path  | _integer_          | Identificativo univoco del contenuto         |\n",
    "| `session_id`                            | query | _string_           | Identificativo univoco della sessione        |\n",
    "| `guest_session_id`                      | query | _string_           | Identificativo univoco della sessione ospite |\n",
    "\n",
    "> NOTA: Se né `session_id` né `guest_session_id` vengono specificati, il risultato restituito sarà relativo all'utente associato al token API utilizzato nella richiesta.\n",
    "\n",
    "**Risposta**\n",
    "\n",
    "| Attributo   | Tipo                  | Descrizione                                                                   |\n",
    "| ----------- | --------------------- | ----------------------------------------------------------------------------- |\n",
    "| `id`        | _integer_             | Identificativo univoco del contenuto                                          |\n",
    "| `favorite`  | _boolean_             | Indica se l'oggetto richiesto è tra i preferiti dell'utente                   |\n",
    "| `rated`     | _boolean_ \\| _object_ | Valutazione assegnata dall'utente. `false` se l'utente non ha ancora valutato |\n",
    "| `watchlist` | _boolean_             | Indica se l'oggetto richiesto è stato aggiunto alla watchlist dell'utente     |\n",
    "\n",
    "**Oggetto all'interno di `rated`** (se presente)\n",
    "\n",
    "| Attributo | Tipo     | Descrizione                       |\n",
    "| --------- | -------- | --------------------------------- |\n",
    "| `value`   | _number_ | Valutazione assegnata dall’utente |\n",
    "\n",
    "**Esempi di risposta**\n",
    "\n",
    "```json\n",
    "{\"id\":447273,\"favorite\":false,\"rated\":false,\"watchlist\":false}\n",
    "{\"id\":447273,\"favorite\":true,\"rated\":false,\"watchlist\":false}\n",
    "{\"id\":447273,\"favorite\":true,\"rated\":{\"value\":7.0},\"watchlist\":false}\n",
    "{\"id\":447273,\"favorite\":true,\"rated\":{\"value\":7.0},\"watchlist\":true}\n",
    "```\n",
    "\n",
    "**Codice**"
   ]
  },
  {
   "cell_type": "code",
   "execution_count": null,
   "metadata": {
    "cell_id": "2d2d248c2eec45bb90383845bcbc2731",
    "deepnote_cell_type": "code"
   },
   "outputs": [],
   "source": [
    "movie_id = 447273  # Identificativo univoco del contenuto\n",
    "\n",
    "response = requests.get(\n",
    "    f\"https://api.themoviedb.org/3/movie/{movie_id}/account_states\",\n",
    "    headers={\n",
    "        \"accept\": \"application/json\",\n",
    "        \"Authorization\": f\"Bearer {api_token}\",\n",
    "    },\n",
    "    params={\n",
    "        \"session_id\": session_id,\n",
    "    },\n",
    ")\n",
    "\n",
    "response.json()"
   ]
  },
  {
   "cell_type": "markdown",
   "metadata": {
    "cell_id": "32b547db1b8041658657ff1722429387",
    "deepnote_cell_type": "markdown"
   },
   "source": [
    "##### [GET /3/movie/{movie_id}/alternative_titles](https://developer.themoviedb.org/reference/movie-alternative-titles)\n",
    "\n",
    "**Parametri**\n",
    "\n",
    "| Nome                                    | Tipo  | Tipo del parametro | Descrizione                                                           |\n",
    "| --------------------------------------- | ----- | ------------------ | --------------------------------------------------------------------- |\n",
    "| `movie_id` <sup><b>NECESSARIO</b></sup> | path  | int                | Identificativo univoco del contenuto                                  |\n",
    "| `country`                               | query | string             | Codice ISO 3166-1 alpha-2 del paese per filtrare i titoli alternativi |\n",
    "\n",
    "**Risposta**\n",
    "\n",
    "| Attributo | Tipo             | Descrizione                                                 |\n",
    "| --------- | ---------------- | ----------------------------------------------------------- |\n",
    "| `id`      | integer          | Identificativo univoco del contenuto                        |\n",
    "| `titles`  | array of objects | Indica se l'oggetto richiesto è tra i preferiti dell'utente |\n",
    "\n",
    "**Oggetto all'interno di `titles`**\n",
    "\n",
    "| Attributo    | Tipo   | Descrizione                                     |\n",
    "| ------------ | ------ | ----------------------------------------------- |\n",
    "| `iso_3166_1` | string | Codice del paese secondo lo standard ISO 3166-1 |\n",
    "| `title`      | string | Titolo localizzato del contenuto                |\n",
    "| `type`       | string | Tipo di titolo (valore definito dall'utente)    |\n",
    "\n",
    "**Codice**"
   ]
  },
  {
   "cell_type": "code",
   "execution_count": null,
   "metadata": {
    "cell_id": "974a09a78b6b41c5a231ea554be886e0",
    "deepnote_cell_type": "code"
   },
   "outputs": [],
   "source": [
    "movie_id = 447273  # Identificativo univoco del contenuto\n",
    "\n",
    "response = requests.get(\n",
    "    f\"https://api.themoviedb.org/3/movie/{movie_id}/alternative_titles\",\n",
    "    headers={\n",
    "        \"accept\": \"application/json\",\n",
    "        \"Authorization\": f\"Bearer {api_token}\",\n",
    "    },\n",
    ")\n",
    "\n",
    "response.json()"
   ]
  },
  {
   "cell_type": "markdown",
   "metadata": {
    "cell_id": "353b14bd8fe54b13bc16917f88994dc0",
    "deepnote_cell_type": "markdown"
   },
   "source": [
    "##### [GET /3/discover/movie](https://developer.themoviedb.org/reference/discover-movie)\n",
    "\n",
    "**Parametri**\n",
    "\n",
    "| Nome             | Tipo   | Tipo del parametro | Descrizione                                                                 |\n",
    "| ---------------- | ------ | ------------------ | --------------------------------------------------------------------------- |\n",
    "| `include_adult`  | query  | boolean            | Indica se includere contenuti per adulti (default: `false`)                 |\n",
    "| `include_video`  | query  | boolean            | Indica se includere video (default: `false`)                                |\n",
    "| `language`       | query  | string             | Lingua dei risultati (default: `en-US`)                                     |\n",
    "| `page`           | query  | int                | Numero della pagina dei risultati (default: `1`)                            |\n",
    "| `sort_by`        | query  | string             | Criterio di ordinamento dei risultati (esempio: `popularity.desc`)          |\n",
    "\n",
    "(esistono altri parametri di meno rilievo come **Advanced Filtering**)\n",
    "\n",
    "**Risposta**\n",
    "\n",
    "| Attributo      | Tipo             | Descrizione                                                                 |\n",
    "| -------------- | ---------------- | --------------------------------------------------------------------------- |\n",
    "| `page`         | integer          | Numero della pagina dei risultati                                           |\n",
    "| `results`      | array of objects | Lista dei film trovati                                                      |\n",
    "| `adult`        | boolean          | Indica se il film è per adulti                                              |\n",
    "| `backdrop_path`| string           | Percorso dell'immagine di sfondo                                            |\n",
    "| `genre_ids`    | array of integers| ID dei generi del film                                                      |\n",
    "| `id`           | integer          | Identificativo univoco del film                                             |\n",
    "| `original_language` | string      | Lingua originale del film                                                   |\n",
    "| `original_title` | string         | Titolo originale del film                                                   |\n",
    "| `overview`     | string           | Descrizione del film                                                        |\n",
    "| `popularity`   | float            | Popolarità del film                                                         |\n",
    "| `poster_path`  | string           | Percorso dell'immagine del poster                                           |\n",
    "| `release_date` | string           | Data di rilascio del film                                                   |\n",
    "| `title`        | string           | Titolo del film                                                             |\n",
    "| `video`        | boolean          | Indica se il film è un video                                                |\n",
    "| `vote_average` | float            | Voto medio del film                                                         |\n",
    "| `vote_count`   | integer          | Numero di voti ricevuti dal film                                            |"
   ]
  },
  {
   "cell_type": "markdown",
   "metadata": {
    "cell_id": "3cd0c04aefad4104868d5dfbe0ab1457",
    "deepnote_cell_type": "text-cell-p",
    "formattedRanges": [
     {
      "fromCodePoint": 0,
      "marks": {
       "bold": true
      },
      "toCodePoint": 3,
      "type": "marks"
     }
    ]
   },
   "source": [
    "NB per iterare su più pagine si può seguire la seguente logica:"
   ]
  },
  {
   "cell_type": "code",
   "execution_count": null,
   "metadata": {
    "cell_id": "f3477352fdda42ea89641ac28e748715",
    "deepnote_cell_type": "code"
   },
   "outputs": [],
   "source": [
    "base_url = \"https://api.themoviedb.org/3/discover/movie\"\n",
    "page = 1\n",
    "total_pages = 1  # Inizialmente impostato a 1 per entrare nel ciclo\n",
    "\n",
    "while page <= total_pages:\n",
    "    \n",
    "    url = f\"{base_url}?include_adult=false&include_video=false&language=en-US&page={page}&sort_by=popularity.desc\"\n",
    "    response = requests.get(url, headers={})\n",
    "    data = response.json()\n",
    "\n",
    "    # Stampa i risultati della pagina corrente\n",
    "    for movie in data['results']:\n",
    "        print(f\"Title: {movie['title']}, Release Date: {movie['release_date']}\") # / Una qualsiasi operazione \n",
    "\n",
    "    # Aggiorna il numero totale di pagine\n",
    "    total_pages = data['total_pages']\n",
    "    page += 1"
   ]
  },
  {
   "cell_type": "markdown",
   "metadata": {
    "cell_id": "b12c359dce2948a8aefc8e4efaa6eb81",
    "deepnote_cell_type": "markdown"
   },
   "source": [
    "#### People"
   ]
  },
  {
   "cell_type": "markdown",
   "metadata": {
    "cell_id": "07a681b9b7d24575a23aafc7029df147",
    "deepnote_cell_type": "markdown"
   },
   "source": [
    "##### [GET /3/movie/{movie_id}/credits](https://developer.themoviedb.org/reference/movie-credits)\n",
    "\n",
    "**Parametri**\n",
    "\n",
    "| Nome                                    | Tipo  | Tipo del parametro | Descrizione                             |\n",
    "| --------------------------------------- | ----- | ------------------ | --------------------------------------- |\n",
    "| `movie_id` <sup><b>NECESSARIO</b></sup> | path  | _integer_          | Identificativo univoco del contenuto    |\n",
    "| `language`                              | query | _string_           | Lingua dei risultati (default: `en-US`) |\n",
    "\n",
    "**Risposta**\n",
    "\n",
    "| Attributo | Tipo               | Descrizione                            |\n",
    "| --------- | ------------------ | -------------------------------------- |\n",
    "| `id`      | _integer_          | Identificativo univoco del contenuto   |\n",
    "| `cast`    | _array of objects_ | Elenco degli attori                    |\n",
    "| `crew`    | _array of objects_ | Elenco dei membri della troupe tecnica |\n",
    "\n",
    "**Oggetto all'interno di `cast`**\n",
    "\n",
    "| Attributo              | Tipo               | Descrizione                                                                |\n",
    "| ---------------------- | ------------------ | -------------------------------------------------------------------------- |\n",
    "| `adult`                | _boolean_          | Indica se l'attore è coinvolto in contenuti rivolti a un pubblico adulto   |\n",
    "| `gender`               | _integer_          | Genere dell’attore (0 = sconosciuto, 1 = donna, 2 = uomo, 3 = non binario) |\n",
    "| `id`                   | _integer_          | ID univoco della persona                                                   |\n",
    "| `known_for_department` | _string_           | Reparto per cui è conosciuto                                               |\n",
    "| `name`                 | _string_           | Nome dell’attore                                                           |\n",
    "| `original_name`        | _string_           | Nome originale                                                             |\n",
    "| `popularity`           | _number_           | Indice di popolarità                                                       |\n",
    "| `profile_path`         | _string_ \\| _null_ | Percorso all’immagine del profilo                                          |\n",
    "| `cast_id`              | _integer_          | ID del cast                                                                |\n",
    "| `character`            | _string_           | Personaggio interpretato                                                   |\n",
    "| `credit_id`            | _string_           | ID del credito                                                             |\n",
    "| `order`                | _integer_          | Ordine di apparizione nel cast                                             |\n",
    "\n",
    "**Oggetto all'interno di `crew`**\n",
    "\n",
    "| Attributo              | Tipo               | Descrizione                                                                  |\n",
    "| ---------------------- | ------------------ | ---------------------------------------------------------------------------- |\n",
    "| `adult`                | _boolean_          | Indica se la persona è coinvolta in contenuti rivolti a un pubblico adulto   |\n",
    "| `gender`               | _integer_          | Genere della persona (0 = sconosciuto, 1 = donna, 2 = uomo, 3 = non binario) |\n",
    "| `id`                   | _integer_          | ID univoco della persona                                                     |\n",
    "| `known_for_department` | _string_           | Reparto per cui è conosciuto                                                 |\n",
    "| `name`                 | _string_           | Nome della persona                                                           |\n",
    "| `original_name`        | _string_           | Nome originale                                                               |\n",
    "| `popularity`           | _number_           | Indice di popolarità                                                         |\n",
    "| `profile_path`         | _string_ \\| _null_ | Percorso all’immagine del profilo                                            |\n",
    "| `credit_id`            | _string_           | ID del credito                                                               |\n",
    "| `department`           | _string_           | Reparto tecnico                                                              |\n",
    "| `job`                  | _string_           | Ruolo specifico all'interno del reparto                                      |\n",
    "\n",
    "**Codice**"
   ]
  },
  {
   "cell_type": "code",
   "execution_count": 5,
   "metadata": {
    "cell_id": "7086fbc29b5045b59fad37f4fae3d34d",
    "deepnote_cell_type": "code",
    "execution_context_id": "65f07552-a707-4497-adef-9e369a2912c3",
    "execution_millis": 82,
    "execution_start": 1743843725899,
    "source_hash": "cb253d20"
   },
   "outputs": [],
   "source": [
    "movie_id = 447273  # Identificativo univoco del contenuto\n",
    "\n",
    "response = requests.get(\n",
    "    f\"https://api.themoviedb.org/3/movie/{movie_id}/credits\",\n",
    "    headers={\n",
    "        \"accept\": \"application/json\",\n",
    "        \"Authorization\": f\"Bearer {api_token}\",\n",
    "    },\n",
    ")\n",
    "\n",
    "response.json()"
   ]
  },
  {
   "cell_type": "markdown",
   "metadata": {
    "cell_id": "f7dbcdfa27034778a33dd819d714d8de",
    "deepnote_cell_type": "markdown"
   },
   "source": [
    "##### [GET /3/tv/{series_id}/season/{season_number}/credits](https://developer.themoviedb.org/reference/tv-season-credits)\n",
    "\n",
    "| Nome                                         | Tipo  | Tipo del parametro | Descrizione                             |\n",
    "| -------------------------------------------- | ----- | ------------------ | --------------------------------------- |\n",
    "| `series_id` <sup><b>NECESSARIO</b></sup>     | path  | _integer_          | Identificativo univoco del contenuto    |\n",
    "| `season_number` <sup><b>NECESSARIO</b></sup> | path  | _integer_          | Numero della stagione                   |\n",
    "| `language`                                   | query | _string_           | Lingua dei risultati (default: `en-US`) |\n",
    "\n",
    "**Risposta**\n",
    "\n",
    "| Attributo | Tipo               | Descrizione                            |\n",
    "| --------- | ------------------ | -------------------------------------- |\n",
    "| `id`      | _integer_          | Identificativo univoco del contenuto   |\n",
    "| `cast`    | _array of objects_ | Elenco degli attori                    |\n",
    "| `crew`    | _array of objects_ | Elenco dei membri della troupe tecnica |\n",
    "\n",
    "**Oggetto all'interno di `cast`**\n",
    "\n",
    "| Attributo              | Tipo               | Descrizione                                                                |\n",
    "| ---------------------- | ------------------ | -------------------------------------------------------------------------- |\n",
    "| `adult`                | _boolean_          | Indica se l'attore è coinvolto in contenuti rivolti a un pubblico adulto   |\n",
    "| `gender`               | _integer_          | Genere dell’attore (0 = sconosciuto, 1 = donna, 2 = uomo, 3 = non binario) |\n",
    "| `id`                   | _integer_          | ID univoco della persona                                                   |\n",
    "| `known_for_department` | _string_           | Reparto per cui è conosciuto                                               |\n",
    "| `name`                 | _string_           | Nome dell’attore                                                           |\n",
    "| `original_name`        | _string_           | Nome originale                                                             |\n",
    "| `popularity`           | _number_           | Indice di popolarità                                                       |\n",
    "| `profile_path`         | _string_ \\| _null_ | Percorso all’immagine del profilo                                          |\n",
    "| `cast_id`              | _integer_          | ID del cast                                                                |\n",
    "| `character`            | _string_           | Personaggio interpretato                                                   |\n",
    "| `credit_id`            | _string_           | ID del credito                                                             |\n",
    "| `order`                | _integer_          | Ordine di apparizione nel cast                                             |\n",
    "\n",
    "**Oggetto all'interno di `crew`**\n",
    "\n",
    "| Attributo              | Tipo               | Descrizione                                                                  |\n",
    "| ---------------------- | ------------------ | ---------------------------------------------------------------------------- |\n",
    "| `adult`                | _boolean_          | Indica se la persona è coinvolta in contenuti rivolti a un pubblico adulto   |\n",
    "| `gender`               | _integer_          | Genere della persona (0 = sconosciuto, 1 = donna, 2 = uomo, 3 = non binario) |\n",
    "| `id`                   | _integer_          | ID univoco della persona                                                     |\n",
    "| `known_for_department` | _string_           | Reparto per cui è conosciuto                                                 |\n",
    "| `name`                 | _string_           | Nome della persona                                                           |\n",
    "| `original_name`        | _string_           | Nome originale                                                               |\n",
    "| `popularity`           | _number_           | Indice di popolarità                                                         |\n",
    "| `profile_path`         | _string_ \\| _null_ | Percorso all’immagine del profilo                                            |\n",
    "| `credit_id`            | _string_           | ID del credito                                                               |\n",
    "| `department`           | _string_           | Reparto tecnico                                                              |\n",
    "| `job`                  | _string_           | Ruolo specifico all'interno del reparto                                      |\n",
    "\n",
    "**Codice**"
   ]
  },
  {
   "cell_type": "code",
   "execution_count": null,
   "metadata": {
    "cell_id": "100222d4c6e94168a66bc028cf92b998",
    "deepnote_cell_type": "code"
   },
   "outputs": [],
   "source": [
    "series_id = 1396  # Identificativo univoco del contenuto\n",
    "season_number = 1  # Numero della stagione\n",
    "\n",
    "response = requests.get(\n",
    "    f\"https://api.themoviedb.org/3/tv/{series_id}/season/{season_number}/credits\",\n",
    "    headers={\n",
    "        \"accept\": \"application/json\",\n",
    "        \"Authorization\": f\"Bearer {api_token}\",\n",
    "    },\n",
    ")\n",
    "\n",
    "response.json()"
   ]
  },
  {
   "cell_type": "markdown",
   "metadata": {
    "cell_id": "99049a12370041bfb0c2bba3c9e507a7",
    "deepnote_cell_type": "markdown"
   },
   "source": [
    "##### [GET /3/tv/{series_id}/season/{season_number}/episode/{episode_number}/credits](https://developer.themoviedb.org/reference/tv-episode-credits)\n",
    "\n",
    "| Nome                                          | Tipo  | Tipo del parametro | Descrizione                             |\n",
    "| --------------------------------------------- | ----- | ------------------ | --------------------------------------- |\n",
    "| `series_id` <sup><b>NECESSARIO</b></sup>      | path  | _integer_          | Identificativo univoco del contenuto    |\n",
    "| `season_number` <sup><b>NECESSARIO</b></sup>  | path  | _integer_          | Numero della stagione                   |\n",
    "| `episode_number` <sup><b>NECESSARIO</b></sup> | path  | _integer_          | Numero dell'episodio della stagione     |\n",
    "| `language`                                    | query | _string_           | Lingua dei risultati (default: `en-US`) |\n",
    "\n",
    "**Risposta**\n",
    "\n",
    "| Attributo     | Tipo               | Descrizione                            |\n",
    "| ------------- | ------------------ | -------------------------------------- |\n",
    "| `id`          | _integer_          | Identificativo univoco del contenuto   |\n",
    "| `cast`        | _array of objects_ | Elenco degli attori                    |\n",
    "| `crew`        | _array of objects_ | Elenco dei membri della troupe tecnica |\n",
    "| `guest_stars` | _array of objects_ | Elenco delle guest star                |\n",
    "\n",
    "**Oggetto all'interno di `cast` e `guest_stars`**\n",
    "\n",
    "| Attributo              | Tipo               | Descrizione                                                                |\n",
    "| ---------------------- | ------------------ | -------------------------------------------------------------------------- |\n",
    "| `adult`                | _boolean_          | Indica se l'attore è coinvolto in contenuti rivolti a un pubblico adulto   |\n",
    "| `gender`               | _integer_          | Genere dell’attore (0 = sconosciuto, 1 = donna, 2 = uomo, 3 = non binario) |\n",
    "| `id`                   | _integer_          | ID univoco della persona                                                   |\n",
    "| `known_for_department` | _string_           | Reparto per cui è conosciuto                                               |\n",
    "| `name`                 | _string_           | Nome dell’attore                                                           |\n",
    "| `original_name`        | _string_           | Nome originale                                                             |\n",
    "| `popularity`           | _number_           | Indice di popolarità                                                       |\n",
    "| `profile_path`         | _string_ \\| _null_ | Percorso all’immagine del profilo                                          |\n",
    "| `cast_id`              | _integer_          | ID del cast                                                                |\n",
    "| `character`            | _string_           | Personaggio interpretato                                                   |\n",
    "| `credit_id`            | _string_           | ID del credito                                                             |\n",
    "| `order`                | _integer_          | Ordine di apparizione nel cast                                             |\n",
    "\n",
    "**Oggetto all'interno di `crew`**\n",
    "\n",
    "| Attributo              | Tipo               | Descrizione                                                                  |\n",
    "| ---------------------- | ------------------ | ---------------------------------------------------------------------------- |\n",
    "| `adult`                | _boolean_          | Indica se la persona è coinvolta in contenuti rivolti a un pubblico adulto   |\n",
    "| `gender`               | _integer_          | Genere della persona (0 = sconosciuto, 1 = donna, 2 = uomo, 3 = non binario) |\n",
    "| `id`                   | _integer_          | ID univoco della persona                                                     |\n",
    "| `known_for_department` | _string_           | Reparto per cui è conosciuto                                                 |\n",
    "| `name`                 | _string_           | Nome della persona                                                           |\n",
    "| `original_name`        | _string_           | Nome originale                                                               |\n",
    "| `popularity`           | _number_           | Indice di popolarità                                                         |\n",
    "| `profile_path`         | _string_ \\| _null_ | Percorso all’immagine del profilo                                            |\n",
    "| `credit_id`            | _string_           | ID del credito                                                               |\n",
    "| `department`           | _string_           | Reparto tecnico                                                              |\n",
    "| `job`                  | _string_           | Ruolo specifico all'interno del reparto                                      |\n",
    "\n",
    "**Codice**"
   ]
  },
  {
   "cell_type": "code",
   "execution_count": null,
   "metadata": {
    "cell_id": "40cf45fa0d9d4a2c8e7407db2d16e595",
    "deepnote_cell_type": "code"
   },
   "outputs": [],
   "source": [
    "series_id = 1396  # Identificativo univoco del contenuto\n",
    "season_number = 1  # Numero della stagione\n",
    "episode_number = 1  # Numero dell'episodio\n",
    "\n",
    "response = requests.get(\n",
    "    f\"https://api.themoviedb.org/3/tv/{series_id}/season/{season_number}/episode/{episode_number}/credits\",\n",
    "    headers={\n",
    "        \"accept\": \"application/json\",\n",
    "        \"Authorization\": f\"Bearer {api_token}\",\n",
    "    },\n",
    ")\n",
    "\n",
    "response.json()"
   ]
  },
  {
   "cell_type": "markdown",
   "metadata": {
    "cell_id": "29acab51434c4689a2d895fe0bb0e269",
    "deepnote_cell_type": "markdown"
   },
   "source": [
    "##### [GET /3/person/{person_id}/movie_credits](https://developer.themoviedb.org/reference/person-movie-credits)\n",
    "\n",
    "**Parametri**\n",
    "\n",
    "| Nome                                     | Tipo  | Tipo del parametro | Descrizione                             |\n",
    "| ---------------------------------------- | ----- | ------------------ | --------------------------------------- |\n",
    "| `person_id` <sup><b>NECESSARIO</b></sup> | path  | _integer_          | Identificativo univoco della persona    |\n",
    "| `language`                               | query | _string_           | Lingua dei risultati (default: `en-US`) |\n",
    "\n",
    "**Risposta**\n",
    "\n",
    "| Attributo | Tipo               | Descrizione                                                    |\n",
    "| --------- | ------------------ | -------------------------------------------------------------- |\n",
    "| `cast`    | _array of objects_ | Elenco dei film in cui la persona ha recitato                  |\n",
    "| `crew`    | _array of objects_ | Elenco dei film in cui la persona ha lavorato nel team tecnico |\n",
    "\n",
    "**Oggetto all'interno di `cast`**\n",
    "\n",
    "| Attributo           | Tipo                | Descrizione                                             |\n",
    "| ------------------- | ------------------- | ------------------------------------------------------- |\n",
    "| `adult`             | _boolean_           | Indica se il contenuto è destinato a un pubblico adulto |\n",
    "| `backdrop_path`     | _string_            | Percorso all’immagine di sfondo del film                |\n",
    "| `genre_ids`         | _array of integers_ | Elenco degli ID dei generi associati al film            |\n",
    "| `id`                | _integer_           | Identificativo univoco del film                         |\n",
    "| `original_language` | _string_            | Lingua originale del contenuto                          |\n",
    "| `original_title`    | _string_            | Titolo originale del film                               |\n",
    "| `overview`          | _string_            | Descrizione del contenuto                               |\n",
    "| `popularity`        | _number_            | Indice di popolarità                                    |\n",
    "| `poster_path`       | _string_            | Percorso all’immagine del poster                        |\n",
    "| `release_date`      | _string_            | Data di uscita                                          |\n",
    "| `title`             | _string_            | Titolo del film                                         |\n",
    "| `video`             | _boolean_           | Indica se è un video                                    |\n",
    "| `vote_average`      | _number_            | Media dei voti ricevuti                                 |\n",
    "| `vote_count`        | _integer_           | Numero totale di voti                                   |\n",
    "| `character`         | _string_            | Personaggio interpretato                                |\n",
    "| `credit_id`         | _string_            | ID del credito                                          |\n",
    "| `order`             | _integer_           | Ordine di apparizione nel cast                          |\n",
    "\n",
    "**Oggetto all'interno di `crew`**\n",
    "\n",
    "| Attributo           | Tipo                | Descrizione                                             |\n",
    "| ------------------- | ------------------- | ------------------------------------------------------- |\n",
    "| `adult`             | _boolean_           | Indica se il contenuto è destinato a un pubblico adulto |\n",
    "| `backdrop_path`     | _string_            | Percorso all’immagine di sfondo del film                |\n",
    "| `genre_ids`         | _array of integers_ | Elenco degli ID dei generi associati al film            |\n",
    "| `id`                | _integer_           | Identificativo univoco del film                         |\n",
    "| `original_language` | _string_            | Lingua originale del contenuto                          |\n",
    "| `original_title`    | _string_            | Titolo originale del film                               |\n",
    "| `overview`          | _string_            | Descrizione del contenuto                               |\n",
    "| `popularity`        | _number_            | Indice di popolarità                                    |\n",
    "| `poster_path`       | _string_            | Percorso all’immagine del poster                        |\n",
    "| `release_date`      | _string_            | Data di uscita                                          |\n",
    "| `title`             | _string_            | Titolo del film                                         |\n",
    "| `video`             | _boolean_           | Indica se è un video                                    |\n",
    "| `vote_average`      | _number_            | Media dei voti ricevuti                                 |\n",
    "| `vote_count`        | _integer_           | Numero totale di voti                                   |\n",
    "| `credit_id`         | _string_            | ID del credito                                          |\n",
    "| `department`        | _string_            | Reparto tecnico di appartenenza                         |\n",
    "| `job`               | _string_            | Ruolo specifico svolto all'interno del film             |\n",
    "\n",
    "**Codice**"
   ]
  },
  {
   "cell_type": "code",
   "execution_count": null,
   "metadata": {
    "cell_id": "601a81ff6be3433aaffb4a710b741f72",
    "deepnote_cell_type": "code"
   },
   "outputs": [],
   "source": [
    "person_id = 17419  # Identificativo univoco della persona\n",
    "\n",
    "response = requests.get(\n",
    "    f\"https://api.themoviedb.org/3/person/{person_id}/movie_credits\",\n",
    "    headers={\n",
    "        \"accept\": \"application/json\",\n",
    "        \"Authorization\": f\"Bearer {api_token}\",\n",
    "    },\n",
    ")\n",
    "\n",
    "response.json()"
   ]
  },
  {
   "cell_type": "markdown",
   "metadata": {
    "cell_id": "d0aab75bef4f4369931a940e652ca710",
    "deepnote_cell_type": "markdown"
   },
   "source": [
    "#### Reviews"
   ]
  },
  {
   "cell_type": "markdown",
   "metadata": {
    "cell_id": "b683461480834584bf09afd9868ccce4",
    "deepnote_cell_type": "markdown"
   },
   "source": [
    "##### [GET /3/movie/{movie_id}/reviews](https://developer.themoviedb.org/reference/movie-reviews)\n",
    "\n",
    "**Parametri**\n",
    "\n",
    "| Nome                                    | Tipo  | Tipo del parametro | Descrizione                                   |\n",
    "| --------------------------------------- | ----- | ------------------ | --------------------------------------------- |\n",
    "| `movie_id` <sup><b>NECESSARIO</b></sup> | path  | _integer_          | Identificativo univoco del contenuto          |\n",
    "| `language`                              | query | _string_           | Lingua dei risultati (default: `en-US`)       |\n",
    "| `page`                                  | query | _integer_          | Numero di pagina dei risultati (default: `1`) |\n",
    "\n",
    "**Risposta**\n",
    "\n",
    "> NOTA: il limite di risultati per pagina è 20.\n",
    "\n",
    "| Attributo       | Tipo               | Descrizione                          |\n",
    "| --------------- | ------------------ | ------------------------------------ |\n",
    "| `id`            | _integer_          | Identificativo univoco del contenuto |\n",
    "| `page`          | _integer_          | Numero della pagina restituita       |\n",
    "| `results`       | _array of objects_ | Elenco delle recensioni dell'utente  |\n",
    "| `total_pages`   | _integer_          | Numero totale di pagine              |\n",
    "| `total_results` | _integer_          | Numero totale di recensioni          |\n",
    "\n",
    "**Oggetto all'interno di `results`**\n",
    "\n",
    "| Attributo        | Tipo     | Descrizione                       |\n",
    "| ---------------- | -------- | --------------------------------- |\n",
    "| `author`         | _string_ | Nome dell’autore della recensione |\n",
    "| `author_details` | _object_ | Dettagli dell'autore              |\n",
    "| `content`        | _string_ | Testo della recensione            |\n",
    "| `created_at`     | _string_ | Data di creazione                 |\n",
    "| `id`             | _string_ | Identificativo della recensione   |\n",
    "| `updated_at`     | _string_ | Data di ultima modifica           |\n",
    "| `url`            | _string_ | URL della recensione su TMDB      |\n",
    "\n",
    "**Oggetto all'interno di `author_details`**\n",
    "\n",
    "| Attributo     | Tipo               | Descrizione                      |\n",
    "| ------------- | ------------------ | -------------------------------- |\n",
    "| `name`        | _string_           | Nome completo dell'autore        |\n",
    "| `username`    | _string_           | Nome utente dell'autore          |\n",
    "| `avatar_path` | _string_ \\| _null_ | Percorso dell’avatar dell’autore |\n",
    "| `rating`      | _string_ \\| _null_ | Valutazione assegnata            |\n",
    "\n",
    "**Codice**"
   ]
  },
  {
   "cell_type": "code",
   "execution_count": 5,
   "metadata": {
    "cell_id": "02f17cc86e294851882ce547f415fed2",
    "deepnote_cell_type": "code",
    "execution_context_id": "679d2e10-49f2-42f0-b519-f290a5843af5",
    "execution_millis": 30,
    "execution_start": 1743804045581,
    "source_hash": "454a387"
   },
   "outputs": [],
   "source": [
    "movie_id = 447273  # Identificativo univoco del contenuto\n",
    "\n",
    "response = requests.get(\n",
    "    f\"https://api.themoviedb.org/3/movie/{movie_id}/reviews\",\n",
    "    headers={\n",
    "        \"accept\": \"application/json\",\n",
    "        \"Authorization\": f\"Bearer {api_token}\",\n",
    "    },\n",
    ")\n",
    "\n",
    "response.json()"
   ]
  },
  {
   "cell_type": "markdown",
   "metadata": {
    "cell_id": "1d78344d96bc44f18799be3c09e35766",
    "deepnote_cell_type": "markdown"
   },
   "source": [
    "##### [GET /3/tv/{series_id}/reviews](https://developer.themoviedb.org/reference/tv-series-reviews)\n",
    "\n",
    "**Parametri**\n",
    "\n",
    "| Nome                                     | Tipo  | Tipo del parametro | Descrizione                                   |\n",
    "| ---------------------------------------- | ----- | ------------------ | --------------------------------------------- |\n",
    "| `series_id` <sup><b>NECESSARIO</b></sup> | path  | _integer_          | Identificativo univoco della serie            |\n",
    "| `language`                               | query | _string_           | Lingua dei risultati (default: `en-US`)       |\n",
    "| `page`                                   | query | _integer_          | Numero di pagina dei risultati (default: `1`) |\n",
    "\n",
    "**Risposta**\n",
    "\n",
    "> NOTA: il limite di risultati per pagina è 20.\n",
    "\n",
    "| Attributo       | Tipo               | Descrizione                        |\n",
    "| --------------- | ------------------ | ---------------------------------- |\n",
    "| `id`            | _integer_          | Identificativo univoco della serie |\n",
    "| `page`          | _integer_          | Numero della pagina restituita     |\n",
    "| `results`       | _array of objects_ | Elenco delle recensioni            |\n",
    "| `total_pages`   | _integer_          | Numero totale di pagine            |\n",
    "| `total_results` | _integer_          | Numero totale di recensioni        |\n",
    "\n",
    "**Oggetto all'interno di `results`**\n",
    "\n",
    "| Attributo        | Tipo     | Descrizione                       |\n",
    "| ---------------- | -------- | --------------------------------- |\n",
    "| `author`         | _string_ | Nome dell’autore della recensione |\n",
    "| `author_details` | _object_ | Dettagli dell'autore              |\n",
    "| `content`        | _string_ | Testo della recensione            |\n",
    "| `created_at`     | _string_ | Data di creazione                 |\n",
    "| `id`             | _string_ | Identificativo della recensione   |\n",
    "| `updated_at`     | _string_ | Data di ultima modifica           |\n",
    "| `url`            | _string_ | URL della recensione su TMDB      |\n",
    "\n",
    "**Oggetto all'interno di `author_details`**\n",
    "\n",
    "| Attributo     | Tipo               | Descrizione                      |\n",
    "| ------------- | ------------------ | -------------------------------- |\n",
    "| `name`        | _string_           | Nome completo dell'autore        |\n",
    "| `username`    | _string_           | Nome utente dell'autore          |\n",
    "| `avatar_path` | _string_ \\| _null_ | Percorso dell’avatar dell’autore |\n",
    "| `rating`      | _string_ \\| _null_ | Valutazione assegnata            |\n",
    "\n",
    "**Codice**"
   ]
  },
  {
   "cell_type": "code",
   "execution_count": 1,
   "metadata": {
    "cell_id": "41549fe87476469d83ce3eee191afe3c",
    "deepnote_cell_type": "code",
    "execution_context_id": "6d96323b-95a7-4aa7-a6f0-c9809a7dd744",
    "execution_millis": 291,
    "execution_start": 1743847224505,
    "source_hash": "c83caa65"
   },
   "outputs": [],
   "source": [
    "series_id = 1396  # Identificativo univoco del contenuto\n",
    "\n",
    "response = requests.get(\n",
    "    f\"https://api.themoviedb.org/3/tv/{series_id}/reviews\",\n",
    "    headers={\n",
    "        \"accept\": \"application/json\",\n",
    "        \"Authorization\": f\"Bearer {api_token}\",\n",
    "    },\n",
    ")\n",
    "\n",
    "response.json()"
   ]
  },
  {
   "cell_type": "markdown",
   "metadata": {
    "cell_id": "18376b202f9e4306922b7861aadf3216",
    "deepnote_app_block_group_id": null,
    "deepnote_app_block_order": 34,
    "deepnote_app_block_visible": true,
    "deepnote_cell_type": "markdown"
   },
   "source": [
    "## Software"
   ]
  },
  {
   "cell_type": "markdown",
   "metadata": {
    "cell_id": "d8659cf25c224015a367296dbc804168",
    "deepnote_app_block_group_id": null,
    "deepnote_app_block_order": 35,
    "deepnote_app_block_visible": true,
    "deepnote_cell_type": "markdown"
   },
   "source": [
    "### Librerie per la Piattaforma\n",
    "La documentazione fornisce indicazioni su strumenti e librerie, sia ufficiali che di terze parti, compatibili con i principali linguaggi di programmazione. Troviamo l'elenco completo di queste librerie e wrapper, divisi appunto per linguaggi di programmazione, a questo link: https://developer.themoviedb.org/docs/wrappers-and-libraries\n",
    "\n",
    "Per Python ad esempio, sono disponibili queste librerie/wrapper di terze parti :\n",
    "- **tmdbsimple** by celiao\n",
    "- **tmdb3** by Toilal\n",
    "- **pytmdb3** by wagner\n",
    "- **themoviedb** by doganaydin\n",
    "\n",
    "\n",
    "Esempio di ricerca usando la funzione Search() resa disponibile nel wrapper **tmdbsimple**\n",
    "\n",
    "\n",
    "Per questo progetto non abbiamo usato nessuna libreria ma direttamente le API fornite dalla piattaforma."
   ]
  },
  {
   "cell_type": "code",
   "execution_count": 8,
   "metadata": {
    "cell_id": "21d2bbfcbcb845f2a1621db04d1915ce",
    "deepnote_app_block_group_id": null,
    "deepnote_app_block_order": 36,
    "deepnote_app_block_visible": true,
    "deepnote_app_is_code_hidden": false,
    "deepnote_app_is_output_hidden": false,
    "deepnote_cell_type": "code",
    "execution_context_id": "557002bf-cbf1-4439-b2a2-72830821e1c0",
    "execution_millis": 0,
    "execution_start": 1743155701604,
    "source_hash": "3c25f47b"
   },
   "outputs": [
    {
     "name": "stdout",
     "output_type": "stream",
     "text": [
      "Titolo: Inception\n",
      "Data di uscita: 2010-07-15\n",
      "Voto medio: 8.4\n",
      "-----------------------\n",
      "Titolo: The Crack: Inception\n",
      "Data di uscita: 2019-10-04\n",
      "Voto medio: 6.7\n",
      "-----------------------\n",
      "Titolo: Inception: The Cobol Job\n",
      "Data di uscita: 2010-12-07\n",
      "Voto medio: 7.3\n",
      "-----------------------\n"
     ]
    }
   ],
   "source": [
    "import tmdbsimple as tmdb\n",
    "tmdb.API_KEY = api_key\n",
    "search = tmdb.Search()\n",
    "response = search.movie(query='Inception')\n",
    "\n",
    "for movie in search.results[:3]:\n",
    "    print(f\"Titolo: {movie['title']}\")\n",
    "    print(f\"Data di uscita: {movie['release_date']}\")\n",
    "    print(f\"Voto medio: {movie['vote_average']}\")\n",
    "   \n",
    "    print(\"-----------------------\")"
   ]
  }
 ],
 "metadata": {
  "deepnote_app_hide_all_code_blocks_enabled": false,
  "deepnote_app_layout": "powerful-article",
  "deepnote_app_reactivity_enabled": true,
  "deepnote_full_width": false,
  "deepnote_notebook_id": "c074d7fdb5544dbeaa4b35a1f22db3a8",
  "deepnote_persisted_session": {
   "createdAt": "2025-04-05T10:50:46.645Z"
  },
  "kernelspec": {
   "display_name": "Python 3 (ipykernel)",
   "language": "python",
   "name": "python3"
  },
  "language_info": {
   "codemirror_mode": {
    "name": "ipython",
    "version": 3
   },
   "file_extension": ".py",
   "mimetype": "text/x-python",
   "name": "python",
   "nbconvert_exporter": "python",
   "pygments_lexer": "ipython3",
   "version": "3.12.9"
  }
 },
 "nbformat": 4,
 "nbformat_minor": 4
}
