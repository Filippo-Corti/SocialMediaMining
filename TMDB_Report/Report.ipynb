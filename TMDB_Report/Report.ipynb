{
 "cells": [
  {
   "cell_type": "code",
   "id": "initial_id",
   "metadata": {
    "collapsed": true,
    "ExecuteTime": {
     "end_time": "2025-03-25T17:11:46.857126Z",
     "start_time": "2025-03-25T17:11:46.847417Z"
    }
   },
   "source": [
    "import requests\n",
    "import json\n",
    "\n",
    "credentials = json.load(open('../keys/tmdb_key.json'))\n",
    "token = credentials['token']\n"
   ],
   "outputs": [],
   "execution_count": 9
  },
  {
   "metadata": {
    "ExecuteTime": {
     "end_time": "2025-03-25T17:13:11.257370Z",
     "start_time": "2025-03-25T17:13:05.834249Z"
    }
   },
   "cell_type": "code",
   "source": [
    "\n",
    "url = \"https://api.themoviedb.org/3/account/20762066/watchlist\"\n",
    "\n",
    "payload = {\n",
    "    \"media_type\": \"movie\",\n",
    "    \"media_id\": 1104845,\n",
    "    \"watchlist\": True\n",
    "}\n",
    "headers = {\n",
    "    \"accept\": \"application/json\",\n",
    "    \"content-type\": \"application/json\",\n",
    "    \"Authorization\": f\"Bearer {token}\"\n",
    "}\n",
    "\n",
    "response = requests.post(url, json=payload, headers=headers)\n",
    "\n",
    "print(response.text)"
   ],
   "id": "ed77944acf99a00f",
   "outputs": [
    {
     "name": "stdout",
     "output_type": "stream",
     "text": [
      "{\"success\":true,\"status_code\":12,\"status_message\":\"The item/record was updated successfully.\"}\n"
     ]
    }
   ],
   "execution_count": 12
  },
  {
   "metadata": {},
   "cell_type": "code",
   "source": [
    "\n",
    "url = \"https://api.themoviedb.org/3/authentication/token/new\"\n",
    "\n",
    "headers = {\n",
    "    \"accept\": \"application/json\",\n",
    "    \"Authorization\": f\"Bearer {token}\"\n",
    "}\n",
    "\n",
    "response = requests.get(url, headers=headers)\n",
    "\n",
    "print(response.text)"
   ],
   "id": "bff6590ed284fcea",
   "outputs": [],
   "execution_count": null
  },
  {
   "metadata": {
    "ExecuteTime": {
     "end_time": "2025-03-25T17:18:29.876349Z",
     "start_time": "2025-03-25T17:18:29.865204Z"
    }
   },
   "cell_type": "code",
   "source": [
    "# URL for Validation is https://www.themoviedb.org/authenticate/{request_token}\n",
    "\n",
    "# Get Session ID:\n",
    "url = \"https://api.themoviedb.org/3/authentication/session/new\"\n",
    "\n",
    "payload = { \"request_token\": \"...\" }\n",
    "headers = {\n",
    "    \"accept\": \"application/json\",\n",
    "    \"content-type\": \"application/json\",\n",
    "    \"Authorization\": f\"Bearer {token}\"\n",
    "}\n",
    "\n",
    "response = requests.post(url, json=payload, headers=headers)\n",
    "\n",
    "print(response.text)"
   ],
   "id": "5fbf391982a8ce74",
   "outputs": [],
   "execution_count": 14
  },
  {
   "metadata": {},
   "cell_type": "code",
   "outputs": [],
   "execution_count": null,
   "source": "",
   "id": "4ce42cb2ebd2aaa3"
  }
 ],
 "metadata": {
  "kernelspec": {
   "display_name": "Python 3",
   "language": "python",
   "name": "python3"
  },
  "language_info": {
   "codemirror_mode": {
    "name": "ipython",
    "version": 2
   },
   "file_extension": ".py",
   "mimetype": "text/x-python",
   "name": "python",
   "nbconvert_exporter": "python",
   "pygments_lexer": "ipython2",
   "version": "2.7.6"
  }
 },
 "nbformat": 4,
 "nbformat_minor": 5
}
