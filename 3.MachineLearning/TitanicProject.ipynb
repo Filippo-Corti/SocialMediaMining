{
 "cells": [
  {
   "cell_type": "code",
   "id": "initial_id",
   "metadata": {
    "collapsed": true,
    "ExecuteTime": {
     "end_time": "2025-05-09T08:58:52.940228Z",
     "start_time": "2025-05-09T08:58:51.230962Z"
    }
   },
   "source": [
    "import pandas as pd\n",
    "import numpy as np\n",
    "import itertools\n",
    "\n",
    "from sklearn.base import BaseEstimator, TransformerMixin\n",
    "from sklearn.pipeline import Pipeline\n",
    "from sklearn.compose import ColumnTransformer\n",
    "from sklearn.metrics import f1_score, roc_auc_score\n",
    "from sklearn.model_selection import learning_curve, validation_curve, train_test_split, KFold, StratifiedKFold, cross_val_score, GridSearchCV, RandomizedSearchCV, cross_validate, RepeatedStratifiedKFold\n",
    "from sklearn.linear_model import Perceptron, LogisticRegression\n",
    "from sklearn.neighbors import KNeighborsClassifier\n",
    "from sklearn.decomposition import PCA\n",
    "from sklearn.discriminant_analysis import LinearDiscriminantAnalysis as LDA\n",
    "from sklearn.impute import SimpleImputer, KNNImputer\n",
    "from sklearn.preprocessing import FunctionTransformer, StandardScaler, OneHotEncoder, OrdinalEncoder\n",
    "from sklearn.datasets import fetch_openml\n",
    "from sklearn.ensemble import RandomForestClassifier\n",
    "\n",
    "from scipy.stats import loguniform, beta, uniform\n",
    "\n",
    "from mlxtend.feature_selection import SequentialFeatureSelector as SFS\n",
    "\n",
    "from imblearn.over_sampling import SMOTE, RandomOverSampler\n",
    "from imblearn.pipeline import Pipeline as IMBPipeline\n",
    "\n",
    "import missingno as msno\n",
    "\n",
    "import matplotlib.pyplot as plt\n",
    "import warnings\n",
    "\n",
    "warnings.filterwarnings('ignore')\n"
   ],
   "outputs": [],
   "execution_count": 4
  },
  {
   "metadata": {
    "ExecuteTime": {
     "end_time": "2025-05-09T08:58:55.479910Z",
     "start_time": "2025-05-09T08:58:54.272644Z"
    }
   },
   "cell_type": "code",
   "source": [
    "X, y = fetch_openml(\n",
    "    'titanic',\n",
    "    version=1,\n",
    "    as_frame=True,\n",
    "    return_X_y=True\n",
    ") # Load Titanic Dataset\n",
    "y = y.map({'0':0,'1':1})"
   ],
   "id": "b6fc5949c15e93f8",
   "outputs": [],
   "execution_count": 5
  },
  {
   "metadata": {
    "ExecuteTime": {
     "end_time": "2025-05-09T09:00:24.340518Z",
     "start_time": "2025-05-09T09:00:24.327133Z"
    }
   },
   "cell_type": "code",
   "source": [
    "# 1. Preprocessing\n",
    "\n",
    "class AloneTransformer(BaseEstimator, TransformerMixin):\n",
    "\n",
    "    def fit(self, X, y=None):\n",
    "        return self\n",
    "\n",
    "    def transform(self, X, y=None):\n",
    "        idx = X.sum(axis=1) > 1\n",
    "        X = np.ones(X.shape[0])\n",
    "        X[idx] = 0\n",
    "        return X.reshape(-1,1)\n",
    "\n",
    "    def get_feature_names_out(self, input_features=None):\n",
    "        return ['is_alone']\n",
    "\n",
    "def get_title(X):\n",
    "    return X.squeeze().str.split(\", \", expand=True)[1].str.split(\".\", expand=True)[0].values.reshape(-1,1)\n",
    "\n",
    "class TitleExtractor(BaseEstimator, TransformerMixin):\n",
    "\n",
    "    def fit(self, X, y=None):\n",
    "        return self\n",
    "\n",
    "    def transform(self, X, y=None):\n",
    "        return get_title(X)\n",
    "\n",
    "    def get_feature_names_out(self, input_features=None):\n",
    "        return ['title']\n",
    "\n",
    "\n",
    "pipeline_age_fare = Pipeline([\n",
    "    ('imp', KNNImputer(n_neighbors=5) ),\n",
    "    ('scaler', StandardScaler() )\n",
    "])\n",
    "\n",
    "pipeline_sex_embarked = Pipeline([\n",
    "    ('imp', SimpleImputer(strategy='most_frequent')),\n",
    "    ('hot', OneHotEncoder(categories='auto',drop='first',handle_unknown='ignore'))\n",
    "])\n",
    "\n",
    "pipeline_name = Pipeline([\n",
    "    ('custom', TitleExtractor()),\n",
    "    ('hot', OneHotEncoder(categories='auto',drop='first',handle_unknown='ignore'))\n",
    "])\n",
    "\n",
    "final_transformation = ColumnTransformer(transformers=[\n",
    "    ('age_fare', pipeline_age_fare ,['age','fare'] ),\n",
    "    ('pclass', OrdinalEncoder(categories=[[1.0,2.0,3.0]]) ,['pclass'] ),\n",
    "    ('sex_embarked', pipeline_sex_embarked, ['sex','embarked'] ),\n",
    "    ('alone', AloneTransformer() , ['sibsp','parch']),\n",
    "    ('title', pipeline_name, ['name'] )\n",
    "],\n",
    "remainder='drop',\n",
    "verbose_feature_names_out=False,\n",
    "sparse_threshold=0 #return dense matrix\n",
    ")\n",
    "\n",
    "# Note that we are not applying the transformer yet!!"
   ],
   "id": "f623cf1977e5606b",
   "outputs": [],
   "execution_count": 6
  },
  {
   "metadata": {
    "ExecuteTime": {
     "end_time": "2025-05-09T09:00:43.595183Z",
     "start_time": "2025-05-09T09:00:43.577648Z"
    }
   },
   "cell_type": "code",
   "source": [
    "# 2. Train and Test Split\n",
    "\n",
    "X_train, X_test, y_train, y_test = train_test_split(X, y, test_size=0.2, stratify = y, random_state=30, shuffle=True)"
   ],
   "id": "7ec207aeed21b6f6",
   "outputs": [],
   "execution_count": 7
  },
  {
   "metadata": {
    "ExecuteTime": {
     "end_time": "2025-05-09T09:01:13.460308Z",
     "start_time": "2025-05-09T09:01:13.456504Z"
    }
   },
   "cell_type": "code",
   "source": [
    "# 3. Build the entire pipeline\n",
    "\n",
    "model_pipeline = IMBPipeline([\n",
    "    ('trans', final_transformation),\n",
    "    ('sampler', SMOTE()),\n",
    "    ('dim_reduction', PCA(n_components=0.8)),\n",
    "    ('classifier', Perceptron()) # Algoritmo di Apprendimento\n",
    "])\n",
    "\n",
    "\"\"\"\n",
    "Teoricamente, è parte della Pipeline anche la Trasformazione.\n",
    "Posso portarla fuori se voglio ottimizzarla, dato che l'esito\n",
    "è sempre quello - ma devo ricordarmi di eseguirla con\n",
    "final_transformation.fit_transform(X_train)\n",
    "\"\"\""
   ],
   "id": "c6ce03db0e57a61e",
   "outputs": [],
   "execution_count": 8
  },
  {
   "metadata": {},
   "cell_type": "code",
   "source": [
    "# 4. Model Selection\n",
    "\n",
    "\"\"\"\n",
    "A questo punto tocca capire quale siano gli Hyper-parametri\n",
    "più adeguati.\n",
    "Usiamo l'approccio Cross-Validation.\n",
    "> Il suo obiettivo è prevenire Overfitting (performance\n",
    "pessime nel test ma buone nel training) e Underfitting (performance\n",
    "pessime anche sul train set)\n",
    "\n",
    "L'idea è di splittare ulteriormente il Training Set in Training Set e\n",
    "Validation Set.\n",
    "Il Validation Set serve a valutare gli iper parametri scelti\n",
    "durante il training, ovvero le diverse configurazioni per il modello.\n",
    "\n",
    "Ad esempio, potrei avere 100mila configurazioni per il modello\n",
    "> Li addestro tutti sul Training Set\n",
    "> Li valido tutti sul Validation Set\n",
    "> Tengo solo quelli che non Underfittano e non Overfittano. Su questi faccio il Training sull'intero Train+Validation Set.\n",
    "> Poi li testo tutti sul Test Set e prendo il migliore\n",
    "\n",
    "Esistono approcci più complicati, ad esempio testando su diversi split\n",
    "la configurazione e scegliendo quello che performa meglio MEDIAMENTE.\n",
    "\n",
    "CROSS VALIDATION CON K-FOLD\n",
    "- Divido il Training Set in k insiemi disgiunti, più o meno di uguale\n",
    "  dimensione (si chiamano FOLD). Prima di farlo mischio i dati per\n",
    "  forzare l'ipotesi IID.\n",
    "- Uso k-1 fold come reale Training Set e il rimanente 1 per Validation\n",
    "  Set.\n",
    "- Addestro un modello per ogni split, testandone le prestazioni su\n",
    "  tale split. Ottengo k valori di performance\n",
    "\n",
    "\n",
    "\n",
    "\n",
    "\n",
    "\"\"\"\n",
    "\n"
   ],
   "id": "e6edcf8030ae1108",
   "outputs": [],
   "execution_count": null
  },
  {
   "metadata": {},
   "cell_type": "code",
   "source": [
    "\"\"\"\n",
    "LEARNING E VALIDATION CURVE\n",
    "\n",
    "Faccio il traning in batch:\n",
    "- Sul primo batch misura Accuracy su training e validation set.\n",
    "  Inizialmente per il training set sarà massima, perché su pochi sample è facile il fitting. Viceversa vale per il validation set.\n",
    "- Aumento il numero di samples (passo un altro batch). Faccio lo stesso.\n",
    "\n",
    "Un buon bias-variance trade-off fa sì che le curve si stringano sulla desired accuracy.\n",
    "\n",
    "\n",
    "Questo è un modo per capire Overfitting o Underfitting.\n",
    "\n",
    "Un modo per risolverli è di cambiare i parametri del modello (ridurre il numero).\n",
    "\"\"\""
   ],
   "id": "70fb30ef3ecb49d",
   "outputs": [],
   "execution_count": null
  },
  {
   "metadata": {},
   "cell_type": "code",
   "outputs": [],
   "execution_count": null,
   "source": "",
   "id": "37ad2158705aa79f"
  }
 ],
 "metadata": {
  "kernelspec": {
   "display_name": "Python 3",
   "language": "python",
   "name": "python3"
  },
  "language_info": {
   "codemirror_mode": {
    "name": "ipython",
    "version": 2
   },
   "file_extension": ".py",
   "mimetype": "text/x-python",
   "name": "python",
   "nbconvert_exporter": "python",
   "pygments_lexer": "ipython2",
   "version": "2.7.6"
  }
 },
 "nbformat": 4,
 "nbformat_minor": 5
}
