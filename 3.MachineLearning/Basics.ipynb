{
 "cells": [
  {
   "cell_type": "code",
   "id": "initial_id",
   "metadata": {
    "collapsed": true,
    "ExecuteTime": {
     "end_time": "2025-04-11T09:18:24.085083Z",
     "start_time": "2025-04-11T09:18:24.080572Z"
    }
   },
   "source": [
    "import sklearn\n",
    "import numpy as np\n",
    "import pandas as pd\n",
    "import matplotlib as mpl\n",
    "import scipy as sp\n",
    "from sklearn.impute import SimpleImputer\n",
    "from sklearn.preprocessing import StandardScaler, MinMaxScaler, OrdinalEncoder, OneHotEncoder\n",
    "from sklearn.compose import ColumnTransformer\n",
    "from sklearn.pipeline import Pipeline\n",
    "from sklearn.impute import SimpleImputer\n",
    "from sklearn.preprocessing import OrdinalEncoder, OneHotEncoder"
   ],
   "outputs": [],
   "execution_count": 30
  },
  {
   "metadata": {
    "ExecuteTime": {
     "end_time": "2025-04-11T09:02:27.529948Z",
     "start_time": "2025-04-11T09:02:27.515685Z"
    }
   },
   "cell_type": "code",
   "source": "playground = pd.read_csv('../data/playground/playground.csv')",
   "id": "de5c861d7828d554",
   "outputs": [],
   "execution_count": 16
  },
  {
   "metadata": {
    "ExecuteTime": {
     "end_time": "2025-04-11T09:07:17.892475Z",
     "start_time": "2025-04-11T09:07:17.883662Z"
    }
   },
   "cell_type": "code",
   "source": [
    "# Pulizia del Dataset\n",
    "\n",
    "#1. Remove missing values\n",
    "playground = (playground\n",
    "              .dropna(thresh=6000,axis=1) #axis=1 means by columns (remove the ones with 6000 nulls)\n",
    "              .dropna(axis=0,how='all') #remove all rows (axis=0) that have only null values)\n",
    "              )"
   ],
   "id": "5da747d6d78eac9e",
   "outputs": [],
   "execution_count": 22
  },
  {
   "metadata": {
    "ExecuteTime": {
     "end_time": "2025-04-11T09:07:35.580379Z",
     "start_time": "2025-04-11T09:07:35.571380Z"
    }
   },
   "cell_type": "code",
   "source": "playground.info() # Non è totalmente pulito ma ci accontentiamo (gestiremo i missing values nella creazione della feature matrix)",
   "id": "b11fb4d942844328",
   "outputs": [
    {
     "name": "stdout",
     "output_type": "stream",
     "text": [
      "<class 'pandas.core.frame.DataFrame'>\n",
      "Index: 9990 entries, 0 to 9999\n",
      "Data columns (total 7 columns):\n",
      " #   Column           Non-Null Count  Dtype  \n",
      "---  ------           --------------  -----  \n",
      " 0   age              9990 non-null   float64\n",
      " 1   length_screw     9970 non-null   float64\n",
      " 2   diameter         9990 non-null   float64\n",
      " 3   hammer_strength  9970 non-null   float64\n",
      " 4   rank             9990 non-null   object \n",
      " 5   size             9950 non-null   object \n",
      " 6   country          9990 non-null   object \n",
      "dtypes: float64(4), object(3)\n",
      "memory usage: 624.4+ KB\n"
     ]
    }
   ],
   "execution_count": 24
  },
  {
   "metadata": {
    "ExecuteTime": {
     "end_time": "2025-04-11T09:12:41.517242Z",
     "start_time": "2025-04-11T09:12:41.501082Z"
    }
   },
   "cell_type": "code",
   "source": [
    "# 2. Uso Imputer per riempire quel che manca\n",
    "\n",
    "si = SimpleImputer(strategy='most_frequent')\n",
    "playground[['size']] = si.fit_transform(playground[['size']])\n",
    "\n",
    "si_mean = SimpleImputer(strategy='mean')\n",
    "playground[['length_screw','hammer_strength']] = si_mean.fit_transform(playground[['length_screw','hammer_strength']])"
   ],
   "id": "6bf528376a0984ad",
   "outputs": [],
   "execution_count": 28
  },
  {
   "metadata": {
    "ExecuteTime": {
     "end_time": "2025-04-11T09:12:42.323582Z",
     "start_time": "2025-04-11T09:12:42.315189Z"
    }
   },
   "cell_type": "code",
   "source": "playground.info() # Now everything is full 9990/9990",
   "id": "188017313e6bc70e",
   "outputs": [
    {
     "name": "stdout",
     "output_type": "stream",
     "text": [
      "<class 'pandas.core.frame.DataFrame'>\n",
      "Index: 9990 entries, 0 to 9999\n",
      "Data columns (total 7 columns):\n",
      " #   Column           Non-Null Count  Dtype  \n",
      "---  ------           --------------  -----  \n",
      " 0   age              9990 non-null   float64\n",
      " 1   length_screw     9990 non-null   float64\n",
      " 2   diameter         9990 non-null   float64\n",
      " 3   hammer_strength  9990 non-null   float64\n",
      " 4   rank             9990 non-null   object \n",
      " 5   size             9990 non-null   object \n",
      " 6   country          9990 non-null   object \n",
      "dtypes: float64(4), object(3)\n",
      "memory usage: 624.4+ KB\n"
     ]
    }
   ],
   "execution_count": 29
  },
  {
   "metadata": {
    "ExecuteTime": {
     "end_time": "2025-04-11T09:26:28.496985Z",
     "start_time": "2025-04-11T09:26:28.473856Z"
    }
   },
   "cell_type": "code",
   "source": [
    "# Handling Categorical Data (transform categorical features into numbers)\n",
    "\n",
    "# Approccio 1: OneHotEncoder (1 nuova feature x categoria)\n",
    "# Approccio 2: OrdinalEncoder (ordina e numera categorie)\n",
    "\n",
    "oe_size = OrdinalEncoder(categories = [['S','XXL','L','XL','M']])\n",
    "oe_size.fit_transform(playground[['size']])\n",
    "oe_rank = OrdinalEncoder(categories = [['bad','medium','good','perfect']])\n",
    "oe_rank.fit_transform(playground[['rank']]), playground['rank']\n",
    "\n",
    "ohe_country = OneHotEncoder()\n",
    "temp = ohe_country.fit_transform(playground[['country']]).toarray()\n",
    "names = ohe_country.get_feature_names_out()\n",
    "playground[list(names)] = temp\n"
   ],
   "id": "63571fc8287172cd",
   "outputs": [],
   "execution_count": 32
  },
  {
   "metadata": {
    "ExecuteTime": {
     "end_time": "2025-04-11T09:26:37.259446Z",
     "start_time": "2025-04-11T09:26:37.248361Z"
    }
   },
   "cell_type": "code",
   "source": "playground.info() # All data is float64 (NO STRINGS :))",
   "id": "54c7f009df581e1d",
   "outputs": [
    {
     "name": "stdout",
     "output_type": "stream",
     "text": [
      "<class 'pandas.core.frame.DataFrame'>\n",
      "Index: 9990 entries, 0 to 9999\n",
      "Data columns (total 14 columns):\n",
      " #   Column           Non-Null Count  Dtype  \n",
      "---  ------           --------------  -----  \n",
      " 0   age              9990 non-null   float64\n",
      " 1   length_screw     9990 non-null   float64\n",
      " 2   diameter         9990 non-null   float64\n",
      " 3   hammer_strength  9990 non-null   float64\n",
      " 4   rank             9990 non-null   object \n",
      " 5   size             9990 non-null   object \n",
      " 6   country          9990 non-null   object \n",
      " 7   country_Austria  9990 non-null   float64\n",
      " 8   country_Canada   9990 non-null   float64\n",
      " 9   country_Denmark  9990 non-null   float64\n",
      " 10  country_France   9990 non-null   float64\n",
      " 11  country_Germany  9990 non-null   float64\n",
      " 12  country_Italy    9990 non-null   float64\n",
      " 13  country_Spain    9990 non-null   float64\n",
      "dtypes: float64(11), object(3)\n",
      "memory usage: 1.1+ MB\n"
     ]
    }
   ],
   "execution_count": 33
  },
  {
   "metadata": {
    "ExecuteTime": {
     "end_time": "2025-04-11T09:29:57.145555Z",
     "start_time": "2025-04-11T09:29:57.135239Z"
    }
   },
   "cell_type": "code",
   "source": [
    "# Feature Scaling (all features in a [0, 1] or [-1, 1] interval)\n",
    "\n",
    "# Approccio 1: MinMaxScaler (il min è 0, il max è 1)\n",
    "# Approccio 2: StandardScaler (normalizzazione tipo Gaussiana, il 99% dei valori è tra -3 e 3)\n",
    "\n",
    "mm_scaler = MinMaxScaler()\n",
    "mm_scaler.fit_transform(playground[['age']])\n",
    "sscaler = StandardScaler()\n",
    "sscaler.fit_transform(playground[['length_screw','diameter','hammer_strength']])\n"
   ],
   "id": "4b31cda3fc2e1665",
   "outputs": [
    {
     "data": {
      "text/plain": [
       "array([[ 0.48064018,  0.38789898,  0.31349256],\n",
       "       [-1.53966089, -1.71031482, -1.80210112],\n",
       "       [ 0.5378606 , -0.56908024, -0.48523749],\n",
       "       ...,\n",
       "       [-1.11501183, -0.8439075 , -0.97529103],\n",
       "       [ 0.17211597, -0.95371625, -0.98247117],\n",
       "       [-0.07080558,  0.51831827,  0.40172249]], shape=(9990, 3))"
      ]
     },
     "execution_count": 35,
     "metadata": {},
     "output_type": "execute_result"
    }
   ],
   "execution_count": 35
  },
  {
   "metadata": {},
   "cell_type": "code",
   "outputs": [],
   "execution_count": null,
   "source": "# The Dataset is finally Nice and Numeric",
   "id": "3bf34e29c94d996a"
  }
 ],
 "metadata": {
  "kernelspec": {
   "display_name": "Python 3",
   "language": "python",
   "name": "python3"
  },
  "language_info": {
   "codemirror_mode": {
    "name": "ipython",
    "version": 2
   },
   "file_extension": ".py",
   "mimetype": "text/x-python",
   "name": "python",
   "nbconvert_exporter": "python",
   "pygments_lexer": "ipython2",
   "version": "2.7.6"
  }
 },
 "nbformat": 4,
 "nbformat_minor": 5
}
