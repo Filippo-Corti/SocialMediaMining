{
 "cells": [
  {
   "metadata": {},
   "cell_type": "markdown",
   "source": "# Python Cookbook per Social Media Analyst",
   "id": "ab7478601480b218"
  },
  {
   "metadata": {},
   "cell_type": "code",
   "source": [
    "import httpx\n",
    "import json"
   ],
   "id": "f58ac98137332ec3",
   "outputs": [],
   "execution_count": null
  },
  {
   "metadata": {},
   "cell_type": "code",
   "source": [
    "response = httpx.get(\n",
    "    url=\"http://158.180.229.241:7550/posts/post\",\n",
    "    params={\n",
    "        'response_type': 'json',\n",
    "    }\n",
    ")\n",
    "\n",
    "data = response.json()\n",
    "\n",
    "print(data['creator'])"
   ],
   "id": "964d2b86ea42eed4",
   "outputs": [],
   "execution_count": null
  },
  {
   "metadata": {},
   "cell_type": "code",
   "source": [
    "# Write on File\n",
    "\n",
    "json.dump(data, open('data/post.json', 'w'))\n",
    "\n",
    "# Read from File\n",
    "\n",
    "loaded = json.load(open('data/post.json'))\n",
    "print(loaded['location'])"
   ],
   "id": "df41d6098ecfc351",
   "outputs": [],
   "execution_count": null
  },
  {
   "metadata": {},
   "cell_type": "code",
   "source": [
    "# Tokenization\n",
    "\n",
    "tokens = data['text'].split()\n",
    "\n",
    "tokens"
   ],
   "id": "7bef5c6fe9af37c0",
   "outputs": [],
   "execution_count": null
  },
  {
   "metadata": {},
   "cell_type": "markdown",
   "source": "# OAuth 2.0 in Python",
   "id": "3e5d9955cc202c16"
  },
  {
   "metadata": {},
   "cell_type": "code",
   "source": [
    "import httpx\n",
    "import json"
   ],
   "id": "c25ea7611d0188c8",
   "outputs": [],
   "execution_count": null
  },
  {
   "metadata": {},
   "cell_type": "code",
   "source": "url_server = \"http://158.180.229.241:7550\"",
   "id": "c9bd2549d3503e93",
   "outputs": [],
   "execution_count": null
  },
  {
   "metadata": {},
   "cell_type": "markdown",
   "source": "#### 1. Request Client Credentials",
   "id": "e01b46d33b515e62"
  },
  {
   "metadata": {},
   "cell_type": "code",
   "source": [
    "credentials_response = httpx.put(\n",
    "    url=f\"{url_server}/auth/register\",\n",
    ")\n",
    "\n",
    "credentials = credentials_response.json()\n",
    "\n",
    "# Write credentials on file\n",
    "json.dump(credentials, open('data/app_credentials.json', 'w'))\n",
    "\n",
    "credentials"
   ],
   "id": "2084adcf15eaab91",
   "outputs": [],
   "execution_count": null
  },
  {
   "metadata": {},
   "cell_type": "markdown",
   "source": "#### 2. Use Credentials to require Access Token",
   "id": "628e201dd1c98688"
  },
  {
   "metadata": {},
   "cell_type": "code",
   "source": [
    "credentials = json.load(open('data/app_credentials.json'))\n",
    "\n",
    "token_response = httpx.post(\n",
    "    url=f\"{url_server}/auth/token\",\n",
    "    auth=(\n",
    "        credentials['client_id'],\n",
    "        credentials['client_secret'],\n",
    "    ),\n",
    "    data={\n",
    "        'grant_type': 'client_credentials'\n",
    "    }\n",
    ")\n",
    "\n",
    "access_token = token_response.json()['access_token']\n",
    "\n",
    "access_token"
   ],
   "id": "84250d4d79b258a3",
   "outputs": [],
   "execution_count": null
  },
  {
   "metadata": {},
   "cell_type": "markdown",
   "source": "#### 3. Use Access Token in an HTTP Request",
   "id": "bc4b03545131f044"
  },
  {
   "metadata": {},
   "cell_type": "code",
   "source": [
    "auth_header = {\n",
    "    'Authorization': f'Bearer {access_token}'\n",
    "}"
   ],
   "id": "e1f62723e6865f59",
   "outputs": [],
   "execution_count": null
  },
  {
   "metadata": {},
   "cell_type": "code",
   "source": [
    "post_response = httpx.get(\n",
    "    url=f\"{url_server}/posts/auth_post\",\n",
    "    headers=auth_header\n",
    ")\n",
    "\n",
    "post_data = post_response.json()\n",
    "\n",
    "post_data"
   ],
   "id": "79c2df09d73b20a5",
   "outputs": [],
   "execution_count": null
  },
  {
   "metadata": {},
   "cell_type": "code",
   "source": "",
   "id": "5551b41422b0add4",
   "outputs": [],
   "execution_count": null
  }
 ],
 "metadata": {
  "kernelspec": {
   "display_name": "Python 3",
   "language": "python",
   "name": "python3"
  },
  "language_info": {
   "codemirror_mode": {
    "name": "ipython",
    "version": 2
   },
   "file_extension": ".py",
   "mimetype": "text/x-python",
   "name": "python",
   "nbconvert_exporter": "python",
   "pygments_lexer": "ipython2",
   "version": "2.7.6"
  }
 },
 "nbformat": 4,
 "nbformat_minor": 5
}
