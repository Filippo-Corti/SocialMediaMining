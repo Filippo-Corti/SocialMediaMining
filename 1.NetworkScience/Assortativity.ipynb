{
 "cells": [
  {
   "cell_type": "code",
   "id": "initial_id",
   "metadata": {
    "collapsed": true,
    "ExecuteTime": {
     "end_time": "2025-04-17T13:49:51.545551Z",
     "start_time": "2025-04-17T13:49:50.909477Z"
    }
   },
   "source": [
    "from collections import Counter\n",
    "import networkx as nx\n",
    "from matplotlib import pyplot as plt\n",
    "import seaborn as sns\n",
    "import pandas as pd\n",
    "\n",
    "def draw_little_network(g,color_for_nodes,layout = nx.circular_layout, ns = 250 ):\n",
    "    plt.figure(figsize = (2,2))\n",
    "    nx.draw_networkx(g,layout(g) ,with_labels = True,\n",
    "                     node_color=[color_for_nodes[n] for n in g.nodes()], edge_color = 'grey',\n",
    "                    node_size = ns)\n",
    "    plt.axis('off')\n",
    "    plt.show()"
   ],
   "outputs": [],
   "execution_count": 1
  },
  {
   "metadata": {},
   "cell_type": "code",
   "outputs": [],
   "execution_count": null,
   "source": "",
   "id": "e420bf2b98cc8347"
  }
 ],
 "metadata": {
  "kernelspec": {
   "display_name": "Python 3",
   "language": "python",
   "name": "python3"
  },
  "language_info": {
   "codemirror_mode": {
    "name": "ipython",
    "version": 2
   },
   "file_extension": ".py",
   "mimetype": "text/x-python",
   "name": "python",
   "nbconvert_exporter": "python",
   "pygments_lexer": "ipython2",
   "version": "2.7.6"
  }
 },
 "nbformat": 4,
 "nbformat_minor": 5
}
