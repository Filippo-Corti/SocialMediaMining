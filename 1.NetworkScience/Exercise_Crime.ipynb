{
 "cells": [
  {
   "cell_type": "code",
   "id": "initial_id",
   "metadata": {
    "ExecuteTime": {
     "end_time": "2025-05-08T15:35:07.748053Z",
     "start_time": "2025-05-08T15:35:05.206835Z"
    }
   },
   "source": [
    "import networkx as nx\n",
    "import networkx.algorithms.community as nx_comm\n",
    "import matplotlib.pyplot as plt\n",
    "import pickle\n",
    "from collections import defaultdict, Counter\n",
    "import numpy as np\n",
    "from statsmodels.distributions.empirical_distribution import ECDF\n",
    "from networkx.algorithms import bipartite\n",
    "from community import community_louvain"
   ],
   "outputs": [],
   "execution_count": 1
  },
  {
   "cell_type": "markdown",
   "id": "931c754a690e6e80",
   "metadata": {},
   "source": [
    "### FASE 1: COSTRUZIONE\n",
    "\n",
    "* creare un grafo bipartito dalla edge list in ./data/crime/out.moreno_crime_crime\n",
    "ATTENZIONE!! bisogna dividere i nodi people dai nodi crime perchè l'edge (1,1) non è un self loop ma indica che il primo nodo persona è legato al primo nodo crime, serve un mapping dei nodi!\n",
    "* aggiungere ai nodi l'attributo 'name' dal file ./data/crime/ent.moreno_crime_crime.person.name\n",
    "* aggiungere agli archi l'attributo 'crime-role' dal file ./data/crime/rel.moreno_crime_crime.person.role\n",
    "\n",
    "* fare una proiezione sul piano delle persone: esiste un link tra due persone sse sono stati coinvolti in almeno un caso insieme. Mettere come peso il numero di crimini in comune. (potrebbe esistere una soluzione facile da nx)"
   ]
  },
  {
   "cell_type": "code",
   "id": "10aa1fc7e57c404f",
   "metadata": {
    "ExecuteTime": {
     "end_time": "2025-05-08T15:35:10.382186Z",
     "start_time": "2025-05-08T15:35:10.360327Z"
    }
   },
   "source": [
    "edges = list(open(\"../data/crime/out.moreno_crime_crime\", 'r'))\n",
    "\n",
    "bipartite_edge_list = [\n",
    "    # Nodes are pX for people and cX for crime\n",
    "    (f\"p{line.split()[0]}\", f\"c{line.split()[1]}\")\n",
    "    for line in edges[2:]\n",
    "]\n",
    "\n",
    "G = nx.Graph()\n",
    "\n",
    "people = {u for u, v in bipartite_edge_list}\n",
    "crime = {v for u, v in bipartite_edge_list}\n",
    "\n",
    "# Add nodes with bipartite labels\n",
    "G.add_nodes_from(people, bipartite=0)\n",
    "G.add_nodes_from(crime, bipartite=1)\n",
    "\n",
    "G.add_edges_from(bipartite_edge_list)\n",
    "\n",
    "bipartite.is_bipartite(G)"
   ],
   "outputs": [
    {
     "data": {
      "text/plain": [
       "True"
      ]
     },
     "execution_count": 2,
     "metadata": {},
     "output_type": "execute_result"
    }
   ],
   "execution_count": 2
  },
  {
   "cell_type": "code",
   "id": "8bdd6e0a3629c83b",
   "metadata": {
    "ExecuteTime": {
     "end_time": "2025-05-08T15:35:11.709372Z",
     "start_time": "2025-05-08T15:35:11.702846Z"
    }
   },
   "source": [
    "names = open(\"../data/crime/ent.moreno_crime_crime.person.name\")\n",
    "names = {\n",
    "    f'p{idx}': name.strip()\n",
    "    for idx, name in enumerate(names, start=1)\n",
    "}\n",
    "\n",
    "nx.set_node_attributes(G, names, 'name')"
   ],
   "outputs": [],
   "execution_count": 3
  },
  {
   "cell_type": "code",
   "id": "ab9d26f78d3b3d4c",
   "metadata": {
    "ExecuteTime": {
     "end_time": "2025-05-08T15:35:13.167655Z",
     "start_time": "2025-05-08T15:35:13.161220Z"
    }
   },
   "source": [
    "roles = open(\"../data/crime/rel.moreno_crime_crime.person.role\")\n",
    "roles = {\n",
    "    bipartite_edge_list[idx] : role.strip()\n",
    "    for idx, role in enumerate(roles, start=0)\n",
    "}\n",
    "\n",
    "nx.set_edge_attributes(G, roles, 'crime-role')"
   ],
   "outputs": [],
   "execution_count": 4
  },
  {
   "cell_type": "code",
   "id": "219bfeba40ab9c3e",
   "metadata": {
    "ExecuteTime": {
     "end_time": "2025-05-08T15:35:15.429662Z",
     "start_time": "2025-05-08T15:35:15.408502Z"
    }
   },
   "source": "G_people = bipartite.weighted_projected_graph(G, people, ratio=False)",
   "outputs": [],
   "execution_count": 5
  },
  {
   "cell_type": "markdown",
   "id": "4cd578d7c228ba2f",
   "metadata": {},
   "source": [
    "### FASE 2: ANALISI BIPARTITO\n",
    "\n",
    "* Quante persone includono i crimini in media?\n",
    "* In quanti crimini sono incluse le persone in media?\n",
    "* In quanti crimini sono incluse le persone in media essendo witness?\n",
    "* In media, quanti ruoli hanno le persone?\n",
    "* Quanto spesso le persone hanno un ruolo solo? ( oppure, più difficile, il ruolo ricoperto più spesso dalle singole persone che percentula copre?)"
   ]
  },
  {
   "cell_type": "code",
   "id": "3ca39199fc5291ea",
   "metadata": {
    "ExecuteTime": {
     "end_time": "2025-04-18T10:27:16.162089Z",
     "start_time": "2025-04-18T10:27:16.155952Z"
    }
   },
   "source": [
    "crime_degrees = [G.degree(n) for n in crime]\n",
    "avg_people_per_crime = np.mean(crime_degrees)\n",
    "\n",
    "avg_people_per_crime"
   ],
   "outputs": [
    {
     "data": {
      "text/plain": [
       "np.float64(2.678765880217786)"
      ]
     },
     "execution_count": 103,
     "metadata": {},
     "output_type": "execute_result"
    }
   ],
   "execution_count": 103
  },
  {
   "cell_type": "code",
   "id": "4346179b5403918d",
   "metadata": {
    "ExecuteTime": {
     "end_time": "2025-04-18T10:27:16.995062Z",
     "start_time": "2025-04-18T10:27:16.988021Z"
    }
   },
   "source": [
    "people_degrees = [G.degree(n) for n in people]\n",
    "avg_crime_per_people = np.mean(people_degrees)\n",
    "\n",
    "avg_crime_per_people"
   ],
   "outputs": [
    {
     "data": {
      "text/plain": [
       "np.float64(1.7804583835946923)"
      ]
     },
     "execution_count": 104,
     "metadata": {},
     "output_type": "execute_result"
    }
   ],
   "execution_count": 104
  },
  {
   "cell_type": "code",
   "id": "64b5923583ac13f0",
   "metadata": {
    "ExecuteTime": {
     "end_time": "2025-04-18T10:27:19.084088Z",
     "start_time": "2025-04-18T10:27:19.071671Z"
    }
   },
   "source": [
    "witness_degrees = [\n",
    "    len(list( # Count all edges that have an attribute Witness, for the node n\n",
    "        edge\n",
    "        for edge in G.edges(n, data=True)\n",
    "        if edge[2]['crime-role'] == 'Witness'\n",
    "    ))\n",
    "    for n in people\n",
    "]\n",
    "witness_degrees = [x for x in witness_degrees if x != 0] # Filter out zero\n",
    "avg_crime_per_witness = np.mean(witness_degrees)\n",
    "\n",
    "avg_crime_per_witness"
   ],
   "outputs": [
    {
     "data": {
      "text/plain": [
       "np.float64(1.0317460317460319)"
      ]
     },
     "execution_count": 105,
     "metadata": {},
     "output_type": "execute_result"
    }
   ],
   "execution_count": 105
  },
  {
   "cell_type": "code",
   "id": "4a029c4aa6a287d2",
   "metadata": {
    "ExecuteTime": {
     "end_time": "2025-04-18T10:27:20.370851Z",
     "start_time": "2025-04-18T10:27:20.360062Z"
    }
   },
   "source": [
    "roles_per_person = [\n",
    "    len(set( # Count the different crime-roles from the people's edges\n",
    "        edge[2]['crime-role']\n",
    "        for edge in G.edges(n, data=True)\n",
    "    ))\n",
    "    for n in people\n",
    "]\n",
    "\n",
    "avg_roles_per_person = np.mean(roles_per_person)\n",
    "\n",
    "avg_roles_per_person\n"
   ],
   "outputs": [
    {
     "data": {
      "text/plain": [
       "np.float64(1.218335343787696)"
      ]
     },
     "execution_count": 106,
     "metadata": {},
     "output_type": "execute_result"
    }
   ],
   "execution_count": 106
  },
  {
   "cell_type": "code",
   "id": "d0de075db99f38f6",
   "metadata": {
    "ExecuteTime": {
     "end_time": "2025-04-18T10:27:21.623403Z",
     "start_time": "2025-04-18T10:27:21.618753Z"
    }
   },
   "source": [
    "one_role_people = len(list(\n",
    "    x\n",
    "    for x in roles_per_person\n",
    "    if x == 1\n",
    "))\n",
    "\n",
    "one_role_people"
   ],
   "outputs": [
    {
     "data": {
      "text/plain": [
       "682"
      ]
     },
     "execution_count": 107,
     "metadata": {},
     "output_type": "execute_result"
    }
   ],
   "execution_count": 107
  },
  {
   "cell_type": "code",
   "id": "a25f777350ad1e37",
   "metadata": {
    "ExecuteTime": {
     "end_time": "2025-04-18T10:27:22.340412Z",
     "start_time": "2025-04-18T10:27:22.333902Z"
    }
   },
   "source": [
    "roles_distribution = Counter(roles.values())\n",
    "print(roles_distribution)\n",
    "\n",
    "roles_distribution.most_common(1)[0][1] / roles_distribution.total()"
   ],
   "outputs": [
    {
     "name": "stdout",
     "output_type": "stream",
     "text": [
      "Counter({'Suspect': 682, 'Victim': 558, 'Witness': 195, 'Victim Suspect': 41})\n"
     ]
    },
    {
     "data": {
      "text/plain": [
       "0.462059620596206"
      ]
     },
     "execution_count": 108,
     "metadata": {},
     "output_type": "execute_result"
    }
   ],
   "execution_count": 108
  },
  {
   "cell_type": "markdown",
   "id": "461632576d5b7134",
   "metadata": {},
   "source": [
    "### FASE 3: ANALISI PROJECTED\n",
    "\n",
    "* qual è la densità del grafo?\n",
    "* il grafo è connesso?\n",
    "* assegnando come ruole ad ogni nodo quello che assume più frequentemente, che ruole hanna maggiormente i 100 top nodi per degree centrality?"
   ]
  },
  {
   "cell_type": "code",
   "id": "6c442e4e61663606",
   "metadata": {
    "ExecuteTime": {
     "end_time": "2025-04-18T10:27:25.247787Z",
     "start_time": "2025-04-18T10:27:25.241466Z"
    }
   },
   "source": "nx.density(G_people)",
   "outputs": [
    {
     "data": {
      "text/plain": [
       "0.0065645705494659186"
      ]
     },
     "execution_count": 109,
     "metadata": {},
     "output_type": "execute_result"
    }
   ],
   "execution_count": 109
  },
  {
   "cell_type": "code",
   "id": "3969c5e74d24e1a5",
   "metadata": {
    "ExecuteTime": {
     "end_time": "2025-04-18T10:27:25.821211Z",
     "start_time": "2025-04-18T10:27:25.815036Z"
    }
   },
   "source": [
    "nx.is_connected(G_people)"
   ],
   "outputs": [
    {
     "data": {
      "text/plain": [
       "False"
      ]
     },
     "execution_count": 110,
     "metadata": {},
     "output_type": "execute_result"
    }
   ],
   "execution_count": 110
  },
  {
   "cell_type": "code",
   "id": "c652c69c83da191b",
   "metadata": {
    "ExecuteTime": {
     "end_time": "2025-04-18T10:31:07.377704Z",
     "start_time": "2025-04-18T10:31:07.355628Z"
    }
   },
   "source": [
    "degree_centrality = nx.degree_centrality(G_people)\n",
    "top_100_by_degree_centrality = {\n",
    "    x[0]\n",
    "    for x in sorted(degree_centrality.items(), key=lambda x: x[1], reverse=True)[:100]\n",
    "}\n",
    "\n",
    "most_frequent_role =  {\n",
    "    n: Counter( # Get the different crime-roles from the people's edges, then get the most common\n",
    "        edge[2]['crime-role']\n",
    "        for edge in G.edges(n, data=True)\n",
    "    ).most_common(1)[0][0]\n",
    "    for n in people\n",
    "}\n",
    "\n",
    "most_frequent_role_top_100 = {\n",
    "    n: v\n",
    "    for n, v in most_frequent_role.items()\n",
    "    if n in top_100_by_degree_centrality\n",
    "}\n",
    "\n",
    "nx.set_node_attributes(G_people, most_frequent_role, 'most-frequent-role')\n",
    "\n",
    "roles_counter = Counter(most_frequent_role_top_100.values())\n",
    "print(roles_counter)\n",
    "\n",
    "roles_counter.most_common(1)[0]"
   ],
   "outputs": [
    {
     "name": "stdout",
     "output_type": "stream",
     "text": [
      "Counter({'Suspect': 50, 'Victim': 41, 'Witness': 9})\n"
     ]
    },
    {
     "data": {
      "text/plain": [
       "('Suspect', 50)"
      ]
     },
     "execution_count": 128,
     "metadata": {},
     "output_type": "execute_result"
    }
   ],
   "execution_count": 128
  },
  {
   "metadata": {},
   "cell_type": "markdown",
   "source": [
    "### FASE 4: ASSORTATIVITY\n",
    "\n",
    "* (sul grafo proiettato) i nodi con lo stesso 'role' tendono a connettersi di più tra di loro? POCHISSIMO\n",
    "* (sul grafo proiettato) i nodi con alto degree tendono a connettersi con nodi ad alto degree? POCHISSIMO\n"
   ],
   "id": "e4bd88ca55859b4e"
  },
  {
   "metadata": {
    "ExecuteTime": {
     "end_time": "2025-04-18T10:31:27.320107Z",
     "start_time": "2025-04-18T10:31:27.297899Z"
    }
   },
   "cell_type": "code",
   "source": [
    "assortativity_by_role = nx.attribute_assortativity_coefficient(G_people, 'most-frequent-role')\n",
    "\n",
    "assortativity_by_role"
   ],
   "id": "d388c3cdab3d84fc",
   "outputs": [
    {
     "data": {
      "text/plain": [
       "0.18638009648071446"
      ]
     },
     "execution_count": 129,
     "metadata": {},
     "output_type": "execute_result"
    }
   ],
   "execution_count": 129
  },
  {
   "metadata": {
    "ExecuteTime": {
     "end_time": "2025-04-18T10:31:28.564435Z",
     "start_time": "2025-04-18T10:31:28.543880Z"
    }
   },
   "cell_type": "code",
   "source": [
    "assortativity_by_degree = nx.degree_assortativity_coefficient(G_people)\n",
    "\n",
    "assortativity_by_degree"
   ],
   "id": "f02f2adaabe8acef",
   "outputs": [
    {
     "data": {
      "text/plain": [
       "0.14880029587966767"
      ]
     },
     "execution_count": 130,
     "metadata": {},
     "output_type": "execute_result"
    }
   ],
   "execution_count": 130
  },
  {
   "metadata": {},
   "cell_type": "markdown",
   "source": [
    "### FASE 5: COMMUNITY\n",
    "\n",
    "* trova le community con l'algoritmo di Louvain\n",
    "* crea un plot che mostra la distribuzione dei nodi nelle commmunity\n",
    "* Calcola la coverage e la performance della partizione trovata\n",
    "* Assegna l'attributo \"community\" al grafo e salvala in .gexf\n"
   ],
   "id": "589d5dbef245f17b"
  },
  {
   "metadata": {
    "ExecuteTime": {
     "end_time": "2025-05-08T15:36:22.902523Z",
     "start_time": "2025-05-08T15:36:22.841012Z"
    }
   },
   "cell_type": "code",
   "source": [
    "communities_louvain = community_louvain.best_partition(G_people)\n",
    "community_ids = set(communities_louvain.values())\n",
    "\n",
    "communities = {\n",
    "    community_id: {\n",
    "        node for node, comm in communities_louvain.items()\n",
    "        if comm == community_id\n",
    "    }\n",
    "    for community_id in community_ids\n",
    "}\n",
    "\n",
    "print(community_ids)"
   ],
   "id": "bbabad2b74deaf1e",
   "outputs": [
    {
     "name": "stdout",
     "output_type": "stream",
     "text": [
      "{0, 1, 2, 3, 4, 5, 6, 7, 8, 9, 10, 11, 12, 13, 14, 15, 16, 17, 18, 19, 20, 21, 22, 23, 24, 25, 26, 27, 28, 29, 30, 31, 32, 33, 34, 35, 36, 37, 38, 39, 40, 41, 42, 43}\n"
     ]
    }
   ],
   "execution_count": 11
  },
  {
   "metadata": {
    "ExecuteTime": {
     "end_time": "2025-05-08T15:36:23.743110Z",
     "start_time": "2025-05-08T15:36:23.530176Z"
    }
   },
   "cell_type": "code",
   "source": [
    "comm_sizes = [(comm, len(nodes)) for comm, nodes in communities.items()]\n",
    "comm_sizes.sort(key = lambda x: x[1],reverse = True)\n",
    "\n",
    "plt.figure(figsize = (7,4))\n",
    "plt.bar(range(len(comm_sizes)), [x[1] for x in comm_sizes],width = 0.5, color = 'navy')\n",
    "plt.xticks(range(len(comm_sizes)), [x[0] for x in comm_sizes])\n",
    "plt.xlabel('community',size = 12, weight = 'bold')\n",
    "plt.ylabel('Nodes',size = 12, weight = 'bold')\n",
    "plt.show()"
   ],
   "id": "2c03d26146e1ef98",
   "outputs": [
    {
     "data": {
      "text/plain": [
       "<Figure size 700x400 with 1 Axes>"
      ],
      "image/png": "[encoded data removed]"
     },
     "metadata": {},
     "output_type": "display_data"
    }
   ],
   "execution_count": 12
  },
  {
   "metadata": {
    "ExecuteTime": {
     "end_time": "2025-05-08T15:37:04.939079Z",
     "start_time": "2025-05-08T15:37:04.933393Z"
    }
   },
   "cell_type": "code",
   "source": [
    "coverage, performance = nx_comm.partition_quality(\n",
    "    G_people,\n",
    "    communities.values()\n",
    ")\n",
    "\n",
    "print(f\"Coverage: {coverage}\")\n",
    "print(f\"Performance: {performance}\")"
   ],
   "id": "ef648c346b10216a",
   "outputs": [
    {
     "name": "stdout",
     "output_type": "stream",
     "text": [
      "Coverage: 0.948069241011984\n",
      "Performance: 0.95588946580188\n"
     ]
    }
   ],
   "execution_count": 14
  },
  {
   "metadata": {
    "ExecuteTime": {
     "end_time": "2025-05-08T15:42:03.116066Z",
     "start_time": "2025-05-08T15:42:03.111599Z"
    }
   },
   "cell_type": "code",
   "source": "nx.set_node_attributes(G_people, communities_louvain, 'community')",
   "id": "a8fae88cc80af6cd",
   "outputs": [],
   "execution_count": 22
  },
  {
   "metadata": {
    "ExecuteTime": {
     "end_time": "2025-05-08T15:42:04.124299Z",
     "start_time": "2025-05-08T15:42:04.071018Z"
    }
   },
   "cell_type": "code",
   "source": "nx.write_gexf(G_people, \"../data/crime/G_people.gexf\")",
   "id": "9dfefba6485ac70d",
   "outputs": [],
   "execution_count": 23
  },
  {
   "metadata": {},
   "cell_type": "markdown",
   "source": "![Graph Image](../data/crime/CrimeGraph.png)",
   "id": "37d5e89765dc93a5"
  },
  {
   "metadata": {},
   "cell_type": "code",
   "outputs": [],
   "execution_count": null,
   "source": "",
   "id": "7bd0abe16832aae0"
  }
 ],
 "metadata": {
  "kernelspec": {
   "display_name": "Python 3 (ipykernel)",
   "language": "python",
   "name": "python3"
  },
  "language_info": {
   "codemirror_mode": {
    "name": "ipython",
    "version": 3
   },
   "file_extension": ".py",
   "mimetype": "text/x-python",
   "name": "python",
   "nbconvert_exporter": "python",
   "pygments_lexer": "ipython3",
   "version": "3.12.9"
  }
 },
 "nbformat": 4,
 "nbformat_minor": 5
}
