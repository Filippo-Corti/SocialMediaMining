{
 "cells": [
  {
   "cell_type": "code",
   "id": "initial_id",
   "metadata": {
    "collapsed": true,
    "ExecuteTime": {
     "end_time": "2025-05-08T15:28:21.773535Z",
     "start_time": "2025-05-08T15:28:20.156366Z"
    }
   },
   "source": [
    "import community.community_louvain as community_louvain\n",
    "import networkx as nx\n",
    "import networkx.algorithms.community as nx_comm\n",
    "import matplotlib.pyplot as plt"
   ],
   "outputs": [],
   "execution_count": 21
  },
  {
   "metadata": {
    "ExecuteTime": {
     "end_time": "2025-05-08T15:05:07.169327Z",
     "start_time": "2025-05-08T15:05:07.161883Z"
    }
   },
   "cell_type": "code",
   "source": [
    "edges_G = [(1,2),(1,3),(2,4),(2,8),(2,9),(3,7),(3,6),(7,6),(6,8),(6,5),(12,13), (10,9),(5,4),(8,20),(5,21),(9,12),(9,13),(12,16),(12,21),(10,16),\n",
    "        (10,11),(11,13),(11,14),(14,16),(16,15),(14,15),(16,18),(17,18),(17,21),(21,20),(17,20),(20,19),(20,5),(8,21),(21,2),(18,19),(17,19),(21,18),(18,20)]\n",
    "\n",
    "\n",
    "G = nx.Graph(edges_G)"
   ],
   "id": "3f7cf8e60b187767",
   "outputs": [],
   "execution_count": 3
  },
  {
   "metadata": {
    "ExecuteTime": {
     "end_time": "2025-05-08T15:22:52.094327Z",
     "start_time": "2025-05-08T15:22:52.087470Z"
    }
   },
   "cell_type": "code",
   "source": [
    "# Community Detection with Louvain\n",
    "partition_louvain = community_louvain.best_partition(G)\n",
    "\n",
    "community_ids = set(partition_louvain.values())\n",
    "\n",
    "print(partition_louvain)\n",
    "print(community_ids)"
   ],
   "id": "61a497a598859c68",
   "outputs": [
    {
     "name": "stdout",
     "output_type": "stream",
     "text": [
      "{1: 0, 2: 0, 3: 0, 4: 0, 8: 0, 9: 1, 7: 0, 6: 0, 5: 0, 12: 1, 13: 1, 10: 1, 20: 2, 21: 2, 16: 1, 11: 1, 14: 1, 15: 1, 18: 2, 17: 2, 19: 2}\n",
      "{0, 1, 2}\n"
     ]
    }
   ],
   "execution_count": 11
  },
  {
   "metadata": {},
   "cell_type": "code",
   "source": [
    "# Community Detection with Infomap (requires Python 3.9)\n",
    "im = Infomap()\n",
    "\n",
    "pairs = [e for e in G.edges()]\n",
    "im.add_links(pairs)\n",
    "\n",
    "def find_communities_infomap(im):\n",
    "    im.run()\n",
    "    communities = set()\n",
    "    for node in im.tree:\n",
    "        if node.is_leaf:\n",
    "            communities[node.node_id] = node.module_id\n",
    "\n",
    "    return communities\n",
    "\n",
    "partition_infomap = find_communities_infomap(im)"
   ],
   "id": "d19e697ea27b9888",
   "outputs": [],
   "execution_count": null
  },
  {
   "metadata": {
    "ExecuteTime": {
     "end_time": "2025-05-08T15:27:00.661788Z",
     "start_time": "2025-05-08T15:27:00.655008Z"
    }
   },
   "cell_type": "code",
   "source": [
    "# Community Quality\n",
    "# - Coverage: numero di edge interni alla community / G.size()\n",
    "# - Performance: (numero di edge interni alla community +\n",
    "#   numero di edge mancanti inter-community) / numero edge\n",
    "#   potenziali\n",
    "\n",
    "communities = {\n",
    "    community_id: {\n",
    "        node for node, comm in partition_louvain.items()\n",
    "        if comm == community_id\n",
    "    }\n",
    "    for community_id in community_ids\n",
    "}\n",
    "\n",
    "print(communities)\n",
    "\n",
    "coverage, performance = nx_comm.partition_quality(\n",
    "    G,\n",
    "    communities.values()\n",
    ")\n",
    "\n",
    "print(f\"Coverage: {coverage}\")\n",
    "print(f\"Performance: {performance}\")"
   ],
   "id": "18ec190471140e77",
   "outputs": [
    {
     "name": "stdout",
     "output_type": "stream",
     "text": [
      "{0: {1, 2, 3, 4, 5, 6, 7, 8}, 1: {9, 10, 11, 12, 13, 14, 15, 16}, 2: {17, 18, 19, 20, 21}}\n",
      "Coverage: 0.7948717948717948\n",
      "Performance: 0.7952380952380952\n"
     ]
    }
   ],
   "execution_count": 17
  },
  {
   "metadata": {
    "ExecuteTime": {
     "end_time": "2025-05-08T15:27:51.494219Z",
     "start_time": "2025-05-08T15:27:51.489974Z"
    }
   },
   "cell_type": "code",
   "source": [
    "# Community Size Distribution\n",
    "\n",
    "comm_sizes = [(c, len(nodes)) for c,nodes in communities.items()]\n",
    "comm_sizes.sort(key = lambda x: x[1],reverse = True)\n",
    "\n",
    "print(comm_sizes)"
   ],
   "id": "abe55d01c56e85",
   "outputs": [
    {
     "name": "stdout",
     "output_type": "stream",
     "text": [
      "[(0, 8), (1, 8), (2, 5)]\n"
     ]
    }
   ],
   "execution_count": 19
  },
  {
   "metadata": {
    "ExecuteTime": {
     "end_time": "2025-05-08T15:28:31.455082Z",
     "start_time": "2025-05-08T15:28:31.194964Z"
    }
   },
   "cell_type": "code",
   "source": [
    "plt.figure(figsize = (7,4))\n",
    "plt.bar(range(len(comm_sizes)), [x[1] for x in comm_sizes],width = 0.5, color = 'navy')\n",
    "plt.xticks(range(len(comm_sizes)), [x[0] for x in comm_sizes])\n",
    "plt.xlabel('community',size = 12, weight = 'bold')\n",
    "plt.ylabel('Nodes',size = 12, weight = 'bold')\n",
    "plt.show()"
   ],
   "id": "9fadbd3ba8cced5f",
   "outputs": [
    {
     "data": {
      "text/plain": [
       "<Figure size 700x400 with 1 Axes>"
      ],
      "image/png": "[encoded data removed]"
     },
     "metadata": {},
     "output_type": "display_data"
    }
   ],
   "execution_count": 22
  },
  {
   "metadata": {},
   "cell_type": "code",
   "outputs": [],
   "execution_count": null,
   "source": "",
   "id": "efa5d434101a4142"
  }
 ],
 "metadata": {
  "kernelspec": {
   "display_name": "Python 3",
   "language": "python",
   "name": "python3"
  },
  "language_info": {
   "codemirror_mode": {
    "name": "ipython",
    "version": 2
   },
   "file_extension": ".py",
   "mimetype": "text/x-python",
   "name": "python",
   "nbconvert_exporter": "python",
   "pygments_lexer": "ipython2",
   "version": "2.7.6"
  }
 },
 "nbformat": 4,
 "nbformat_minor": 5
}
