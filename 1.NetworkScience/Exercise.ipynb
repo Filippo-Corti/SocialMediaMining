{
 "cells": [
  {
   "cell_type": "code",
   "id": "initial_id",
   "metadata": {
    "collapsed": true,
    "ExecuteTime": {
     "end_time": "2025-04-10T15:26:26.389787Z",
     "start_time": "2025-04-10T15:26:22.702988Z"
    }
   },
   "source": [
    "import networkx as nx\n",
    "import matplotlib.pyplot as plt\n",
    "import pickle\n",
    "from collections import defaultdict, Counter\n",
    "import numpy as np\n",
    "from statsmodels.distributions.empirical_distribution import ECDF\n",
    "from networkx.algorithms import bipartite"
   ],
   "outputs": [],
   "execution_count": 2
  },
  {
   "metadata": {},
   "cell_type": "markdown",
   "source": [
    "### FASE 1: COSTRUZIONE\n",
    "\n",
    "* creare un grafo bipartito dalla edge list in ./data/crime/out.moreno_crime_crime\n",
    "ATTENZIONE!! bisogna dividere i nodi people dai nodi crime perchè l'edge (1,1) non è un self loop ma indica che il primo nodo persona è legato al primo nodo crime, serve un mapping dei nodi!\n",
    "* aggiungere ai nodi l'attributo 'name' dal file ./data/crime/ent.moreno_crime_crime.person.name\n",
    "* aggiungere agli archi l'attributo 'crime-role' dal file ./data/crime/rel.moreno_crime_crime.person.role\n",
    "\n",
    "* fare una proiezione sul piano delle persone: esiste un link tra due persone sse sono stati coinvolti in almeno un caso insieme. Mettere come peso il numero di crimini in comune. (potrebbe esistere una soluzione facile da nx)"
   ],
   "id": "931c754a690e6e80"
  },
  {
   "metadata": {
    "ExecuteTime": {
     "end_time": "2025-04-10T15:40:24.845364Z",
     "start_time": "2025-04-10T15:40:24.821040Z"
    }
   },
   "cell_type": "code",
   "source": [
    "bipartite_edge_list = open(\"../data/crime/out.moreno_crime_crime\")\n",
    "bipartite_edge_list = [\n",
    "    (f\"person{line.split()[0]}\", f\"crime{line.split()[1]}\")\n",
    "    for line in list(bipartite_edge_list)[2:]\n",
    "]\n",
    "\n",
    "G = nx.Graph()\n",
    "\n",
    "# Separate the node sets\n",
    "people = {u for u, v in bipartite_edge_list}\n",
    "crime = {v for u, v in bipartite_edge_list}\n",
    "\n",
    "# Add nodes with bipartite labels\n",
    "G.add_nodes_from(people, bipartite=0)\n",
    "G.add_nodes_from(crime, bipartite=1)\n",
    "\n",
    "# Add edges\n",
    "G.add_edges_from(bipartite_edge_list)\n",
    "\n",
    "bipartite.is_bipartite(G)"
   ],
   "id": "10aa1fc7e57c404f",
   "outputs": [
    {
     "data": {
      "text/plain": [
       "True"
      ]
     },
     "execution_count": 16,
     "metadata": {},
     "output_type": "execute_result"
    }
   ],
   "execution_count": 16
  },
  {
   "metadata": {
    "ExecuteTime": {
     "end_time": "2025-04-10T15:44:44.152057Z",
     "start_time": "2025-04-10T15:44:44.139159Z"
    }
   },
   "cell_type": "code",
   "source": [
    "names = open(\"../data/crime/ent.moreno_crime_crime.person.name\")\n",
    "names = {\n",
    "    f'person{idx}': {'name': name.strip()}\n",
    "    for idx, name in enumerate(names, start=1)\n",
    "}\n",
    "\n",
    "nx.set_node_attributes(G, names)"
   ],
   "id": "8bdd6e0a3629c83b",
   "outputs": [],
   "execution_count": 24
  },
  {
   "metadata": {},
   "cell_type": "code",
   "outputs": [],
   "execution_count": null,
   "source": [
    "roles = open(\"../data/crime/rel.moreno_crime_crime.person.role\")\n",
    "roles = {\n",
    "    # Crime Role??\n",
    "    for idx, role in enumerate(roles, start=1)\n",
    "}\n",
    "\n",
    "nx.set_node_attributes(G, names)"
   ],
   "id": "ab9d26f78d3b3d4c"
  }
 ],
 "metadata": {
  "kernelspec": {
   "display_name": "Python 3",
   "language": "python",
   "name": "python3"
  },
  "language_info": {
   "codemirror_mode": {
    "name": "ipython",
    "version": 2
   },
   "file_extension": ".py",
   "mimetype": "text/x-python",
   "name": "python",
   "nbconvert_exporter": "python",
   "pygments_lexer": "ipython2",
   "version": "2.7.6"
  }
 },
 "nbformat": 4,
 "nbformat_minor": 5
}
