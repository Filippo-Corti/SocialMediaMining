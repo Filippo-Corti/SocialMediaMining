{
 "cells": [
  {
   "cell_type": "code",
   "execution_count": 2,
   "id": "initial_id",
   "metadata": {
    "ExecuteTime": {
     "end_time": "2025-04-10T17:18:40.079979Z",
     "start_time": "2025-04-10T17:18:36.811626Z"
    }
   },
   "outputs": [],
   "source": [
    "import networkx as nx\n",
    "import matplotlib.pyplot as plt\n",
    "import pickle\n",
    "from collections import defaultdict, Counter\n",
    "import numpy as np\n",
    "from statsmodels.distributions.empirical_distribution import ECDF\n",
    "from networkx.algorithms import bipartite"
   ]
  },
  {
   "cell_type": "markdown",
   "id": "931c754a690e6e80",
   "metadata": {},
   "source": [
    "### FASE 1: COSTRUZIONE\n",
    "\n",
    "* creare un grafo bipartito dalla edge list in ./data/crime/out.moreno_crime_crime\n",
    "ATTENZIONE!! bisogna dividere i nodi people dai nodi crime perchè l'edge (1,1) non è un self loop ma indica che il primo nodo persona è legato al primo nodo crime, serve un mapping dei nodi!\n",
    "* aggiungere ai nodi l'attributo 'name' dal file ./data/crime/ent.moreno_crime_crime.person.name\n",
    "* aggiungere agli archi l'attributo 'crime-role' dal file ./data/crime/rel.moreno_crime_crime.person.role\n",
    "\n",
    "* fare una proiezione sul piano delle persone: esiste un link tra due persone sse sono stati coinvolti in almeno un caso insieme. Mettere come peso il numero di crimini in comune. (potrebbe esistere una soluzione facile da nx)"
   ]
  },
  {
   "cell_type": "code",
   "execution_count": 3,
   "id": "10aa1fc7e57c404f",
   "metadata": {
    "ExecuteTime": {
     "end_time": "2025-04-10T17:19:37.853732Z",
     "start_time": "2025-04-10T17:19:37.835663Z"
    }
   },
   "outputs": [
    {
     "data": {
      "text/plain": [
       "True"
      ]
     },
     "execution_count": 3,
     "metadata": {},
     "output_type": "execute_result"
    }
   ],
   "source": [
    "bipartite_edge_list = open(\"../data/crime/out.moreno_crime_crime\")\n",
    "bipartite_edge_list = [\n",
    "    (f\"p{line.split()[0]}\", f\"c{line.split()[1]}\") # Nodes are pX for people and cX for crime\n",
    "    for line in list(bipartite_edge_list)[2:]\n",
    "]\n",
    "\n",
    "G = nx.Graph()\n",
    "\n",
    "people = {u for u, v in bipartite_edge_list}\n",
    "crime = {v for u, v in bipartite_edge_list}\n",
    "\n",
    "# Add nodes with bipartite labels\n",
    "G.add_nodes_from(people, bipartite='person')\n",
    "G.add_nodes_from(crime, bipartite='crime')\n",
    "\n",
    "G.add_edges_from(bipartite_edge_list)\n",
    "\n",
    "bipartite.is_bipartite(G)"
   ]
  },
  {
   "cell_type": "code",
   "execution_count": 4,
   "id": "8bdd6e0a3629c83b",
   "metadata": {
    "ExecuteTime": {
     "end_time": "2025-04-10T17:20:18.023408Z",
     "start_time": "2025-04-10T17:20:18.017652Z"
    }
   },
   "outputs": [],
   "source": [
    "names = open(\"../data/crime/ent.moreno_crime_crime.person.name\")\n",
    "names = {\n",
    "    f'p{idx}': name.strip()\n",
    "    for idx, name in enumerate(names, start=1)\n",
    "}\n",
    "\n",
    "nx.set_node_attributes(G, names, 'name')"
   ]
  },
  {
   "cell_type": "code",
   "execution_count": 5,
   "id": "ab9d26f78d3b3d4c",
   "metadata": {
    "ExecuteTime": {
     "end_time": "2025-04-10T17:22:37.119734Z",
     "start_time": "2025-04-10T17:22:37.112627Z"
    }
   },
   "outputs": [],
   "source": [
    "roles = open(\"../data/crime/rel.moreno_crime_crime.person.role\")\n",
    "roles = {\n",
    "    bipartite_edge_list[idx] : role.strip()\n",
    "    for idx, role in enumerate(roles, start=0)\n",
    "}\n",
    "\n",
    "nx.set_edge_attributes(G, roles, 'crime-role')"
   ]
  },
  {
   "cell_type": "code",
   "execution_count": 6,
   "id": "219bfeba40ab9c3e",
   "metadata": {
    "ExecuteTime": {
     "end_time": "2025-04-10T17:23:57.470863Z",
     "start_time": "2025-04-10T17:23:57.448777Z"
    }
   },
   "outputs": [],
   "source": [
    "G_people = bipartite.weighted_projected_graph(G, people, ratio=False)"
   ]
  },
  {
   "cell_type": "markdown",
   "id": "4cd578d7c228ba2f",
   "metadata": {},
   "source": [
    "### FASE 2: ANALISI BIPARTITO\n",
    "\n",
    "* Quante persone includono i crimini in media?\n",
    "* In quanti crimini sono incluse le persone in media?\n",
    "* In quanti crimini sono incluse le persone in media essendo witness?\n",
    "* In media, quanti ruoli hanno le persone?\n",
    "* Quanto spesso le persone hanno un ruolo solo? ( oppure, più difficile, il ruolo ricoperto più spesso dalle singole persone che percentula copre?)"
   ]
  },
  {
   "cell_type": "code",
   "execution_count": 7,
   "id": "3ca39199fc5291ea",
   "metadata": {
    "ExecuteTime": {
     "end_time": "2025-04-10T17:30:39.457186Z",
     "start_time": "2025-04-10T17:30:39.451186Z"
    }
   },
   "outputs": [
    {
     "data": {
      "text/plain": [
       "np.float64(2.678765880217786)"
      ]
     },
     "execution_count": 7,
     "metadata": {},
     "output_type": "execute_result"
    }
   ],
   "source": [
    "crime_degrees = [G.degree(n) for n in crime]\n",
    "avg_people_per_crime = np.mean(crime_degrees)\n",
    "\n",
    "avg_people_per_crime"
   ]
  },
  {
   "cell_type": "code",
   "execution_count": 8,
   "id": "4346179b5403918d",
   "metadata": {
    "ExecuteTime": {
     "end_time": "2025-04-10T17:31:07.567142Z",
     "start_time": "2025-04-10T17:31:07.559603Z"
    }
   },
   "outputs": [
    {
     "data": {
      "text/plain": [
       "np.float64(1.7804583835946923)"
      ]
     },
     "execution_count": 8,
     "metadata": {},
     "output_type": "execute_result"
    }
   ],
   "source": [
    "people_degrees = [G.degree(n) for n in people]\n",
    "avg_crime_per_people = np.mean(people_degrees)\n",
    "\n",
    "avg_crime_per_people"
   ]
  },
  {
   "cell_type": "code",
   "execution_count": 9,
   "id": "64b5923583ac13f0",
   "metadata": {
    "ExecuteTime": {
     "end_time": "2025-04-10T17:38:23.362830Z",
     "start_time": "2025-04-10T17:38:23.351107Z"
    }
   },
   "outputs": [
    {
     "data": {
      "text/plain": [
       "np.float64(0.23522316043425814)"
      ]
     },
     "execution_count": 9,
     "metadata": {},
     "output_type": "execute_result"
    }
   ],
   "source": [
    "witness_degrees = [\n",
    "    len(list( # Count all edges that have an attribute Witness, for the node n\n",
    "        edge\n",
    "        for edge in G.edges(n, data=True)\n",
    "        if edge[2]['crime-role'] == 'Witness'\n",
    "    ))\n",
    "    for n in people\n",
    "]\n",
    "avg_crime_per_witness = np.mean(witness_degrees)\n",
    "\n",
    "avg_crime_per_witness"
   ]
  },
  {
   "cell_type": "code",
   "execution_count": 10,
   "id": "4a029c4aa6a287d2",
   "metadata": {
    "ExecuteTime": {
     "end_time": "2025-04-10T17:39:37.170782Z",
     "start_time": "2025-04-10T17:39:37.160681Z"
    }
   },
   "outputs": [
    {
     "data": {
      "text/plain": [
       "np.float64(1.218335343787696)"
      ]
     },
     "execution_count": 10,
     "metadata": {},
     "output_type": "execute_result"
    }
   ],
   "source": [
    "roles_per_person = [\n",
    "    len(set( # Count the different crime-roles from the people's edges\n",
    "        edge[2]['crime-role']\n",
    "        for edge in G.edges(n, data=True)\n",
    "    ))\n",
    "    for n in people\n",
    "]\n",
    "\n",
    "avg_roles_per_person = np.mean(roles_per_person)\n",
    "\n",
    "avg_roles_per_person\n"
   ]
  },
  {
   "cell_type": "code",
   "execution_count": 11,
   "id": "d0de075db99f38f6",
   "metadata": {
    "ExecuteTime": {
     "end_time": "2025-04-10T17:41:20.324664Z",
     "start_time": "2025-04-10T17:41:20.320185Z"
    }
   },
   "outputs": [
    {
     "data": {
      "text/plain": [
       "682"
      ]
     },
     "execution_count": 11,
     "metadata": {},
     "output_type": "execute_result"
    }
   ],
   "source": [
    "one_role_people = len(list(\n",
    "    x\n",
    "    for x in roles_per_person\n",
    "    if x == 1\n",
    "))\n",
    "\n",
    "one_role_people"
   ]
  },
  {
   "cell_type": "code",
   "execution_count": 12,
   "id": "a25f777350ad1e37",
   "metadata": {
    "ExecuteTime": {
     "end_time": "2025-04-10T17:44:45.766768Z",
     "start_time": "2025-04-10T17:44:45.761241Z"
    }
   },
   "outputs": [
    {
     "name": "stdout",
     "output_type": "stream",
     "text": [
      "Counter({'Suspect': 682, 'Victim': 558, 'Witness': 195, 'Victim Suspect': 41})\n"
     ]
    },
    {
     "data": {
      "text/plain": [
       "0.462059620596206"
      ]
     },
     "execution_count": 12,
     "metadata": {},
     "output_type": "execute_result"
    }
   ],
   "source": [
    "roles_distribution = Counter(roles.values())\n",
    "print(roles_distribution)\n",
    "\n",
    "roles_distribution.most_common(1)[0][1] / roles_distribution.total()"
   ]
  },
  {
   "cell_type": "markdown",
   "id": "461632576d5b7134",
   "metadata": {},
   "source": [
    "### FASE 3: ANALISI PROJECTED\n",
    "\n",
    "* qual è la densità del grafo?\n",
    "* il grafo è connesso?\n",
    "* assegnando come ruole ad ogni nodo quello che assume più frequentemente, che ruole hanna maggiormente i 100 top nodi per degree centrality?"
   ]
  },
  {
   "cell_type": "code",
   "execution_count": 13,
   "id": "6c442e4e61663606",
   "metadata": {
    "ExecuteTime": {
     "end_time": "2025-04-10T17:45:53.538105Z",
     "start_time": "2025-04-10T17:45:53.531578Z"
    }
   },
   "outputs": [
    {
     "data": {
      "text/plain": [
       "0.0065645705494659186"
      ]
     },
     "execution_count": 13,
     "metadata": {},
     "output_type": "execute_result"
    }
   ],
   "source": [
    "nx.density(G_people)"
   ]
  },
  {
   "cell_type": "code",
   "execution_count": 14,
   "id": "3969c5e74d24e1a5",
   "metadata": {
    "ExecuteTime": {
     "end_time": "2025-04-10T17:46:00.427161Z",
     "start_time": "2025-04-10T17:46:00.421136Z"
    }
   },
   "outputs": [
    {
     "data": {
      "text/plain": [
       "False"
      ]
     },
     "execution_count": 14,
     "metadata": {},
     "output_type": "execute_result"
    }
   ],
   "source": [
    "nx.is_connected(G_people)"
   ]
  },
  {
   "cell_type": "code",
   "execution_count": 15,
   "id": "c652c69c83da191b",
   "metadata": {
    "ExecuteTime": {
     "end_time": "2025-04-10T17:54:43.122650Z",
     "start_time": "2025-04-10T17:54:43.110514Z"
    }
   },
   "outputs": [
    {
     "name": "stdout",
     "output_type": "stream",
     "text": [
      "Counter({'Suspect': 50, 'Victim': 41, 'Witness': 9})\n"
     ]
    },
    {
     "data": {
      "text/plain": [
       "('Suspect', 50)"
      ]
     },
     "execution_count": 15,
     "metadata": {},
     "output_type": "execute_result"
    }
   ],
   "source": [
    "degree_centrality = nx.degree_centrality(G_people)\n",
    "top_100_by_degree_centrality = {\n",
    "    x[0]\n",
    "    for x in sorted(degree_centrality.items(), key=lambda x: x[1], reverse=True)[:100]\n",
    "}\n",
    "\n",
    "most_frequent_role =  {\n",
    "    n: Counter( # Get the different crime-roles from the people's edges, then get the most common\n",
    "        edge[2]['crime-role']\n",
    "        for edge in G.edges(n, data=True)\n",
    "    ).most_common(1)[0][0]\n",
    "    for n in people\n",
    "    if n in top_100_by_degree_centrality\n",
    "}\n",
    "\n",
    "roles_counter = Counter(most_frequent_role.values())\n",
    "print(roles_counter)\n",
    "\n",
    "roles_counter.most_common(1)[0]"
   ]
  }
 ],
 "metadata": {
  "kernelspec": {
   "display_name": "Python 3 (ipykernel)",
   "language": "python",
   "name": "python3"
  },
  "language_info": {
   "codemirror_mode": {
    "name": "ipython",
    "version": 3
   },
   "file_extension": ".py",
   "mimetype": "text/x-python",
   "name": "python",
   "nbconvert_exporter": "python",
   "pygments_lexer": "ipython3",
   "version": "3.12.9"
  }
 },
 "nbformat": 4,
 "nbformat_minor": 5
}
