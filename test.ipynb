{
 "cells": [
  {
   "cell_type": "code",
   "id": "initial_id",
   "metadata": {
    "collapsed": true,
    "ExecuteTime": {
     "end_time": "2025-06-01T17:01:15.970451Z",
     "start_time": "2025-06-01T17:01:15.662353Z"
    }
   },
   "source": "import networkx as nx",
   "outputs": [],
   "execution_count": 1
  },
  {
   "metadata": {
    "ExecuteTime": {
     "end_time": "2025-06-01T17:02:46.966198Z",
     "start_time": "2025-06-01T17:02:46.962065Z"
    }
   },
   "cell_type": "code",
   "source": [
    "f = open('data/orders.txt')\n",
    "edges = [line.strip().split(' ') for line in f]"
   ],
   "id": "fc89308384201260",
   "outputs": [],
   "execution_count": 21
  },
  {
   "metadata": {
    "ExecuteTime": {
     "end_time": "2025-06-01T17:03:02.710017Z",
     "start_time": "2025-06-01T17:03:02.706241Z"
    }
   },
   "cell_type": "code",
   "source": "G = nx.from_edgelist(edges, create_using=nx.DiGraph())",
   "id": "b1980d133434e244",
   "outputs": [],
   "execution_count": 24
  },
  {
   "metadata": {
    "ExecuteTime": {
     "end_time": "2025-06-01T17:03:08.753284Z",
     "start_time": "2025-06-01T17:03:08.748220Z"
    }
   },
   "cell_type": "code",
   "source": "G.size(), G.order()",
   "id": "c25a0b0a9030d320",
   "outputs": [
    {
     "data": {
      "text/plain": [
       "(198, 20)"
      ]
     },
     "execution_count": 26,
     "metadata": {},
     "output_type": "execute_result"
    }
   ],
   "execution_count": 26
  },
  {
   "metadata": {
    "ExecuteTime": {
     "end_time": "2025-06-01T17:03:26.269244Z",
     "start_time": "2025-06-01T17:03:26.262849Z"
    }
   },
   "cell_type": "code",
   "source": "list(nx.strongly_connected_components(G))",
   "id": "684ddb6bcf998ba6",
   "outputs": [
    {
     "data": {
      "text/plain": [
       "[{'9'},\n",
       " {'0',\n",
       "  '1',\n",
       "  '10',\n",
       "  '11',\n",
       "  '12',\n",
       "  '13',\n",
       "  '14',\n",
       "  '15',\n",
       "  '16',\n",
       "  '17',\n",
       "  '18',\n",
       "  '19',\n",
       "  '2',\n",
       "  '3',\n",
       "  '4',\n",
       "  '5',\n",
       "  '6',\n",
       "  '7',\n",
       "  '8'}]"
      ]
     },
     "execution_count": 28,
     "metadata": {},
     "output_type": "execute_result"
    }
   ],
   "execution_count": 28
  },
  {
   "metadata": {
    "ExecuteTime": {
     "end_time": "2025-06-01T17:18:53.324514Z",
     "start_time": "2025-06-01T17:18:53.313488Z"
    }
   },
   "cell_type": "code",
   "source": "nx.write_gexf(G, 'data/orders.gexf')",
   "id": "9abb993d343e7e2",
   "outputs": [],
   "execution_count": 32
  },
  {
   "metadata": {
    "ExecuteTime": {
     "end_time": "2025-06-01T17:49:12.234130Z",
     "start_time": "2025-06-01T17:49:12.197359Z"
    }
   },
   "cell_type": "code",
   "source": [
    "dense_matrix = nx.adjacency_matrix(G).toarray()\n",
    "print(dense_matrix)"
   ],
   "id": "689cedcfe75421b5",
   "outputs": [
    {
     "name": "stdout",
     "output_type": "stream",
     "text": [
      "[[0 1 1 1 1 0 0 0 0 0 0 0 0 0 0 0 0 0 0 0]\n",
      " [0 0 0 1 0 1 0 0 0 0 0 0 0 0 0 0 0 0 0 0]\n",
      " [0 1 0 1 1 0 0 0 0 1 1 0 0 1 0 0 0 0 0 0]\n",
      " [0 0 0 0 0 0 0 0 0 0 0 0 0 0 0 0 0 0 0 0]\n",
      " [0 1 0 1 0 0 0 0 0 0 1 0 0 1 0 0 1 1 0 0]\n",
      " [1 0 1 1 1 0 0 1 0 1 0 0 0 0 0 0 0 0 0 0]\n",
      " [1 1 1 1 1 1 0 1 1 1 1 1 1 0 0 0 0 0 0 0]\n",
      " [1 1 1 1 1 0 0 0 0 1 0 0 0 0 0 0 0 0 0 0]\n",
      " [1 1 1 1 1 1 0 1 0 0 1 0 0 1 1 0 0 0 0 0]\n",
      " [1 1 0 1 1 0 1 0 1 0 0 0 0 0 1 0 0 0 0 0]\n",
      " [1 1 0 1 0 1 0 1 0 1 0 0 1 1 0 0 0 1 1 0]\n",
      " [1 1 1 1 1 1 0 1 1 1 1 0 1 1 1 1 1 1 1 1]\n",
      " [1 1 1 1 1 1 0 1 1 1 0 0 0 0 1 0 0 0 0 0]\n",
      " [1 1 0 1 1 1 1 1 0 1 0 0 1 0 1 1 1 0 0 1]\n",
      " [1 1 1 1 1 1 1 1 0 1 1 0 1 0 0 1 1 1 1 0]\n",
      " [1 1 1 1 1 1 1 1 1 1 1 0 1 0 1 0 0 1 1 1]\n",
      " [1 1 1 1 1 1 1 1 1 1 1 0 1 1 0 1 0 0 0 0]\n",
      " [1 1 1 1 0 1 1 1 1 1 0 0 1 1 1 0 1 0 0 0]\n",
      " [1 1 1 1 1 1 1 1 1 1 0 0 1 1 0 0 1 1 0 0]\n",
      " [1 1 1 1 1 1 1 1 1 1 1 0 1 0 1 0 1 1 1 0]]\n"
     ]
    }
   ],
   "execution_count": 34
  },
  {
   "metadata": {},
   "cell_type": "code",
   "outputs": [],
   "execution_count": null,
   "source": "",
   "id": "db786f7e318f221a"
  }
 ],
 "metadata": {
  "kernelspec": {
   "display_name": "Python 3",
   "language": "python",
   "name": "python3"
  },
  "language_info": {
   "codemirror_mode": {
    "name": "ipython",
    "version": 2
   },
   "file_extension": ".py",
   "mimetype": "text/x-python",
   "name": "python",
   "nbconvert_exporter": "python",
   "pygments_lexer": "ipython2",
   "version": "2.7.6"
  }
 },
 "nbformat": 4,
 "nbformat_minor": 5
}
