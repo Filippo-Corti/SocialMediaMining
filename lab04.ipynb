{
 "cells": [
  {
   "metadata": {},
   "cell_type": "markdown",
   "source": "# Youtube Data API",
   "id": "fcc4264833513c96"
  },
  {
   "metadata": {
    "ExecuteTime": {
     "end_time": "2025-03-08T09:52:14.436818Z",
     "start_time": "2025-03-08T09:52:11.645149Z"
    }
   },
   "cell_type": "code",
   "source": "!pip install google-api-python-client",
   "id": "ffc9c2e2aea5c38a",
   "outputs": [
    {
     "name": "stdout",
     "output_type": "stream",
     "text": [
      "Requirement already satisfied: google-api-python-client in c:\\users\\filippo corti\\appdata\\local\\programs\\python\\python312\\lib\\site-packages (2.163.0)\n",
      "Requirement already satisfied: httplib2<1.dev0,>=0.19.0 in c:\\users\\filippo corti\\appdata\\local\\programs\\python\\python312\\lib\\site-packages (from google-api-python-client) (0.22.0)\n",
      "Requirement already satisfied: google-auth!=2.24.0,!=2.25.0,<3.0.0.dev0,>=1.32.0 in c:\\users\\filippo corti\\appdata\\local\\programs\\python\\python312\\lib\\site-packages (from google-api-python-client) (2.38.0)\n",
      "Requirement already satisfied: google-auth-httplib2<1.0.0,>=0.2.0 in c:\\users\\filippo corti\\appdata\\local\\programs\\python\\python312\\lib\\site-packages (from google-api-python-client) (0.2.0)\n",
      "Requirement already satisfied: google-api-core!=2.0.*,!=2.1.*,!=2.2.*,!=2.3.0,<3.0.0.dev0,>=1.31.5 in c:\\users\\filippo corti\\appdata\\local\\programs\\python\\python312\\lib\\site-packages (from google-api-python-client) (2.24.1)\n",
      "Requirement already satisfied: uritemplate<5,>=3.0.1 in c:\\users\\filippo corti\\appdata\\local\\programs\\python\\python312\\lib\\site-packages (from google-api-python-client) (4.1.1)\n",
      "Requirement already satisfied: googleapis-common-protos<2.0.dev0,>=1.56.2 in c:\\users\\filippo corti\\appdata\\local\\programs\\python\\python312\\lib\\site-packages (from google-api-core!=2.0.*,!=2.1.*,!=2.2.*,!=2.3.0,<3.0.0.dev0,>=1.31.5->google-api-python-client) (1.69.1)\n",
      "Requirement already satisfied: protobuf!=3.20.0,!=3.20.1,!=4.21.0,!=4.21.1,!=4.21.2,!=4.21.3,!=4.21.4,!=4.21.5,<6.0.0.dev0,>=3.19.5 in c:\\users\\filippo corti\\appdata\\local\\programs\\python\\python312\\lib\\site-packages (from google-api-core!=2.0.*,!=2.1.*,!=2.2.*,!=2.3.0,<3.0.0.dev0,>=1.31.5->google-api-python-client) (5.29.3)\n",
      "Requirement already satisfied: proto-plus<2.0.0dev,>=1.22.3 in c:\\users\\filippo corti\\appdata\\local\\programs\\python\\python312\\lib\\site-packages (from google-api-core!=2.0.*,!=2.1.*,!=2.2.*,!=2.3.0,<3.0.0.dev0,>=1.31.5->google-api-python-client) (1.26.0)\n",
      "Requirement already satisfied: requests<3.0.0.dev0,>=2.18.0 in c:\\users\\filippo corti\\appdata\\local\\programs\\python\\python312\\lib\\site-packages (from google-api-core!=2.0.*,!=2.1.*,!=2.2.*,!=2.3.0,<3.0.0.dev0,>=1.31.5->google-api-python-client) (2.31.0)\n",
      "Requirement already satisfied: cachetools<6.0,>=2.0.0 in c:\\users\\filippo corti\\appdata\\local\\programs\\python\\python312\\lib\\site-packages (from google-auth!=2.24.0,!=2.25.0,<3.0.0.dev0,>=1.32.0->google-api-python-client) (5.5.2)\n",
      "Requirement already satisfied: pyasn1-modules>=0.2.1 in c:\\users\\filippo corti\\appdata\\local\\programs\\python\\python312\\lib\\site-packages (from google-auth!=2.24.0,!=2.25.0,<3.0.0.dev0,>=1.32.0->google-api-python-client) (0.4.1)\n",
      "Requirement already satisfied: rsa<5,>=3.1.4 in c:\\users\\filippo corti\\appdata\\local\\programs\\python\\python312\\lib\\site-packages (from google-auth!=2.24.0,!=2.25.0,<3.0.0.dev0,>=1.32.0->google-api-python-client) (4.9)\n",
      "Requirement already satisfied: pyparsing!=3.0.0,!=3.0.1,!=3.0.2,!=3.0.3,<4,>=2.4.2 in c:\\users\\filippo corti\\appdata\\local\\programs\\python\\python312\\lib\\site-packages (from httplib2<1.dev0,>=0.19.0->google-api-python-client) (3.1.2)\n",
      "Requirement already satisfied: pyasn1<0.7.0,>=0.4.6 in c:\\users\\filippo corti\\appdata\\local\\programs\\python\\python312\\lib\\site-packages (from pyasn1-modules>=0.2.1->google-auth!=2.24.0,!=2.25.0,<3.0.0.dev0,>=1.32.0->google-api-python-client) (0.6.1)\n",
      "Requirement already satisfied: charset-normalizer<4,>=2 in c:\\users\\filippo corti\\appdata\\local\\programs\\python\\python312\\lib\\site-packages (from requests<3.0.0.dev0,>=2.18.0->google-api-core!=2.0.*,!=2.1.*,!=2.2.*,!=2.3.0,<3.0.0.dev0,>=1.31.5->google-api-python-client) (3.3.2)\n",
      "Requirement already satisfied: idna<4,>=2.5 in c:\\users\\filippo corti\\appdata\\local\\programs\\python\\python312\\lib\\site-packages (from requests<3.0.0.dev0,>=2.18.0->google-api-core!=2.0.*,!=2.1.*,!=2.2.*,!=2.3.0,<3.0.0.dev0,>=1.31.5->google-api-python-client) (3.6)\n",
      "Requirement already satisfied: urllib3<3,>=1.21.1 in c:\\users\\filippo corti\\appdata\\local\\programs\\python\\python312\\lib\\site-packages (from requests<3.0.0.dev0,>=2.18.0->google-api-core!=2.0.*,!=2.1.*,!=2.2.*,!=2.3.0,<3.0.0.dev0,>=1.31.5->google-api-python-client) (2.2.1)\n",
      "Requirement already satisfied: certifi>=2017.4.17 in c:\\users\\filippo corti\\appdata\\local\\programs\\python\\python312\\lib\\site-packages (from requests<3.0.0.dev0,>=2.18.0->google-api-core!=2.0.*,!=2.1.*,!=2.2.*,!=2.3.0,<3.0.0.dev0,>=1.31.5->google-api-python-client) (2024.2.2)\n"
     ]
    },
    {
     "name": "stderr",
     "output_type": "stream",
     "text": [
      "\n",
      "[notice] A new release of pip is available: 25.0 -> 25.0.1\n",
      "[notice] To update, run: python.exe -m pip install --upgrade pip\n"
     ]
    }
   ],
   "execution_count": 5
  },
  {
   "metadata": {
    "ExecuteTime": {
     "end_time": "2025-03-08T09:53:27.922324Z",
     "start_time": "2025-03-08T09:53:27.739491Z"
    }
   },
   "cell_type": "code",
   "source": [
    "import json\n",
    "from googleapiclient.discovery import build"
   ],
   "id": "1272d8bcf9a36869",
   "outputs": [],
   "execution_count": 7
  },
  {
   "metadata": {
    "ExecuteTime": {
     "end_time": "2025-03-08T09:54:14.528180Z",
     "start_time": "2025-03-08T09:54:14.512062Z"
    }
   },
   "cell_type": "code",
   "source": [
    "DEVELOPER_KEY = json.load(open('./keys/youtube_key.json'))['api_key']\n",
    "YOUTUBE_API_SERVICE_NAME = 'youtube'\n",
    "YOUTUBE_API_VERSION = 'v3'\n",
    "\n",
    "youtube = build(\n",
    "    YOUTUBE_API_SERVICE_NAME,\n",
    "    YOUTUBE_API_VERSION,\n",
    "    developerKey=DEVELOPER_KEY\n",
    ")\n"
   ],
   "id": "8c1199c140bb718e",
   "outputs": [],
   "execution_count": 8
  },
  {
   "metadata": {
    "ExecuteTime": {
     "end_time": "2025-03-08T09:54:16.589968Z",
     "start_time": "2025-03-08T09:54:15.876633Z"
    }
   },
   "cell_type": "code",
   "source": [
    "# Get Channel object\n",
    "\n",
    "# 1. First find Channel ID by Channel Name\n",
    "\n",
    "request = youtube.search().list(\n",
    "        part=\"snippet\",\n",
    "        maxResults=5,\n",
    "        q=\"Barbascura eXtra\",\n",
    "        type=\"channel\"\n",
    "    )\n",
    "\n",
    "response = request.execute()\n",
    "\n",
    "channelId = response['items'][0]['id']['channelId']\n",
    "\n",
    "channelId"
   ],
   "id": "ddc5566116e6dda3",
   "outputs": [
    {
     "data": {
      "text/plain": [
       "'UCHi6Q3Z-5oJUC691WLlSntA'"
      ]
     },
     "execution_count": 9,
     "metadata": {},
     "output_type": "execute_result"
    }
   ],
   "execution_count": 9
  },
  {
   "metadata": {
    "ExecuteTime": {
     "end_time": "2025-03-08T09:54:20.524251Z",
     "start_time": "2025-03-08T09:54:20.452074Z"
    }
   },
   "cell_type": "code",
   "source": [
    "# 2. Then fetch the information we need about it\n",
    "\n",
    "request = youtube.channels().list(\n",
    "    part=\"snippet,contentDetails\",\n",
    "    id= channelId\n",
    "    )\n",
    "response = request.execute()\n",
    "uploaded_playlist = response['items'][0]['contentDetails']['relatedPlaylists']['uploads']\n",
    "uploaded_playlist"
   ],
   "id": "e239a144b37afbe3",
   "outputs": [
    {
     "data": {
      "text/plain": [
       "'UUHi6Q3Z-5oJUC691WLlSntA'"
      ]
     },
     "execution_count": 10,
     "metadata": {},
     "output_type": "execute_result"
    }
   ],
   "execution_count": 10
  },
  {
   "metadata": {
    "ExecuteTime": {
     "end_time": "2025-03-08T09:54:23.550597Z",
     "start_time": "2025-03-08T09:54:21.714530Z"
    }
   },
   "cell_type": "code",
   "source": [
    "channel_videos : list = list()\n",
    "\n",
    "page_token = None\n",
    "\n",
    "while True:\n",
    "    request = youtube.playlistItems().list(\n",
    "            part=\"snippet,contentDetails\",\n",
    "            maxResults=50,\n",
    "            playlistId=uploaded_playlist,\n",
    "            pageToken = page_token\n",
    "    )\n",
    "\n",
    "    response = request.execute()\n",
    "\n",
    "    channel_videos.extend(\n",
    "        v['contentDetails']['videoId']\n",
    "        for v in response['items']\n",
    "    )\n",
    "\n",
    "    if response.get('nextPageToken', None) is None:\n",
    "        break\n",
    "\n",
    "    page_token = response['nextPageToken']\n",
    "\n",
    "len(channel_videos)"
   ],
   "id": "82baec8603d2af56",
   "outputs": [
    {
     "data": {
      "text/plain": [
       "379"
      ]
     },
     "execution_count": 11,
     "metadata": {},
     "output_type": "execute_result"
    }
   ],
   "execution_count": 11
  },
  {
   "metadata": {
    "ExecuteTime": {
     "end_time": "2025-03-08T09:54:51.781831Z",
     "start_time": "2025-03-08T09:54:43.118714Z"
    }
   },
   "cell_type": "code",
   "source": [
    "import time\n",
    "\n",
    "# Get Comments for Every Video\n",
    "commentators : dict[str, set[str]] = {}\n",
    "\n",
    "for video_id in channel_videos[:10]:\n",
    "\n",
    "    page_token = None\n",
    "\n",
    "    video_commentators : set = set()\n",
    "\n",
    "    while True:\n",
    "        request = youtube.commentThreads().list(\n",
    "            part=\"snippet\",\n",
    "            videoId=video_id,\n",
    "            maxResults=100,\n",
    "            pageToken = page_token\n",
    "        )\n",
    "\n",
    "        response = request.execute()\n",
    "\n",
    "        video_commentators.update(\n",
    "            ct['snippet']['topLevelComment']['snippet']['authorDisplayName']\n",
    "            for ct in response['items']\n",
    "        )\n",
    "\n",
    "        if response.get('nextPageToken', None) is None:\n",
    "            break\n",
    "\n",
    "        page_token = response['nextPageToken']\n",
    "\n",
    "    time.sleep(0.1)\n",
    "    commentators[video_id] = video_commentators\n"
   ],
   "id": "83e7ea0b0aedfd4c",
   "outputs": [],
   "execution_count": 13
  },
  {
   "metadata": {
    "ExecuteTime": {
     "end_time": "2025-03-08T09:54:53.685857Z",
     "start_time": "2025-03-08T09:54:53.680770Z"
    }
   },
   "cell_type": "code",
   "source": "len(commentators)",
   "id": "9f2841024d228e20",
   "outputs": [
    {
     "data": {
      "text/plain": [
       "10"
      ]
     },
     "execution_count": 14,
     "metadata": {},
     "output_type": "execute_result"
    }
   ],
   "execution_count": 14
  },
  {
   "metadata": {
    "ExecuteTime": {
     "end_time": "2025-03-07T11:00:16.553289Z",
     "start_time": "2025-03-07T11:00:16.549425Z"
    }
   },
   "cell_type": "code",
   "source": [
    "# Now use networkx to create a Network:\n",
    "#   * Nodes are the Videos\n",
    "#   * The Edge (a, b) is present if a and b share some commentators"
   ],
   "id": "9e25ee1870330a4d",
   "outputs": [],
   "execution_count": 55
  },
  {
   "metadata": {
    "ExecuteTime": {
     "end_time": "2025-03-08T09:55:00.897329Z",
     "start_time": "2025-03-08T09:55:00.566203Z"
    }
   },
   "cell_type": "code",
   "source": [
    "import networkx as nx\n",
    "\n",
    "nodes_list = list(commentators.keys())\n",
    "edges_list = []\n",
    "\n",
    "for i in range(0, len(nodes_list)):\n",
    "    video1 = nodes_list[i]\n",
    "    for j in range(i+1, len(nodes_list)):\n",
    "        video2 = nodes_list[j]\n",
    "\n",
    "        common_commentators = commentators[video1] & commentators[video2]\n",
    "\n",
    "        if len(common_commentators) > 0:\n",
    "            edges_list.append((video1, video2, len(common_commentators)))\n",
    "\n",
    "\n",
    "edges_list\n"
   ],
   "id": "b0891c1d5abd047d",
   "outputs": [
    {
     "data": {
      "text/plain": [
       "[('wUArIUoJxkA', 'oHg8ETcoXIA', 11),\n",
       " ('wUArIUoJxkA', 'YydAr-kkobs', 15),\n",
       " ('wUArIUoJxkA', 'xpU3TBmoZB4', 16),\n",
       " ('wUArIUoJxkA', 'k7HHjV_IzPs', 6),\n",
       " ('wUArIUoJxkA', '_E33gRrWUHM', 6),\n",
       " ('wUArIUoJxkA', 'A9izmvFqfxE', 14),\n",
       " ('wUArIUoJxkA', 'g9jHl0VOQZA', 6),\n",
       " ('wUArIUoJxkA', 'DpsWZQIgqqU', 3),\n",
       " ('wUArIUoJxkA', 'TJ04gk-hoTc', 5),\n",
       " ('oHg8ETcoXIA', 'YydAr-kkobs', 43),\n",
       " ('oHg8ETcoXIA', 'xpU3TBmoZB4', 80),\n",
       " ('oHg8ETcoXIA', 'k7HHjV_IzPs', 5),\n",
       " ('oHg8ETcoXIA', '_E33gRrWUHM', 5),\n",
       " ('oHg8ETcoXIA', 'A9izmvFqfxE', 55),\n",
       " ('oHg8ETcoXIA', 'g9jHl0VOQZA', 34),\n",
       " ('oHg8ETcoXIA', 'DpsWZQIgqqU', 7),\n",
       " ('oHg8ETcoXIA', 'TJ04gk-hoTc', 9),\n",
       " ('YydAr-kkobs', 'xpU3TBmoZB4', 45),\n",
       " ('YydAr-kkobs', 'k7HHjV_IzPs', 3),\n",
       " ('YydAr-kkobs', '_E33gRrWUHM', 8),\n",
       " ('YydAr-kkobs', 'A9izmvFqfxE', 62),\n",
       " ('YydAr-kkobs', 'g9jHl0VOQZA', 25),\n",
       " ('YydAr-kkobs', 'DpsWZQIgqqU', 5),\n",
       " ('YydAr-kkobs', 'TJ04gk-hoTc', 9),\n",
       " ('xpU3TBmoZB4', 'k7HHjV_IzPs', 6),\n",
       " ('xpU3TBmoZB4', '_E33gRrWUHM', 4),\n",
       " ('xpU3TBmoZB4', 'A9izmvFqfxE', 84),\n",
       " ('xpU3TBmoZB4', 'g9jHl0VOQZA', 44),\n",
       " ('xpU3TBmoZB4', 'DpsWZQIgqqU', 10),\n",
       " ('xpU3TBmoZB4', 'TJ04gk-hoTc', 11),\n",
       " ('k7HHjV_IzPs', '_E33gRrWUHM', 4),\n",
       " ('k7HHjV_IzPs', 'A9izmvFqfxE', 9),\n",
       " ('k7HHjV_IzPs', 'g9jHl0VOQZA', 4),\n",
       " ('k7HHjV_IzPs', 'DpsWZQIgqqU', 3),\n",
       " ('k7HHjV_IzPs', 'TJ04gk-hoTc', 2),\n",
       " ('_E33gRrWUHM', 'A9izmvFqfxE', 10),\n",
       " ('_E33gRrWUHM', 'g9jHl0VOQZA', 5),\n",
       " ('_E33gRrWUHM', 'DpsWZQIgqqU', 2),\n",
       " ('A9izmvFqfxE', 'g9jHl0VOQZA', 42),\n",
       " ('A9izmvFqfxE', 'DpsWZQIgqqU', 6),\n",
       " ('A9izmvFqfxE', 'TJ04gk-hoTc', 8),\n",
       " ('g9jHl0VOQZA', 'DpsWZQIgqqU', 5),\n",
       " ('g9jHl0VOQZA', 'TJ04gk-hoTc', 6),\n",
       " ('DpsWZQIgqqU', 'TJ04gk-hoTc', 3)]"
      ]
     },
     "execution_count": 15,
     "metadata": {},
     "output_type": "execute_result"
    }
   ],
   "execution_count": 15
  },
  {
   "metadata": {},
   "cell_type": "code",
   "outputs": [],
   "execution_count": null,
   "source": "",
   "id": "6223f020fdc3644c"
  }
 ],
 "metadata": {
  "kernelspec": {
   "display_name": "Python 3",
   "language": "python",
   "name": "python3"
  },
  "language_info": {
   "codemirror_mode": {
    "name": "ipython",
    "version": 2
   },
   "file_extension": ".py",
   "mimetype": "text/x-python",
   "name": "python",
   "nbconvert_exporter": "python",
   "pygments_lexer": "ipython2",
   "version": "2.7.6"
  }
 },
 "nbformat": 4,
 "nbformat_minor": 5
}
