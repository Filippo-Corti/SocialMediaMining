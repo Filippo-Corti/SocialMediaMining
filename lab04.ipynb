{
 "cells": [
  {
   "metadata": {},
   "cell_type": "markdown",
   "source": "# Youtube Data API",
   "id": "fcc4264833513c96"
  },
  {
   "metadata": {},
   "cell_type": "code",
   "source": "!pip install google-api-python-client",
   "id": "ffc9c2e2aea5c38a",
   "outputs": [],
   "execution_count": null
  },
  {
   "metadata": {
    "ExecuteTime": {
     "end_time": "2025-03-08T09:53:27.922324Z",
     "start_time": "2025-03-08T09:53:27.739491Z"
    }
   },
   "cell_type": "code",
   "source": [
    "import json\n",
    "from googleapiclient.discovery import build"
   ],
   "id": "1272d8bcf9a36869",
   "outputs": [],
   "execution_count": 7
  },
  {
   "metadata": {
    "ExecuteTime": {
     "end_time": "2025-03-08T09:54:14.528180Z",
     "start_time": "2025-03-08T09:54:14.512062Z"
    }
   },
   "cell_type": "code",
   "source": [
    "DEVELOPER_KEY = json.load(open('./keys/youtube_key.json'))['api_key']\n",
    "YOUTUBE_API_SERVICE_NAME = 'youtube'\n",
    "YOUTUBE_API_VERSION = 'v3'\n",
    "\n",
    "youtube = build(\n",
    "    YOUTUBE_API_SERVICE_NAME,\n",
    "    YOUTUBE_API_VERSION,\n",
    "    developerKey=DEVELOPER_KEY\n",
    ")\n"
   ],
   "id": "8c1199c140bb718e",
   "outputs": [],
   "execution_count": 8
  },
  {
   "metadata": {
    "ExecuteTime": {
     "end_time": "2025-03-08T09:54:16.589968Z",
     "start_time": "2025-03-08T09:54:15.876633Z"
    }
   },
   "cell_type": "code",
   "source": [
    "# Get Channel object\n",
    "\n",
    "# 1. First find Channel ID by Channel Name\n",
    "\n",
    "request = youtube.search().list(\n",
    "        part=\"snippet\",\n",
    "        maxResults=5,\n",
    "        q=\"Barbascura eXtra\",\n",
    "        type=\"channel\"\n",
    "    )\n",
    "\n",
    "response = request.execute()\n",
    "\n",
    "channelId = response['items'][0]['id']['channelId']\n",
    "\n",
    "channelId"
   ],
   "id": "ddc5566116e6dda3",
   "outputs": [
    {
     "data": {
      "text/plain": [
       "'UCHi6Q3Z-5oJUC691WLlSntA'"
      ]
     },
     "execution_count": 9,
     "metadata": {},
     "output_type": "execute_result"
    }
   ],
   "execution_count": 9
  },
  {
   "metadata": {
    "ExecuteTime": {
     "end_time": "2025-03-08T09:54:20.524251Z",
     "start_time": "2025-03-08T09:54:20.452074Z"
    }
   },
   "cell_type": "code",
   "source": [
    "# 2. Then fetch the information we need about it\n",
    "\n",
    "request = youtube.channels().list(\n",
    "    part=\"snippet,contentDetails\",\n",
    "    id= channelId\n",
    "    )\n",
    "response = request.execute()\n",
    "uploaded_playlist = response['items'][0]['contentDetails']['relatedPlaylists']['uploads']\n",
    "uploaded_playlist"
   ],
   "id": "e239a144b37afbe3",
   "outputs": [
    {
     "data": {
      "text/plain": [
       "'UUHi6Q3Z-5oJUC691WLlSntA'"
      ]
     },
     "execution_count": 10,
     "metadata": {},
     "output_type": "execute_result"
    }
   ],
   "execution_count": 10
  },
  {
   "metadata": {
    "ExecuteTime": {
     "end_time": "2025-03-08T09:54:23.550597Z",
     "start_time": "2025-03-08T09:54:21.714530Z"
    }
   },
   "cell_type": "code",
   "source": [
    "channel_videos : list = list()\n",
    "\n",
    "page_token = None\n",
    "\n",
    "while True:\n",
    "    request = youtube.playlistItems().list(\n",
    "            part=\"snippet,contentDetails\",\n",
    "            maxResults=50,\n",
    "            playlistId=uploaded_playlist,\n",
    "            pageToken = page_token\n",
    "    )\n",
    "\n",
    "    response = request.execute()\n",
    "\n",
    "    channel_videos.extend(\n",
    "        v['contentDetails']['videoId']\n",
    "        for v in response['items']\n",
    "    )\n",
    "\n",
    "    if response.get('nextPageToken', None) is None:\n",
    "        break\n",
    "\n",
    "    page_token = response['nextPageToken']\n",
    "\n",
    "len(channel_videos)"
   ],
   "id": "82baec8603d2af56",
   "outputs": [
    {
     "data": {
      "text/plain": [
       "379"
      ]
     },
     "execution_count": 11,
     "metadata": {},
     "output_type": "execute_result"
    }
   ],
   "execution_count": 11
  },
  {
   "metadata": {
    "ExecuteTime": {
     "end_time": "2025-03-08T09:54:51.781831Z",
     "start_time": "2025-03-08T09:54:43.118714Z"
    }
   },
   "cell_type": "code",
   "source": [
    "import time\n",
    "\n",
    "# Get Comments for Every Video\n",
    "commentators : dict[str, set[str]] = {}\n",
    "\n",
    "for video_id in channel_videos[:10]:\n",
    "\n",
    "    page_token = None\n",
    "\n",
    "    video_commentators : set = set()\n",
    "\n",
    "    while True:\n",
    "        request = youtube.commentThreads().list(\n",
    "            part=\"snippet\",\n",
    "            videoId=video_id,\n",
    "            maxResults=100,\n",
    "            pageToken = page_token\n",
    "        )\n",
    "\n",
    "        response = request.execute()\n",
    "\n",
    "        video_commentators.update(\n",
    "            ct['snippet']['topLevelComment']['snippet']['authorDisplayName']\n",
    "            for ct in response['items']\n",
    "        )\n",
    "\n",
    "        if response.get('nextPageToken', None) is None:\n",
    "            break\n",
    "\n",
    "        page_token = response['nextPageToken']\n",
    "\n",
    "    time.sleep(0.1)\n",
    "    commentators[video_id] = video_commentators\n"
   ],
   "id": "83e7ea0b0aedfd4c",
   "outputs": [],
   "execution_count": 13
  },
  {
   "metadata": {
    "ExecuteTime": {
     "end_time": "2025-03-08T09:54:53.685857Z",
     "start_time": "2025-03-08T09:54:53.680770Z"
    }
   },
   "cell_type": "code",
   "source": "len(commentators)",
   "id": "9f2841024d228e20",
   "outputs": [
    {
     "data": {
      "text/plain": [
       "10"
      ]
     },
     "execution_count": 14,
     "metadata": {},
     "output_type": "execute_result"
    }
   ],
   "execution_count": 14
  },
  {
   "metadata": {
    "ExecuteTime": {
     "end_time": "2025-03-07T11:00:16.553289Z",
     "start_time": "2025-03-07T11:00:16.549425Z"
    }
   },
   "cell_type": "code",
   "source": [
    "# Now use networkx to create a Network:\n",
    "#   * Nodes are the Videos\n",
    "#   * The Edge (a, b) is present if a and b share some commentators"
   ],
   "id": "9e25ee1870330a4d",
   "outputs": [],
   "execution_count": 55
  },
  {
   "metadata": {
    "ExecuteTime": {
     "end_time": "2025-03-08T09:55:00.897329Z",
     "start_time": "2025-03-08T09:55:00.566203Z"
    }
   },
   "cell_type": "code",
   "source": [
    "import networkx as nx\n",
    "\n",
    "nodes_list = list(commentators.keys())\n",
    "edges_list = []\n",
    "\n",
    "for i in range(0, len(nodes_list)):\n",
    "    video1 = nodes_list[i]\n",
    "    for j in range(i+1, len(nodes_list)):\n",
    "        video2 = nodes_list[j]\n",
    "\n",
    "        common_commentators = commentators[video1] & commentators[video2]\n",
    "\n",
    "        if len(common_commentators) > 0:\n",
    "            edges_list.append((video1, video2, len(common_commentators)))\n",
    "\n",
    "\n",
    "edges_list\n"
   ],
   "id": "b0891c1d5abd047d",
   "outputs": [
    {
     "data": {
      "text/plain": [
       "[('wUArIUoJxkA', 'oHg8ETcoXIA', 11),\n",
       " ('wUArIUoJxkA', 'YydAr-kkobs', 15),\n",
       " ('wUArIUoJxkA', 'xpU3TBmoZB4', 16),\n",
       " ('wUArIUoJxkA', 'k7HHjV_IzPs', 6),\n",
       " ('wUArIUoJxkA', '_E33gRrWUHM', 6),\n",
       " ('wUArIUoJxkA', 'A9izmvFqfxE', 14),\n",
       " ('wUArIUoJxkA', 'g9jHl0VOQZA', 6),\n",
       " ('wUArIUoJxkA', 'DpsWZQIgqqU', 3),\n",
       " ('wUArIUoJxkA', 'TJ04gk-hoTc', 5),\n",
       " ('oHg8ETcoXIA', 'YydAr-kkobs', 43),\n",
       " ('oHg8ETcoXIA', 'xpU3TBmoZB4', 80),\n",
       " ('oHg8ETcoXIA', 'k7HHjV_IzPs', 5),\n",
       " ('oHg8ETcoXIA', '_E33gRrWUHM', 5),\n",
       " ('oHg8ETcoXIA', 'A9izmvFqfxE', 55),\n",
       " ('oHg8ETcoXIA', 'g9jHl0VOQZA', 34),\n",
       " ('oHg8ETcoXIA', 'DpsWZQIgqqU', 7),\n",
       " ('oHg8ETcoXIA', 'TJ04gk-hoTc', 9),\n",
       " ('YydAr-kkobs', 'xpU3TBmoZB4', 45),\n",
       " ('YydAr-kkobs', 'k7HHjV_IzPs', 3),\n",
       " ('YydAr-kkobs', '_E33gRrWUHM', 8),\n",
       " ('YydAr-kkobs', 'A9izmvFqfxE', 62),\n",
       " ('YydAr-kkobs', 'g9jHl0VOQZA', 25),\n",
       " ('YydAr-kkobs', 'DpsWZQIgqqU', 5),\n",
       " ('YydAr-kkobs', 'TJ04gk-hoTc', 9),\n",
       " ('xpU3TBmoZB4', 'k7HHjV_IzPs', 6),\n",
       " ('xpU3TBmoZB4', '_E33gRrWUHM', 4),\n",
       " ('xpU3TBmoZB4', 'A9izmvFqfxE', 84),\n",
       " ('xpU3TBmoZB4', 'g9jHl0VOQZA', 44),\n",
       " ('xpU3TBmoZB4', 'DpsWZQIgqqU', 10),\n",
       " ('xpU3TBmoZB4', 'TJ04gk-hoTc', 11),\n",
       " ('k7HHjV_IzPs', '_E33gRrWUHM', 4),\n",
       " ('k7HHjV_IzPs', 'A9izmvFqfxE', 9),\n",
       " ('k7HHjV_IzPs', 'g9jHl0VOQZA', 4),\n",
       " ('k7HHjV_IzPs', 'DpsWZQIgqqU', 3),\n",
       " ('k7HHjV_IzPs', 'TJ04gk-hoTc', 2),\n",
       " ('_E33gRrWUHM', 'A9izmvFqfxE', 10),\n",
       " ('_E33gRrWUHM', 'g9jHl0VOQZA', 5),\n",
       " ('_E33gRrWUHM', 'DpsWZQIgqqU', 2),\n",
       " ('A9izmvFqfxE', 'g9jHl0VOQZA', 42),\n",
       " ('A9izmvFqfxE', 'DpsWZQIgqqU', 6),\n",
       " ('A9izmvFqfxE', 'TJ04gk-hoTc', 8),\n",
       " ('g9jHl0VOQZA', 'DpsWZQIgqqU', 5),\n",
       " ('g9jHl0VOQZA', 'TJ04gk-hoTc', 6),\n",
       " ('DpsWZQIgqqU', 'TJ04gk-hoTc', 3)]"
      ]
     },
     "execution_count": 15,
     "metadata": {},
     "output_type": "execute_result"
    }
   ],
   "execution_count": 15
  },
  {
   "metadata": {},
   "cell_type": "code",
   "outputs": [],
   "execution_count": null,
   "source": "",
   "id": "6223f020fdc3644c"
  }
 ],
 "metadata": {
  "kernelspec": {
   "display_name": "Python 3",
   "language": "python",
   "name": "python3"
  },
  "language_info": {
   "codemirror_mode": {
    "name": "ipython",
    "version": 2
   },
   "file_extension": ".py",
   "mimetype": "text/x-python",
   "name": "python",
   "nbconvert_exporter": "python",
   "pygments_lexer": "ipython2",
   "version": "2.7.6"
  }
 },
 "nbformat": 4,
 "nbformat_minor": 5
}
