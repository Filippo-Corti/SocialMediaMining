{
 "cells": [
  {
   "metadata": {},
   "cell_type": "markdown",
   "source": "# Esercizi Python basics\n",
   "id": "8a77807f92f26ee"
  },
  {
   "metadata": {},
   "cell_type": "markdown",
   "source": [
    "#### Es. 1\n",
    "Dati due interi a,b da input(), stampare il loro prodotto se a è uguale b, altrimenti stampare la loro somma."
   ],
   "id": "6fbe4443d06dd69c"
  },
  {
   "metadata": {
    "ExecuteTime": {
     "end_time": "2025-02-27T15:41:55.930570Z",
     "start_time": "2025-02-27T15:41:52.120464Z"
    }
   },
   "cell_type": "code",
   "source": [
    "a = int(input())\n",
    "b = int(input())\n",
    "\n",
    "if a == b:\n",
    "    print(a * b)\n",
    "else:\n",
    "    print(a + b)\n"
   ],
   "id": "fbc121e30a2defb3",
   "outputs": [
    {
     "name": "stdout",
     "output_type": "stream",
     "text": [
      "13\n"
     ]
    }
   ],
   "execution_count": 7
  },
  {
   "metadata": {},
   "cell_type": "markdown",
   "source": [
    "#### Es.2\n",
    "\n",
    "Date due liste x,y, restituire True se il primo e l'ultimo elemento sono uguali (cioè il primo elemento di x è uguale al primo elemento di y, e ultimo elemento di x è uguale all'ultimo di y), Falso altrimenti"
   ],
   "id": "4b70310775db7dec"
  },
  {
   "metadata": {
    "ExecuteTime": {
     "end_time": "2025-02-27T15:43:21.184086Z",
     "start_time": "2025-02-27T15:43:21.173467Z"
    }
   },
   "cell_type": "code",
   "source": [
    "x = [1, 3, 4]\n",
    "y = [2, 4, 6, 1, 2, 3, 4]\n",
    "\n",
    "print(x[0] == y[0] and x[-1] == y[-1])"
   ],
   "id": "e845edaddc0b0808",
   "outputs": [
    {
     "name": "stdout",
     "output_type": "stream",
     "text": [
      "False\n"
     ]
    }
   ],
   "execution_count": 9
  },
  {
   "metadata": {},
   "cell_type": "markdown",
   "source": [
    "#### Es. 3\n",
    "Itera sui numeri da 0 a 10, per ogni iterazione stampa la somma del numero corrente e del precedente"
   ],
   "id": "3be8429bba841fe1"
  },
  {
   "metadata": {
    "ExecuteTime": {
     "end_time": "2025-02-27T15:52:20.815077Z",
     "start_time": "2025-02-27T15:52:20.804460Z"
    }
   },
   "cell_type": "code",
   "source": [
    "x = [i for i in range(10)]\n",
    "for a, b in zip(x, x[1:]):\n",
    "    print(a+b)"
   ],
   "id": "50085e079d6c95d2",
   "outputs": [
    {
     "name": "stdout",
     "output_type": "stream",
     "text": [
      "1\n",
      "3\n",
      "5\n",
      "7\n",
      "9\n",
      "11\n",
      "13\n",
      "15\n",
      "17\n"
     ]
    }
   ],
   "execution_count": 12
  },
  {
   "metadata": {},
   "cell_type": "code",
   "outputs": [],
   "execution_count": null,
   "source": "",
   "id": "b7c99291c13cb51a"
  }
 ],
 "metadata": {
  "kernelspec": {
   "display_name": "Python 3",
   "language": "python",
   "name": "python3"
  },
  "language_info": {
   "codemirror_mode": {
    "name": "ipython",
    "version": 2
   },
   "file_extension": ".py",
   "mimetype": "text/x-python",
   "name": "python",
   "nbconvert_exporter": "python",
   "pygments_lexer": "ipython2",
   "version": "2.7.6"
  }
 },
 "nbformat": 4,
 "nbformat_minor": 5
}
