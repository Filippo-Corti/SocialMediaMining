{
 "cells": [
  {
   "cell_type": "code",
   "id": "initial_id",
   "metadata": {
    "collapsed": true,
    "ExecuteTime": {
     "end_time": "2025-03-20T16:22:17.046647Z",
     "start_time": "2025-03-20T16:22:15.763570Z"
    }
   },
   "source": [
    "import networkx as nx\n",
    "import matplotlib.pyplot as plt\n",
    "import numpy as np\n",
    "from networkx.algorithms import bipartite\n",
    "from statsmodels.distributions.empirical_distribution import ECDF"
   ],
   "outputs": [],
   "execution_count": 44
  },
  {
   "metadata": {
    "ExecuteTime": {
     "end_time": "2025-03-20T15:26:52.221866Z",
     "start_time": "2025-03-20T15:26:50.481353Z"
    }
   },
   "cell_type": "code",
   "source": "G = nx.read_graphml(\"../data/comics/comic-heroes-type.graphml\")",
   "id": "efca28a87b38fc13",
   "outputs": [],
   "execution_count": 3
  },
  {
   "metadata": {
    "ExecuteTime": {
     "end_time": "2025-03-20T15:27:57.704452Z",
     "start_time": "2025-03-20T15:27:57.694589Z"
    }
   },
   "cell_type": "code",
   "source": "print(G)",
   "id": "b8e383ddfbd11273",
   "outputs": [
    {
     "name": "stdout",
     "output_type": "stream",
     "text": [
      "Graph with 19286 nodes and 96519 edges\n"
     ]
    }
   ],
   "execution_count": 11
  },
  {
   "metadata": {
    "ExecuteTime": {
     "end_time": "2025-03-20T15:29:43.351909Z",
     "start_time": "2025-03-20T15:29:43.275088Z"
    }
   },
   "cell_type": "code",
   "source": [
    "for node, data in G.nodes(data=True): # iterate over all the nodes in the graph\n",
    "\n",
    "    if \"type\" in data:\n",
    "        # add mode attribute 1/2 for visualization later\n",
    "\n",
    "        if data[\"type\"] == \"hero\":\n",
    "            G.nodes[node][\"mode\"] = 1\n",
    "        else:\n",
    "             G.nodes[node][\"mode\"] = 2\n",
    "\n",
    "# Remove wrong edges to transform into bipartite\n",
    "wrong_edges = []\n",
    "for e in G.edges():\n",
    "    src, dst = e\n",
    "    if G.nodes[src][\"type\"] == G.nodes[dst][\"type\"]:\n",
    "        wrong_edges.append(e)\n",
    "G.remove_edges_from(wrong_edges)"
   ],
   "id": "d892b49f1b0d37e2",
   "outputs": [],
   "execution_count": 17
  },
  {
   "metadata": {
    "ExecuteTime": {
     "end_time": "2025-03-20T15:30:09.052291Z",
     "start_time": "2025-03-20T15:30:08.993750Z"
    }
   },
   "cell_type": "code",
   "source": [
    "print(bipartite.is_bipartite(G))\n",
    "top_nodes = {n for n, d in G.nodes(data=True) if d[\"mode\"] == 2}\n",
    "bottom_nodes = set(G) - top_nodes"
   ],
   "id": "231464068264f3a0",
   "outputs": [
    {
     "name": "stdout",
     "output_type": "stream",
     "text": [
      "True\n"
     ]
    }
   ],
   "execution_count": 19
  },
  {
   "metadata": {
    "ExecuteTime": {
     "end_time": "2025-03-20T16:04:48.852485Z",
     "start_time": "2025-03-20T16:04:43.748360Z"
    }
   },
   "cell_type": "code",
   "source": "G_heroes = bipartite.weighted_projected_graph(G, bottom_nodes, ratio=False)",
   "id": "bbd92dbf3e79c913",
   "outputs": [],
   "execution_count": 27
  },
  {
   "metadata": {
    "ExecuteTime": {
     "end_time": "2025-03-20T16:05:06.625174Z",
     "start_time": "2025-03-20T16:05:02.438449Z"
    }
   },
   "cell_type": "code",
   "source": [
    "print(G_heroes)\n",
    "\n",
    "nx.write_graphml(G_heroes,path=\"../data/comics/hero_social_weighted_projection.graphml\")\n",
    "\n",
    "nx.density(G_heroes)"
   ],
   "id": "c9102eb7ff5af03d",
   "outputs": [
    {
     "name": "stdout",
     "output_type": "stream",
     "text": [
      "Graph with 6438 nodes and 167073 edges\n"
     ]
    },
    {
     "data": {
      "text/plain": [
       "0.008063095156568771"
      ]
     },
     "execution_count": 28,
     "metadata": {},
     "output_type": "execute_result"
    }
   ],
   "execution_count": 28
  },
  {
   "metadata": {},
   "cell_type": "markdown",
   "source": [
    "#### Esercizio\n",
    "\n",
    "Considera la proiezione di co-occorrenza dei supereroi nella rete bipartita supereroi-fumetti.\n",
    "\n",
    "- Calcola numero di nodi ed edge\n",
    "- Calcola la densità: è una rete sparsa?\n",
    "- Calcola il grado medio: quanto è lontano dal grado mediano? Cosa possiamo ipotizzare?\n",
    "- Stampa la degree distribution del grafo e confrontala con la distribuzione dell'equivalente grafo casuale.\n",
    "- Chi sono i supereroi che appaiono più spesso insieme ad altri? Individuane il top 10%\n",
    "- Quali sono le 3 coppie di supereroi che appaiono più spesso insieme?\n",
    "- Qual è la massima co-occorenza tra due supereroi? E quella media?\n",
    "- Visualizza la rete su Gephi effettuando community detection sui nodi\n"
   ],
   "id": "ff02f9d74436e060"
  },
  {
   "metadata": {
    "ExecuteTime": {
     "end_time": "2025-03-20T16:14:38.544448Z",
     "start_time": "2025-03-20T16:14:38.527735Z"
    }
   },
   "cell_type": "code",
   "source": [
    "# Numero di Nodi ed Edge\n",
    "\n",
    "nodes, edges = G_heroes.order(), G_heroes.size()\n",
    "nodes, edges"
   ],
   "id": "3a23d92e8f023125",
   "outputs": [
    {
     "data": {
      "text/plain": [
       "(6438, 167073)"
      ]
     },
     "execution_count": 33,
     "metadata": {},
     "output_type": "execute_result"
    }
   ],
   "execution_count": 33
  },
  {
   "metadata": {
    "ExecuteTime": {
     "end_time": "2025-03-20T16:14:44.654262Z",
     "start_time": "2025-03-20T16:14:44.638538Z"
    }
   },
   "cell_type": "code",
   "source": [
    "# Density\n",
    "\n",
    "density = nx.density(G_heroes)\n",
    "density"
   ],
   "id": "d10a1201758ef94f",
   "outputs": [
    {
     "data": {
      "text/plain": [
       "0.008063095156568771"
      ]
     },
     "execution_count": 35,
     "metadata": {},
     "output_type": "execute_result"
    }
   ],
   "execution_count": 35
  },
  {
   "metadata": {
    "ExecuteTime": {
     "end_time": "2025-03-20T16:19:02.443615Z",
     "start_time": "2025-03-20T16:19:02.421773Z"
    }
   },
   "cell_type": "code",
   "source": [
    "# Mean and Median Degree\n",
    "\n",
    "degree_list = list(dict(G_heroes.degree()).values())\n",
    "\n",
    "mean_degree = np.mean(degree_list)\n",
    "print(mean_degree)\n",
    "\n",
    "median_degree = np.median(degree_list)\n",
    "print(median_degree)"
   ],
   "id": "f39084428937dec2",
   "outputs": [
    {
     "name": "stdout",
     "output_type": "stream",
     "text": [
      "51.90214352283318\n",
      "20.0\n"
     ]
    }
   ],
   "execution_count": 41
  },
  {
   "metadata": {
    "ExecuteTime": {
     "end_time": "2025-03-20T16:20:07.878177Z",
     "start_time": "2025-03-20T16:20:07.308529Z"
    }
   },
   "cell_type": "code",
   "source": [
    "# Plot the Degree Distribution\n",
    "\n",
    "np.arange(min(degree_list),max(degree_list)+1)\n",
    "count,bins = np.histogram(degree_list, bins=np.arange(min(degree_list),max(degree_list)+2))\n",
    "\n",
    "pdf = count / G_heroes.order()\n",
    "fig = plt.figure(figsize=(8,4))\n",
    "plt.plot(bins[:-1],pdf, color='tomato',marker='o', linestyle='--', ms=5)\n",
    "plt.xscale('log')\n",
    "plt.xlabel('Grado',size=15, weight = 'bold')\n",
    "plt.ylabel('P(X=x)',size=15, weight = 'bold')"
   ],
   "id": "467877b631e6bba",
   "outputs": [
    {
     "data": {
      "text/plain": [
       "Text(0, 0.5, 'P(X=x)')"
      ]
     },
     "execution_count": 43,
     "metadata": {},
     "output_type": "execute_result"
    },
    {
     "data": {
      "text/plain": [
       "<Figure size 800x400 with 1 Axes>"
      ],
      "image/png": "[encoded data removed]"
     },
     "metadata": {},
     "output_type": "display_data"
    }
   ],
   "execution_count": 43
  },
  {
   "metadata": {
    "ExecuteTime": {
     "end_time": "2025-03-20T16:22:37.120156Z",
     "start_time": "2025-03-20T16:22:36.088029Z"
    }
   },
   "cell_type": "code",
   "source": [
    "random_graph = nx.fast_gnp_random_graph(nodes,density)\n",
    "random_degree = list(dict(random_graph.degree()).values())\n",
    "cdf = ECDF(degree_list)\n",
    "x = np.unique(degree_list)\n",
    "y = cdf(x)\n",
    "\n",
    "cdf_random = ECDF(random_degree)\n",
    "x_random = np.unique(random_degree)\n",
    "y_random = cdf_random(x_random)\n",
    "\n",
    "fig_cdf = plt.figure(figsize=(8,4))\n",
    "axes = fig_cdf.gca()\n",
    "axes.set_xscale('log')\n",
    "axes.set_yscale('log')\n",
    "axes.loglog(x,1-y,marker='o',ms=8, linestyle='--',label='Graph')\n",
    "axes.loglog(x_random,1-y_random,marker='+',ms=10, linestyle='--',label='Random-Network')\n",
    "axes.set_xlabel('Degree',size=20)\n",
    "axes.set_ylabel('ECCDF', size = 20)\n",
    "axes.legend()"
   ],
   "id": "3b07c3bf6d18ba08",
   "outputs": [
    {
     "data": {
      "text/plain": [
       "<matplotlib.legend.Legend at 0x2e219c752e0>"
      ]
     },
     "execution_count": 45,
     "metadata": {},
     "output_type": "execute_result"
    },
    {
     "data": {
      "text/plain": [
       "<Figure size 800x400 with 1 Axes>"
      ],
      "image/png": "[encoded data removed]"
     },
     "metadata": {},
     "output_type": "display_data"
    }
   ],
   "execution_count": 45
  },
  {
   "metadata": {
    "ExecuteTime": {
     "end_time": "2025-03-20T16:43:18.176777Z",
     "start_time": "2025-03-20T16:43:18.159436Z"
    }
   },
   "cell_type": "code",
   "source": [
    "percentile_90 = np.percentile(degree_list, 90)\n",
    "\n",
    "top_heroes = [\n",
    "    n for n in G_heroes.nodes()\n",
    "    if G.degree[n] > percentile_90\n",
    "]\n",
    "\n",
    "top_heroes"
   ],
   "id": "b3e51901265fd379",
   "outputs": [
    {
     "data": {
      "text/plain": [
       "['GALACTUS/GALAN',\n",
       " 'WOLVERINE/LOGAN',\n",
       " 'CAPTAIN AMERICA',\n",
       " 'HELLCAT/PATSY WALKER',\n",
       " 'BOOMER/TABITHA SMITH',\n",
       " 'QUICKSILVER/PIETRO M',\n",
       " 'THUNDERBIRD II/JAMES',\n",
       " 'OSBORN, LIZ ALLAN',\n",
       " 'MAGIK/ILLYANA RASPUT',\n",
       " 'QUASAR III/WENDELL V',\n",
       " 'URICH, BEN',\n",
       " \"SHANNA/SHANNA O'HARA\",\n",
       " 'WATSON, ANNA',\n",
       " 'CRYSTAL [INHUMAN]',\n",
       " 'MR. FANTASTIC/REED R',\n",
       " 'IRON FIST/DANIEL RAN',\n",
       " 'NIGHTHAWK II/KYLE RI',\n",
       " 'HAWK',\n",
       " 'MAN-THING/THEODORE T',\n",
       " 'BISHOP /',\n",
       " 'SPIDER-MAN/PETER PAR',\n",
       " 'SPIDER-MAN CLONE/BEN',\n",
       " 'BEAST/HENRY &HANK& P',\n",
       " 'NELSON, FRANKLIN FOG',\n",
       " 'JAMESON, COL. JOHN',\n",
       " 'FIRESTAR/ANGELICA JO',\n",
       " 'NOVA/RICHARD RIDER',\n",
       " 'MACTAGGERT, MOIRA KI',\n",
       " 'MASTERS, ALICIA REIS',\n",
       " 'TALBOT, GLENN',\n",
       " 'MOONDRAGON/HEATHER D',\n",
       " 'USAGENT/CAPTAIN JOHN',\n",
       " 'VOLSTAGG',\n",
       " 'BLACK BOLT/BLACKANTO',\n",
       " 'ZABU',\n",
       " 'PARKER, MAY',\n",
       " 'KINCAID, DR. JANE FO',\n",
       " 'SUB-MARINER/NAMOR MA',\n",
       " 'CAPTAIN BRITAIN/BRIA',\n",
       " 'CANNONBALL II/SAM GU',\n",
       " 'JUSTICE II/VANCE AST',\n",
       " 'ANGEL/WARREN KENNETH',\n",
       " 'BALDER [ASGARDIAN]',\n",
       " 'SHADOWCAT/KATHERINE',\n",
       " 'FANDRAL [ASGARDIAN]',\n",
       " 'GRANT, GLORIA GLORY',\n",
       " 'DR. DOOM/VICTOR VON',\n",
       " 'GHOST RIDER III/DAN',\n",
       " 'HOGAN, HAROLD J. HAP',\n",
       " 'WARLOCK III',\n",
       " 'JAMESON, J. JONAH',\n",
       " 'LOKI [ASGARDIAN]',\n",
       " 'KINGPIN/WILSON FISK',\n",
       " 'THOMPSON, EUGENE FLA',\n",
       " 'LEEDS, BETTY BRANT',\n",
       " 'STORM/ORORO MUNROE S',\n",
       " 'TRITON',\n",
       " 'UATU',\n",
       " 'SILVER SURFER/NORRIN',\n",
       " 'SUMMERS, NATHAN CHRI',\n",
       " 'ODIN [ASGARDIAN]',\n",
       " 'PUCK/EUGENE MILTON J',\n",
       " 'SIF',\n",
       " 'GHOST RIDER II/JOHNN',\n",
       " 'SUNSPOT/ROBERTO DACO',\n",
       " 'ANT-MAN/DR. HENRY J.',\n",
       " 'COLOSSUS II/PETER RA',\n",
       " 'MOCKINGBIRD/DR. BARB',\n",
       " 'COOPER, DR. VALERIE',\n",
       " 'HERCULES [GREEK GOD]',\n",
       " 'CAGE, LUKE/CARL LUCA',\n",
       " 'WATSON-PARKER, MARY',\n",
       " 'OSBORN, HARRY',\n",
       " 'NAMORITA/NITA PRENTI',\n",
       " 'HUMAN TORCH ANDROID/',\n",
       " 'IRON MAN IV/JAMES R.',\n",
       " 'FALCON/SAM WILSON',\n",
       " 'SPIDER-WOMAN/JESSICA',\n",
       " 'THUNDERSTRIKE/ERIC K',\n",
       " 'TIGRA/GREER NELSON',\n",
       " 'PAGE, KAREN',\n",
       " 'BINARY/CAROL DANVERS',\n",
       " 'DAGGER/TANDY BOWEN',\n",
       " 'KARNAK [INHUMAN]',\n",
       " 'MEGGAN',\n",
       " 'CAPTAIN MARVEL II/MO',\n",
       " 'WONDER MAN/SIMON WIL',\n",
       " 'FURY, COL. NICHOLAS',\n",
       " 'NORTHSTAR/JEAN-PAUL',\n",
       " 'PSYLOCKE/ELISABETH B',\n",
       " 'DAZZLER II/ALLISON B',\n",
       " 'KA-ZAR/KEVIN PLUNDER',\n",
       " 'CLEA',\n",
       " 'SASQUATCH/WALTER LAN',\n",
       " 'DRACULA/VLAD TEPES',\n",
       " 'THING/BENJAMIN J. GR',\n",
       " 'RICHARDS, FRANKLIN B',\n",
       " 'HEIMDALL [ASGARDIAN]',\n",
       " 'THOR/DR. DONALD BLAK',\n",
       " 'CYPHER/DOUG RAMSEY',\n",
       " 'SHE-HULK/JENNIFER WA',\n",
       " 'JUBILEE/JUBILATION L',\n",
       " 'JONES, RICHARD MILHO',\n",
       " 'DAREDEVIL/MATT MURDO',\n",
       " 'FORGE',\n",
       " 'HULK/DR. ROBERT BRUC',\n",
       " 'HOGUN [ASGARDIAN]',\n",
       " 'BANNER, BETTY ROSS T',\n",
       " 'ICEMAN/ROBERT BOBBY',\n",
       " 'PUNISHER II/FRANK CA',\n",
       " 'CAPTAIN MARVEL/CAPTA',\n",
       " 'ENCHANTRESS/AMORA/HE',\n",
       " 'KNIGHT, MISTY',\n",
       " 'SHANG-CHI',\n",
       " 'NIGHTCRAWLER/KURT WA',\n",
       " 'WASP/JANET VAN DYNE',\n",
       " 'LOCKHEED',\n",
       " 'DOC SAMSON/DR. LEONA',\n",
       " 'MYSTIQUE/RAVEN DARKH',\n",
       " 'INVISIBLE WOMAN/SUE',\n",
       " \"BLACK PANTHER/T'CHAL\",\n",
       " 'ROBERTSON, JOE',\n",
       " 'HUDSON, HEATHER',\n",
       " 'MEDUSA/MEDUSALITH AM',\n",
       " 'SHAMAN/MICHAEL TWOYO',\n",
       " 'SANDMAN/WILLIAM BAKE',\n",
       " 'MAGNETO/MAGNUS/ERIC',\n",
       " 'GORGON [INHUMAN]',\n",
       " 'DUGAN, TIMOTHY ALOYI',\n",
       " 'STARFOX/EROS',\n",
       " 'GEE/ALEX POWER',\n",
       " 'MOON KNIGHT/MARC SPE',\n",
       " 'PHOENIX III/RACHEL S',\n",
       " 'CYCLOPS/SCOTT SUMMER',\n",
       " 'CARTER, SHARON',\n",
       " 'ROGUE /',\n",
       " 'DR. STRANGE/STEPHEN',\n",
       " 'SERSI/SYLVIA',\n",
       " 'GAMBIT/REMY LEBEAU',\n",
       " 'POLARIS/LORNA DANE',\n",
       " 'NORRISS, SISTER BARB',\n",
       " 'WOLFSBANE/RAHNE SINC',\n",
       " 'MIRAGE II/DANIELLE M',\n",
       " 'IRON MAN/TONY STARK',\n",
       " 'BLACK KNIGHT V/DANE',\n",
       " 'WONG',\n",
       " 'MARVEL GIRL/JEAN GRE',\n",
       " 'HOGAN, VIRGINIA PEPP',\n",
       " 'PROFESSOR X/CHARLES',\n",
       " 'SCARLET WITCH/WANDA',\n",
       " 'HAVOK/ALEX SUMMERS',\n",
       " 'HUMAN TORCH/JOHNNY S',\n",
       " 'BLACK WIDOW/NATASHA',\n",
       " 'BANSHEE/SEAN CASSIDY',\n",
       " 'WHITE QUEEN/EMMA FRO',\n",
       " 'RED SKULL/JOHANN SCH',\n",
       " 'SPEEDBALL/ROBBIE BAL',\n",
       " 'ROSS, GEN. THADDEUS',\n",
       " 'VISION',\n",
       " 'MEPHISTO',\n",
       " 'JARVIS, EDWIN']"
      ]
     },
     "execution_count": 56,
     "metadata": {},
     "output_type": "execute_result"
    }
   ],
   "execution_count": 56
  },
  {
   "metadata": {
    "ExecuteTime": {
     "end_time": "2025-03-20T16:51:37.822669Z",
     "start_time": "2025-03-20T16:51:36.902116Z"
    }
   },
   "cell_type": "code",
   "source": [
    "sorted(\n",
    "    G_heroes.edges(data=True),\n",
    "    key=lambda e: e[2]['weight'],\n",
    "    reverse=True\n",
    ")[:3]\n",
    "\n"
   ],
   "id": "c1d5ee0e216591d0",
   "outputs": [
    {
     "data": {
      "text/plain": [
       "[('THING/BENJAMIN J. GR', 'HUMAN TORCH/JOHNNY S', {'weight': 744}),\n",
       " ('MR. FANTASTIC/REED R', 'HUMAN TORCH/JOHNNY S', {'weight': 713}),\n",
       " ('MR. FANTASTIC/REED R', 'THING/BENJAMIN J. GR', {'weight': 708})]"
      ]
     },
     "execution_count": 82,
     "metadata": {},
     "output_type": "execute_result"
    }
   ],
   "execution_count": 82
  },
  {
   "metadata": {
    "ExecuteTime": {
     "end_time": "2025-03-20T16:52:00.980615Z",
     "start_time": "2025-03-20T16:52:00.129729Z"
    }
   },
   "cell_type": "code",
   "source": [
    "sorted(\n",
    "    G_heroes.edges(data=True),\n",
    "    key=lambda e: e[2]['weight'],\n",
    "    reverse=True\n",
    ")[0]"
   ],
   "id": "d8c063a4ed53b0cc",
   "outputs": [
    {
     "data": {
      "text/plain": [
       "('THING/BENJAMIN J. GR', 'HUMAN TORCH/JOHNNY S', {'weight': 744})"
      ]
     },
     "execution_count": 83,
     "metadata": {},
     "output_type": "execute_result"
    }
   ],
   "execution_count": 83
  },
  {
   "metadata": {
    "ExecuteTime": {
     "end_time": "2025-03-20T16:53:04.455903Z",
     "start_time": "2025-03-20T16:53:04.357752Z"
    }
   },
   "cell_type": "code",
   "source": [
    "weights = [data['weight'] for n1, n2, data in G_heroes.edges(data=True)]\n",
    "\n",
    "np.max(weights), np.mean(weights)"
   ],
   "id": "b4e7ab4ecc157ad5",
   "outputs": [
    {
     "data": {
      "text/plain": [
       "(np.int64(744), np.float64(3.40871355634962))"
      ]
     },
     "execution_count": 87,
     "metadata": {},
     "output_type": "execute_result"
    }
   ],
   "execution_count": 87
  },
  {
   "metadata": {},
   "cell_type": "code",
   "outputs": [],
   "execution_count": null,
   "source": "",
   "id": "1dcd787eb49b5638"
  }
 ],
 "metadata": {
  "kernelspec": {
   "display_name": "Python 3",
   "language": "python",
   "name": "python3"
  },
  "language_info": {
   "codemirror_mode": {
    "name": "ipython",
    "version": 2
   },
   "file_extension": ".py",
   "mimetype": "text/x-python",
   "name": "python",
   "nbconvert_exporter": "python",
   "pygments_lexer": "ipython2",
   "version": "2.7.6"
  }
 },
 "nbformat": 4,
 "nbformat_minor": 5
}
