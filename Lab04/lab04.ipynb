{
 "cells": [
  {
   "metadata": {},
   "cell_type": "markdown",
   "source": "# Youtube Data API",
   "id": "fcc4264833513c96"
  },
  {
   "metadata": {},
   "cell_type": "code",
   "source": "!pip install google-api-python-client",
   "id": "ffc9c2e2aea5c38a",
   "outputs": [],
   "execution_count": null
  },
  {
   "metadata": {
    "ExecuteTime": {
     "end_time": "2025-03-13T15:23:22.472877Z",
     "start_time": "2025-03-13T15:23:22.165458Z"
    }
   },
   "cell_type": "code",
   "source": [
    "import json\n",
    "from googleapiclient.discovery import build"
   ],
   "id": "1272d8bcf9a36869",
   "outputs": [],
   "execution_count": 2
  },
  {
   "metadata": {
    "ExecuteTime": {
     "end_time": "2025-03-13T15:23:33.144131Z",
     "start_time": "2025-03-13T15:23:33.121436Z"
    }
   },
   "cell_type": "code",
   "source": [
    "DEVELOPER_KEY = json.load(open('../keys/youtube_key.json'))['api_key']\n",
    "YOUTUBE_API_SERVICE_NAME = 'youtube'\n",
    "YOUTUBE_API_VERSION = 'v3'\n",
    "\n",
    "youtube = build(\n",
    "    YOUTUBE_API_SERVICE_NAME,\n",
    "    YOUTUBE_API_VERSION,\n",
    "    developerKey=DEVELOPER_KEY\n",
    ")\n"
   ],
   "id": "8c1199c140bb718e",
   "outputs": [],
   "execution_count": 4
  },
  {
   "metadata": {
    "ExecuteTime": {
     "end_time": "2025-03-13T15:23:36.305039Z",
     "start_time": "2025-03-13T15:23:35.500127Z"
    }
   },
   "cell_type": "code",
   "source": [
    "# Get Channel object\n",
    "\n",
    "# 1. First find Channel ID by Channel Name\n",
    "\n",
    "request = youtube.search().list(\n",
    "        part=\"snippet\",\n",
    "        maxResults=5,\n",
    "        q=\"Barbascura eXtra\",\n",
    "        type=\"channel\"\n",
    "    )\n",
    "\n",
    "response = request.execute()\n",
    "\n",
    "channelId = response['items'][0]['id']['channelId']\n",
    "\n",
    "channelId"
   ],
   "id": "ddc5566116e6dda3",
   "outputs": [
    {
     "data": {
      "text/plain": [
       "'UCHi6Q3Z-5oJUC691WLlSntA'"
      ]
     },
     "execution_count": 5,
     "metadata": {},
     "output_type": "execute_result"
    }
   ],
   "execution_count": 5
  },
  {
   "metadata": {
    "ExecuteTime": {
     "end_time": "2025-03-13T15:23:39.535412Z",
     "start_time": "2025-03-13T15:23:39.454332Z"
    }
   },
   "cell_type": "code",
   "source": [
    "# 2. Then fetch the information we need about it\n",
    "\n",
    "request = youtube.channels().list(\n",
    "    part=\"snippet,contentDetails\",\n",
    "    id= channelId\n",
    "    )\n",
    "response = request.execute()\n",
    "uploaded_playlist = response['items'][0]['contentDetails']['relatedPlaylists']['uploads']\n",
    "uploaded_playlist"
   ],
   "id": "e239a144b37afbe3",
   "outputs": [
    {
     "data": {
      "text/plain": [
       "'UUHi6Q3Z-5oJUC691WLlSntA'"
      ]
     },
     "execution_count": 6,
     "metadata": {},
     "output_type": "execute_result"
    }
   ],
   "execution_count": 6
  },
  {
   "metadata": {
    "ExecuteTime": {
     "end_time": "2025-03-13T15:23:43.986489Z",
     "start_time": "2025-03-13T15:23:41.463046Z"
    }
   },
   "cell_type": "code",
   "source": [
    "channel_videos : list = list()\n",
    "\n",
    "page_token = None\n",
    "\n",
    "while True:\n",
    "    request = youtube.playlistItems().list(\n",
    "            part=\"snippet,contentDetails\",\n",
    "            maxResults=50,\n",
    "            playlistId=uploaded_playlist,\n",
    "            pageToken = page_token\n",
    "    )\n",
    "\n",
    "    response = request.execute()\n",
    "\n",
    "    channel_videos.extend(\n",
    "        v['contentDetails']['videoId']\n",
    "        for v in response['items']\n",
    "    )\n",
    "\n",
    "    if response.get('nextPageToken', None) is None:\n",
    "        break\n",
    "\n",
    "    page_token = response['nextPageToken']\n",
    "\n",
    "len(channel_videos)"
   ],
   "id": "82baec8603d2af56",
   "outputs": [
    {
     "data": {
      "text/plain": [
       "380"
      ]
     },
     "execution_count": 7,
     "metadata": {},
     "output_type": "execute_result"
    }
   ],
   "execution_count": 7
  },
  {
   "metadata": {
    "ExecuteTime": {
     "end_time": "2025-03-13T15:25:26.893713Z",
     "start_time": "2025-03-13T15:23:46.338165Z"
    }
   },
   "cell_type": "code",
   "source": [
    "import time\n",
    "\n",
    "# Get Comments for Every Video\n",
    "commentators : dict[str, set[str]] = {}\n",
    "\n",
    "for video_id in channel_videos[:100]:\n",
    "\n",
    "    page_token = None\n",
    "\n",
    "    video_commentators : set = set()\n",
    "\n",
    "    while True:\n",
    "        request = youtube.commentThreads().list(\n",
    "            part=\"snippet\",\n",
    "            videoId=video_id,\n",
    "            maxResults=100,\n",
    "            pageToken = page_token\n",
    "        )\n",
    "\n",
    "        response = request.execute()\n",
    "\n",
    "        video_commentators.update(\n",
    "            ct['snippet']['topLevelComment']['snippet']['authorDisplayName']\n",
    "            for ct in response['items']\n",
    "        )\n",
    "\n",
    "        if response.get('nextPageToken', None) is None:\n",
    "            break\n",
    "\n",
    "        page_token = response['nextPageToken']\n",
    "\n",
    "    time.sleep(0.1)\n",
    "    commentators[video_id] = video_commentators\n"
   ],
   "id": "83e7ea0b0aedfd4c",
   "outputs": [],
   "execution_count": 8
  },
  {
   "metadata": {
    "ExecuteTime": {
     "end_time": "2025-03-13T15:25:30.828266Z",
     "start_time": "2025-03-13T15:25:30.807696Z"
    }
   },
   "cell_type": "code",
   "source": "len(commentators)",
   "id": "9f2841024d228e20",
   "outputs": [
    {
     "data": {
      "text/plain": [
       "100"
      ]
     },
     "execution_count": 9,
     "metadata": {},
     "output_type": "execute_result"
    }
   ],
   "execution_count": 9
  },
  {
   "metadata": {
    "ExecuteTime": {
     "end_time": "2025-03-07T11:00:16.553289Z",
     "start_time": "2025-03-07T11:00:16.549425Z"
    }
   },
   "cell_type": "code",
   "source": [
    "# Now use networkx to create a Network:\n",
    "#   * Nodes are the Videos\n",
    "#   * The Edge (a, b) is present if a and b share some commentators"
   ],
   "id": "9e25ee1870330a4d",
   "outputs": [],
   "execution_count": 55
  },
  {
   "metadata": {
    "ExecuteTime": {
     "end_time": "2025-03-13T15:25:55.890924Z",
     "start_time": "2025-03-13T15:25:55.844714Z"
    }
   },
   "cell_type": "code",
   "source": [
    "# Write Weighted Edge List to a File\n",
    "\n",
    "nodes_list = list(commentators.keys())\n",
    "edges_list = []\n",
    "\n",
    "for i in range(0, len(nodes_list)):\n",
    "    video1 = nodes_list[i]\n",
    "    for j in range(i+1, len(nodes_list)):\n",
    "        video2 = nodes_list[j]\n",
    "\n",
    "        common_commentators = commentators[video1] & commentators[video2]\n",
    "\n",
    "        if len(common_commentators) > 5:\n",
    "            edges_list.append((video1, video2, len(common_commentators)))\n",
    "\n",
    "\n",
    "with open('../data/barbascurax_commenters.edges', 'w') as f:\n",
    "    f.write('\\n'.join(\"%s %s %d\" % edge for edge in edges_list))\n"
   ],
   "id": "b0891c1d5abd047d",
   "outputs": [],
   "execution_count": 14
  },
  {
   "metadata": {
    "ExecuteTime": {
     "end_time": "2025-03-13T15:25:58.529107Z",
     "start_time": "2025-03-13T15:25:58.501804Z"
    }
   },
   "cell_type": "code",
   "source": [
    "# Build the Network\n",
    "\n",
    "import networkx as nx\n",
    "\n",
    "G = nx.read_weighted_edgelist(\n",
    "    '../data/barbascurax_commenters.edges',\n",
    ")\n",
    "\n",
    "G.order(), G.size()"
   ],
   "id": "6223f020fdc3644c",
   "outputs": [
    {
     "data": {
      "text/plain": [
       "(97, 2749)"
      ]
     },
     "execution_count": 15,
     "metadata": {},
     "output_type": "execute_result"
    }
   ],
   "execution_count": 15
  },
  {
   "metadata": {
    "ExecuteTime": {
     "end_time": "2025-03-13T15:26:00.001415Z",
     "start_time": "2025-03-13T15:25:59.853049Z"
    }
   },
   "cell_type": "code",
   "source": [
    "# Draw the Network\n",
    "\n",
    "pos=nx.spring_layout(G)\n",
    "\n",
    "nx.draw(\n",
    "    G,\n",
    "    pos=pos,\n",
    "    node_color=\"lightblue\",\n",
    "    edge_color=\"gray\"\n",
    ")"
   ],
   "id": "f978683ebdfd9938",
   "outputs": [
    {
     "data": {
      "text/plain": [
       "<Figure size 640x480 with 1 Axes>"
      ],
      "image/png": "[encoded data removed]"
     },
     "metadata": {},
     "output_type": "display_data"
    }
   ],
   "execution_count": 16
  },
  {
   "metadata": {
    "ExecuteTime": {
     "end_time": "2025-03-13T15:26:32.626457Z",
     "start_time": "2025-03-13T15:26:32.571282Z"
    }
   },
   "cell_type": "code",
   "source": "nx.write_gexf(G, '../data/barbascurax_commenters.gexf')",
   "id": "38d5fd539a546b62",
   "outputs": [],
   "execution_count": 17
  }
 ],
 "metadata": {
  "kernelspec": {
   "display_name": "Python 3",
   "language": "python",
   "name": "python3"
  },
  "language_info": {
   "codemirror_mode": {
    "name": "ipython",
    "version": 2
   },
   "file_extension": ".py",
   "mimetype": "text/x-python",
   "name": "python",
   "nbconvert_exporter": "python",
   "pygments_lexer": "ipython2",
   "version": "2.7.6"
  }
 },
 "nbformat": 4,
 "nbformat_minor": 5
}
