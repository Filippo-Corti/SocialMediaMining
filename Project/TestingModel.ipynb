{
 "cells": [
  {
   "cell_type": "code",
   "id": "initial_id",
   "metadata": {
    "collapsed": true,
    "ExecuteTime": {
     "end_time": "2025-05-11T18:44:50.868569Z",
     "start_time": "2025-05-11T18:44:38.486492Z"
    }
   },
   "source": [
    "from transformers import AutoTokenizer, AutoModelForSequenceClassification, pipeline\n",
    "import torch\n",
    "\n",
    "# Load fine-tuned model\n",
    "model_name = \"m-newhauser/distilbert-political-tweets\"\n",
    "model = AutoModelForSequenceClassification.from_pretrained(model_name)\n",
    "tokenizer = AutoTokenizer.from_pretrained(model_name)\n",
    "\n",
    "classifier = pipeline(\"text-classification\", model=model, tokenizer=tokenizer, device=0)"
   ],
   "outputs": [
    {
     "name": "stderr",
     "output_type": "stream",
     "text": [
      "C:\\Users\\Filippo Corti\\miniconda3\\envs\\SocialMediaMining\\Lib\\site-packages\\tqdm\\auto.py:21: TqdmWarning: IProgress not found. Please update jupyter and ipywidgets. See https://ipywidgets.readthedocs.io/en/stable/user_install.html\n",
      "  from .autonotebook import tqdm as notebook_tqdm\n"
     ]
    }
   ],
   "execution_count": 1
  },
  {
   "metadata": {
    "ExecuteTime": {
     "end_time": "2025-05-11T18:45:07.314498Z",
     "start_time": "2025-05-11T18:45:02.172304Z"
    }
   },
   "cell_type": "code",
   "source": [
    "pipe = pipeline(\n",
    "    \"text-classification\",\n",
    "    model=\"matous-volf/political-leaning-politics\",\n",
    "    tokenizer=\"launch/POLITICS\"\n",
    ")\n"
   ],
   "id": "cae0a771d297390b",
   "outputs": [
    {
     "name": "stderr",
     "output_type": "stream",
     "text": [
      "Device set to use cuda:0\n"
     ]
    }
   ],
   "execution_count": 4
  },
  {
   "metadata": {
    "ExecuteTime": {
     "end_time": "2025-05-11T18:46:29.338747Z",
     "start_time": "2025-05-11T18:46:29.245488Z"
    }
   },
   "cell_type": "code",
   "source": [
    "text = \"Make america great again\"\n",
    "\n",
    "output = pipe(text)\n",
    "print(output)"
   ],
   "id": "a1dcb6d0aa7b0cd7",
   "outputs": [
    {
     "name": "stdout",
     "output_type": "stream",
     "text": [
      "[{'label': 'LABEL_0', 'score': 0.6790661811828613}]\n"
     ]
    }
   ],
   "execution_count": 9
  },
  {
   "metadata": {
    "ExecuteTime": {
     "end_time": "2025-05-11T17:34:23.087764Z",
     "start_time": "2025-05-11T17:34:22.588188Z"
    }
   },
   "cell_type": "code",
   "source": [
    "text = \"President Trump is the best America has ever had\"\n",
    "text2 = \"President Trump is the worst America has ever had\"\n",
    "\n",
    "result = classifier(text)\n",
    "result2 = classifier(text2)\n",
    "\n",
    "print(result)\n",
    "print(result2)"
   ],
   "id": "1b03bbc034b78a06",
   "outputs": [
    {
     "name": "stdout",
     "output_type": "stream",
     "text": [
      "[{'label': 'Republican', 'score': 0.9959179759025574}]\n",
      "[{'label': 'Republican', 'score': 0.9999874830245972}]\n"
     ]
    }
   ],
   "execution_count": 2
  },
  {
   "metadata": {
    "ExecuteTime": {
     "end_time": "2025-05-11T17:34:27.749206Z",
     "start_time": "2025-05-11T17:34:27.676784Z"
    }
   },
   "cell_type": "code",
   "source": [
    "text = \"President Trump is the worst America has ever had\"\n",
    "\n",
    "# Tokenize\n",
    "inputs = tokenizer(text, return_tensors=\"pt\")\n",
    "labels = torch.tensor([0])\n",
    "outputs = model(**inputs, labels=labels)\n",
    "loss, logits = outputs[:2]\n",
    "print(logits.softmax(dim=-1)[0].tolist()) # Result in [Left, Center, Right]"
   ],
   "id": "4de2ba343f111c10",
   "outputs": [
    {
     "name": "stdout",
     "output_type": "stream",
     "text": [
      "[0.9999874830245972, 1.256377527170116e-05]\n"
     ]
    }
   ],
   "execution_count": 3
  },
  {
   "metadata": {},
   "cell_type": "code",
   "outputs": [],
   "execution_count": null,
   "source": [
    "# The Issue is that it's trained to recognize political bias in news. It needs fine-tuning on small texts\n",
    "# (politicalBiasBERT)\n",
    "\n",
    "# About m-newhauser/distilbert-political-tweets > Same issue apparently\n",
    "\n",
    "# I should probably match it with sentiment analysis tool (or"
   ],
   "id": "d4a750414a952963"
  },
  {
   "metadata": {
    "ExecuteTime": {
     "end_time": "2025-05-11T18:44:54.469421Z",
     "start_time": "2025-05-11T18:44:54.405275Z"
    }
   },
   "cell_type": "code",
   "source": "print(torch.cuda.is_available())",
   "id": "708bd3fbeabb6c63",
   "outputs": [
    {
     "name": "stdout",
     "output_type": "stream",
     "text": [
      "True\n"
     ]
    }
   ],
   "execution_count": 2
  },
  {
   "metadata": {
    "ExecuteTime": {
     "end_time": "2025-05-05T12:32:44.701179Z",
     "start_time": "2025-05-05T12:32:44.696646Z"
    }
   },
   "cell_type": "code",
   "source": [
    "# Testing llama3.2 - 3b params\n",
    "\n",
    "#!pip install ollama"
   ],
   "id": "9c21daa6ba03018d",
   "outputs": [],
   "execution_count": 1
  },
  {
   "metadata": {
    "ExecuteTime": {
     "end_time": "2025-05-05T12:48:57.178982Z",
     "start_time": "2025-05-05T12:48:56.277919Z"
    }
   },
   "cell_type": "code",
   "source": "import ollama",
   "id": "2ea6060ac0f05342",
   "outputs": [],
   "execution_count": 1
  },
  {
   "metadata": {
    "ExecuteTime": {
     "end_time": "2025-05-05T12:49:09.366398Z",
     "start_time": "2025-05-05T12:49:03.356186Z"
    }
   },
   "cell_type": "code",
   "source": [
    "response = ollama.chat(\n",
    "    model=\"gemma3:4b\",\n",
    "    messages=[\n",
    "        {\"role\": \"user\", \"content\": \"Hello my friend how are you today\"},\n",
    "    ],\n",
    ")\n",
    "print(response)"
   ],
   "id": "9779b0bbd950565b",
   "outputs": [
    {
     "name": "stdout",
     "output_type": "stream",
     "text": [
      "model='gemma3:4b' created_at='2025-05-05T12:49:09.363469Z' done=True done_reason='stop' total_duration=6003178600 load_duration=50659900 prompt_eval_count=16 prompt_eval_duration=310534800 eval_count=80 eval_duration=5640965800 message=Message(role='assistant', content='Hey there! I’m doing pretty well, thanks for asking! As a large language model, I don’t really *feel* things the way humans do, but my systems are running smoothly and I’m ready to chat. 😊\\n\\nHow about you? How’s your day going so far? Do you want to talk about something specific, or just have a casual conversation?', images=None, tool_calls=None)\n"
     ]
    }
   ],
   "execution_count": 3
  },
  {
   "metadata": {
    "ExecuteTime": {
     "end_time": "2025-05-05T12:49:10.391527Z",
     "start_time": "2025-05-05T12:49:10.385833Z"
    }
   },
   "cell_type": "code",
   "source": "print(response[\"message\"][\"content\"])",
   "id": "322a892228a176d9",
   "outputs": [
    {
     "name": "stdout",
     "output_type": "stream",
     "text": [
      "Hey there! I’m doing pretty well, thanks for asking! As a large language model, I don’t really *feel* things the way humans do, but my systems are running smoothly and I’m ready to chat. 😊\n",
      "\n",
      "How about you? How’s your day going so far? Do you want to talk about something specific, or just have a casual conversation?\n"
     ]
    }
   ],
   "execution_count": 4
  },
  {
   "metadata": {},
   "cell_type": "code",
   "outputs": [],
   "execution_count": null,
   "source": "",
   "id": "cdd826e31ff78ae8"
  }
 ],
 "metadata": {
  "kernelspec": {
   "display_name": "Python 3",
   "language": "python",
   "name": "python3"
  },
  "language_info": {
   "codemirror_mode": {
    "name": "ipython",
    "version": 2
   },
   "file_extension": ".py",
   "mimetype": "text/x-python",
   "name": "python",
   "nbconvert_exporter": "python",
   "pygments_lexer": "ipython2",
   "version": "2.7.6"
  }
 },
 "nbformat": 4,
 "nbformat_minor": 5
}
