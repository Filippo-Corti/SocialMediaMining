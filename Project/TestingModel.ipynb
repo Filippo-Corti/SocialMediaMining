{
 "cells": [
  {
   "cell_type": "code",
   "id": "initial_id",
   "metadata": {
    "collapsed": true,
    "ExecuteTime": {
     "end_time": "2025-04-28T13:48:28.520158Z",
     "start_time": "2025-04-28T13:48:27.633862Z"
    }
   },
   "source": [
    "from transformers import AutoTokenizer, AutoModelForSequenceClassification\n",
    "import torch\n",
    "\n",
    "# Load fine-tuned model\n",
    "model = AutoModelForSequenceClassification.from_pretrained(\"bucketresearch/politicalBiasBERT\")\n",
    "tokenizer = AutoTokenizer.from_pretrained(\"bert-base-cased\")\n",
    "\n",
    "# # Set model to eval mode and use GPU if available\n",
    "# device = torch.device(\"cuda\" if torch.cuda.is_available() else \"cpu\")\n",
    "# model.to(device)\n",
    "# model.eval()\n"
   ],
   "outputs": [],
   "execution_count": 14
  },
  {
   "metadata": {
    "ExecuteTime": {
     "end_time": "2025-04-28T13:48:40.198369Z",
     "start_time": "2025-04-28T13:48:40.127300Z"
    }
   },
   "cell_type": "code",
   "source": [
    "text = \"President Trump is the best America has ever had\"\n",
    "\n",
    "# Tokenize\n",
    "inputs = tokenizer(text, return_tensors=\"pt\")\n",
    "labels = torch.tensor([0])\n",
    "outputs = model(**inputs, labels=labels)\n",
    "loss, logits = outputs[:2]\n",
    "print(logits.softmax(dim=-1)[0].tolist()) # Result in [Left, Center, Right]"
   ],
   "id": "1b03bbc034b78a06",
   "outputs": [
    {
     "name": "stdout",
     "output_type": "stream",
     "text": [
      "[0.18539030849933624, 0.19757050275802612, 0.617039144039154]\n"
     ]
    }
   ],
   "execution_count": 18
  },
  {
   "metadata": {},
   "cell_type": "code",
   "outputs": [],
   "execution_count": null,
   "source": "# The Issue is that it's trained to recognize political bias in news. It needs fine-tuning on small texts",
   "id": "d4a750414a952963"
  }
 ],
 "metadata": {
  "kernelspec": {
   "display_name": "Python 3",
   "language": "python",
   "name": "python3"
  },
  "language_info": {
   "codemirror_mode": {
    "name": "ipython",
    "version": 2
   },
   "file_extension": ".py",
   "mimetype": "text/x-python",
   "name": "python",
   "nbconvert_exporter": "python",
   "pygments_lexer": "ipython2",
   "version": "2.7.6"
  }
 },
 "nbformat": 4,
 "nbformat_minor": 5
}
