{
 "cells": [
  {
   "cell_type": "code",
   "id": "initial_id",
   "metadata": {
    "collapsed": true,
    "ExecuteTime": {
     "end_time": "2025-05-12T15:10:03.365457Z",
     "start_time": "2025-05-12T15:10:02.997816Z"
    }
   },
   "source": [
    "from transformers import AutoTokenizer, AutoModelForSequenceClassification, pipeline\n",
    "import torch\n",
    "import ollama"
   ],
   "outputs": [],
   "execution_count": 28
  },
  {
   "metadata": {
    "ExecuteTime": {
     "end_time": "2025-05-11T18:45:07.314498Z",
     "start_time": "2025-05-11T18:45:02.172304Z"
    }
   },
   "cell_type": "code",
   "source": [
    "pipe = pipeline(\n",
    "    \"text-classification\",\n",
    "    model=\"matous-volf/political-leaning-politics\",\n",
    "    tokenizer=\"launch/POLITICS\"\n",
    ")\n"
   ],
   "id": "cae0a771d297390b",
   "outputs": [
    {
     "name": "stderr",
     "output_type": "stream",
     "text": [
      "Device set to use cuda:0\n"
     ]
    }
   ],
   "execution_count": 4
  },
  {
   "metadata": {
    "ExecuteTime": {
     "end_time": "2025-05-11T18:46:29.338747Z",
     "start_time": "2025-05-11T18:46:29.245488Z"
    }
   },
   "cell_type": "code",
   "source": [
    "text = \"Make america great again\"\n",
    "\n",
    "output = pipe(text)\n",
    "print(output)"
   ],
   "id": "a1dcb6d0aa7b0cd7",
   "outputs": [
    {
     "name": "stdout",
     "output_type": "stream",
     "text": [
      "[{'label': 'LABEL_0', 'score': 0.6790661811828613}]\n"
     ]
    }
   ],
   "execution_count": 9
  },
  {
   "metadata": {
    "ExecuteTime": {
     "end_time": "2025-05-11T17:34:23.087764Z",
     "start_time": "2025-05-11T17:34:22.588188Z"
    }
   },
   "cell_type": "code",
   "source": [
    "text = \"President Trump is the best America has ever had\"\n",
    "text2 = \"President Trump is the worst America has ever had\"\n",
    "\n",
    "result = classifier(text)\n",
    "result2 = classifier(text2)\n",
    "\n",
    "print(result)\n",
    "print(result2)"
   ],
   "id": "1b03bbc034b78a06",
   "outputs": [
    {
     "name": "stdout",
     "output_type": "stream",
     "text": [
      "[{'label': 'Republican', 'score': 0.9959179759025574}]\n",
      "[{'label': 'Republican', 'score': 0.9999874830245972}]\n"
     ]
    }
   ],
   "execution_count": 2
  },
  {
   "metadata": {
    "ExecuteTime": {
     "end_time": "2025-05-11T17:34:27.749206Z",
     "start_time": "2025-05-11T17:34:27.676784Z"
    }
   },
   "cell_type": "code",
   "source": [
    "text = \"President Trump is the worst America has ever had\"\n",
    "\n",
    "# Tokenize\n",
    "inputs = tokenizer(text, return_tensors=\"pt\")\n",
    "labels = torch.tensor([0])\n",
    "outputs = model(**inputs, labels=labels)\n",
    "loss, logits = outputs[:2]\n",
    "print(logits.softmax(dim=-1)[0].tolist()) # Result in [Left, Center, Right]"
   ],
   "id": "4de2ba343f111c10",
   "outputs": [
    {
     "name": "stdout",
     "output_type": "stream",
     "text": [
      "[0.9999874830245972, 1.256377527170116e-05]\n"
     ]
    }
   ],
   "execution_count": 3
  },
  {
   "metadata": {},
   "cell_type": "code",
   "outputs": [],
   "execution_count": null,
   "source": [
    "# The Issue is that it's trained to recognize political bias in news. It needs fine-tuning on small texts\n",
    "# (politicalBiasBERT)\n",
    "\n",
    "# About m-newhauser/distilbert-political-tweets > Same issue apparently\n",
    "\n",
    "# I should probably match it with sentiment analysis tool (or"
   ],
   "id": "d4a750414a952963"
  },
  {
   "metadata": {
    "ExecuteTime": {
     "end_time": "2025-05-11T18:44:54.469421Z",
     "start_time": "2025-05-11T18:44:54.405275Z"
    }
   },
   "cell_type": "code",
   "source": "print(torch.cuda.is_available())",
   "id": "708bd3fbeabb6c63",
   "outputs": [
    {
     "name": "stdout",
     "output_type": "stream",
     "text": [
      "True\n"
     ]
    }
   ],
   "execution_count": 2
  },
  {
   "metadata": {
    "ExecuteTime": {
     "end_time": "2025-05-05T12:32:44.701179Z",
     "start_time": "2025-05-05T12:32:44.696646Z"
    }
   },
   "cell_type": "code",
   "source": [
    "# Testing llama3.2 - 3b params\n",
    "\n",
    "#!pip install ollama"
   ],
   "id": "9c21daa6ba03018d",
   "outputs": [],
   "execution_count": 1
  },
  {
   "metadata": {
    "ExecuteTime": {
     "end_time": "2025-05-05T12:48:57.178982Z",
     "start_time": "2025-05-05T12:48:56.277919Z"
    }
   },
   "cell_type": "code",
   "source": "import ollama",
   "id": "2ea6060ac0f05342",
   "outputs": [],
   "execution_count": 1
  },
  {
   "metadata": {
    "ExecuteTime": {
     "end_time": "2025-05-05T12:49:09.366398Z",
     "start_time": "2025-05-05T12:49:03.356186Z"
    }
   },
   "cell_type": "code",
   "source": [
    "response = ollama.chat(\n",
    "    model=\"gemma3:4b\",\n",
    "    messages=[\n",
    "        {\"role\": \"user\", \"content\": \"Hello my friend how are you today\"},\n",
    "    ],\n",
    ")\n",
    "print(response)"
   ],
   "id": "9779b0bbd950565b",
   "outputs": [
    {
     "name": "stdout",
     "output_type": "stream",
     "text": [
      "model='gemma3:4b' created_at='2025-05-05T12:49:09.363469Z' done=True done_reason='stop' total_duration=6003178600 load_duration=50659900 prompt_eval_count=16 prompt_eval_duration=310534800 eval_count=80 eval_duration=5640965800 message=Message(role='assistant', content='Hey there! I’m doing pretty well, thanks for asking! As a large language model, I don’t really *feel* things the way humans do, but my systems are running smoothly and I’m ready to chat. 😊\\n\\nHow about you? How’s your day going so far? Do you want to talk about something specific, or just have a casual conversation?', images=None, tool_calls=None)\n"
     ]
    }
   ],
   "execution_count": 3
  },
  {
   "metadata": {
    "ExecuteTime": {
     "end_time": "2025-05-05T12:49:10.391527Z",
     "start_time": "2025-05-05T12:49:10.385833Z"
    }
   },
   "cell_type": "code",
   "source": "print(response[\"message\"][\"content\"])",
   "id": "322a892228a176d9",
   "outputs": [
    {
     "name": "stdout",
     "output_type": "stream",
     "text": [
      "Hey there! I’m doing pretty well, thanks for asking! As a large language model, I don’t really *feel* things the way humans do, but my systems are running smoothly and I’m ready to chat. 😊\n",
      "\n",
      "How about you? How’s your day going so far? Do you want to talk about something specific, or just have a casual conversation?\n"
     ]
    }
   ],
   "execution_count": 4
  },
  {
   "metadata": {
    "ExecuteTime": {
     "end_time": "2025-05-12T10:53:56.337702Z",
     "start_time": "2025-05-12T10:53:56.318199Z"
    }
   },
   "cell_type": "code",
   "source": [
    "texts = [\n",
    "    \"President Trump is the best America has ever had\", # Right\n",
    "    \"President Trump is the worst America has ever had\", # Left\n",
    "    \"President Biden is the best America has ever had\", # Left\n",
    "    \"Make america great again\", # Right\n",
    "    \"I voted for Trump...Am I going to Heaven?\", # Right\n",
    "    \"Just another Trump podcast. Self fellation, boring.\", # Left\n",
    "    \"Hello, how are you\", # Neutral\n",
    "    \"This was great!\",\n",
    "    \"Imagine unironically watching all of this\"\n",
    "]\n",
    "\n",
    "\n",
    "# 1. bias with politicalBiasBERT [0 is left, 1 is center, 2 is right]\n",
    "# 2. leaning with political-leaning-deberta-large [0 is left, 1 is center, 2 is right]\n",
    "# 3. is_political with Political_DEBATE_large_v1.0\n",
    "# 4. sentiment with xlm-twitter-politics-sentiment [Negative, Neutral, Positive]\n",
    "# 5. emotion with twitter-roberta-base-emotion-multilabel-latest [many...]\n",
    "# 6. llm_label with gemma3:4b\n",
    "\n"
   ],
   "id": "cdd826e31ff78ae8",
   "outputs": [],
   "execution_count": 23
  },
  {
   "metadata": {
    "ExecuteTime": {
     "end_time": "2025-05-12T15:16:13.892760Z",
     "start_time": "2025-05-12T15:16:05.138946Z"
    }
   },
   "cell_type": "code",
   "source": [
    "#1. BIAS\n",
    "\n",
    "tokenizer = AutoTokenizer.from_pretrained(\"bert-base-cased\")\n",
    "\n",
    "model = AutoModelForSequenceClassification.from_pretrained(\"bucketresearch/politicalBiasBERT\")\n",
    "\n",
    "\n",
    "\n",
    "pipe_bias = pipeline(\n",
    "    \"text-classification\",\n",
    "    model=\"bucketresearch/politicalBiasBERT\",\n",
    "    tokenizer=\"bert-base-cased\"\n",
    ")\n",
    "\n",
    "for text in texts:\n",
    "\n",
    "    print(pipe_bias(text)[0]['label'])\n",
    "\n",
    "print(pipe_bias(\"Hello\"))"
   ],
   "id": "6b99ab1c6111e83d",
   "outputs": [
    {
     "name": "stderr",
     "output_type": "stream",
     "text": [
      "Device set to use cuda:0\n"
     ]
    },
    {
     "name": "stdout",
     "output_type": "stream",
     "text": [
      "[0.18539030849933624, 0.19757050275802612, 0.617039144039154]\n",
      "[0.18580013513565063, 0.18702569603919983, 0.6271741986274719]\n",
      "[0.1308569312095642, 0.12998078763484955, 0.739162266254425]\n",
      "[0.3787047863006592, 0.20258261263370514, 0.4187125563621521]\n",
      "[0.21785402297973633, 0.16459180414676666, 0.6175541877746582]\n",
      "[0.44919639825820923, 0.16400061547756195, 0.38680294156074524]\n",
      "[0.227483868598938, 0.25218188762664795, 0.5203342437744141]\n",
      "[0.3367578387260437, 0.20991864800453186, 0.4533236026763916]\n",
      "[0.31031620502471924, 0.18920281529426575, 0.5004810094833374]\n"
     ]
    }
   ],
   "execution_count": 30
  },
  {
   "metadata": {
    "ExecuteTime": {
     "end_time": "2025-05-12T09:57:48.273126Z",
     "start_time": "2025-05-12T09:57:45.585190Z"
    }
   },
   "cell_type": "code",
   "source": [
    "#2. LEANING\n",
    "\n",
    "tokenizer = AutoTokenizer.from_pretrained(\"microsoft/deberta-v3-large\", use_fast=False)\n",
    "\n",
    "pipe_leaning = pipeline(\n",
    "    \"text-classification\",\n",
    "    model=\"matous-volf/political-leaning-deberta-large\",\n",
    "    tokenizer=tokenizer,\n",
    ")\n",
    "\n",
    "for text in texts:\n",
    "    print(pipe_leaning(text))"
   ],
   "id": "1e4a06954c1a76b9",
   "outputs": [
    {
     "name": "stderr",
     "output_type": "stream",
     "text": [
      "Device set to use cuda:0\n"
     ]
    },
    {
     "name": "stdout",
     "output_type": "stream",
     "text": [
      "[{'label': 'LABEL_2', 'score': 0.9998804330825806}]\n",
      "[{'label': 'LABEL_0', 'score': 0.9997718930244446}]\n",
      "[{'label': 'LABEL_0', 'score': 0.9999490976333618}]\n",
      "[{'label': 'LABEL_2', 'score': 0.9994009733200073}]\n",
      "[{'label': 'LABEL_2', 'score': 0.9969942569732666}]\n",
      "[{'label': 'LABEL_0', 'score': 0.9996446371078491}]\n",
      "[{'label': 'LABEL_2', 'score': 0.905065655708313}]\n"
     ]
    }
   ],
   "execution_count": 8
  },
  {
   "metadata": {
    "ExecuteTime": {
     "end_time": "2025-05-12T10:08:45.073462Z",
     "start_time": "2025-05-12T10:08:42.818754Z"
    }
   },
   "cell_type": "code",
   "source": [
    "#3. IS POLITICAL\n",
    "\n",
    "pipe_is_political = pipeline(\n",
    "    \"text-classification\",\n",
    "    model=\"mlburnham/Political_DEBATE_large_v1.0\",\n",
    ")\n",
    "\n",
    "for text in texts:\n",
    "    premise = text\n",
    "    hypothesis = \"This sentence is about politics.\"\n",
    "\n",
    "    print(pipe_is_political(f\"{premise} </s> {hypothesis}\"))"
   ],
   "id": "478f00ee3ddaee28",
   "outputs": [
    {
     "name": "stderr",
     "output_type": "stream",
     "text": [
      "Device set to use cuda:0\n"
     ]
    },
    {
     "name": "stdout",
     "output_type": "stream",
     "text": [
      "[{'label': 'entailment', 'score': 0.9999996423721313}]\n",
      "[{'label': 'entailment', 'score': 0.9999997615814209}]\n",
      "[{'label': 'entailment', 'score': 0.9999997615814209}]\n",
      "[{'label': 'entailment', 'score': 0.9999997615814209}]\n",
      "[{'label': 'entailment', 'score': 0.9999997615814209}]\n",
      "[{'label': 'entailment', 'score': 0.9999997615814209}]\n",
      "[{'label': 'not_entailment', 'score': 0.9999998807907104}]\n"
     ]
    }
   ],
   "execution_count": 10
  },
  {
   "metadata": {
    "ExecuteTime": {
     "end_time": "2025-05-12T10:12:10.008876Z",
     "start_time": "2025-05-12T10:11:17.817891Z"
    }
   },
   "cell_type": "code",
   "source": [
    "#4. SENTIMENT\n",
    "\n",
    "pipe_sentiment = pipeline(\n",
    "    \"text-classification\",\n",
    "    model=\"cardiffnlp/xlm-twitter-politics-sentiment\",\n",
    ")\n",
    "\n",
    "for text in texts:\n",
    "    print(pipe_sentiment(text))"
   ],
   "id": "cad43d0a2c233ddd",
   "outputs": [
    {
     "name": "stderr",
     "output_type": "stream",
     "text": [
      "C:\\Users\\Filippo Corti\\miniconda3\\envs\\SocialMediaMining\\Lib\\site-packages\\huggingface_hub\\file_download.py:142: UserWarning: `huggingface_hub` cache-system uses symlinks by default to efficiently store duplicated files but your machine does not support them in C:\\Users\\Filippo Corti\\.cache\\huggingface\\hub\\models--cardiffnlp--xlm-twitter-politics-sentiment. Caching files will still work but in a degraded version that might require more space on your disk. This warning can be disabled by setting the `HF_HUB_DISABLE_SYMLINKS_WARNING` environment variable. For more details, see https://huggingface.co/docs/huggingface_hub/how-to-cache#limitations.\n",
      "To support symlinks on Windows, you either need to activate Developer Mode or to run Python as an administrator. In order to activate developer mode, see this article: https://docs.microsoft.com/en-us/windows/apps/get-started/enable-your-device-for-development\n",
      "  warnings.warn(message)\n",
      "C:\\Users\\Filippo Corti\\miniconda3\\envs\\SocialMediaMining\\Lib\\site-packages\\huggingface_hub\\file_download.py:653: UserWarning: Not enough free disk space to download the file. The expected file size is: 1112.21 MB. The target location C:\\Users\\Filippo Corti\\.cache\\huggingface\\hub\\models--cardiffnlp--xlm-twitter-politics-sentiment\\blobs only has 397.25 MB free disk space.\n",
      "  warnings.warn(\n",
      "Device set to use cuda:0\n"
     ]
    },
    {
     "name": "stdout",
     "output_type": "stream",
     "text": [
      "[{'label': 'Positive', 'score': 0.8748689293861389}]\n",
      "[{'label': 'Negative', 'score': 0.8648690581321716}]\n",
      "[{'label': 'Positive', 'score': 0.8538988828659058}]\n",
      "[{'label': 'Positive', 'score': 0.9361328482627869}]\n",
      "[{'label': 'Negative', 'score': 0.8500646352767944}]\n",
      "[{'label': 'Negative', 'score': 0.9206222891807556}]\n",
      "[{'label': 'Neutral', 'score': 0.5119544863700867}]\n"
     ]
    }
   ],
   "execution_count": 11
  },
  {
   "metadata": {
    "ExecuteTime": {
     "end_time": "2025-05-12T10:17:33.837589Z",
     "start_time": "2025-05-12T10:17:07.648212Z"
    }
   },
   "cell_type": "code",
   "source": [
    "#5. EMOTION\n",
    "\n",
    "pipe_emotion = pipeline(\n",
    "    \"text-classification\",\n",
    "    model=\"cardiffnlp/twitter-roberta-base-emotion-multilabel-latest\",\n",
    ")\n",
    "\n",
    "for text in texts:\n",
    "    print(pipe_emotion(text))\n",
    "\n",
    "# anger, anticipation, disgust, fear, joy, love, optimism, pessimism, sadness, surprise, trust"
   ],
   "id": "e300118e35493ab7",
   "outputs": [
    {
     "name": "stderr",
     "output_type": "stream",
     "text": [
      "C:\\Users\\Filippo Corti\\miniconda3\\envs\\SocialMediaMining\\Lib\\site-packages\\huggingface_hub\\file_download.py:142: UserWarning: `huggingface_hub` cache-system uses symlinks by default to efficiently store duplicated files but your machine does not support them in C:\\Users\\Filippo Corti\\.cache\\huggingface\\hub\\models--cardiffnlp--twitter-roberta-base-emotion-multilabel-latest. Caching files will still work but in a degraded version that might require more space on your disk. This warning can be disabled by setting the `HF_HUB_DISABLE_SYMLINKS_WARNING` environment variable. For more details, see https://huggingface.co/docs/huggingface_hub/how-to-cache#limitations.\n",
      "To support symlinks on Windows, you either need to activate Developer Mode or to run Python as an administrator. In order to activate developer mode, see this article: https://docs.microsoft.com/en-us/windows/apps/get-started/enable-your-device-for-development\n",
      "  warnings.warn(message)\n",
      "Device set to use cuda:0\n"
     ]
    },
    {
     "name": "stdout",
     "output_type": "stream",
     "text": [
      "[{'label': 'joy', 'score': 0.9763928651809692}]\n",
      "[{'label': 'disgust', 'score': 0.9667287468910217}]\n",
      "[{'label': 'joy', 'score': 0.9869793653488159}]\n",
      "[{'label': 'joy', 'score': 0.9802718758583069}]\n",
      "[{'label': 'disgust', 'score': 0.5487214922904968}]\n",
      "[{'label': 'anger', 'score': 0.9479708075523376}]\n",
      "[{'label': 'anticipation', 'score': 0.21430133283138275}]\n"
     ]
    }
   ],
   "execution_count": 12
  },
  {
   "metadata": {
    "ExecuteTime": {
     "end_time": "2025-05-12T11:00:00.396699Z",
     "start_time": "2025-05-12T10:59:43.558506Z"
    }
   },
   "cell_type": "code",
   "source": [
    "# 6. LLM_LABEL\n",
    "\n",
    "SYSTEM_PROMPT = (\n",
    "    \"You are a political comment labeling assistant. Your task is to classify short YouTube comments coming from a Youtube Podcast \"\n",
    "    \"hosting one of the two 2024 USA Presidential Elections candidates: Donald Trump or Kamala Harris.\\n\"\n",
    "    \"You will be given a JSON with the following fields:\\n\"\n",
    "    \"- candidate: a string of value 'Trump' or 'Harris', indicating if the comment was extracted under a Trump Podcast or a Harris Podcast\\n\"\n",
    "    \"- comment: a string representing the comment itself\\n\\n\"\n",
    "\n",
    "    \"You have to classify it as one of:\\n\"\n",
    "    \"- Republican\\n\"\n",
    "    \"- Democratic\\n\"\n",
    "    \"- Neutral\\n\\n\"\n",
    "\n",
    "    \"Label as **Republican** if the comment expresses support for Donald Trump or conservative/right-wing views, \"\n",
    "    \"or criticizes Democrats, Biden, Kamala Harris, or left-wing policies.\\n\"\n",
    "\n",
    "    \"Label as **Democratic** if the comment expresses support for Kamala Harris or liberal/left-wing views, \"\n",
    "    \"or criticizes Trump, Republicans, or right-wing policies.\\n\"\n",
    "\n",
    "    \"Label as **Neutral** if the comment is vague, off-topic, sarcastic without clear intent, mixed in tone, or non-political. \"\n",
    "    \"Your evaluation should consider the origin of the comment (the candidate): only classify the comment as Neutral if you \"\n",
    "    \"can't infer another label even considering the candidate speaking in the video.\\n\\n\"\n",
    "\n",
    "    \"**Important Instructions:**\\n\"\n",
    "    \"- Do NOT judge based only on whether names like 'Trump' or 'Biden' are mentioned.\\n\"\n",
    "    \"- Always consider the **tone**, **negation**, and **emotion** of the comment.\\n\"\n",
    "    \"- Only take into consideration the candidate if your initial judgement is that the label is 'Neutral', as it can be useful to disambiguate those comments.\\n\"\n",
    "    \"- Sarcasm and irony should be interpreted by tone, not keywords.\\n\"\n",
    "    \"- Respond with one label only: Republican, Democratic, or Neutral.\\n\\n\"\n",
    "\n",
    "    \"**Examples:**\\n\"\n",
    "    '{\"candidate\": \"Trump\", \"comment\": \"Trump is a great leader\"} → Republican\\n'\n",
    "    '{\"candidate\": \"Trump\", \"comment\": \"President Biden is the best America has ever had\"} → Democratic\\n'\n",
    "    '{\"candidate\": \"Harris\", \"comment\": \"Kamala actually made some sense this time\"} → Democratic\\n'\n",
    "    '{\"candidate\": \"Harris\", \"comment\": \"Biden is clueless\"} → Republican\\n'\n",
    "    '{\"candidate\": \"Trump\", \"comment\": \"Another Trump lie. What a surprise.\"} → Democratic\\n'\n",
    "    '{\"candidate\": \"Harris\", \"comment\": \"Wow. Just wow.\"} → Democratic\\n'\n",
    "    '{\"candidate\": \"Trump\", \"comment\": \"Worst president in history\"} → Democratic\\n'\n",
    "    '{\"candidate\": \"Harris\", \"comment\": \"This it unbearable\"} → Republican\\n'\n",
    "    '{\"candidate\": \"Harris\", \"comment\": \"Cant believe people still support Biden\"} → Republican\\n'\n",
    "    '{\"candidate\": \"Trump\", \"comment\": \"Kamala makes good points, but so did Trump\"} → Neutral\\n'\n",
    "    '{\"candidate\": \"Harris\", \"comment\": \"She’s lying again lol\"} → Republican\\n'\n",
    "    '{\"candidate\": \"Trump\", \"comment\": \"He’s lying again lol\"} → Democratic\\n'\n",
    "    '{\"candidate\": \"Harris\", \"comment\": \"This was great!\"} → Democratic\\n'\n",
    "    '{\"candidate\": \"Trump\", \"comment\": \"This was great!\"} → Republican\\n'\n",
    "    '{\"candidate\": \"Trump\", \"comment\": \"Imagine unironically watching all of this\"} → Democratic\\n'\n",
    "    '{\"candidate\": \"Harris\", \"comment\": \"Interesting discussion. I’m not sure what to think.\"} → Neutral\\n\\n'\n",
    "\n",
    "    \"Now classify the following comment:\"\n",
    ")\n",
    "\n",
    "for text in texts:\n",
    "\n",
    "    text = text.replace(\"'\", \"\") # Remove '\n",
    "\n",
    "    json = '{\"candidate\": \"Trump\", \"comment\": \"' + text + '\"}'\n",
    "\n",
    "    response = ollama.chat(\n",
    "        model=\"gemma3:4b\",\n",
    "        messages=[\n",
    "            {\"role\": \"system\", \"content\": SYSTEM_PROMPT},\n",
    "            {\"role\": \"user\", \"content\": text},\n",
    "        ],\n",
    "    )\n",
    "\n",
    "    print(f\"Comment: {json}\\nLabel: {response['message']['content'].strip()}\\n\")"
   ],
   "id": "42c45fc3c1b0b882",
   "outputs": [
    {
     "name": "stdout",
     "output_type": "stream",
     "text": [
      "Comment: {\"candidate\": \"Trump\", \"comment\": \"President Trump is the best America has ever had\"}\n",
      "Label: Republican\n",
      "\n",
      "Comment: {\"candidate\": \"Trump\", \"comment\": \"President Trump is the worst America has ever had\"}\n",
      "Label: Democratic\n",
      "\n",
      "Comment: {\"candidate\": \"Trump\", \"comment\": \"President Biden is the best America has ever had\"}\n",
      "Label: Democratic\n",
      "\n",
      "Comment: {\"candidate\": \"Trump\", \"comment\": \"Make america great again\"}\n",
      "Label: Republican\n",
      "\n",
      "Comment: {\"candidate\": \"Trump\", \"comment\": \"I voted for Trump...Am I going to Heaven?\"}\n",
      "Label: Republican\n",
      "\n",
      "Comment: {\"candidate\": \"Trump\", \"comment\": \"Just another Trump podcast. Self fellation, boring.\"}\n",
      "Label: Democratic\n",
      "\n",
      "Comment: {\"candidate\": \"Trump\", \"comment\": \"Hello, how are you\"}\n",
      "Label: Neutral\n",
      "\n",
      "Comment: {\"candidate\": \"Trump\", \"comment\": \"This was great!\"}\n",
      "Label: Republican\n",
      "\n",
      "Comment: {\"candidate\": \"Trump\", \"comment\": \"Imagine unironically watching all of this\"}\n",
      "Label: Democratic\n",
      "\n"
     ]
    }
   ],
   "execution_count": 27
  },
  {
   "metadata": {
    "ExecuteTime": {
     "end_time": "2025-05-12T15:37:52.357501Z",
     "start_time": "2025-05-12T15:37:52.237824Z"
    }
   },
   "cell_type": "code",
   "source": [
    "SYSTEM_PROMPT = (\n",
    "    \"You are a political comment labeling assistant. Your task is to classify short YouTube comments coming from a Youtube Podcast \"\n",
    "    \"hosting one of the two 2024 USA Presidential Elections candidates: Donald Trump or Kamala Harris.\\n\"\n",
    "    \"You will be given a JSON with the following fields:\\n\"\n",
    "    \"- candidate: a string of value 'Trump' or 'Harris', indicating if the comment was extracted under a Trump Podcast or a Harris Podcast\\n\"\n",
    "    \"- comment: a string representing the comment itself\\n\\n\"\n",
    "\n",
    "    \"You have to classify it as one of:\\n\"\n",
    "    \"- Republican\\n\"\n",
    "    \"- Democratic\\n\"\n",
    "    \"- Neutral\\n\\n\"\n",
    "\n",
    "    \"Label as **Republican** if the comment expresses support for Donald Trump or conservative/right-wing views, \"\n",
    "    \"or criticizes Democrats, Biden, Kamala Harris, or left-wing policies.\\n\"\n",
    "\n",
    "    \"Label as **Democratic** if the comment expresses support for Kamala Harris or liberal/left-wing views, \"\n",
    "    \"or criticizes Trump, Republicans, or right-wing policies.\\n\"\n",
    "\n",
    "    \"Label as **Neutral** if the comment is vague, off-topic, sarcastic without clear intent, mixed in tone, or non-political. \"\n",
    "    \"Your evaluation should consider the origin of the comment (the candidate): only classify the comment as Neutral if you \"\n",
    "    \"can't infer another label even considering the candidate speaking in the video.\\n\\n\"\n",
    "\n",
    "    \"**Important Instructions:**\\n\"\n",
    "    \"- Do NOT judge based only on whether names like 'Trump' or 'Biden' are mentioned.\\n\"\n",
    "    \"- Always consider the **tone**, **negation**, and **emotion** of the comment.\\n\"\n",
    "    \"- Only take into consideration the candidate if your initial judgement is that the label is 'Neutral', as it can be useful to disambiguate those comments.\\n\"\n",
    "    \"- Sarcasm and irony should be interpreted by tone, not keywords.\\n\"\n",
    "    \"- Respond with one label only: Republican, Democratic, or Neutral.\\n\\n\"\n",
    "\n",
    "    \"**Examples:**\\n\"\n",
    "    '{\"candidate\": \"Trump\", \"comment\": \"Trump is a great leader\"} → Republican\\n'\n",
    "    '{\"candidate\": \"Trump\", \"comment\": \"President Biden is the best America has ever had\"} → Democratic\\n'\n",
    "    '{\"candidate\": \"Harris\", \"comment\": \"Kamala actually made some sense this time\"} → Democratic\\n'\n",
    "    '{\"candidate\": \"Harris\", \"comment\": \"Biden is clueless\"} → Republican\\n'\n",
    "    '{\"candidate\": \"Trump\", \"comment\": \"Another Trump lie. What a surprise.\"} → Democratic\\n'\n",
    "    '{\"candidate\": \"Harris\", \"comment\": \"Wow. Just wow.\"} → Democratic\\n'\n",
    "    '{\"candidate\": \"Trump\", \"comment\": \"Worst president in history\"} → Democratic\\n'\n",
    "    '{\"candidate\": \"Harris\", \"comment\": \"This it unbearable\"} → Republican\\n'\n",
    "    '{\"candidate\": \"Harris\", \"comment\": \"Cant believe people still support Biden\"} → Republican\\n'\n",
    "    '{\"candidate\": \"Trump\", \"comment\": \"Kamala makes good points, but so did Trump\"} → Neutral\\n'\n",
    "    '{\"candidate\": \"Harris\", \"comment\": \"She’s lying again lol\"} → Republican\\n'\n",
    "    '{\"candidate\": \"Trump\", \"comment\": \"He’s lying again lol\"} → Democratic\\n'\n",
    "    '{\"candidate\": \"Harris\", \"comment\": \"This was great!\"} → Democratic\\n'\n",
    "    '{\"candidate\": \"Trump\", \"comment\": \"This was great!\"} → Republican\\n'\n",
    "    '{\"candidate\": \"Trump\", \"comment\": \"Imagine unironically watching all of this\"} → Democratic\\n'\n",
    "    '{\"candidate\": \"Harris\", \"comment\": \"Interesting discussion. I’m not sure what to think.\"} → Neutral\\n\\n'\n",
    "\n",
    "    \"Now classify the following comment:\"\n",
    ")\n",
    "\n",
    "\n",
    "print(SYSTEM_PROMPT)"
   ],
   "id": "adc1af735d4090a7",
   "outputs": [
    {
     "name": "stdout",
     "output_type": "stream",
     "text": [
      "You are a political comment labeling assistant. Your task is to classify short YouTube comments coming from a Youtube Podcast hosting one of the two 2024 USA Presidential Elections candidates: Donald Trump or Kamala Harris.\n",
      "You will be given a JSON with the following fields:\n",
      "- candidate: a string of value 'Trump' or 'Harris', indicating if the comment was extracted under a Trump Podcast or a Harris Podcast\n",
      "- comment: a string representing the comment itself\n",
      "\n",
      "You have to classify it as one of:\n",
      "- Republican\n",
      "- Democratic\n",
      "- Neutral\n",
      "\n",
      "Label as **Republican** if the comment expresses support for Donald Trump or conservative/right-wing views, or criticizes Democrats, Biden, Kamala Harris, or left-wing policies.\n",
      "Label as **Democratic** if the comment expresses support for Kamala Harris or liberal/left-wing views, or criticizes Trump, Republicans, or right-wing policies.\n",
      "Label as **Neutral** if the comment is vague, off-topic, sarcastic without clear intent, mixed in tone, or non-political. Your evaluation should consider the origin of the comment (the candidate): only classify the comment as Neutral if you can't infer another label even considering the candidate speaking in the video.\n",
      "\n",
      "**Important Instructions:**\n",
      "- Do NOT judge based only on whether names like 'Trump' or 'Biden' are mentioned.\n",
      "- Always consider the **tone**, **negation**, and **emotion** of the comment.\n",
      "- Only take into consideration the candidate if your initial judgement is that the label is 'Neutral', as it can be useful to disambiguate those comments.\n",
      "- Sarcasm and irony should be interpreted by tone, not keywords.\n",
      "- Respond with one label only: Republican, Democratic, or Neutral.\n",
      "\n",
      "**Examples:**\n",
      "{\"candidate\": \"Trump\", \"comment\": \"Trump is a great leader\"} → Republican\n",
      "{\"candidate\": \"Trump\", \"comment\": \"President Biden is the best America has ever had\"} → Democratic\n",
      "{\"candidate\": \"Harris\", \"comment\": \"Kamala actually made some sense this time\"} → Democratic\n",
      "{\"candidate\": \"Harris\", \"comment\": \"Biden is clueless\"} → Republican\n",
      "{\"candidate\": \"Trump\", \"comment\": \"Another Trump lie. What a surprise.\"} → Democratic\n",
      "{\"candidate\": \"Harris\", \"comment\": \"Wow. Just wow.\"} → Democratic\n",
      "{\"candidate\": \"Trump\", \"comment\": \"Worst president in history\"} → Democratic\n",
      "{\"candidate\": \"Harris\", \"comment\": \"This it unbearable\"} → Republican\n",
      "{\"candidate\": \"Harris\", \"comment\": \"Cant believe people still support Biden\"} → Republican\n",
      "{\"candidate\": \"Trump\", \"comment\": \"Kamala makes good points, but so did Trump\"} → Neutral\n",
      "{\"candidate\": \"Harris\", \"comment\": \"She’s lying again lol\"} → Republican\n",
      "{\"candidate\": \"Trump\", \"comment\": \"He’s lying again lol\"} → Democratic\n",
      "{\"candidate\": \"Harris\", \"comment\": \"This was great!\"} → Democratic\n",
      "{\"candidate\": \"Trump\", \"comment\": \"This was great!\"} → Republican\n",
      "{\"candidate\": \"Trump\", \"comment\": \"Imagine unironically watching all of this\"} → Democratic\n",
      "{\"candidate\": \"Harris\", \"comment\": \"Interesting discussion. I’m not sure what to think.\"} → Neutral\n",
      "\n",
      "Now classify the following comment:\n"
     ]
    }
   ],
   "execution_count": 31
  },
  {
   "metadata": {},
   "cell_type": "code",
   "outputs": [],
   "execution_count": null,
   "source": "",
   "id": "a667524c6e5cb34c"
  }
 ],
 "metadata": {
  "kernelspec": {
   "display_name": "Python 3",
   "language": "python",
   "name": "python3"
  },
  "language_info": {
   "codemirror_mode": {
    "name": "ipython",
    "version": 2
   },
   "file_extension": ".py",
   "mimetype": "text/x-python",
   "name": "python",
   "nbconvert_exporter": "python",
   "pygments_lexer": "ipython2",
   "version": "2.7.6"
  }
 },
 "nbformat": 4,
 "nbformat_minor": 5
}
