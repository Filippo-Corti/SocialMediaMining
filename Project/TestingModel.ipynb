{
 "cells": [
  {
   "cell_type": "code",
   "id": "initial_id",
   "metadata": {
    "collapsed": true,
    "ExecuteTime": {
     "end_time": "2025-04-28T14:41:10.193472Z",
     "start_time": "2025-04-28T14:41:01.988964Z"
    }
   },
   "source": [
    "from transformers import AutoTokenizer, AutoModelForSequenceClassification, pipeline\n",
    "import torch\n",
    "\n",
    "# Load fine-tuned model\n",
    "model_name = \"m-newhauser/distilbert-political-tweets\"\n",
    "model = AutoModelForSequenceClassification.from_pretrained(model_name)\n",
    "tokenizer = AutoTokenizer.from_pretrained(model_name)\n",
    "\n",
    "classifier = pipeline(\"text-classification\", model=model, tokenizer=tokenizer, device=0)"
   ],
   "outputs": [
    {
     "name": "stderr",
     "output_type": "stream",
     "text": [
      "C:\\Users\\Filippo Corti\\miniconda3\\envs\\SocialMediaMining\\Lib\\site-packages\\tqdm\\auto.py:21: TqdmWarning: IProgress not found. Please update jupyter and ipywidgets. See https://ipywidgets.readthedocs.io/en/stable/user_install.html\n",
      "  from .autonotebook import tqdm as notebook_tqdm\n",
      "Device set to use cpu\n"
     ]
    }
   ],
   "execution_count": 1
  },
  {
   "metadata": {
    "ExecuteTime": {
     "end_time": "2025-04-28T14:42:56.659147Z",
     "start_time": "2025-04-28T14:42:56.587945Z"
    }
   },
   "cell_type": "code",
   "source": [
    "text = \"President Trump is the best America has ever had\"\n",
    "text2 = \"President Trump is the worst America has ever had\"\n",
    "\n",
    "result = classifier(text)\n",
    "result2 = classifier(text2)\n",
    "\n",
    "print(result)\n",
    "print(result2)"
   ],
   "id": "1b03bbc034b78a06",
   "outputs": [
    {
     "name": "stdout",
     "output_type": "stream",
     "text": [
      "[{'label': 'Republican', 'score': 0.9959179759025574}]\n",
      "[{'label': 'Republican', 'score': 0.9999874830245972}]\n"
     ]
    }
   ],
   "execution_count": 13
  },
  {
   "metadata": {
    "ExecuteTime": {
     "end_time": "2025-04-28T14:00:09.384880Z",
     "start_time": "2025-04-28T14:00:09.340704Z"
    }
   },
   "cell_type": "code",
   "source": [
    "text = \"President Trump is the worst America has ever had\"\n",
    "\n",
    "# Tokenize\n",
    "inputs = tokenizer(text, return_tensors=\"pt\")\n",
    "labels = torch.tensor([0])\n",
    "outputs = model(**inputs, labels=labels)\n",
    "loss, logits = outputs[:2]\n",
    "print(logits.softmax(dim=-1)[0].tolist()) # Result in [Left, Center, Right]"
   ],
   "id": "4de2ba343f111c10",
   "outputs": [
    {
     "name": "stdout",
     "output_type": "stream",
     "text": [
      "[0.9999874830245972, 1.256377527170116e-05]\n"
     ]
    }
   ],
   "execution_count": 21
  },
  {
   "metadata": {},
   "cell_type": "code",
   "outputs": [],
   "execution_count": null,
   "source": [
    "# The Issue is that it's trained to recognize political bias in news. It needs fine-tuning on small texts\n",
    "# (politicalBiasBERT)\n",
    "\n",
    "# About m-newhauser/distilbert-political-tweets > Same issue apparently\n",
    "\n",
    "# I should probably match it with sentiment analysis tool (or"
   ],
   "id": "d4a750414a952963"
  },
  {
   "metadata": {
    "ExecuteTime": {
     "end_time": "2025-04-28T14:30:43.843216Z",
     "start_time": "2025-04-28T14:30:43.107322Z"
    }
   },
   "cell_type": "code",
   "source": "print(torch.cuda.is_available())",
   "id": "708bd3fbeabb6c63",
   "outputs": [
    {
     "ename": "NameError",
     "evalue": "name 'torch' is not defined",
     "output_type": "error",
     "traceback": [
      "\u001B[1;31m---------------------------------------------------------------------------\u001B[0m",
      "\u001B[1;31mNameError\u001B[0m                                 Traceback (most recent call last)",
      "Cell \u001B[1;32mIn[1], line 1\u001B[0m\n\u001B[1;32m----> 1\u001B[0m \u001B[38;5;28mprint\u001B[39m(torch\u001B[38;5;241m.\u001B[39mcuda\u001B[38;5;241m.\u001B[39mis_available())\n",
      "\u001B[1;31mNameError\u001B[0m: name 'torch' is not defined"
     ]
    }
   ],
   "execution_count": 1
  },
  {
   "metadata": {
    "ExecuteTime": {
     "end_time": "2025-04-28T14:30:24.631138Z",
     "start_time": "2025-04-28T14:30:24.626996Z"
    }
   },
   "cell_type": "code",
   "source": "",
   "id": "9c21daa6ba03018d",
   "outputs": [],
   "execution_count": null
  }
 ],
 "metadata": {
  "kernelspec": {
   "display_name": "Python 3",
   "language": "python",
   "name": "python3"
  },
  "language_info": {
   "codemirror_mode": {
    "name": "ipython",
    "version": 2
   },
   "file_extension": ".py",
   "mimetype": "text/x-python",
   "name": "python",
   "nbconvert_exporter": "python",
   "pygments_lexer": "ipython2",
   "version": "2.7.6"
  }
 },
 "nbformat": 4,
 "nbformat_minor": 5
}
