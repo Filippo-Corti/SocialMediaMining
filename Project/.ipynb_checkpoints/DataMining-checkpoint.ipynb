{
 "cells": [
  {
   "cell_type": "code",
   "id": "initial_id",
   "metadata": {
    "collapsed": true,
    "ExecuteTime": {
     "end_time": "2025-04-09T09:47:10.393172Z",
     "start_time": "2025-04-09T09:47:10.113860Z"
    }
   },
   "source": [
    "from typing import Generator, List, Dict, Any\n",
    "from dataclasses import dataclass, asdict\n",
    "import json\n",
    "from googleapiclient.discovery import build\n",
    "import time\n",
    "import sqlite3\n",
    "import os"
   ],
   "outputs": [],
   "execution_count": 1
  },
  {
   "metadata": {
    "ExecuteTime": {
     "end_time": "2025-04-09T09:47:12.153090Z",
     "start_time": "2025-04-09T09:47:12.147900Z"
    }
   },
   "cell_type": "code",
   "source": "DEVELOPER_KEY = json.load(open('../keys/youtube_key.json'))['api_key']",
   "id": "e805839eefd60d84",
   "outputs": [],
   "execution_count": 2
  },
  {
   "metadata": {
    "ExecuteTime": {
     "end_time": "2025-04-09T09:47:12.762608Z",
     "start_time": "2025-04-09T09:47:12.755092Z"
    }
   },
   "cell_type": "code",
   "source": [
    "@dataclass\n",
    "class Comment:\n",
    "    id: str\n",
    "    author: str\n",
    "    content: str\n",
    "    date: str\n",
    "    like_count: int\n",
    "\n",
    "\n",
    "@dataclass\n",
    "class Thread:\n",
    "    video_id: str\n",
    "    reply_count: int\n",
    "    top_level_comment: Comment\n",
    "    replies: List[Comment]\n"
   ],
   "id": "eb0a7ec9422b124e",
   "outputs": [],
   "execution_count": 3
  },
  {
   "metadata": {
    "ExecuteTime": {
     "end_time": "2025-04-09T09:47:13.534164Z",
     "start_time": "2025-04-09T09:47:13.523634Z"
    }
   },
   "cell_type": "code",
   "source": [
    "class YoutubeCommentsScraper:\n",
    "\n",
    "    def __init__(\n",
    "            self,\n",
    "            api_key: str,\n",
    "            api_service_name: str = \"youtube\",\n",
    "            api_version: str = \"v3\"\n",
    "    ) -> None:\n",
    "        self.API_KEY = api_key\n",
    "\n",
    "        self.youtube = build(\n",
    "            api_service_name,\n",
    "            api_version,\n",
    "            developerKey=self.API_KEY)\n",
    "\n",
    "    def fetch_threads(\n",
    "            self,\n",
    "            video_id: str\n",
    "    ) -> Generator[Thread, None, None]:\n",
    "        request = self.youtube.commentThreads().list(\n",
    "            part=\"snippet\",\n",
    "            videoId=video_id,\n",
    "            maxResults=100,\n",
    "            textFormat=\"plainText\",\n",
    "            order=\"relevance\",\n",
    "        )\n",
    "        while request:\n",
    "            response = request.execute()\n",
    "            for thread in response[\"items\"]:\n",
    "                replies = list()\n",
    "                snippet = thread[\"snippet\"]\n",
    "                reply_count = snippet[\"totalReplyCount\"]\n",
    "                main_comment_data = snippet[\"topLevelComment\"]\n",
    "                top_level_comment = self._comment_from_resource(main_comment_data)\n",
    "                for reply in self._fetch_reply_comments(main_comment_data[\"id\"]):\n",
    "                    replies.append(reply)\n",
    "                yield Thread(\n",
    "                    video_id=video_id,\n",
    "                    reply_count=reply_count,\n",
    "                    top_level_comment=top_level_comment,\n",
    "                    replies=replies\n",
    "                )\n",
    "            request = self.youtube.commentThreads().list_next(request, response)\n",
    "\n",
    "    def _fetch_reply_comments(\n",
    "            self,\n",
    "            parent_comment_id: str\n",
    "    ) -> Generator[Comment, None, None]:\n",
    "        request = self.youtube.comments().list(\n",
    "            part=\"snippet\",\n",
    "            parentId=parent_comment_id,\n",
    "            maxResults=100,\n",
    "            textFormat=\"plainText\"\n",
    "        )\n",
    "        while request:\n",
    "            response = request.execute()\n",
    "            time.sleep(0.1)\n",
    "            for comment in response.get(\"items\", []):\n",
    "                yield self._comment_from_resource(comment)\n",
    "            request = self.youtube.comments().list_next(request, response)\n",
    "\n",
    "    @staticmethod\n",
    "    def _comment_from_resource(\n",
    "            resource: Dict[str, Any]\n",
    "    ) -> Comment:\n",
    "        snippet = resource[\"snippet\"]\n",
    "        return Comment(\n",
    "            id=resource[\"id\"],\n",
    "            author=snippet[\"authorDisplayName\"],\n",
    "            content=snippet[\"textDisplay\"],\n",
    "            date=snippet[\"publishedAt\"],\n",
    "            like_count=snippet[\"likeCount\"],\n",
    "        )\n"
   ],
   "id": "a18f1a9bb6427c89",
   "outputs": [],
   "execution_count": 4
  },
  {
   "metadata": {
    "ExecuteTime": {
     "end_time": "2025-04-09T09:47:14.309108Z",
     "start_time": "2025-04-09T09:47:14.302780Z"
    }
   },
   "cell_type": "code",
   "source": [
    "class NDJSONThreadSaver:  #Newline Delimited JSON\n",
    "\n",
    "    def __init__(self, data_dir: str = 'data'):\n",
    "        os.makedirs(data_dir, exist_ok=True)\n",
    "        self.data_dir = data_dir\n",
    "\n",
    "    def save(self, thread: Thread):\n",
    "        file_path = os.path.join(self.data_dir, f\"{thread.video_id}.ndjson\")\n",
    "\n",
    "        with open(file_path, 'a', encoding='utf-8') as f:\n",
    "            serializable_thread = asdict(thread)\n",
    "            json.dump(serializable_thread, f, ensure_ascii=False)\n",
    "            f.write(\"\\n\")"
   ],
   "id": "4eebacd47088127f",
   "outputs": [],
   "execution_count": 5
  },
  {
   "metadata": {
    "ExecuteTime": {
     "end_time": "2025-04-09T09:47:15.032945Z",
     "start_time": "2025-04-09T09:47:15.024432Z"
    }
   },
   "cell_type": "code",
   "source": [
    "class SQLiteThreadSaver:\n",
    "\n",
    "    def __init__(self, db_name: str = 'threads.db'):\n",
    "        self.db_name = db_name\n",
    "        self.conn = sqlite3.connect(self.db_name)\n",
    "        self.cursor = self.conn.cursor()\n",
    "        self._create_table()\n",
    "\n",
    "    def _create_table(self):\n",
    "        # Create the comments table\n",
    "        self.cursor.execute('''\n",
    "        CREATE TABLE IF NOT EXISTS Comments (\n",
    "            id INTEGER PRIMARY KEY AUTOINCREMENT,\n",
    "            yt_id TEXT UNIQUE,\n",
    "            author TEXT,\n",
    "            content TEXT,\n",
    "            date TEXT,\n",
    "            like_count INTEGER,\n",
    "            parent_id INTEGER,\n",
    "            video_id TEXT,\n",
    "            FOREIGN KEY (parent_id) REFERENCES Comments(id)\n",
    "        )''')\n",
    "        self.conn.commit()\n",
    "\n",
    "    def save(self, thread: Thread):\n",
    "        # Save Top Level Comment\n",
    "        top_level_comment_id = self._save_comment(\n",
    "            thread.top_level_comment,\n",
    "            video_id=thread.video_id,\n",
    "        )\n",
    "\n",
    "        # Save replies\n",
    "        for reply in thread.replies:\n",
    "            self._save_comment(\n",
    "                reply,\n",
    "                parent_id=top_level_comment_id,\n",
    "                video_id=thread.video_id,\n",
    "            )\n",
    "\n",
    "        self.conn.commit()\n",
    "\n",
    "    def _save_comment(\n",
    "            self,\n",
    "            comment: Comment,\n",
    "            video_id : str,\n",
    "            parent_id : int | None = None\n",
    "    ) -> int:\n",
    "        # Insert the comment data into the comments table\n",
    "        self.cursor.execute(\n",
    "            '''\n",
    "                INSERT INTO comments (yt_id, author, content, date, like_count, parent_id, video_id)\n",
    "                VALUES (?, ?, ?, ?, ?, ?, ?)\n",
    "                ''',\n",
    "            (comment.id, comment.author, comment.content, comment.date, comment.like_count, parent_id, video_id)\n",
    "        )\n",
    "\n",
    "        return self.cursor.lastrowid # Get id of the row the cursor is currently at\n",
    "\n",
    "    def close(self):\n",
    "        self.conn.close()"
   ],
   "id": "943e42ae26cc3e",
   "outputs": [],
   "execution_count": 6
  },
  {
   "metadata": {
    "ExecuteTime": {
     "end_time": "2025-04-09T09:47:19.855970Z",
     "start_time": "2025-04-09T09:47:16.058895Z"
    }
   },
   "cell_type": "code",
   "source": [
    "# Testing\n",
    "\n",
    "scraper = YoutubeCommentsScraper(\n",
    "    api_key=DEVELOPER_KEY\n",
    ")\n",
    "\n",
    "ndjson_saver = NDJSONThreadSaver()\n",
    "sqlite_saver = SQLiteThreadSaver()\n",
    "\n",
    "for idx, thread in enumerate(scraper.fetch_threads(video_id=\"qCbfTN-caFI\")):\n",
    "    ndjson_saver.save(thread)\n",
    "    sqlite_saver.save(thread)\n",
    "    print(f\"[{idx}] Fetched thread of author {thread.top_level_comment.author} with {thread.reply_count} replies\")\n",
    "\n",
    "sqlite_saver.close()"
   ],
   "id": "7bc29f9da5466ea",
   "outputs": [
    {
     "ename": "OperationalError",
     "evalue": "table comments has no column named yt_id",
     "output_type": "error",
     "traceback": [
      "\u001B[1;31m---------------------------------------------------------------------------\u001B[0m",
      "\u001B[1;31mOperationalError\u001B[0m                          Traceback (most recent call last)",
      "Cell \u001B[1;32mIn[7], line 12\u001B[0m\n\u001B[0;32m     10\u001B[0m \u001B[38;5;28;01mfor\u001B[39;00m idx, thread \u001B[38;5;129;01min\u001B[39;00m \u001B[38;5;28menumerate\u001B[39m(scraper\u001B[38;5;241m.\u001B[39mfetch_threads(video_id\u001B[38;5;241m=\u001B[39m\u001B[38;5;124m\"\u001B[39m\u001B[38;5;124mqCbfTN-caFI\u001B[39m\u001B[38;5;124m\"\u001B[39m)):\n\u001B[0;32m     11\u001B[0m     ndjson_saver\u001B[38;5;241m.\u001B[39msave(thread)\n\u001B[1;32m---> 12\u001B[0m     sqlite_saver\u001B[38;5;241m.\u001B[39msave(thread)\n\u001B[0;32m     13\u001B[0m     \u001B[38;5;28mprint\u001B[39m(\u001B[38;5;124mf\u001B[39m\u001B[38;5;124m\"\u001B[39m\u001B[38;5;124m[\u001B[39m\u001B[38;5;132;01m{\u001B[39;00midx\u001B[38;5;132;01m}\u001B[39;00m\u001B[38;5;124m] Fetched thread of author \u001B[39m\u001B[38;5;132;01m{\u001B[39;00mthread\u001B[38;5;241m.\u001B[39mtop_level_comment\u001B[38;5;241m.\u001B[39mauthor\u001B[38;5;132;01m}\u001B[39;00m\u001B[38;5;124m with \u001B[39m\u001B[38;5;132;01m{\u001B[39;00mthread\u001B[38;5;241m.\u001B[39mreply_count\u001B[38;5;132;01m}\u001B[39;00m\u001B[38;5;124m replies\u001B[39m\u001B[38;5;124m\"\u001B[39m)\n\u001B[0;32m     15\u001B[0m sqlite_saver\u001B[38;5;241m.\u001B[39mclose()\n",
      "Cell \u001B[1;32mIn[6], line 27\u001B[0m, in \u001B[0;36mSQLiteThreadSaver.save\u001B[1;34m(self, thread)\u001B[0m\n\u001B[0;32m     25\u001B[0m \u001B[38;5;28;01mdef\u001B[39;00m \u001B[38;5;21msave\u001B[39m(\u001B[38;5;28mself\u001B[39m, thread: Thread):\n\u001B[0;32m     26\u001B[0m     \u001B[38;5;66;03m# Save Top Level Comment\u001B[39;00m\n\u001B[1;32m---> 27\u001B[0m     top_level_comment_id \u001B[38;5;241m=\u001B[39m \u001B[38;5;28mself\u001B[39m\u001B[38;5;241m.\u001B[39m_save_comment(\n\u001B[0;32m     28\u001B[0m         thread\u001B[38;5;241m.\u001B[39mtop_level_comment,\n\u001B[0;32m     29\u001B[0m         video_id\u001B[38;5;241m=\u001B[39mthread\u001B[38;5;241m.\u001B[39mvideo_id,\n\u001B[0;32m     30\u001B[0m     )\n\u001B[0;32m     32\u001B[0m     \u001B[38;5;66;03m# Save replies\u001B[39;00m\n\u001B[0;32m     33\u001B[0m     \u001B[38;5;28;01mfor\u001B[39;00m reply \u001B[38;5;129;01min\u001B[39;00m thread\u001B[38;5;241m.\u001B[39mreplies:\n",
      "Cell \u001B[1;32mIn[6], line 49\u001B[0m, in \u001B[0;36mSQLiteThreadSaver._save_comment\u001B[1;34m(self, comment, video_id, parent_id)\u001B[0m\n\u001B[0;32m     42\u001B[0m \u001B[38;5;28;01mdef\u001B[39;00m \u001B[38;5;21m_save_comment\u001B[39m(\n\u001B[0;32m     43\u001B[0m         \u001B[38;5;28mself\u001B[39m,\n\u001B[0;32m     44\u001B[0m         comment: Comment,\n\u001B[1;32m   (...)\u001B[0m\n\u001B[0;32m     47\u001B[0m ) \u001B[38;5;241m-\u001B[39m\u001B[38;5;241m>\u001B[39m \u001B[38;5;28mint\u001B[39m:\n\u001B[0;32m     48\u001B[0m     \u001B[38;5;66;03m# Insert the comment data into the comments table\u001B[39;00m\n\u001B[1;32m---> 49\u001B[0m     \u001B[38;5;28mself\u001B[39m\u001B[38;5;241m.\u001B[39mcursor\u001B[38;5;241m.\u001B[39mexecute(\n\u001B[0;32m     50\u001B[0m \u001B[38;5;250m        \u001B[39m\u001B[38;5;124;03m'''\u001B[39;00m\n\u001B[0;32m     51\u001B[0m \u001B[38;5;124;03m            INSERT INTO comments (yt_id, author, content, date, like_count, parent_id, video_id)\u001B[39;00m\n\u001B[0;32m     52\u001B[0m \u001B[38;5;124;03m            VALUES (?, ?, ?, ?, ?, ?, ?)\u001B[39;00m\n\u001B[0;32m     53\u001B[0m \u001B[38;5;124;03m            '''\u001B[39;00m,\n\u001B[0;32m     54\u001B[0m         (comment\u001B[38;5;241m.\u001B[39mid, comment\u001B[38;5;241m.\u001B[39mauthor, comment\u001B[38;5;241m.\u001B[39mcontent, comment\u001B[38;5;241m.\u001B[39mdate, comment\u001B[38;5;241m.\u001B[39mlike_count, parent_id, video_id)\n\u001B[0;32m     55\u001B[0m     )\n\u001B[0;32m     57\u001B[0m     \u001B[38;5;28;01mreturn\u001B[39;00m \u001B[38;5;28mself\u001B[39m\u001B[38;5;241m.\u001B[39mcursor\u001B[38;5;241m.\u001B[39mlastrowid\n",
      "\u001B[1;31mOperationalError\u001B[0m: table comments has no column named yt_id"
     ]
    }
   ],
   "execution_count": 7
  },
  {
   "metadata": {},
   "cell_type": "code",
   "outputs": [],
   "execution_count": null,
   "source": "",
   "id": "799c3de2bc0177eb"
  }
 ],
 "metadata": {
  "kernelspec": {
   "display_name": "Python 3",
   "language": "python",
   "name": "python3"
  },
  "language_info": {
   "codemirror_mode": {
    "name": "ipython",
    "version": 2
   },
   "file_extension": ".py",
   "mimetype": "text/x-python",
   "name": "python",
   "nbconvert_exporter": "python",
   "pygments_lexer": "ipython2",
   "version": "2.7.6"
  }
 },
 "nbformat": 4,
 "nbformat_minor": 5
}
