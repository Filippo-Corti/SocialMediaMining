{
 "cells": [
  {
   "cell_type": "code",
   "id": "initial_id",
   "metadata": {
    "collapsed": true,
    "ExecuteTime": {
     "end_time": "2025-04-09T14:56:53.552658Z",
     "start_time": "2025-04-09T14:56:52.924948Z"
    }
   },
   "source": [
    "import networkx as nx\n",
    "from networkx.classes import nodes"
   ],
   "outputs": [],
   "execution_count": 2
  },
  {
   "metadata": {
    "ExecuteTime": {
     "end_time": "2025-04-09T14:56:54.872355Z",
     "start_time": "2025-04-09T14:56:54.730113Z"
    }
   },
   "cell_type": "code",
   "source": [
    "edges = []\n",
    "with open(\"data/edgelist.txt\", \"r\", encoding=\"utf-8\") as f:\n",
    "    for line in f:\n",
    "        parts = line.strip().split()\n",
    "        if len(parts) == 2:\n",
    "            edges.append((parts[0], parts[1]))\n",
    "\n",
    "G = nx.from_edgelist(edges, create_using=nx.Graph())"
   ],
   "id": "e70885d09bc682ce",
   "outputs": [],
   "execution_count": 3
  },
  {
   "metadata": {
    "ExecuteTime": {
     "end_time": "2025-04-09T14:56:56.613960Z",
     "start_time": "2025-04-09T14:56:55.622302Z"
    }
   },
   "cell_type": "code",
   "source": "nx.write_gexf(G, \"data/G.gexf\")",
   "id": "c2ee6ee4f801b38",
   "outputs": [],
   "execution_count": 4
  },
  {
   "metadata": {
    "ExecuteTime": {
     "end_time": "2025-04-09T14:56:57.222115Z",
     "start_time": "2025-04-09T14:56:57.204057Z"
    }
   },
   "cell_type": "code",
   "source": "G.size(), G.order()",
   "id": "44b27b2da1030670",
   "outputs": [
    {
     "data": {
      "text/plain": [
       "(37801, 30175)"
      ]
     },
     "execution_count": 5,
     "metadata": {},
     "output_type": "execute_result"
    }
   ],
   "execution_count": 5
  },
  {
   "metadata": {
    "ExecuteTime": {
     "end_time": "2025-04-09T14:56:58.255375Z",
     "start_time": "2025-04-09T14:56:58.225620Z"
    }
   },
   "cell_type": "code",
   "source": [
    "components = nx.connected_components(G)\n",
    "components_sizes = [\n",
    "    len(c)\n",
    "    for c in components\n",
    "]\n",
    "\n",
    "components_sizes.sort()\n",
    "components_sizes.reverse()\n",
    "components_sizes"
   ],
   "id": "82c48d1b6848a6d8",
   "outputs": [
    {
     "data": {
      "text/plain": [
       "[29583,\n",
       " 17,\n",
       " 14,\n",
       " 14,\n",
       " 13,\n",
       " 12,\n",
       " 12,\n",
       " 10,\n",
       " 10,\n",
       " 9,\n",
       " 9,\n",
       " 9,\n",
       " 8,\n",
       " 8,\n",
       " 8,\n",
       " 7,\n",
       " 7,\n",
       " 7,\n",
       " 7,\n",
       " 6,\n",
       " 6,\n",
       " 6,\n",
       " 6,\n",
       " 6,\n",
       " 5,\n",
       " 5,\n",
       " 5,\n",
       " 5,\n",
       " 5,\n",
       " 5,\n",
       " 5,\n",
       " 5,\n",
       " 4,\n",
       " 4,\n",
       " 4,\n",
       " 4,\n",
       " 4,\n",
       " 4,\n",
       " 4,\n",
       " 4,\n",
       " 4,\n",
       " 4,\n",
       " 4,\n",
       " 3,\n",
       " 3,\n",
       " 3,\n",
       " 3,\n",
       " 3,\n",
       " 3,\n",
       " 3,\n",
       " 3,\n",
       " 3,\n",
       " 3,\n",
       " 3,\n",
       " 3,\n",
       " 3,\n",
       " 3,\n",
       " 3,\n",
       " 3,\n",
       " 3,\n",
       " 3,\n",
       " 3,\n",
       " 3,\n",
       " 3,\n",
       " 3,\n",
       " 3,\n",
       " 3,\n",
       " 3,\n",
       " 3,\n",
       " 3,\n",
       " 3,\n",
       " 3,\n",
       " 3,\n",
       " 3,\n",
       " 3,\n",
       " 3,\n",
       " 3,\n",
       " 2,\n",
       " 2,\n",
       " 2,\n",
       " 2,\n",
       " 2,\n",
       " 2,\n",
       " 2,\n",
       " 2,\n",
       " 2,\n",
       " 2,\n",
       " 2,\n",
       " 2,\n",
       " 2,\n",
       " 2,\n",
       " 2,\n",
       " 2,\n",
       " 2,\n",
       " 2,\n",
       " 2,\n",
       " 2,\n",
       " 2,\n",
       " 2,\n",
       " 2,\n",
       " 2,\n",
       " 2,\n",
       " 2,\n",
       " 2,\n",
       " 2,\n",
       " 2,\n",
       " 2,\n",
       " 2,\n",
       " 2,\n",
       " 2,\n",
       " 2,\n",
       " 2,\n",
       " 2,\n",
       " 2,\n",
       " 2,\n",
       " 2,\n",
       " 2,\n",
       " 2,\n",
       " 2,\n",
       " 2,\n",
       " 2,\n",
       " 2,\n",
       " 2,\n",
       " 2,\n",
       " 2,\n",
       " 2,\n",
       " 2,\n",
       " 2,\n",
       " 2,\n",
       " 2,\n",
       " 2,\n",
       " 2,\n",
       " 2,\n",
       " 2,\n",
       " 2,\n",
       " 2,\n",
       " 2,\n",
       " 2,\n",
       " 2,\n",
       " 2,\n",
       " 2,\n",
       " 2,\n",
       " 2,\n",
       " 2,\n",
       " 2,\n",
       " 2,\n",
       " 2,\n",
       " 2,\n",
       " 2,\n",
       " 2,\n",
       " 2,\n",
       " 2,\n",
       " 2,\n",
       " 2,\n",
       " 2,\n",
       " 2,\n",
       " 2,\n",
       " 2,\n",
       " 2,\n",
       " 2,\n",
       " 2,\n",
       " 2,\n",
       " 2,\n",
       " 2,\n",
       " 2,\n",
       " 2,\n",
       " 2,\n",
       " 2,\n",
       " 2,\n",
       " 2,\n",
       " 2,\n",
       " 2,\n",
       " 1,\n",
       " 1,\n",
       " 1,\n",
       " 1,\n",
       " 1]"
      ]
     },
     "execution_count": 6,
     "metadata": {},
     "output_type": "execute_result"
    }
   ],
   "execution_count": 6
  },
  {
   "metadata": {
    "ExecuteTime": {
     "end_time": "2025-04-09T14:57:15.399712Z",
     "start_time": "2025-04-09T14:57:15.382261Z"
    }
   },
   "cell_type": "code",
   "source": [
    "degrees = nx.degree(G)\n",
    "\n",
    "nodes_deg_2 = {\n",
    "    node\n",
    "    for node in G.nodes()\n",
    "    if degrees[node] > 1\n",
    "}"
   ],
   "id": "3a645b5111110c00",
   "outputs": [],
   "execution_count": 8
  },
  {
   "metadata": {
    "ExecuteTime": {
     "end_time": "2025-04-09T14:57:16.672137Z",
     "start_time": "2025-04-09T14:57:16.662072Z"
    }
   },
   "cell_type": "code",
   "source": "len(nodes_deg_2)",
   "id": "54d604e7754c0012",
   "outputs": [
    {
     "data": {
      "text/plain": [
       "5595"
      ]
     },
     "execution_count": 9,
     "metadata": {},
     "output_type": "execute_result"
    }
   ],
   "execution_count": 9
  },
  {
   "metadata": {
    "ExecuteTime": {
     "end_time": "2025-04-09T14:57:24.703226Z",
     "start_time": "2025-04-09T14:57:24.696819Z"
    }
   },
   "cell_type": "code",
   "source": "SubG = G.subgraph(nodes_deg_2)",
   "id": "212b5788a5d4d34e",
   "outputs": [],
   "execution_count": 10
  },
  {
   "metadata": {
    "ExecuteTime": {
     "end_time": "2025-04-09T14:57:44.489272Z",
     "start_time": "2025-04-09T14:57:43.843244Z"
    }
   },
   "cell_type": "code",
   "source": "nx.write_gexf(SubG, \"data/SubG.gexf\")",
   "id": "547efc271421de23",
   "outputs": [],
   "execution_count": 11
  },
  {
   "metadata": {},
   "cell_type": "code",
   "outputs": [],
   "execution_count": null,
   "source": "",
   "id": "a160311a282b95ec"
  }
 ],
 "metadata": {
  "kernelspec": {
   "display_name": "Python 3",
   "language": "python",
   "name": "python3"
  },
  "language_info": {
   "codemirror_mode": {
    "name": "ipython",
    "version": 2
   },
   "file_extension": ".py",
   "mimetype": "text/x-python",
   "name": "python",
   "nbconvert_exporter": "python",
   "pygments_lexer": "ipython2",
   "version": "2.7.6"
  }
 },
 "nbformat": 4,
 "nbformat_minor": 5
}
