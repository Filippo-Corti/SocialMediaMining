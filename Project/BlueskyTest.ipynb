{
 "cells": [
  {
   "metadata": {
    "ExecuteTime": {
     "end_time": "2025-04-24T08:25:14.119725Z",
     "start_time": "2025-04-24T08:25:14.116323Z"
    }
   },
   "cell_type": "code",
   "source": [
    "import json\n",
    "\n",
    "from atproto import Client"
   ],
   "id": "fcab7ef57329d9f7",
   "outputs": [],
   "execution_count": 6
  },
  {
   "metadata": {
    "ExecuteTime": {
     "end_time": "2025-04-24T08:25:15.792370Z",
     "start_time": "2025-04-24T08:25:15.788103Z"
    }
   },
   "cell_type": "code",
   "source": [
    "credentials = json.load(open('../keys/bluesky_key.json'))\n",
    "\n",
    "username = credentials['username']\n",
    "password = credentials['password']"
   ],
   "id": "5cf3b23e651cab16",
   "outputs": [],
   "execution_count": 7
  },
  {
   "metadata": {
    "ExecuteTime": {
     "end_time": "2025-04-24T08:25:29.760880Z",
     "start_time": "2025-04-24T08:25:28.329773Z"
    }
   },
   "cell_type": "code",
   "source": [
    "client = Client()\n",
    "client.login(username, password)"
   ],
   "id": "1c56eca0d9bc9212",
   "outputs": [
    {
     "data": {
      "text/plain": [
       "ProfileViewDetailed(did='did:plc:7xlfjm4wmgkdex3glrbe3xk7', handle='flppcrt.bsky.social', associated=ProfileAssociated(chat=None, feedgens=0, labeler=False, lists=0, starter_packs=0, py_type='app.bsky.actor.defs#profileAssociated'), avatar='https://cdn.bsky.app/img/avatar/plain/did:plc:7xlfjm4wmgkdex3glrbe3xk7/bafkreieveaqldvfucjomwnzfczlxixu3xjjk4h3gconpagmhste2i5rzpm@jpeg', banner=None, created_at='2025-04-22T15:43:35.573Z', description=None, display_name='', followers_count=1, follows_count=1, indexed_at='2025-04-22T15:43:35.573Z', joined_via_starter_pack=None, labels=[], pinned_post=None, posts_count=0, verification=None, viewer=ViewerState(blocked_by=False, blocking=None, blocking_by_list=None, followed_by=None, following=None, known_followers=None, muted=False, muted_by_list=None, py_type='app.bsky.actor.defs#viewerState'), py_type='app.bsky.actor.defs#profileViewDetailed')"
      ]
     },
     "execution_count": 8,
     "metadata": {},
     "output_type": "execute_result"
    }
   ],
   "execution_count": 8
  },
  {
   "metadata": {
    "ExecuteTime": {
     "end_time": "2025-04-24T08:44:19.316865Z",
     "start_time": "2025-04-24T08:44:18.593325Z"
    }
   },
   "cell_type": "code",
   "source": [
    "result = client.app.bsky.feed.search_posts(\n",
    "    params=dict(\n",
    "        q=\"MAGA\",\n",
    "        sort=\"top\"\n",
    "    )\n",
    ")"
   ],
   "id": "d648b903d89eee1d",
   "outputs": [],
   "execution_count": 27
  },
  {
   "metadata": {
    "ExecuteTime": {
     "end_time": "2025-04-24T08:45:22.294968Z",
     "start_time": "2025-04-24T08:45:22.290642Z"
    }
   },
   "cell_type": "code",
   "source": [
    "posts = result.posts\n",
    "\n",
    "for post in posts:\n",
    "    print(f\"{post.cid}: https://bsky.app/profile/{post.author.handle}/post/{post.uri.split(\"/\")[-1]}\")"
   ],
   "id": "f946d8642c7a64b4",
   "outputs": [
    {
     "name": "stdout",
     "output_type": "stream",
     "text": [
      "bafyreifeengcyori5a4xlqpbth6j5uxiynaw5d2jzde6htet6cw6wpknce: https://bsky.app/profile/cwebbonline.com/post/3lngyxsqdvs2j\n",
      "bafyreigolh5cetcwcwm24dnuklxlmkm5jbdtw7gfo7ex5c2h2jgxzjaeqe: https://bsky.app/profile/joyannreid.bsky.social/post/3lnevrgcww22m\n",
      "bafyreie6oiwml7l36au2owkcdgzfvdyza3a57bsnift4jtya4bp4qxcg6e: https://bsky.app/profile/therickwilson.bsky.social/post/3lnisr7vdss2j\n",
      "bafyreibkhoywkedlrjhn2bcxhuxadiqsbzht3fbha33qo6jxfp7ht3k6na: https://bsky.app/profile/georgetakei.bsky.social/post/3lnduotbg3k2j\n",
      "bafyreigskejgdzgufg6cmz7r7ym4fqh67bmm2jkxkidhx3nfozhjlo7fxe: https://bsky.app/profile/maxwellfrost.bsky.social/post/3lng6wkzu322j\n",
      "bafyreicqzjhocz6vpartg5h4fuvrkgxqztrczanc34c6t5pzy2gwoq3hka: https://bsky.app/profile/ronfilipkowski.bsky.social/post/3lnbtc4edtc22\n",
      "bafyreia5fhehm7ycb5ygmqa66fee77hjhvflqd4k2qajfaofg6736t6cbq: https://bsky.app/profile/bikewritedave.bsky.social/post/3lnistxr2gc2p\n",
      "bafyreid5b6xmmxvyptftobo7y5rd5ksy2fwt46kekxgrd3e4tl54cctica: https://bsky.app/profile/rickylongthread.bsky.social/post/3lnjhjey2yk2z\n",
      "bafyreicvhr2blzemgwggzky5ripjxgws3trf2vty3d7z7benyzjouzqkna: https://bsky.app/profile/teapainusa.bsky.social/post/3lngir46e6c24\n",
      "bafyreia5l5n42pvq4qa24vy36zqjjppjlmjisf4ym6kwze357m4klxb2xq: https://bsky.app/profile/mjfree.bsky.social/post/3lnbgpcq4gk2u\n",
      "bafyreieyflzqpeaegtzmb3hyekbnq5wlacv4qh2vnzhij5d6gvnjzvz6jm: https://bsky.app/profile/bearsox.bsky.social/post/3lnj4zijqtk2k\n",
      "bafyreideq5jcchqqxuk6wdk457b7xkpipo55j3eqstbuqkojudbpfuob2i: https://bsky.app/profile/patriottakes.bsky.social/post/3lndcztznkk2q\n",
      "bafyreibaiz5f3pukthxx7rqpfzrefhmxdxmw2d3zrazn46qqsxxyjeug4m: https://bsky.app/profile/theunpopulist.net/post/3lnj3m7v2o22c\n",
      "bafyreif6x3ewprwde5hrnpvrjvwvorax7sgntbw6t7boali432ghnmtppq: https://bsky.app/profile/pattonoswalt.bsky.social/post/3lnjf3njmm224\n",
      "bafyreif2wzkzfoztpv5dhzfcc4x75nunxs5ywui6jvnunmjwief67ou5ta: https://bsky.app/profile/michaelehayden.bsky.social/post/3lnijo4qg2227\n",
      "bafyreidptytoqdx5njnjwqg7nuws56uybejm5pw26wcyb4u4zzsacsrsbe: https://bsky.app/profile/sadworld.bsky.social/post/3lnha2qfu2k2e\n",
      "bafyreiamnhmwcbirtf5wqu6jxufosw7vxmoni2ann7uoeu6f72hhl7c7f4: https://bsky.app/profile/joncooper-us.bsky.social/post/3lnaplirljk2x\n",
      "bafyreia3pvhkggpodw72cnn4ojgynnsbmnbdjcr6iep4sqtdctwfbxid4e: https://bsky.app/profile/adammockler.com/post/3lnjhyktmi22w\n",
      "bafyreiciu5ghrhmuop26qp7qxi4dvamurxmoafwi2fczrg72zckjrbahqq: https://bsky.app/profile/wtfgop.bsky.social/post/3lnbwxl5umk2r\n",
      "bafyreig7iacvq6e3psrdo4pbk4222axtrzz7jjml74nhublgke5tk2jzba: https://bsky.app/profile/radleybalko.bsky.social/post/3lngljqahz22z\n",
      "bafyreic2cknfoerptxpagkdb5mnx7jlbhzwhjfgluirm7mrwf7c7fklnoy: https://bsky.app/profile/patriottakes.bsky.social/post/3lnbvp7pgdc2w\n",
      "bafyreibyc2d46zjrxde55owo5hf7qjdfnbjxzgf2ako3wnut6l4zlgg654: https://bsky.app/profile/annejustanne.bsky.social/post/3lniispxomc2q\n",
      "bafyreickewgfvlx3hahvnokz7ve5xlt6ck2mwx3yu4ezejapqu7hzt5moe: https://bsky.app/profile/zen4ever2us.bsky.social/post/3lnfoemsofc25\n",
      "bafyreihxvbibn325x2ki2u4r72m5nzjsce5dyv3owxrxy6pohx5m4z3rfu: https://bsky.app/profile/qasimrashid.com/post/3lnjr4koxvk2n\n",
      "bafyreigbu557gbhbiajrjf3gv2e4cpziav4wfj7ghkvkwj752cr7k44ate: https://bsky.app/profile/hough-transform.bsky.social/post/3lnjee7g2ds2w\n"
     ]
    }
   ],
   "execution_count": 29
  },
  {
   "metadata": {
    "ExecuteTime": {
     "end_time": "2025-04-24T08:51:19.412087Z",
     "start_time": "2025-04-24T08:51:19.407073Z"
    }
   },
   "cell_type": "code",
   "source": [
    "post = posts[-4]\n",
    "\n",
    "post.record.reply"
   ],
   "id": "3df4c70bde101694",
   "outputs": [
    {
     "data": {
      "text/plain": [
       "ReplyRef(parent=Main(cid='bafyreihos4gkzcihe65p7pwkov2f5yaphdamldpgkqf3uo6azj2kt63mki', uri='at://did:plc:j53tav4pdcpfxyx2gcfr5fhb/app.bsky.feed.post/3lni54stbtc2n', py_type='com.atproto.repo.strongRef'), root=Main(cid='bafyreihos4gkzcihe65p7pwkov2f5yaphdamldpgkqf3uo6azj2kt63mki', uri='at://did:plc:j53tav4pdcpfxyx2gcfr5fhb/app.bsky.feed.post/3lni54stbtc2n', py_type='com.atproto.repo.strongRef'), py_type='app.bsky.feed.post#replyRef')"
      ]
     },
     "execution_count": 48,
     "metadata": {},
     "output_type": "execute_result"
    }
   ],
   "execution_count": 48
  },
  {
   "metadata": {
    "ExecuteTime": {
     "end_time": "2025-04-24T08:46:05.396123Z",
     "start_time": "2025-04-24T08:46:05.390954Z"
    }
   },
   "cell_type": "code",
   "source": "result.cursor",
   "id": "743abb742a060dad",
   "outputs": [
    {
     "data": {
      "text/plain": [
       "'25'"
      ]
     },
     "execution_count": 31,
     "metadata": {},
     "output_type": "execute_result"
    }
   ],
   "execution_count": 31
  },
  {
   "metadata": {
    "ExecuteTime": {
     "end_time": "2025-04-24T08:46:37.023188Z",
     "start_time": "2025-04-24T08:46:36.296136Z"
    }
   },
   "cell_type": "code",
   "source": [
    "result2 = client.app.bsky.feed.search_posts(\n",
    "    params=dict(\n",
    "        q=\"MAGA\",\n",
    "        sort=\"top\",\n",
    "        cursor=\"25\"\n",
    "    )\n",
    ")"
   ],
   "id": "e61c1b11dece8179",
   "outputs": [],
   "execution_count": 33
  },
  {
   "metadata": {
    "ExecuteTime": {
     "end_time": "2025-04-24T08:46:46.923466Z",
     "start_time": "2025-04-24T08:46:46.917345Z"
    }
   },
   "cell_type": "code",
   "source": [
    "posts2 = result2.posts\n",
    "\n",
    "for post in posts2:\n",
    "    print(f\"{post.cid}: https://bsky.app/profile/{post.author.handle}/post/{post.uri.split(\"/\")[-1]}\")"
   ],
   "id": "4a932e155b183d4",
   "outputs": [
    {
     "name": "stdout",
     "output_type": "stream",
     "text": [
      "bafyreig6zrhdtvp6oy7gmceex4p6pinkboxsoilvqr2wdw4pptp5v242m4: https://bsky.app/profile/escargotpro.bsky.social/post/3lndxvzvpkc2m\n",
      "bafyreie44jf3i6wduvnmqkj73k7u7tgixgqcmkiejewbyq6jhcvfyeb3d4: https://bsky.app/profile/krankenpflegel.de/post/3lngfgvupt22n\n",
      "bafyreierasax7gx3dakkww3lc6pk6p6unq4egjaow3xg2gzhgzxvy3cnmy: https://bsky.app/profile/katarinakriz.bsky.social/post/3lnhnyam3sk2t\n",
      "bafyreiglp7plbvrp2h7rguv4fvlm6d6pn434zol6t5vdfoamrnsmxahw4i: https://bsky.app/profile/zeddary.bsky.social/post/3lnj5flac6s2u\n",
      "bafyreibzv3kityvcuhdb34323276tz3esvvwkdwst4brvy4opcvak2j6y4: https://bsky.app/profile/gregsargent.bsky.social/post/3lnfuw3mgbc2r\n",
      "bafyreib6vnhzwdczxfwefxs37ru2z74wg5kvndxabd5zfe6adcks5xz2tm: https://bsky.app/profile/onewokecitizen.bsky.social/post/3lnb6zatp422l\n",
      "bafyreigsmzpvitbh6ubgpfplbqcb4mipcxsy6qw3drkojmmfbro5cqyj6m: https://bsky.app/profile/npr.org/post/3lni3mooscs2y\n",
      "bafyreibg4u645boyjx4y4mxbtn2ywttyolt6ulqtf3pqlikoad4lupcwbq: https://bsky.app/profile/realbiscuitspaw.bsky.social/post/3lngcpgarek2f\n",
      "bafyreihzjs7tnfizvkiik5vllhvxyw4troymyecgykoatusiqyyeh6ds7e: https://bsky.app/profile/thebandcake.bsky.social/post/3lnepcdrc2c2l\n",
      "bafyreie4mshpvv6ion6kapz56ucb5n7radmo62jcw26msgw53mk67qctre: https://bsky.app/profile/artcandee.bsky.social/post/3lnjgwfeve22z\n",
      "bafyreihfniluefv2fbtp3lfslivsidsybggrx2rllbqj5xg46ltu765upq: https://bsky.app/profile/artcandee.bsky.social/post/3lniwtlbwnk23\n",
      "bafyreie4k6ayxgte6cqjv3ut64g6vihsnzq5vtjhs5ro2vjrb2m2hiorei: https://bsky.app/profile/loriblack.bsky.social/post/3lnjqxwk5ts2h\n",
      "bafyreigfdny62uhs6aphjnfswms2jlumngdc5o2eqmxdt5iopi2bsmgg7i: https://bsky.app/profile/walshfreedom.bsky.social/post/3lndb7sy3fc2k\n",
      "bafyreigu345h7g5r36dt2kuoopslzb2v5ha4tfts4uz6wt5n5zqmls5ruq: https://bsky.app/profile/mjfree.bsky.social/post/3ln74wqlzhk2o\n",
      "bafyreigky5pg3kpd4trievxwdu2s5dpsaqwrocc2i2baykbya26iabmi3i: https://bsky.app/profile/biggienotsmalls.bsky.social/post/3lnflfdo63c2t\n",
      "bafyreigtmlvtua67xhd445sgkwubg6onrevzhy2llw4u7qretcgzcbankq: https://bsky.app/profile/chibole.bsky.social/post/3lniexe7csc2z\n",
      "bafyreibhgbo627bhqic333kflogf3na4lxeubmn6zfvdahoav5sgcviwne: https://bsky.app/profile/nickknudsenus.bsky.social/post/3lnazdfznbs24\n",
      "bafyreieogakxtrtafdvtkdkh5oyxhvt7nhjrrjtpi2kpzqrjufysbod42a: https://bsky.app/profile/just-jack-1.bsky.social/post/3ln7uzmtjwc26\n",
      "bafyreicjdguoo6jcznceqyms7ntczq4bmlv7uyrgk5fz5wvvjvuklyp5ja: https://bsky.app/profile/ptklein.com/post/3lnjdomxc4k2i\n",
      "bafyreie3raplhvt7rgpxapqtrec4qflnmsmgwoc32qlnqdwxf2cgubob5m: https://bsky.app/profile/kalekai.bsky.social/post/3lneh7lryrs2u\n",
      "bafyreibky7nzkbr6wu7z435qae6xzope4bgyscbmkmu2xl752ylaqilaf4: https://bsky.app/profile/thebandcake.bsky.social/post/3lned6xwqx22w\n",
      "bafyreifam2is5dwiloa4my2mrobpg3ur2mucsz6nyfjvulj2yzsdemjvsq: https://bsky.app/profile/bettyhumpter25.bsky.social/post/3lng3ffqosk2e\n",
      "bafyreih7gz3aixeqon6ibz24xydeyujqupny4765bkp2v2uneshhnxvn2q: https://bsky.app/profile/chriswarcraft.bsky.social/post/3lnk2dcrxrc2b\n",
      "bafyreibyebaqgibde3k64msnkt4mvgsq64m7gqcgnmsocddgt3zf37q6ba: https://bsky.app/profile/sundaedivine.bsky.social/post/3lnd7gonocs2i\n",
      "bafyreicknnnlmwmokr7eq66lkzvvqsxk2zvrrcra3ot4enr7r7kypf56ji: https://bsky.app/profile/artcandee.bsky.social/post/3lnfzo3aeu22u\n"
     ]
    }
   ],
   "execution_count": 34
  },
  {
   "metadata": {
    "ExecuteTime": {
     "end_time": "2025-04-24T08:47:17.053037Z",
     "start_time": "2025-04-24T08:47:17.048298Z"
    }
   },
   "cell_type": "code",
   "source": "result2.cursor",
   "id": "20411d01ea51dd61",
   "outputs": [
    {
     "data": {
      "text/plain": [
       "'50'"
      ]
     },
     "execution_count": 35,
     "metadata": {},
     "output_type": "execute_result"
    }
   ],
   "execution_count": 35
  },
  {
   "metadata": {
    "ExecuteTime": {
     "end_time": "2025-04-24T08:57:44.897818Z",
     "start_time": "2025-04-24T08:57:44.894805Z"
    }
   },
   "cell_type": "code",
   "source": [
    "post2 = posts[1]\n",
    "\n",
    "cid = post2.cid\n",
    "uri = post2.uri"
   ],
   "id": "e88da568817e95db",
   "outputs": [],
   "execution_count": 52
  },
  {
   "metadata": {
    "ExecuteTime": {
     "end_time": "2025-04-24T08:57:47.167053Z",
     "start_time": "2025-04-24T08:57:47.160978Z"
    }
   },
   "cell_type": "code",
   "source": "uri",
   "id": "4ca0adb1aa08adee",
   "outputs": [
    {
     "data": {
      "text/plain": [
       "'at://did:plc:hxhndrm5u3p2lknkw73f2ojb/app.bsky.feed.post/3lnevrgcww22m'"
      ]
     },
     "execution_count": 53,
     "metadata": {},
     "output_type": "execute_result"
    }
   ],
   "execution_count": 53
  },
  {
   "metadata": {
    "ExecuteTime": {
     "end_time": "2025-04-24T08:58:45.832062Z",
     "start_time": "2025-04-24T08:58:45.024599Z"
    }
   },
   "cell_type": "code",
   "source": [
    "thread = client.get_post_thread(\n",
    "    uri=uri,\n",
    "    depth=1000,\n",
    "    parent_height=1000\n",
    ")"
   ],
   "id": "b7bceebce9af8973",
   "outputs": [],
   "execution_count": 54
  },
  {
   "metadata": {
    "ExecuteTime": {
     "end_time": "2025-04-24T09:05:23.782967Z",
     "start_time": "2025-04-24T09:05:23.778979Z"
    }
   },
   "cell_type": "code",
   "source": [
    "for idx, reply in enumerate(thread.thread.replies):\n",
    "    # if reply.post.reply_count != 0:\n",
    "    #     print(idx, reply.post.reply_count)\n",
    "\n",
    "    if \"bark\" in reply.post.author.handle:\n",
    "        print(idx, reply)"
   ],
   "id": "7c3a2bed26a6124c",
   "outputs": [],
   "execution_count": 81
  },
  {
   "metadata": {
    "ExecuteTime": {
     "end_time": "2025-04-24T09:01:37.079321Z",
     "start_time": "2025-04-24T09:01:37.074256Z"
    }
   },
   "cell_type": "code",
   "source": "len(thread.thread.replies)",
   "id": "fdebfdd41b3fe505",
   "outputs": [
    {
     "data": {
      "text/plain": [
       "61"
      ]
     },
     "execution_count": 62,
     "metadata": {},
     "output_type": "execute_result"
    }
   ],
   "execution_count": 62
  },
  {
   "metadata": {
    "ExecuteTime": {
     "end_time": "2025-04-24T09:05:59.793101Z",
     "start_time": "2025-04-24T09:05:59.789589Z"
    }
   },
   "cell_type": "code",
   "source": "reply = thread.thread.replies[45]",
   "id": "20f2da4a92e40cd1",
   "outputs": [],
   "execution_count": 84
  },
  {
   "metadata": {
    "ExecuteTime": {
     "end_time": "2025-04-24T09:37:44.027801Z",
     "start_time": "2025-04-24T09:37:44.021263Z"
    }
   },
   "cell_type": "code",
   "source": "reply",
   "id": "19387edf58619ff0",
   "outputs": [
    {
     "data": {
      "text/plain": [
       "ThreadViewPost(post=PostView(author=ProfileViewBasic(did='did:plc:fsa4ortdhosoqvrjo4jwome5', handle='debbie156.bsky.social', associated=ProfileAssociated(chat=ProfileAssociatedChat(allow_incoming='following', py_type='app.bsky.actor.defs#profileAssociatedChat'), feedgens=None, labeler=None, lists=None, starter_packs=None, py_type='app.bsky.actor.defs#profileAssociated'), avatar='https://cdn.bsky.app/img/avatar/plain/did:plc:fsa4ortdhosoqvrjo4jwome5/bafkreicc3vu73ejqlrosbf3aky3di7zyx2qzczhypsrtzkyijh3xu2nghu@jpeg', created_at='2023-08-22T01:05:40.065Z', display_name='@debbie156', labels=[], verification=None, viewer=ViewerState(blocked_by=False, blocking=None, blocking_by_list=None, followed_by=None, following=None, known_followers=None, muted=False, muted_by_list=None, py_type='app.bsky.actor.defs#viewerState'), py_type='app.bsky.actor.defs#profileViewBasic'), cid='bafyreiar7mmupeuqunqilyx4fkbpso3tra2f54cx62s4pynvrtzv55wihq', indexed_at='2025-04-22T05:08:47.977Z', record=Record(created_at='2025-04-22T05:08:47.319Z', text='They must be losing everything too. Will they wake up?🤷\\u200d♀️', embed=None, entities=None, facets=None, labels=None, langs=['en'], reply=ReplyRef(parent=Main(cid='bafyreigolh5cetcwcwm24dnuklxlmkm5jbdtw7gfo7ex5c2h2jgxzjaeqe', uri='at://did:plc:hxhndrm5u3p2lknkw73f2ojb/app.bsky.feed.post/3lnevrgcww22m', py_type='com.atproto.repo.strongRef'), root=Main(cid='bafyreigolh5cetcwcwm24dnuklxlmkm5jbdtw7gfo7ex5c2h2jgxzjaeqe', uri='at://did:plc:hxhndrm5u3p2lknkw73f2ojb/app.bsky.feed.post/3lnevrgcww22m', py_type='com.atproto.repo.strongRef'), py_type='app.bsky.feed.post#replyRef'), tags=None, py_type='app.bsky.feed.post'), uri='at://did:plc:fsa4ortdhosoqvrjo4jwome5/app.bsky.feed.post/3lnevxfywze2a', embed=None, labels=[], like_count=5, quote_count=0, reply_count=2, repost_count=0, threadgate=None, viewer=ViewerState(embedding_disabled=False, like=None, pinned=None, reply_disabled=None, repost=None, thread_muted=False, py_type='app.bsky.feed.defs#viewerState'), py_type='app.bsky.feed.defs#postView'), parent=None, replies=[ThreadViewPost(post=PostView(author=ProfileViewBasic(did='did:plc:ol465uh7pgjsso62fgltr3py', handle='squeakins85.bsky.social', associated=None, avatar='https://cdn.bsky.app/img/avatar/plain/did:plc:ol465uh7pgjsso62fgltr3py/bafkreihjwoozdiu3463v7vrnbvvuoadesevkijnx4ginbyxhuf2we7poya@jpeg', created_at='2025-01-25T13:08:39.143Z', display_name='', labels=[], verification=None, viewer=ViewerState(blocked_by=False, blocking=None, blocking_by_list=None, followed_by=None, following=None, known_followers=None, muted=False, muted_by_list=None, py_type='app.bsky.actor.defs#viewerState'), py_type='app.bsky.actor.defs#profileViewBasic'), cid='bafyreid3unpblulxrvcg4c4dobcehxhmpm2ttevmzn3udglsb4oovxyqsi', indexed_at='2025-04-22T08:39:30.080Z', record=Record(created_at='2025-04-22T08:39:28.892Z', text=\"It's a cult, they won't ever wake up\", embed=None, entities=None, facets=None, labels=None, langs=['en'], reply=ReplyRef(parent=Main(cid='bafyreiar7mmupeuqunqilyx4fkbpso3tra2f54cx62s4pynvrtzv55wihq', uri='at://did:plc:fsa4ortdhosoqvrjo4jwome5/app.bsky.feed.post/3lnevxfywze2a', py_type='com.atproto.repo.strongRef'), root=Main(cid='bafyreigolh5cetcwcwm24dnuklxlmkm5jbdtw7gfo7ex5c2h2jgxzjaeqe', uri='at://did:plc:hxhndrm5u3p2lknkw73f2ojb/app.bsky.feed.post/3lnevrgcww22m', py_type='com.atproto.repo.strongRef'), py_type='app.bsky.feed.post#replyRef'), tags=None, py_type='app.bsky.feed.post'), uri='at://did:plc:ol465uh7pgjsso62fgltr3py/app.bsky.feed.post/3lnfbq5xgvk2a', embed=None, labels=[], like_count=2, quote_count=0, reply_count=0, repost_count=0, threadgate=None, viewer=ViewerState(embedding_disabled=False, like=None, pinned=None, reply_disabled=None, repost=None, thread_muted=False, py_type='app.bsky.feed.defs#viewerState'), py_type='app.bsky.feed.defs#postView'), parent=None, replies=[], thread_context=ThreadContext(root_author_like=None, py_type='app.bsky.feed.defs#threadContext'), py_type='app.bsky.feed.defs#threadViewPost'), ThreadViewPost(post=PostView(author=ProfileViewBasic(did='did:plc:czdwqa57th7zipu5at2f6ynl', handle='barkiologist.bsky.social', associated=ProfileAssociated(chat=ProfileAssociatedChat(allow_incoming='all', py_type='app.bsky.actor.defs#profileAssociatedChat'), feedgens=None, labeler=None, lists=None, starter_packs=None, py_type='app.bsky.actor.defs#profileAssociated'), avatar='https://cdn.bsky.app/img/avatar/plain/did:plc:czdwqa57th7zipu5at2f6ynl/bafkreihtfc5g36j5c43gkmneof4x2yxy7xupgag4f4zzpnskvu3tsyx3bm@jpeg', created_at='2024-11-11T07:23:59.078Z', display_name='CaptainTono', labels=[], verification=None, viewer=ViewerState(blocked_by=False, blocking=None, blocking_by_list=None, followed_by=None, following=None, known_followers=None, muted=False, muted_by_list=None, py_type='app.bsky.actor.defs#viewerState'), py_type='app.bsky.actor.defs#profileViewBasic'), cid='bafyreia7zrpgwmy6oi7vxykyci5nhgcsyenosy2yyheu3lefuyrpfsqbsi', indexed_at='2025-04-22T05:46:20.384Z', record=Record(created_at='2025-04-22T05:46:19.845Z', text='I fear they will never wake up. I heard Dean Obeidallah say that they’ll be living in homeless camps and still be singing his praises.', embed=None, entities=None, facets=None, labels=None, langs=['en'], reply=ReplyRef(parent=Main(cid='bafyreiar7mmupeuqunqilyx4fkbpso3tra2f54cx62s4pynvrtzv55wihq', uri='at://did:plc:fsa4ortdhosoqvrjo4jwome5/app.bsky.feed.post/3lnevxfywze2a', py_type='com.atproto.repo.strongRef'), root=Main(cid='bafyreigolh5cetcwcwm24dnuklxlmkm5jbdtw7gfo7ex5c2h2jgxzjaeqe', uri='at://did:plc:hxhndrm5u3p2lknkw73f2ojb/app.bsky.feed.post/3lnevrgcww22m', py_type='com.atproto.repo.strongRef'), py_type='app.bsky.feed.post#replyRef'), tags=None, py_type='app.bsky.feed.post'), uri='at://did:plc:czdwqa57th7zipu5at2f6ynl/app.bsky.feed.post/3lney2k6lgc2u', embed=None, labels=[], like_count=5, quote_count=0, reply_count=0, repost_count=0, threadgate=None, viewer=ViewerState(embedding_disabled=False, like=None, pinned=None, reply_disabled=None, repost=None, thread_muted=False, py_type='app.bsky.feed.defs#viewerState'), py_type='app.bsky.feed.defs#postView'), parent=None, replies=[], thread_context=ThreadContext(root_author_like=None, py_type='app.bsky.feed.defs#threadContext'), py_type='app.bsky.feed.defs#threadViewPost')], thread_context=ThreadContext(root_author_like=None, py_type='app.bsky.feed.defs#threadContext'), py_type='app.bsky.feed.defs#threadViewPost')"
      ]
     },
     "execution_count": 110,
     "metadata": {},
     "output_type": "execute_result"
    }
   ],
   "execution_count": 110
  },
  {
   "metadata": {
    "ExecuteTime": {
     "end_time": "2025-04-24T09:07:04.494268Z",
     "start_time": "2025-04-24T09:07:04.488545Z"
    }
   },
   "cell_type": "code",
   "source": "reply.replies",
   "id": "2a95252f5414ce9e",
   "outputs": [
    {
     "data": {
      "text/plain": [
       "[ThreadViewPost(post=PostView(author=ProfileViewBasic(did='did:plc:ol465uh7pgjsso62fgltr3py', handle='squeakins85.bsky.social', associated=None, avatar='https://cdn.bsky.app/img/avatar/plain/did:plc:ol465uh7pgjsso62fgltr3py/bafkreihjwoozdiu3463v7vrnbvvuoadesevkijnx4ginbyxhuf2we7poya@jpeg', created_at='2025-01-25T13:08:39.143Z', display_name='', labels=[], verification=None, viewer=ViewerState(blocked_by=False, blocking=None, blocking_by_list=None, followed_by=None, following=None, known_followers=None, muted=False, muted_by_list=None, py_type='app.bsky.actor.defs#viewerState'), py_type='app.bsky.actor.defs#profileViewBasic'), cid='bafyreid3unpblulxrvcg4c4dobcehxhmpm2ttevmzn3udglsb4oovxyqsi', indexed_at='2025-04-22T08:39:30.080Z', record=Record(created_at='2025-04-22T08:39:28.892Z', text=\"It's a cult, they won't ever wake up\", embed=None, entities=None, facets=None, labels=None, langs=['en'], reply=ReplyRef(parent=Main(cid='bafyreiar7mmupeuqunqilyx4fkbpso3tra2f54cx62s4pynvrtzv55wihq', uri='at://did:plc:fsa4ortdhosoqvrjo4jwome5/app.bsky.feed.post/3lnevxfywze2a', py_type='com.atproto.repo.strongRef'), root=Main(cid='bafyreigolh5cetcwcwm24dnuklxlmkm5jbdtw7gfo7ex5c2h2jgxzjaeqe', uri='at://did:plc:hxhndrm5u3p2lknkw73f2ojb/app.bsky.feed.post/3lnevrgcww22m', py_type='com.atproto.repo.strongRef'), py_type='app.bsky.feed.post#replyRef'), tags=None, py_type='app.bsky.feed.post'), uri='at://did:plc:ol465uh7pgjsso62fgltr3py/app.bsky.feed.post/3lnfbq5xgvk2a', embed=None, labels=[], like_count=2, quote_count=0, reply_count=0, repost_count=0, threadgate=None, viewer=ViewerState(embedding_disabled=False, like=None, pinned=None, reply_disabled=None, repost=None, thread_muted=False, py_type='app.bsky.feed.defs#viewerState'), py_type='app.bsky.feed.defs#postView'), parent=None, replies=[], thread_context=ThreadContext(root_author_like=None, py_type='app.bsky.feed.defs#threadContext'), py_type='app.bsky.feed.defs#threadViewPost'),\n",
       " ThreadViewPost(post=PostView(author=ProfileViewBasic(did='did:plc:czdwqa57th7zipu5at2f6ynl', handle='barkiologist.bsky.social', associated=ProfileAssociated(chat=ProfileAssociatedChat(allow_incoming='all', py_type='app.bsky.actor.defs#profileAssociatedChat'), feedgens=None, labeler=None, lists=None, starter_packs=None, py_type='app.bsky.actor.defs#profileAssociated'), avatar='https://cdn.bsky.app/img/avatar/plain/did:plc:czdwqa57th7zipu5at2f6ynl/bafkreihtfc5g36j5c43gkmneof4x2yxy7xupgag4f4zzpnskvu3tsyx3bm@jpeg', created_at='2024-11-11T07:23:59.078Z', display_name='CaptainTono', labels=[], verification=None, viewer=ViewerState(blocked_by=False, blocking=None, blocking_by_list=None, followed_by=None, following=None, known_followers=None, muted=False, muted_by_list=None, py_type='app.bsky.actor.defs#viewerState'), py_type='app.bsky.actor.defs#profileViewBasic'), cid='bafyreia7zrpgwmy6oi7vxykyci5nhgcsyenosy2yyheu3lefuyrpfsqbsi', indexed_at='2025-04-22T05:46:20.384Z', record=Record(created_at='2025-04-22T05:46:19.845Z', text='I fear they will never wake up. I heard Dean Obeidallah say that they’ll be living in homeless camps and still be singing his praises.', embed=None, entities=None, facets=None, labels=None, langs=['en'], reply=ReplyRef(parent=Main(cid='bafyreiar7mmupeuqunqilyx4fkbpso3tra2f54cx62s4pynvrtzv55wihq', uri='at://did:plc:fsa4ortdhosoqvrjo4jwome5/app.bsky.feed.post/3lnevxfywze2a', py_type='com.atproto.repo.strongRef'), root=Main(cid='bafyreigolh5cetcwcwm24dnuklxlmkm5jbdtw7gfo7ex5c2h2jgxzjaeqe', uri='at://did:plc:hxhndrm5u3p2lknkw73f2ojb/app.bsky.feed.post/3lnevrgcww22m', py_type='com.atproto.repo.strongRef'), py_type='app.bsky.feed.post#replyRef'), tags=None, py_type='app.bsky.feed.post'), uri='at://did:plc:czdwqa57th7zipu5at2f6ynl/app.bsky.feed.post/3lney2k6lgc2u', embed=None, labels=[], like_count=5, quote_count=0, reply_count=0, repost_count=0, threadgate=None, viewer=ViewerState(embedding_disabled=False, like=None, pinned=None, reply_disabled=None, repost=None, thread_muted=False, py_type='app.bsky.feed.defs#viewerState'), py_type='app.bsky.feed.defs#postView'), parent=None, replies=[], thread_context=ThreadContext(root_author_like=None, py_type='app.bsky.feed.defs#threadContext'), py_type='app.bsky.feed.defs#threadViewPost')]"
      ]
     },
     "execution_count": 92,
     "metadata": {},
     "output_type": "execute_result"
    }
   ],
   "execution_count": 92
  },
  {
   "metadata": {
    "ExecuteTime": {
     "end_time": "2025-04-24T09:30:03.262040Z",
     "start_time": "2025-04-24T09:30:03.258240Z"
    }
   },
   "cell_type": "code",
   "source": [
    "for post in posts:\n",
    "    print(post)\n",
    "    break"
   ],
   "id": "63a33dfa0d0ae244",
   "outputs": [
    {
     "name": "stdout",
     "output_type": "stream",
     "text": [
      "author=ProfileViewBasic(did='did:plc:uo2fna47c4v6zcnklxfhcvjb', handle='cwebbonline.com', associated=ProfileAssociated(chat=ProfileAssociatedChat(allow_incoming='following', py_type='app.bsky.actor.defs#profileAssociatedChat'), feedgens=None, labeler=None, lists=None, starter_packs=None, py_type='app.bsky.actor.defs#profileAssociated'), avatar='https://cdn.bsky.app/img/avatar/plain/did:plc:uo2fna47c4v6zcnklxfhcvjb/bafkreiaw3ngw2fcsff7hcbqqdxu2vwvfapld5rbxe3jnslbxrqomv7eo2y@jpeg', created_at='2023-08-12T04:13:28.328Z', display_name='Christopher Webb', labels=[], verification=None, viewer=ViewerState(blocked_by=False, blocking=None, blocking_by_list=None, followed_by=None, following=None, known_followers=None, muted=False, muted_by_list=None, py_type='app.bsky.actor.defs#viewerState'), py_type='app.bsky.actor.defs#profileViewBasic') cid='bafyreifeengcyori5a4xlqpbth6j5uxiynaw5d2jzde6htet6cw6wpknce' indexed_at='2025-04-23T01:08:05.285Z' record=Record(created_at='2025-04-23T01:08:01.371Z', text='Every conversation between a MAGA and a liberal…', embed=Main(video=BlobRef(mime_type='video/mp4', size=597139, ref=IpldLink(link='bafkreicnn3tdyko4wplvcv3ouixjrxiy3vqcachngg7up6wiatnlynwsjm'), py_type='blob'), alt=None, aspect_ratio=AspectRatio(height=526, width=360, py_type='app.bsky.embed.defs#aspectRatio'), captions=None, py_type='app.bsky.embed.video'), entities=None, facets=None, labels=None, langs=['en'], reply=None, tags=None, py_type='app.bsky.feed.post') uri='at://did:plc:uo2fna47c4v6zcnklxfhcvjb/app.bsky.feed.post/3lngyxsqdvs2j' embed=View(cid='bafkreicnn3tdyko4wplvcv3ouixjrxiy3vqcachngg7up6wiatnlynwsjm', playlist='https://video.bsky.app/watch/did%3Aplc%3Auo2fna47c4v6zcnklxfhcvjb/bafkreicnn3tdyko4wplvcv3ouixjrxiy3vqcachngg7up6wiatnlynwsjm/playlist.m3u8', alt=None, aspect_ratio=AspectRatio(height=526, width=360, py_type='app.bsky.embed.defs#aspectRatio'), thumbnail='https://video.bsky.app/watch/did%3Aplc%3Auo2fna47c4v6zcnklxfhcvjb/bafkreicnn3tdyko4wplvcv3ouixjrxiy3vqcachngg7up6wiatnlynwsjm/thumbnail.jpg', py_type='app.bsky.embed.video#view') labels=[] like_count=1996 quote_count=48 reply_count=94 repost_count=475 threadgate=None viewer=ViewerState(embedding_disabled=False, like=None, pinned=None, reply_disabled=None, repost=None, thread_muted=False, py_type='app.bsky.feed.defs#viewerState') py_type='app.bsky.feed.defs#postView'\n"
     ]
    }
   ],
   "execution_count": 109
  },
  {
   "metadata": {},
   "cell_type": "code",
   "outputs": [],
   "execution_count": null,
   "source": "client.app.bsky.",
   "id": "90ff00482eb4e0f1"
  }
 ],
 "metadata": {
  "kernelspec": {
   "display_name": "Python 3",
   "language": "python",
   "name": "python3"
  },
  "language_info": {
   "codemirror_mode": {
    "name": "ipython",
    "version": 2
   },
   "file_extension": ".py",
   "mimetype": "text/x-python",
   "name": "python",
   "nbconvert_exporter": "python",
   "pygments_lexer": "ipython2",
   "version": "2.7.6"
  }
 },
 "nbformat": 4,
 "nbformat_minor": 5
}
