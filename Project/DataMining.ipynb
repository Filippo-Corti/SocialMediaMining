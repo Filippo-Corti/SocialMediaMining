{
 "cells": [
  {
   "cell_type": "code",
   "id": "initial_id",
   "metadata": {
    "collapsed": true,
    "ExecuteTime": {
     "end_time": "2025-04-08T07:45:28.866985Z",
     "start_time": "2025-04-08T07:45:28.861987Z"
    }
   },
   "source": [
    "from typing import Generator, List\n",
    "from dataclasses import dataclass\n",
    "\n",
    "from googleapiclient.discovery import build"
   ],
   "outputs": [],
   "execution_count": 2
  },
  {
   "metadata": {
    "ExecuteTime": {
     "end_time": "2025-04-08T07:45:29.635142Z",
     "start_time": "2025-04-08T07:45:29.630141Z"
    }
   },
   "cell_type": "code",
   "source": [
    "@dataclass\n",
    "class Comment:\n",
    "    author: str\n",
    "    content: str\n",
    "    date: str\n",
    "    like_count: int\n",
    "\n",
    "\n",
    "@dataclass\n",
    "class Thread:\n",
    "    video_id: str\n",
    "    reply_count: int\n",
    "    top_level_comment: Comment\n",
    "    replies: List[Comment]\n"
   ],
   "id": "eb0a7ec9422b124e",
   "outputs": [],
   "execution_count": 3
  },
  {
   "metadata": {
    "ExecuteTime": {
     "end_time": "2025-04-08T07:48:21.882504Z",
     "start_time": "2025-04-08T07:48:21.876306Z"
    }
   },
   "cell_type": "code",
   "source": [
    "\n",
    "\n",
    "class YoutubeCommentsScraper:\n",
    "\n",
    "    def __init__(\n",
    "            self,\n",
    "            api_key: str,\n",
    "            api_service_name: str = \"youtube\",\n",
    "            api_version: str = \"v3\"\n",
    "    ) -> None:\n",
    "        self.API_KEY = api_key\n",
    "\n",
    "        self.youtube = build(\n",
    "            api_service_name,\n",
    "            api_version,\n",
    "            developerKey=self.API_KEY)\n",
    "\n",
    "    def fetch_threads(\n",
    "            self,\n",
    "            video_id: str\n",
    "    ) -> Generator[Thread, None, None]:\n",
    "        request = self.youtube.commentThreads().list(\n",
    "            part=\"snippet\",\n",
    "            videoId=video_id,\n",
    "            maxResults=100,\n",
    "            textFormat=\"plainText\",\n",
    "        )\n",
    "        while request:\n",
    "            response = request.execute()\n",
    "            top_level_comment = #TODO\n",
    "            # then call fetch_reply\n",
    "            # then create and yield the thread\n",
    "            # then go next\n",
    "            request = self.youtube.commentThreads().list_next(request, response)\n",
    "\n",
    "    def _fetch_reply_comments(\n",
    "            self,\n",
    "            parent_comment_id: str\n",
    "    ) -> Generator[Comment, None, None]:\n",
    "        request = self.youtube.comments().list(\n",
    "            part=\"snippet\",\n",
    "            parentId=parent_comment_id,\n",
    "            maxResults=100,\n",
    "            textFormat=\"plainText\"\n",
    "        )\n",
    "        while request:\n",
    "            response = request.execute()\n",
    "            for comment in response.get(\"items\", []):\n",
    "                snippet = comment[\"snippet\"]\n",
    "                yield Comment(\n",
    "                    author=snippet[\"authorDisplayName\"],\n",
    "                    content=snippet[\"textDisplay\"],\n",
    "                    date=snippet[\"publishedAt\"],\n",
    "                    like_count=snippet[\"likeCount\"],\n",
    "                )\n",
    "            request = self.youtube.comments().list_next(request, response)\n"
   ],
   "id": "a18f1a9bb6427c89",
   "outputs": [
    {
     "ename": "IndentationError",
     "evalue": "expected an indented block after function definition on line 3 (3296121876.py, line 5)",
     "output_type": "error",
     "traceback": [
      "\u001B[1;36m  Cell \u001B[1;32mIn[4], line 5\u001B[1;36m\u001B[0m\n\u001B[1;33m    YOUTUBE_API_SERVICE_NAME,\u001B[0m\n\u001B[1;37m    ^\u001B[0m\n\u001B[1;31mIndentationError\u001B[0m\u001B[1;31m:\u001B[0m expected an indented block after function definition on line 3\n"
     ]
    }
   ],
   "execution_count": 4
  }
 ],
 "metadata": {
  "kernelspec": {
   "display_name": "Python 3",
   "language": "python",
   "name": "python3"
  },
  "language_info": {
   "codemirror_mode": {
    "name": "ipython",
    "version": 2
   },
   "file_extension": ".py",
   "mimetype": "text/x-python",
   "name": "python",
   "nbconvert_exporter": "python",
   "pygments_lexer": "ipython2",
   "version": "2.7.6"
  }
 },
 "nbformat": 4,
 "nbformat_minor": 5
}
