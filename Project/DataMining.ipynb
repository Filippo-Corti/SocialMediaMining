{
 "cells": [
  {
   "cell_type": "code",
   "id": "initial_id",
   "metadata": {
    "collapsed": true,
    "ExecuteTime": {
     "end_time": "2025-04-08T09:08:11.756746Z",
     "start_time": "2025-04-08T09:08:11.743470Z"
    }
   },
   "source": [
    "from typing import Generator, List, Dict, Any\n",
    "from dataclasses import dataclass, asdict\n",
    "import json\n",
    "from googleapiclient.discovery import build\n",
    "import time\n",
    "import os"
   ],
   "outputs": [],
   "execution_count": 28
  },
  {
   "metadata": {
    "ExecuteTime": {
     "end_time": "2025-04-08T08:59:13.274885Z",
     "start_time": "2025-04-08T08:59:13.266922Z"
    }
   },
   "cell_type": "code",
   "source": "DEVELOPER_KEY = json.load(open('../keys/youtube_key.json'))['api_key']",
   "id": "e805839eefd60d84",
   "outputs": [],
   "execution_count": 19
  },
  {
   "metadata": {
    "ExecuteTime": {
     "end_time": "2025-04-08T08:59:13.816505Z",
     "start_time": "2025-04-08T08:59:13.805554Z"
    }
   },
   "cell_type": "code",
   "source": [
    "@dataclass\n",
    "class Comment:\n",
    "    author: str\n",
    "    content: str\n",
    "    date: str\n",
    "    like_count: int\n",
    "\n",
    "\n",
    "@dataclass\n",
    "class Thread:\n",
    "    video_id: str\n",
    "    reply_count: int\n",
    "    top_level_comment: Comment\n",
    "    replies: List[Comment]\n"
   ],
   "id": "eb0a7ec9422b124e",
   "outputs": [],
   "execution_count": 20
  },
  {
   "metadata": {
    "ExecuteTime": {
     "end_time": "2025-04-08T08:59:14.448145Z",
     "start_time": "2025-04-08T08:59:14.437872Z"
    }
   },
   "cell_type": "code",
   "source": [
    "class YoutubeCommentsScraper:\n",
    "\n",
    "    def __init__(\n",
    "            self,\n",
    "            api_key: str,\n",
    "            api_service_name: str = \"youtube\",\n",
    "            api_version: str = \"v3\"\n",
    "    ) -> None:\n",
    "        self.API_KEY = api_key\n",
    "\n",
    "        self.youtube = build(\n",
    "            api_service_name,\n",
    "            api_version,\n",
    "            developerKey=self.API_KEY)\n",
    "\n",
    "    def fetch_threads(\n",
    "            self,\n",
    "            video_id: str\n",
    "    ) -> Generator[Thread, None, None]:\n",
    "        request = self.youtube.commentThreads().list(\n",
    "            part=\"snippet\",\n",
    "            videoId=video_id,\n",
    "            maxResults=100,\n",
    "            textFormat=\"plainText\",\n",
    "            order=\"relevance\",\n",
    "        )\n",
    "        while request:\n",
    "            response = request.execute()\n",
    "            for thread in response[\"items\"]:\n",
    "                replies = list()\n",
    "                snippet = thread[\"snippet\"]\n",
    "                reply_count = snippet[\"totalReplyCount\"]\n",
    "                main_comment_data = snippet[\"topLevelComment\"]\n",
    "                top_level_comment = self._comment_from_resource(main_comment_data)\n",
    "                for reply in self._fetch_reply_comments(main_comment_data[\"id\"]):\n",
    "                    replies.append(reply)\n",
    "                yield Thread(\n",
    "                    video_id=video_id,\n",
    "                    reply_count=reply_count,\n",
    "                    top_level_comment=top_level_comment,\n",
    "                    replies=replies\n",
    "                )\n",
    "            request = self.youtube.commentThreads().list_next(request, response)\n",
    "\n",
    "    def _fetch_reply_comments(\n",
    "            self,\n",
    "            parent_comment_id: str\n",
    "    ) -> Generator[Comment, None, None]:\n",
    "        request = self.youtube.comments().list(\n",
    "            part=\"snippet\",\n",
    "            parentId=parent_comment_id,\n",
    "            maxResults=100,\n",
    "            textFormat=\"plainText\"\n",
    "        )\n",
    "        while request:\n",
    "            response = request.execute()\n",
    "            time.sleep(0.1)\n",
    "            for comment in response.get(\"items\", []):\n",
    "                yield self._comment_from_resource(comment)\n",
    "            request = self.youtube.comments().list_next(request, response)\n",
    "\n",
    "    @staticmethod\n",
    "    def _comment_from_resource(\n",
    "            resource: Dict[str, Any]\n",
    "    ) -> Comment:\n",
    "        snippet = resource[\"snippet\"]\n",
    "        return Comment(\n",
    "            author=snippet[\"authorDisplayName\"],\n",
    "            content=snippet[\"textDisplay\"],\n",
    "            date=snippet[\"publishedAt\"],\n",
    "            like_count=snippet[\"likeCount\"],\n",
    "        )\n"
   ],
   "id": "a18f1a9bb6427c89",
   "outputs": [],
   "execution_count": 21
  },
  {
   "metadata": {
    "ExecuteTime": {
     "end_time": "2025-04-08T09:08:17.171781Z",
     "start_time": "2025-04-08T09:08:17.158073Z"
    }
   },
   "cell_type": "code",
   "source": [
    "class NDJSONThreadSaver:  #Newline Delimited JSON\n",
    "\n",
    "    def __init__(self, data_dir: str = 'data'):\n",
    "        os.makedirs(data_dir, exist_ok=True)\n",
    "        self.data_dir = data_dir\n",
    "\n",
    "    def save(self, thread: Thread):\n",
    "        file_path = os.path.join(self.data_dir, f\"{thread.video_id}.ndjson\")\n",
    "\n",
    "        with open(file_path, 'a', encoding='utf-8') as f:\n",
    "            serializable_thread = asdict(thread)\n",
    "            json.dump(serializable_thread, f, ensure_ascii=False)\n",
    "            f.write(\"\\n\")"
   ],
   "id": "4eebacd47088127f",
   "outputs": [],
   "execution_count": 29
  },
  {
   "metadata": {},
   "cell_type": "code",
   "outputs": [],
   "execution_count": null,
   "source": "",
   "id": "943e42ae26cc3e"
  },
  {
   "metadata": {
    "ExecuteTime": {
     "end_time": "2025-04-08T09:08:25.988012Z",
     "start_time": "2025-04-08T09:08:17.768645Z"
    }
   },
   "cell_type": "code",
   "source": [
    "# Testing\n",
    "\n",
    "scraper = YoutubeCommentsScraper(\n",
    "    api_key=DEVELOPER_KEY\n",
    ")\n",
    "\n",
    "ndjson_saver = NDJSONThreadSaver()\n",
    "\n",
    "for idx, thread in enumerate(scraper.fetch_threads(video_id=\"qCbfTN-caFI\")):\n",
    "    ndjson_saver.save(thread)\n",
    "    print(f\"[{idx}] Fetched thread of author {thread.top_level_comment.author} with {thread.reply_count} replies\")"
   ],
   "id": "7bc29f9da5466ea",
   "outputs": [
    {
     "name": "stdout",
     "output_type": "stream",
     "text": [
      "[0] Fetched thread of author @lexfridman with 667 replies\n",
      "[1] Fetched thread of author @乂 with 722 replies\n",
      "[2] Fetched thread of author @HeavensLegacy with 734 replies\n"
     ]
    },
    {
     "ename": "KeyboardInterrupt",
     "evalue": "",
     "output_type": "error",
     "traceback": [
      "\u001B[1;31m---------------------------------------------------------------------------\u001B[0m",
      "\u001B[1;31mKeyboardInterrupt\u001B[0m                         Traceback (most recent call last)",
      "Cell \u001B[1;32mIn[30], line 9\u001B[0m\n\u001B[0;32m      3\u001B[0m scraper \u001B[38;5;241m=\u001B[39m YoutubeCommentsScraper(\n\u001B[0;32m      4\u001B[0m     api_key\u001B[38;5;241m=\u001B[39mDEVELOPER_KEY\n\u001B[0;32m      5\u001B[0m )\n\u001B[0;32m      7\u001B[0m ndjson_saver \u001B[38;5;241m=\u001B[39m NDJSONThreadSaver()\n\u001B[1;32m----> 9\u001B[0m \u001B[38;5;28;43;01mfor\u001B[39;49;00m\u001B[43m \u001B[49m\u001B[43midx\u001B[49m\u001B[43m,\u001B[49m\u001B[43m \u001B[49m\u001B[43mthread\u001B[49m\u001B[43m \u001B[49m\u001B[38;5;129;43;01min\u001B[39;49;00m\u001B[43m \u001B[49m\u001B[38;5;28;43menumerate\u001B[39;49m\u001B[43m(\u001B[49m\u001B[43mscraper\u001B[49m\u001B[38;5;241;43m.\u001B[39;49m\u001B[43mfetch_threads\u001B[49m\u001B[43m(\u001B[49m\u001B[43mvideo_id\u001B[49m\u001B[38;5;241;43m=\u001B[39;49m\u001B[38;5;124;43m\"\u001B[39;49m\u001B[38;5;124;43mqCbfTN-caFI\u001B[39;49m\u001B[38;5;124;43m\"\u001B[39;49m\u001B[43m)\u001B[49m\u001B[43m)\u001B[49m\u001B[43m:\u001B[49m\n\u001B[0;32m     10\u001B[0m \u001B[43m    \u001B[49m\u001B[43mndjson_saver\u001B[49m\u001B[38;5;241;43m.\u001B[39;49m\u001B[43msave\u001B[49m\u001B[43m(\u001B[49m\u001B[43mthread\u001B[49m\u001B[43m)\u001B[49m\n\u001B[0;32m     11\u001B[0m \u001B[43m    \u001B[49m\u001B[38;5;28;43mprint\u001B[39;49m\u001B[43m(\u001B[49m\u001B[38;5;124;43mf\u001B[39;49m\u001B[38;5;124;43m\"\u001B[39;49m\u001B[38;5;124;43m[\u001B[39;49m\u001B[38;5;132;43;01m{\u001B[39;49;00m\u001B[43midx\u001B[49m\u001B[38;5;132;43;01m}\u001B[39;49;00m\u001B[38;5;124;43m] Fetched thread of author \u001B[39;49m\u001B[38;5;132;43;01m{\u001B[39;49;00m\u001B[43mthread\u001B[49m\u001B[38;5;241;43m.\u001B[39;49m\u001B[43mtop_level_comment\u001B[49m\u001B[38;5;241;43m.\u001B[39;49m\u001B[43mauthor\u001B[49m\u001B[38;5;132;43;01m}\u001B[39;49;00m\u001B[38;5;124;43m with \u001B[39;49m\u001B[38;5;132;43;01m{\u001B[39;49;00m\u001B[43mthread\u001B[49m\u001B[38;5;241;43m.\u001B[39;49m\u001B[43mreply_count\u001B[49m\u001B[38;5;132;43;01m}\u001B[39;49;00m\u001B[38;5;124;43m replies\u001B[39;49m\u001B[38;5;124;43m\"\u001B[39;49m\u001B[43m)\u001B[49m\n",
      "Cell \u001B[1;32mIn[21], line 35\u001B[0m, in \u001B[0;36mYoutubeCommentsScraper.fetch_threads\u001B[1;34m(self, video_id)\u001B[0m\n\u001B[0;32m     33\u001B[0m main_comment_data \u001B[38;5;241m=\u001B[39m snippet[\u001B[38;5;124m\"\u001B[39m\u001B[38;5;124mtopLevelComment\u001B[39m\u001B[38;5;124m\"\u001B[39m]\n\u001B[0;32m     34\u001B[0m top_level_comment \u001B[38;5;241m=\u001B[39m \u001B[38;5;28mself\u001B[39m\u001B[38;5;241m.\u001B[39m_comment_from_resource(main_comment_data)\n\u001B[1;32m---> 35\u001B[0m \u001B[43m\u001B[49m\u001B[38;5;28;43;01mfor\u001B[39;49;00m\u001B[43m \u001B[49m\u001B[43mreply\u001B[49m\u001B[43m \u001B[49m\u001B[38;5;129;43;01min\u001B[39;49;00m\u001B[43m \u001B[49m\u001B[38;5;28;43mself\u001B[39;49m\u001B[38;5;241;43m.\u001B[39;49m\u001B[43m_fetch_reply_comments\u001B[49m\u001B[43m(\u001B[49m\u001B[43mmain_comment_data\u001B[49m\u001B[43m[\u001B[49m\u001B[38;5;124;43m\"\u001B[39;49m\u001B[38;5;124;43mid\u001B[39;49m\u001B[38;5;124;43m\"\u001B[39;49m\u001B[43m]\u001B[49m\u001B[43m)\u001B[49m\u001B[43m:\u001B[49m\n\u001B[0;32m     36\u001B[0m \u001B[43m    \u001B[49m\u001B[43mreplies\u001B[49m\u001B[38;5;241;43m.\u001B[39;49m\u001B[43mappend\u001B[49m\u001B[43m(\u001B[49m\u001B[43mreply\u001B[49m\u001B[43m)\u001B[49m\n\u001B[0;32m     37\u001B[0m \u001B[38;5;28;01myield\u001B[39;00m Thread(\n\u001B[0;32m     38\u001B[0m     video_id\u001B[38;5;241m=\u001B[39mvideo_id,\n\u001B[0;32m     39\u001B[0m     reply_count\u001B[38;5;241m=\u001B[39mreply_count,\n\u001B[0;32m     40\u001B[0m     top_level_comment\u001B[38;5;241m=\u001B[39mtop_level_comment,\n\u001B[0;32m     41\u001B[0m     replies\u001B[38;5;241m=\u001B[39mreplies\n\u001B[0;32m     42\u001B[0m )\n",
      "Cell \u001B[1;32mIn[21], line 56\u001B[0m, in \u001B[0;36mYoutubeCommentsScraper._fetch_reply_comments\u001B[1;34m(self, parent_comment_id)\u001B[0m\n\u001B[0;32m     49\u001B[0m request \u001B[38;5;241m=\u001B[39m \u001B[38;5;28mself\u001B[39m\u001B[38;5;241m.\u001B[39myoutube\u001B[38;5;241m.\u001B[39mcomments()\u001B[38;5;241m.\u001B[39mlist(\n\u001B[0;32m     50\u001B[0m     part\u001B[38;5;241m=\u001B[39m\u001B[38;5;124m\"\u001B[39m\u001B[38;5;124msnippet\u001B[39m\u001B[38;5;124m\"\u001B[39m,\n\u001B[0;32m     51\u001B[0m     parentId\u001B[38;5;241m=\u001B[39mparent_comment_id,\n\u001B[0;32m     52\u001B[0m     maxResults\u001B[38;5;241m=\u001B[39m\u001B[38;5;241m100\u001B[39m,\n\u001B[0;32m     53\u001B[0m     textFormat\u001B[38;5;241m=\u001B[39m\u001B[38;5;124m\"\u001B[39m\u001B[38;5;124mplainText\u001B[39m\u001B[38;5;124m\"\u001B[39m\n\u001B[0;32m     54\u001B[0m )\n\u001B[0;32m     55\u001B[0m \u001B[38;5;28;01mwhile\u001B[39;00m request:\n\u001B[1;32m---> 56\u001B[0m     response \u001B[38;5;241m=\u001B[39m \u001B[43mrequest\u001B[49m\u001B[38;5;241;43m.\u001B[39;49m\u001B[43mexecute\u001B[49m\u001B[43m(\u001B[49m\u001B[43m)\u001B[49m\n\u001B[0;32m     57\u001B[0m     time\u001B[38;5;241m.\u001B[39msleep(\u001B[38;5;241m0.1\u001B[39m)\n\u001B[0;32m     58\u001B[0m     \u001B[38;5;28;01mfor\u001B[39;00m comment \u001B[38;5;129;01min\u001B[39;00m response\u001B[38;5;241m.\u001B[39mget(\u001B[38;5;124m\"\u001B[39m\u001B[38;5;124mitems\u001B[39m\u001B[38;5;124m\"\u001B[39m, []):\n",
      "File \u001B[1;32m~\\miniconda3\\Lib\\site-packages\\googleapiclient\\_helpers.py:130\u001B[0m, in \u001B[0;36mpositional.<locals>.positional_decorator.<locals>.positional_wrapper\u001B[1;34m(*args, **kwargs)\u001B[0m\n\u001B[0;32m    128\u001B[0m     \u001B[38;5;28;01melif\u001B[39;00m positional_parameters_enforcement \u001B[38;5;241m==\u001B[39m POSITIONAL_WARNING:\n\u001B[0;32m    129\u001B[0m         logger\u001B[38;5;241m.\u001B[39mwarning(message)\n\u001B[1;32m--> 130\u001B[0m \u001B[38;5;28;01mreturn\u001B[39;00m \u001B[43mwrapped\u001B[49m\u001B[43m(\u001B[49m\u001B[38;5;241;43m*\u001B[39;49m\u001B[43margs\u001B[49m\u001B[43m,\u001B[49m\u001B[43m \u001B[49m\u001B[38;5;241;43m*\u001B[39;49m\u001B[38;5;241;43m*\u001B[39;49m\u001B[43mkwargs\u001B[49m\u001B[43m)\u001B[49m\n",
      "File \u001B[1;32m~\\miniconda3\\Lib\\site-packages\\googleapiclient\\http.py:923\u001B[0m, in \u001B[0;36mHttpRequest.execute\u001B[1;34m(self, http, num_retries)\u001B[0m\n\u001B[0;32m    920\u001B[0m     \u001B[38;5;28mself\u001B[39m\u001B[38;5;241m.\u001B[39mheaders[\u001B[38;5;124m\"\u001B[39m\u001B[38;5;124mcontent-length\u001B[39m\u001B[38;5;124m\"\u001B[39m] \u001B[38;5;241m=\u001B[39m \u001B[38;5;28mstr\u001B[39m(\u001B[38;5;28mlen\u001B[39m(\u001B[38;5;28mself\u001B[39m\u001B[38;5;241m.\u001B[39mbody))\n\u001B[0;32m    922\u001B[0m \u001B[38;5;66;03m# Handle retries for server-side errors.\u001B[39;00m\n\u001B[1;32m--> 923\u001B[0m resp, content \u001B[38;5;241m=\u001B[39m \u001B[43m_retry_request\u001B[49m\u001B[43m(\u001B[49m\n\u001B[0;32m    924\u001B[0m \u001B[43m    \u001B[49m\u001B[43mhttp\u001B[49m\u001B[43m,\u001B[49m\n\u001B[0;32m    925\u001B[0m \u001B[43m    \u001B[49m\u001B[43mnum_retries\u001B[49m\u001B[43m,\u001B[49m\n\u001B[0;32m    926\u001B[0m \u001B[43m    \u001B[49m\u001B[38;5;124;43m\"\u001B[39;49m\u001B[38;5;124;43mrequest\u001B[39;49m\u001B[38;5;124;43m\"\u001B[39;49m\u001B[43m,\u001B[49m\n\u001B[0;32m    927\u001B[0m \u001B[43m    \u001B[49m\u001B[38;5;28;43mself\u001B[39;49m\u001B[38;5;241;43m.\u001B[39;49m\u001B[43m_sleep\u001B[49m\u001B[43m,\u001B[49m\n\u001B[0;32m    928\u001B[0m \u001B[43m    \u001B[49m\u001B[38;5;28;43mself\u001B[39;49m\u001B[38;5;241;43m.\u001B[39;49m\u001B[43m_rand\u001B[49m\u001B[43m,\u001B[49m\n\u001B[0;32m    929\u001B[0m \u001B[43m    \u001B[49m\u001B[38;5;28;43mstr\u001B[39;49m\u001B[43m(\u001B[49m\u001B[38;5;28;43mself\u001B[39;49m\u001B[38;5;241;43m.\u001B[39;49m\u001B[43muri\u001B[49m\u001B[43m)\u001B[49m\u001B[43m,\u001B[49m\n\u001B[0;32m    930\u001B[0m \u001B[43m    \u001B[49m\u001B[43mmethod\u001B[49m\u001B[38;5;241;43m=\u001B[39;49m\u001B[38;5;28;43mstr\u001B[39;49m\u001B[43m(\u001B[49m\u001B[38;5;28;43mself\u001B[39;49m\u001B[38;5;241;43m.\u001B[39;49m\u001B[43mmethod\u001B[49m\u001B[43m)\u001B[49m\u001B[43m,\u001B[49m\n\u001B[0;32m    931\u001B[0m \u001B[43m    \u001B[49m\u001B[43mbody\u001B[49m\u001B[38;5;241;43m=\u001B[39;49m\u001B[38;5;28;43mself\u001B[39;49m\u001B[38;5;241;43m.\u001B[39;49m\u001B[43mbody\u001B[49m\u001B[43m,\u001B[49m\n\u001B[0;32m    932\u001B[0m \u001B[43m    \u001B[49m\u001B[43mheaders\u001B[49m\u001B[38;5;241;43m=\u001B[39;49m\u001B[38;5;28;43mself\u001B[39;49m\u001B[38;5;241;43m.\u001B[39;49m\u001B[43mheaders\u001B[49m\u001B[43m,\u001B[49m\n\u001B[0;32m    933\u001B[0m \u001B[43m\u001B[49m\u001B[43m)\u001B[49m\n\u001B[0;32m    935\u001B[0m \u001B[38;5;28;01mfor\u001B[39;00m callback \u001B[38;5;129;01min\u001B[39;00m \u001B[38;5;28mself\u001B[39m\u001B[38;5;241m.\u001B[39mresponse_callbacks:\n\u001B[0;32m    936\u001B[0m     callback(resp)\n",
      "File \u001B[1;32m~\\miniconda3\\Lib\\site-packages\\googleapiclient\\http.py:191\u001B[0m, in \u001B[0;36m_retry_request\u001B[1;34m(http, num_retries, req_type, sleep, rand, uri, method, *args, **kwargs)\u001B[0m\n\u001B[0;32m    189\u001B[0m \u001B[38;5;28;01mtry\u001B[39;00m:\n\u001B[0;32m    190\u001B[0m     exception \u001B[38;5;241m=\u001B[39m \u001B[38;5;28;01mNone\u001B[39;00m\n\u001B[1;32m--> 191\u001B[0m     resp, content \u001B[38;5;241m=\u001B[39m \u001B[43mhttp\u001B[49m\u001B[38;5;241;43m.\u001B[39;49m\u001B[43mrequest\u001B[49m\u001B[43m(\u001B[49m\u001B[43muri\u001B[49m\u001B[43m,\u001B[49m\u001B[43m \u001B[49m\u001B[43mmethod\u001B[49m\u001B[43m,\u001B[49m\u001B[43m \u001B[49m\u001B[38;5;241;43m*\u001B[39;49m\u001B[43margs\u001B[49m\u001B[43m,\u001B[49m\u001B[43m \u001B[49m\u001B[38;5;241;43m*\u001B[39;49m\u001B[38;5;241;43m*\u001B[39;49m\u001B[43mkwargs\u001B[49m\u001B[43m)\u001B[49m\n\u001B[0;32m    192\u001B[0m \u001B[38;5;66;03m# Retry on SSL errors and socket timeout errors.\u001B[39;00m\n\u001B[0;32m    193\u001B[0m \u001B[38;5;28;01mexcept\u001B[39;00m _ssl_SSLError \u001B[38;5;28;01mas\u001B[39;00m ssl_error:\n",
      "File \u001B[1;32m~\\miniconda3\\Lib\\site-packages\\httplib2\\__init__.py:1724\u001B[0m, in \u001B[0;36mHttp.request\u001B[1;34m(self, uri, method, body, headers, redirections, connection_type)\u001B[0m\n\u001B[0;32m   1722\u001B[0m             content \u001B[38;5;241m=\u001B[39m \u001B[38;5;124mb\u001B[39m\u001B[38;5;124m\"\u001B[39m\u001B[38;5;124m\"\u001B[39m\n\u001B[0;32m   1723\u001B[0m         \u001B[38;5;28;01melse\u001B[39;00m:\n\u001B[1;32m-> 1724\u001B[0m             (response, content) \u001B[38;5;241m=\u001B[39m \u001B[38;5;28;43mself\u001B[39;49m\u001B[38;5;241;43m.\u001B[39;49m\u001B[43m_request\u001B[49m\u001B[43m(\u001B[49m\n\u001B[0;32m   1725\u001B[0m \u001B[43m                \u001B[49m\u001B[43mconn\u001B[49m\u001B[43m,\u001B[49m\u001B[43m \u001B[49m\u001B[43mauthority\u001B[49m\u001B[43m,\u001B[49m\u001B[43m \u001B[49m\u001B[43muri\u001B[49m\u001B[43m,\u001B[49m\u001B[43m \u001B[49m\u001B[43mrequest_uri\u001B[49m\u001B[43m,\u001B[49m\u001B[43m \u001B[49m\u001B[43mmethod\u001B[49m\u001B[43m,\u001B[49m\u001B[43m \u001B[49m\u001B[43mbody\u001B[49m\u001B[43m,\u001B[49m\u001B[43m \u001B[49m\u001B[43mheaders\u001B[49m\u001B[43m,\u001B[49m\u001B[43m \u001B[49m\u001B[43mredirections\u001B[49m\u001B[43m,\u001B[49m\u001B[43m \u001B[49m\u001B[43mcachekey\u001B[49m\u001B[43m,\u001B[49m\n\u001B[0;32m   1726\u001B[0m \u001B[43m            \u001B[49m\u001B[43m)\u001B[49m\n\u001B[0;32m   1727\u001B[0m \u001B[38;5;28;01mexcept\u001B[39;00m \u001B[38;5;167;01mException\u001B[39;00m \u001B[38;5;28;01mas\u001B[39;00m e:\n\u001B[0;32m   1728\u001B[0m     is_timeout \u001B[38;5;241m=\u001B[39m \u001B[38;5;28misinstance\u001B[39m(e, socket\u001B[38;5;241m.\u001B[39mtimeout)\n",
      "File \u001B[1;32m~\\miniconda3\\Lib\\site-packages\\httplib2\\__init__.py:1444\u001B[0m, in \u001B[0;36mHttp._request\u001B[1;34m(self, conn, host, absolute_uri, request_uri, method, body, headers, redirections, cachekey)\u001B[0m\n\u001B[0;32m   1441\u001B[0m \u001B[38;5;28;01mif\u001B[39;00m auth:\n\u001B[0;32m   1442\u001B[0m     auth\u001B[38;5;241m.\u001B[39mrequest(method, request_uri, headers, body)\n\u001B[1;32m-> 1444\u001B[0m (response, content) \u001B[38;5;241m=\u001B[39m \u001B[38;5;28;43mself\u001B[39;49m\u001B[38;5;241;43m.\u001B[39;49m\u001B[43m_conn_request\u001B[49m\u001B[43m(\u001B[49m\u001B[43mconn\u001B[49m\u001B[43m,\u001B[49m\u001B[43m \u001B[49m\u001B[43mrequest_uri\u001B[49m\u001B[43m,\u001B[49m\u001B[43m \u001B[49m\u001B[43mmethod\u001B[49m\u001B[43m,\u001B[49m\u001B[43m \u001B[49m\u001B[43mbody\u001B[49m\u001B[43m,\u001B[49m\u001B[43m \u001B[49m\u001B[43mheaders\u001B[49m\u001B[43m)\u001B[49m\n\u001B[0;32m   1446\u001B[0m \u001B[38;5;28;01mif\u001B[39;00m auth:\n\u001B[0;32m   1447\u001B[0m     \u001B[38;5;28;01mif\u001B[39;00m auth\u001B[38;5;241m.\u001B[39mresponse(response, body):\n",
      "File \u001B[1;32m~\\miniconda3\\Lib\\site-packages\\httplib2\\__init__.py:1396\u001B[0m, in \u001B[0;36mHttp._conn_request\u001B[1;34m(self, conn, request_uri, method, body, headers)\u001B[0m\n\u001B[0;32m   1394\u001B[0m     \u001B[38;5;28;01mpass\u001B[39;00m\n\u001B[0;32m   1395\u001B[0m \u001B[38;5;28;01mtry\u001B[39;00m:\n\u001B[1;32m-> 1396\u001B[0m     response \u001B[38;5;241m=\u001B[39m \u001B[43mconn\u001B[49m\u001B[38;5;241;43m.\u001B[39;49m\u001B[43mgetresponse\u001B[49m\u001B[43m(\u001B[49m\u001B[43m)\u001B[49m\n\u001B[0;32m   1397\u001B[0m \u001B[38;5;28;01mexcept\u001B[39;00m (http\u001B[38;5;241m.\u001B[39mclient\u001B[38;5;241m.\u001B[39mBadStatusLine, http\u001B[38;5;241m.\u001B[39mclient\u001B[38;5;241m.\u001B[39mResponseNotReady):\n\u001B[0;32m   1398\u001B[0m     \u001B[38;5;66;03m# If we get a BadStatusLine on the first try then that means\u001B[39;00m\n\u001B[0;32m   1399\u001B[0m     \u001B[38;5;66;03m# the connection just went stale, so retry regardless of the\u001B[39;00m\n\u001B[0;32m   1400\u001B[0m     \u001B[38;5;66;03m# number of RETRIES set.\u001B[39;00m\n\u001B[0;32m   1401\u001B[0m     \u001B[38;5;28;01mif\u001B[39;00m \u001B[38;5;129;01mnot\u001B[39;00m seen_bad_status_line \u001B[38;5;129;01mand\u001B[39;00m i \u001B[38;5;241m==\u001B[39m \u001B[38;5;241m1\u001B[39m:\n",
      "File \u001B[1;32m~\\miniconda3\\Lib\\http\\client.py:1430\u001B[0m, in \u001B[0;36mHTTPConnection.getresponse\u001B[1;34m(self)\u001B[0m\n\u001B[0;32m   1428\u001B[0m \u001B[38;5;28;01mtry\u001B[39;00m:\n\u001B[0;32m   1429\u001B[0m     \u001B[38;5;28;01mtry\u001B[39;00m:\n\u001B[1;32m-> 1430\u001B[0m         \u001B[43mresponse\u001B[49m\u001B[38;5;241;43m.\u001B[39;49m\u001B[43mbegin\u001B[49m\u001B[43m(\u001B[49m\u001B[43m)\u001B[49m\n\u001B[0;32m   1431\u001B[0m     \u001B[38;5;28;01mexcept\u001B[39;00m \u001B[38;5;167;01mConnectionError\u001B[39;00m:\n\u001B[0;32m   1432\u001B[0m         \u001B[38;5;28mself\u001B[39m\u001B[38;5;241m.\u001B[39mclose()\n",
      "File \u001B[1;32m~\\miniconda3\\Lib\\http\\client.py:331\u001B[0m, in \u001B[0;36mHTTPResponse.begin\u001B[1;34m(self)\u001B[0m\n\u001B[0;32m    329\u001B[0m \u001B[38;5;66;03m# read until we get a non-100 response\u001B[39;00m\n\u001B[0;32m    330\u001B[0m \u001B[38;5;28;01mwhile\u001B[39;00m \u001B[38;5;28;01mTrue\u001B[39;00m:\n\u001B[1;32m--> 331\u001B[0m     version, status, reason \u001B[38;5;241m=\u001B[39m \u001B[38;5;28;43mself\u001B[39;49m\u001B[38;5;241;43m.\u001B[39;49m\u001B[43m_read_status\u001B[49m\u001B[43m(\u001B[49m\u001B[43m)\u001B[49m\n\u001B[0;32m    332\u001B[0m     \u001B[38;5;28;01mif\u001B[39;00m status \u001B[38;5;241m!=\u001B[39m CONTINUE:\n\u001B[0;32m    333\u001B[0m         \u001B[38;5;28;01mbreak\u001B[39;00m\n",
      "File \u001B[1;32m~\\miniconda3\\Lib\\http\\client.py:292\u001B[0m, in \u001B[0;36mHTTPResponse._read_status\u001B[1;34m(self)\u001B[0m\n\u001B[0;32m    291\u001B[0m \u001B[38;5;28;01mdef\u001B[39;00m \u001B[38;5;21m_read_status\u001B[39m(\u001B[38;5;28mself\u001B[39m):\n\u001B[1;32m--> 292\u001B[0m     line \u001B[38;5;241m=\u001B[39m \u001B[38;5;28mstr\u001B[39m(\u001B[38;5;28;43mself\u001B[39;49m\u001B[38;5;241;43m.\u001B[39;49m\u001B[43mfp\u001B[49m\u001B[38;5;241;43m.\u001B[39;49m\u001B[43mreadline\u001B[49m\u001B[43m(\u001B[49m\u001B[43m_MAXLINE\u001B[49m\u001B[43m \u001B[49m\u001B[38;5;241;43m+\u001B[39;49m\u001B[43m \u001B[49m\u001B[38;5;241;43m1\u001B[39;49m\u001B[43m)\u001B[49m, \u001B[38;5;124m\"\u001B[39m\u001B[38;5;124miso-8859-1\u001B[39m\u001B[38;5;124m\"\u001B[39m)\n\u001B[0;32m    293\u001B[0m     \u001B[38;5;28;01mif\u001B[39;00m \u001B[38;5;28mlen\u001B[39m(line) \u001B[38;5;241m>\u001B[39m _MAXLINE:\n\u001B[0;32m    294\u001B[0m         \u001B[38;5;28;01mraise\u001B[39;00m LineTooLong(\u001B[38;5;124m\"\u001B[39m\u001B[38;5;124mstatus line\u001B[39m\u001B[38;5;124m\"\u001B[39m)\n",
      "File \u001B[1;32m~\\miniconda3\\Lib\\socket.py:720\u001B[0m, in \u001B[0;36mSocketIO.readinto\u001B[1;34m(self, b)\u001B[0m\n\u001B[0;32m    718\u001B[0m \u001B[38;5;28;01mwhile\u001B[39;00m \u001B[38;5;28;01mTrue\u001B[39;00m:\n\u001B[0;32m    719\u001B[0m     \u001B[38;5;28;01mtry\u001B[39;00m:\n\u001B[1;32m--> 720\u001B[0m         \u001B[38;5;28;01mreturn\u001B[39;00m \u001B[38;5;28;43mself\u001B[39;49m\u001B[38;5;241;43m.\u001B[39;49m\u001B[43m_sock\u001B[49m\u001B[38;5;241;43m.\u001B[39;49m\u001B[43mrecv_into\u001B[49m\u001B[43m(\u001B[49m\u001B[43mb\u001B[49m\u001B[43m)\u001B[49m\n\u001B[0;32m    721\u001B[0m     \u001B[38;5;28;01mexcept\u001B[39;00m timeout:\n\u001B[0;32m    722\u001B[0m         \u001B[38;5;28mself\u001B[39m\u001B[38;5;241m.\u001B[39m_timeout_occurred \u001B[38;5;241m=\u001B[39m \u001B[38;5;28;01mTrue\u001B[39;00m\n",
      "File \u001B[1;32m~\\miniconda3\\Lib\\ssl.py:1251\u001B[0m, in \u001B[0;36mSSLSocket.recv_into\u001B[1;34m(self, buffer, nbytes, flags)\u001B[0m\n\u001B[0;32m   1247\u001B[0m     \u001B[38;5;28;01mif\u001B[39;00m flags \u001B[38;5;241m!=\u001B[39m \u001B[38;5;241m0\u001B[39m:\n\u001B[0;32m   1248\u001B[0m         \u001B[38;5;28;01mraise\u001B[39;00m \u001B[38;5;167;01mValueError\u001B[39;00m(\n\u001B[0;32m   1249\u001B[0m           \u001B[38;5;124m\"\u001B[39m\u001B[38;5;124mnon-zero flags not allowed in calls to recv_into() on \u001B[39m\u001B[38;5;132;01m%s\u001B[39;00m\u001B[38;5;124m\"\u001B[39m \u001B[38;5;241m%\u001B[39m\n\u001B[0;32m   1250\u001B[0m           \u001B[38;5;28mself\u001B[39m\u001B[38;5;241m.\u001B[39m\u001B[38;5;18m__class__\u001B[39m)\n\u001B[1;32m-> 1251\u001B[0m     \u001B[38;5;28;01mreturn\u001B[39;00m \u001B[38;5;28;43mself\u001B[39;49m\u001B[38;5;241;43m.\u001B[39;49m\u001B[43mread\u001B[49m\u001B[43m(\u001B[49m\u001B[43mnbytes\u001B[49m\u001B[43m,\u001B[49m\u001B[43m \u001B[49m\u001B[43mbuffer\u001B[49m\u001B[43m)\u001B[49m\n\u001B[0;32m   1252\u001B[0m \u001B[38;5;28;01melse\u001B[39;00m:\n\u001B[0;32m   1253\u001B[0m     \u001B[38;5;28;01mreturn\u001B[39;00m \u001B[38;5;28msuper\u001B[39m()\u001B[38;5;241m.\u001B[39mrecv_into(buffer, nbytes, flags)\n",
      "File \u001B[1;32m~\\miniconda3\\Lib\\ssl.py:1103\u001B[0m, in \u001B[0;36mSSLSocket.read\u001B[1;34m(self, len, buffer)\u001B[0m\n\u001B[0;32m   1101\u001B[0m \u001B[38;5;28;01mtry\u001B[39;00m:\n\u001B[0;32m   1102\u001B[0m     \u001B[38;5;28;01mif\u001B[39;00m buffer \u001B[38;5;129;01mis\u001B[39;00m \u001B[38;5;129;01mnot\u001B[39;00m \u001B[38;5;28;01mNone\u001B[39;00m:\n\u001B[1;32m-> 1103\u001B[0m         \u001B[38;5;28;01mreturn\u001B[39;00m \u001B[38;5;28;43mself\u001B[39;49m\u001B[38;5;241;43m.\u001B[39;49m\u001B[43m_sslobj\u001B[49m\u001B[38;5;241;43m.\u001B[39;49m\u001B[43mread\u001B[49m\u001B[43m(\u001B[49m\u001B[38;5;28;43mlen\u001B[39;49m\u001B[43m,\u001B[49m\u001B[43m \u001B[49m\u001B[43mbuffer\u001B[49m\u001B[43m)\u001B[49m\n\u001B[0;32m   1104\u001B[0m     \u001B[38;5;28;01melse\u001B[39;00m:\n\u001B[0;32m   1105\u001B[0m         \u001B[38;5;28;01mreturn\u001B[39;00m \u001B[38;5;28mself\u001B[39m\u001B[38;5;241m.\u001B[39m_sslobj\u001B[38;5;241m.\u001B[39mread(\u001B[38;5;28mlen\u001B[39m)\n",
      "\u001B[1;31mKeyboardInterrupt\u001B[0m: "
     ]
    }
   ],
   "execution_count": 30
  },
  {
   "metadata": {},
   "cell_type": "code",
   "outputs": [],
   "execution_count": null,
   "source": "",
   "id": "799c3de2bc0177eb"
  }
 ],
 "metadata": {
  "kernelspec": {
   "display_name": "Python 3",
   "language": "python",
   "name": "python3"
  },
  "language_info": {
   "codemirror_mode": {
    "name": "ipython",
    "version": 2
   },
   "file_extension": ".py",
   "mimetype": "text/x-python",
   "name": "python",
   "nbconvert_exporter": "python",
   "pygments_lexer": "ipython2",
   "version": "2.7.6"
  }
 },
 "nbformat": 4,
 "nbformat_minor": 5
}
