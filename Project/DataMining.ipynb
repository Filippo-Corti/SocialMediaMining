{
 "cells": [
  {
   "cell_type": "code",
   "id": "initial_id",
   "metadata": {
    "collapsed": true,
    "ExecuteTime": {
     "end_time": "2025-04-08T09:29:34.260003Z",
     "start_time": "2025-04-08T09:29:34.249206Z"
    }
   },
   "source": [
    "from typing import Generator, List, Dict, Any\n",
    "from dataclasses import dataclass, asdict\n",
    "import json\n",
    "from googleapiclient.discovery import build\n",
    "import time\n",
    "import sqlite3\n",
    "import os"
   ],
   "outputs": [],
   "execution_count": 32
  },
  {
   "metadata": {
    "ExecuteTime": {
     "end_time": "2025-04-08T09:29:35.063586Z",
     "start_time": "2025-04-08T09:29:35.053227Z"
    }
   },
   "cell_type": "code",
   "source": "DEVELOPER_KEY = json.load(open('../keys/youtube_key.json'))['api_key']",
   "id": "e805839eefd60d84",
   "outputs": [],
   "execution_count": 33
  },
  {
   "metadata": {
    "ExecuteTime": {
     "end_time": "2025-04-08T09:29:35.602138Z",
     "start_time": "2025-04-08T09:29:35.589056Z"
    }
   },
   "cell_type": "code",
   "source": [
    "@dataclass\n",
    "class Comment:\n",
    "    author: str\n",
    "    content: str\n",
    "    date: str\n",
    "    like_count: int\n",
    "\n",
    "\n",
    "@dataclass\n",
    "class Thread:\n",
    "    video_id: str\n",
    "    reply_count: int\n",
    "    top_level_comment: Comment\n",
    "    replies: List[Comment]\n"
   ],
   "id": "eb0a7ec9422b124e",
   "outputs": [],
   "execution_count": 34
  },
  {
   "metadata": {
    "ExecuteTime": {
     "end_time": "2025-04-08T09:29:36.480097Z",
     "start_time": "2025-04-08T09:29:36.460812Z"
    }
   },
   "cell_type": "code",
   "source": [
    "class YoutubeCommentsScraper:\n",
    "\n",
    "    def __init__(\n",
    "            self,\n",
    "            api_key: str,\n",
    "            api_service_name: str = \"youtube\",\n",
    "            api_version: str = \"v3\"\n",
    "    ) -> None:\n",
    "        self.API_KEY = api_key\n",
    "\n",
    "        self.youtube = build(\n",
    "            api_service_name,\n",
    "            api_version,\n",
    "            developerKey=self.API_KEY)\n",
    "\n",
    "    def fetch_threads(\n",
    "            self,\n",
    "            video_id: str\n",
    "    ) -> Generator[Thread, None, None]:\n",
    "        request = self.youtube.commentThreads().list(\n",
    "            part=\"snippet\",\n",
    "            videoId=video_id,\n",
    "            maxResults=100,\n",
    "            textFormat=\"plainText\",\n",
    "            order=\"relevance\",\n",
    "        )\n",
    "        while request:\n",
    "            response = request.execute()\n",
    "            for thread in response[\"items\"]:\n",
    "                replies = list()\n",
    "                snippet = thread[\"snippet\"]\n",
    "                reply_count = snippet[\"totalReplyCount\"]\n",
    "                main_comment_data = snippet[\"topLevelComment\"]\n",
    "                top_level_comment = self._comment_from_resource(main_comment_data)\n",
    "                for reply in self._fetch_reply_comments(main_comment_data[\"id\"]):\n",
    "                    replies.append(reply)\n",
    "                yield Thread(\n",
    "                    video_id=video_id,\n",
    "                    reply_count=reply_count,\n",
    "                    top_level_comment=top_level_comment,\n",
    "                    replies=replies\n",
    "                )\n",
    "            request = self.youtube.commentThreads().list_next(request, response)\n",
    "\n",
    "    def _fetch_reply_comments(\n",
    "            self,\n",
    "            parent_comment_id: str\n",
    "    ) -> Generator[Comment, None, None]:\n",
    "        request = self.youtube.comments().list(\n",
    "            part=\"snippet\",\n",
    "            parentId=parent_comment_id,\n",
    "            maxResults=100,\n",
    "            textFormat=\"plainText\"\n",
    "        )\n",
    "        while request:\n",
    "            response = request.execute()\n",
    "            time.sleep(0.1)\n",
    "            for comment in response.get(\"items\", []):\n",
    "                yield self._comment_from_resource(comment)\n",
    "            request = self.youtube.comments().list_next(request, response)\n",
    "\n",
    "    @staticmethod\n",
    "    def _comment_from_resource(\n",
    "            resource: Dict[str, Any]\n",
    "    ) -> Comment:\n",
    "        snippet = resource[\"snippet\"]\n",
    "        return Comment(\n",
    "            author=snippet[\"authorDisplayName\"],\n",
    "            content=snippet[\"textDisplay\"],\n",
    "            date=snippet[\"publishedAt\"],\n",
    "            like_count=snippet[\"likeCount\"],\n",
    "        )\n"
   ],
   "id": "a18f1a9bb6427c89",
   "outputs": [],
   "execution_count": 35
  },
  {
   "metadata": {
    "ExecuteTime": {
     "end_time": "2025-04-08T09:29:37.175160Z",
     "start_time": "2025-04-08T09:29:37.163674Z"
    }
   },
   "cell_type": "code",
   "source": [
    "class NDJSONThreadSaver:  #Newline Delimited JSON\n",
    "\n",
    "    def __init__(self, data_dir: str = 'data'):\n",
    "        os.makedirs(data_dir, exist_ok=True)\n",
    "        self.data_dir = data_dir\n",
    "\n",
    "    def save(self, thread: Thread):\n",
    "        file_path = os.path.join(self.data_dir, f\"{thread.video_id}.ndjson\")\n",
    "\n",
    "        with open(file_path, 'a', encoding='utf-8') as f:\n",
    "            serializable_thread = asdict(thread)\n",
    "            json.dump(serializable_thread, f, ensure_ascii=False)\n",
    "            f.write(\"\\n\")"
   ],
   "id": "4eebacd47088127f",
   "outputs": [],
   "execution_count": 36
  },
  {
   "metadata": {
    "ExecuteTime": {
     "end_time": "2025-04-08T09:30:21.240053Z",
     "start_time": "2025-04-08T09:30:21.221903Z"
    }
   },
   "cell_type": "code",
   "source": [
    "class SQLiteThreadSaver:\n",
    "\n",
    "    def __init__(self, db_name: str = 'threads.db'):\n",
    "        self.db_name = db_name\n",
    "        self.conn = sqlite3.connect(self.db_name)\n",
    "        self.cursor = self.conn.cursor()\n",
    "        self._create_table()\n",
    "\n",
    "    def _create_table(self):\n",
    "        # Create the comments table\n",
    "        self.cursor.execute('''\n",
    "        CREATE TABLE IF NOT EXISTS Comments (\n",
    "            id INTEGER PRIMARY KEY AUTOINCREMENT,\n",
    "            author TEXT,\n",
    "            content TEXT,\n",
    "            date TEXT,\n",
    "            like_count INTEGER,\n",
    "            parent_id INTEGER,\n",
    "            video_id TEXT,\n",
    "            FOREIGN KEY (parent_id) REFERENCES Comments(id)\n",
    "        )''')\n",
    "        self.conn.commit()\n",
    "\n",
    "    def save(self, thread: Thread):\n",
    "        # Save Top Level Comment\n",
    "        top_level_comment_id = self._save_comment(\n",
    "            thread.top_level_comment,\n",
    "            video_id=thread.video_id,\n",
    "        )\n",
    "\n",
    "        # Save replies\n",
    "        for reply in thread.replies:\n",
    "            self._save_comment(\n",
    "                reply,\n",
    "                parent_id=top_level_comment_id,\n",
    "                video_id=thread.video_id,\n",
    "            )\n",
    "\n",
    "        self.conn.commit()\n",
    "\n",
    "    def _save_comment(\n",
    "            self,\n",
    "            comment: Comment,\n",
    "            video_id : str,\n",
    "            parent_id : int | None = None\n",
    "    ) -> int:\n",
    "        # Insert the comment data into the comments table\n",
    "        self.cursor.execute(\n",
    "            '''\n",
    "                INSERT INTO comments (author, content, date, like_count, parent_id, video_id)\n",
    "                VALUES (?, ?, ?, ?, ?, ?)\n",
    "                ''',\n",
    "            (comment.author, comment.content, comment.date, comment.like_count, parent_id, video_id)\n",
    "        )\n",
    "\n",
    "        return self.cursor.lastrowid # Get id of the row the cursor is currently at\n",
    "\n",
    "    def close(self):\n",
    "        self.conn.close()"
   ],
   "id": "943e42ae26cc3e",
   "outputs": [],
   "execution_count": 39
  },
  {
   "metadata": {
    "ExecuteTime": {
     "end_time": "2025-04-08T09:30:32.967926Z",
     "start_time": "2025-04-08T09:30:31.533125Z"
    }
   },
   "cell_type": "code",
   "source": [
    "# Testing\n",
    "\n",
    "scraper = YoutubeCommentsScraper(\n",
    "    api_key=DEVELOPER_KEY\n",
    ")\n",
    "\n",
    "ndjson_saver = NDJSONThreadSaver()\n",
    "sqlite_saver = SQLiteThreadSaver()\n",
    "\n",
    "for idx, thread in enumerate(scraper.fetch_threads(video_id=\"qCbfTN-caFI\")):\n",
    "    ndjson_saver.save(thread)\n",
    "    sqlite_saver.save(thread)\n",
    "    print(f\"[{idx}] Fetched thread of author {thread.top_level_comment.author} with {thread.reply_count} replies\")\n",
    "\n",
    "sqlite_saver.close()"
   ],
   "id": "7bc29f9da5466ea",
   "outputs": [
    {
     "ename": "KeyboardInterrupt",
     "evalue": "",
     "output_type": "error",
     "traceback": [
      "\u001B[1;31m---------------------------------------------------------------------------\u001B[0m",
      "\u001B[1;31mKeyboardInterrupt\u001B[0m                         Traceback (most recent call last)",
      "Cell \u001B[1;32mIn[41], line 10\u001B[0m\n\u001B[0;32m      7\u001B[0m ndjson_saver \u001B[38;5;241m=\u001B[39m NDJSONThreadSaver()\n\u001B[0;32m      8\u001B[0m sqlite_saver \u001B[38;5;241m=\u001B[39m SQLiteThreadSaver()\n\u001B[1;32m---> 10\u001B[0m \u001B[38;5;28;43;01mfor\u001B[39;49;00m\u001B[43m \u001B[49m\u001B[43midx\u001B[49m\u001B[43m,\u001B[49m\u001B[43m \u001B[49m\u001B[43mthread\u001B[49m\u001B[43m \u001B[49m\u001B[38;5;129;43;01min\u001B[39;49;00m\u001B[43m \u001B[49m\u001B[38;5;28;43menumerate\u001B[39;49m\u001B[43m(\u001B[49m\u001B[43mscraper\u001B[49m\u001B[38;5;241;43m.\u001B[39;49m\u001B[43mfetch_threads\u001B[49m\u001B[43m(\u001B[49m\u001B[43mvideo_id\u001B[49m\u001B[38;5;241;43m=\u001B[39;49m\u001B[38;5;124;43m\"\u001B[39;49m\u001B[38;5;124;43mqCbfTN-caFI\u001B[39;49m\u001B[38;5;124;43m\"\u001B[39;49m\u001B[43m)\u001B[49m\u001B[43m)\u001B[49m\u001B[43m:\u001B[49m\n\u001B[0;32m     11\u001B[0m \u001B[43m    \u001B[49m\u001B[43mndjson_saver\u001B[49m\u001B[38;5;241;43m.\u001B[39;49m\u001B[43msave\u001B[49m\u001B[43m(\u001B[49m\u001B[43mthread\u001B[49m\u001B[43m)\u001B[49m\n\u001B[0;32m     12\u001B[0m \u001B[43m    \u001B[49m\u001B[43msqlite_saver\u001B[49m\u001B[38;5;241;43m.\u001B[39;49m\u001B[43msave\u001B[49m\u001B[43m(\u001B[49m\u001B[43mthread\u001B[49m\u001B[43m)\u001B[49m\n",
      "Cell \u001B[1;32mIn[35], line 35\u001B[0m, in \u001B[0;36mYoutubeCommentsScraper.fetch_threads\u001B[1;34m(self, video_id)\u001B[0m\n\u001B[0;32m     33\u001B[0m main_comment_data \u001B[38;5;241m=\u001B[39m snippet[\u001B[38;5;124m\"\u001B[39m\u001B[38;5;124mtopLevelComment\u001B[39m\u001B[38;5;124m\"\u001B[39m]\n\u001B[0;32m     34\u001B[0m top_level_comment \u001B[38;5;241m=\u001B[39m \u001B[38;5;28mself\u001B[39m\u001B[38;5;241m.\u001B[39m_comment_from_resource(main_comment_data)\n\u001B[1;32m---> 35\u001B[0m \u001B[43m\u001B[49m\u001B[38;5;28;43;01mfor\u001B[39;49;00m\u001B[43m \u001B[49m\u001B[43mreply\u001B[49m\u001B[43m \u001B[49m\u001B[38;5;129;43;01min\u001B[39;49;00m\u001B[43m \u001B[49m\u001B[38;5;28;43mself\u001B[39;49m\u001B[38;5;241;43m.\u001B[39;49m\u001B[43m_fetch_reply_comments\u001B[49m\u001B[43m(\u001B[49m\u001B[43mmain_comment_data\u001B[49m\u001B[43m[\u001B[49m\u001B[38;5;124;43m\"\u001B[39;49m\u001B[38;5;124;43mid\u001B[39;49m\u001B[38;5;124;43m\"\u001B[39;49m\u001B[43m]\u001B[49m\u001B[43m)\u001B[49m\u001B[43m:\u001B[49m\n\u001B[0;32m     36\u001B[0m \u001B[43m    \u001B[49m\u001B[43mreplies\u001B[49m\u001B[38;5;241;43m.\u001B[39;49m\u001B[43mappend\u001B[49m\u001B[43m(\u001B[49m\u001B[43mreply\u001B[49m\u001B[43m)\u001B[49m\n\u001B[0;32m     37\u001B[0m \u001B[38;5;28;01myield\u001B[39;00m Thread(\n\u001B[0;32m     38\u001B[0m     video_id\u001B[38;5;241m=\u001B[39mvideo_id,\n\u001B[0;32m     39\u001B[0m     reply_count\u001B[38;5;241m=\u001B[39mreply_count,\n\u001B[0;32m     40\u001B[0m     top_level_comment\u001B[38;5;241m=\u001B[39mtop_level_comment,\n\u001B[0;32m     41\u001B[0m     replies\u001B[38;5;241m=\u001B[39mreplies\n\u001B[0;32m     42\u001B[0m )\n",
      "Cell \u001B[1;32mIn[35], line 57\u001B[0m, in \u001B[0;36mYoutubeCommentsScraper._fetch_reply_comments\u001B[1;34m(self, parent_comment_id)\u001B[0m\n\u001B[0;32m     55\u001B[0m \u001B[38;5;28;01mwhile\u001B[39;00m request:\n\u001B[0;32m     56\u001B[0m     response \u001B[38;5;241m=\u001B[39m request\u001B[38;5;241m.\u001B[39mexecute()\n\u001B[1;32m---> 57\u001B[0m     \u001B[43mtime\u001B[49m\u001B[38;5;241;43m.\u001B[39;49m\u001B[43msleep\u001B[49m\u001B[43m(\u001B[49m\u001B[38;5;241;43m0.1\u001B[39;49m\u001B[43m)\u001B[49m\n\u001B[0;32m     58\u001B[0m     \u001B[38;5;28;01mfor\u001B[39;00m comment \u001B[38;5;129;01min\u001B[39;00m response\u001B[38;5;241m.\u001B[39mget(\u001B[38;5;124m\"\u001B[39m\u001B[38;5;124mitems\u001B[39m\u001B[38;5;124m\"\u001B[39m, []):\n\u001B[0;32m     59\u001B[0m         \u001B[38;5;28;01myield\u001B[39;00m \u001B[38;5;28mself\u001B[39m\u001B[38;5;241m.\u001B[39m_comment_from_resource(comment)\n",
      "\u001B[1;31mKeyboardInterrupt\u001B[0m: "
     ]
    }
   ],
   "execution_count": 41
  },
  {
   "metadata": {},
   "cell_type": "code",
   "outputs": [],
   "execution_count": null,
   "source": "",
   "id": "799c3de2bc0177eb"
  }
 ],
 "metadata": {
  "kernelspec": {
   "display_name": "Python 3",
   "language": "python",
   "name": "python3"
  },
  "language_info": {
   "codemirror_mode": {
    "name": "ipython",
    "version": 2
   },
   "file_extension": ".py",
   "mimetype": "text/x-python",
   "name": "python",
   "nbconvert_exporter": "python",
   "pygments_lexer": "ipython2",
   "version": "2.7.6"
  }
 },
 "nbformat": 4,
 "nbformat_minor": 5
}
