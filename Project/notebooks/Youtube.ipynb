{
 "cells": [
  {
   "cell_type": "code",
   "id": "initial_id",
   "metadata": {
    "collapsed": true,
    "ExecuteTime": {
     "end_time": "2025-05-25T13:52:09.585614Z",
     "start_time": "2025-05-25T13:52:09.574510Z"
    }
   },
   "source": [
    "import json\n",
    "import importlib\n",
    "import random\n",
    "\n",
    "from Project.utils.api import youtube_api as api\n",
    "from Project.utils.storage import youtube_db as db\n",
    "from Project.utils.analysis import text_classifier as tc\n",
    "\n",
    "importlib.reload(api)\n",
    "importlib.reload(db)\n",
    "importlib.reload(tc)"
   ],
   "outputs": [
    {
     "data": {
      "text/plain": [
       "<module 'Project.utils.analysis.text_classifier' from 'C:\\\\Users\\\\Filippo Corti\\\\Documents\\\\GitHub\\\\SocialMediaMining\\\\Project\\\\utils\\\\analysis\\\\text_classifier.py'>"
      ]
     },
     "execution_count": 25,
     "metadata": {},
     "output_type": "execute_result"
    }
   ],
   "execution_count": 25
  },
  {
   "metadata": {
    "ExecuteTime": {
     "end_time": "2025-05-25T13:52:10.068928Z",
     "start_time": "2025-05-25T13:52:10.062979Z"
    }
   },
   "cell_type": "code",
   "source": [
    "credentials = json.load(open('../../keys/youtube_key.json'))\n",
    "\n",
    "api_key = credentials['api_key']\n",
    "\n",
    "trump_podcasts = [\n",
    "    \"xrFdHO7FH8w\",\n",
    "    \"blqIZGXWUpU\",\n",
    "    \"s11uIW7wi-E\",\n",
    "    \"vC5cHjcgt5g\",\n",
    "    \"G80iLTctFuY\",\n",
    "    \"qCbfTN-caFI\",\n",
    "    \"Ry1IjOft95c\",\n",
    "    \"S7BTdUaNQM8\",\n",
    "    \"1SsmPh8gCxU\",\n",
    "    \"-dmwG54QsKc\",\n",
    "    \"nwQil7tcImI\",\n",
    "    \"G9lXnwuZ2qs\",\n",
    "    \"hBMoPUAeLnY\"\n",
    "]\n",
    "\n",
    "harris_podcasts = [\n",
    "    \"_KCRsjPCiCI\",\n",
    "    \"bzThwqnQJDY\",\n",
    "    \"7L4sts7I3xI\",\n",
    "    \"pNbwMrBMGgE\",\n",
    "    \"Vu5yD3fu6A8\",\n",
    "]"
   ],
   "id": "2593c303f04f2635",
   "outputs": [],
   "execution_count": 26
  },
  {
   "metadata": {
    "ExecuteTime": {
     "end_time": "2025-05-25T13:52:13.152586Z",
     "start_time": "2025-05-25T13:52:13.138386Z"
    }
   },
   "cell_type": "code",
   "source": [
    "youtube = api.YoutubeApi(api_key)\n",
    "youtube_db = db.SQLiteYoutubeSaver(db_name='../db/youtube.db')"
   ],
   "id": "a218fd1d6b0fbf40",
   "outputs": [],
   "execution_count": 27
  },
  {
   "metadata": {
    "ExecuteTime": {
     "end_time": "2025-05-24T08:23:27.136812Z",
     "start_time": "2025-05-24T08:23:25.838454Z"
    }
   },
   "cell_type": "code",
   "source": [
    "videos = [\n",
    "    youtube.get_video_by_id(video_id)\n",
    "    for video_id in trump_podcasts + harris_podcasts\n",
    "]"
   ],
   "id": "4487e838bf70dcca",
   "outputs": [],
   "execution_count": 4
  },
  {
   "metadata": {
    "ExecuteTime": {
     "end_time": "2025-05-24T08:19:42.194923Z",
     "start_time": "2025-05-24T08:19:42.190512Z"
    }
   },
   "cell_type": "code",
   "source": [
    "for video in videos:\n",
    "    print(f\"{video.channel_title} - {video.title}\")"
   ],
   "id": "e715b60d754e9ab5",
   "outputs": [
    {
     "name": "stdout",
     "output_type": "stream",
     "text": [
      "IMPAULSIVE - The Donald Trump Interview - IMPAULSIVE EP. 418\n",
      "All-In Podcast - In conversation with President Trump\n",
      "Adin Live - Adin Ross & Donald Trump FULL STREAM!\n",
      "Theo Von - Donald Trump | This Past Weekend w/ Theo Von #526\n",
      "Shawn Ryan Show - President Donald J. Trump - 47th President of the United States | SRS #127\n",
      "Lex Fridman - Donald Trump Interview | Lex Fridman Podcast #442\n",
      "FLAGRANT - Trump On Who Really Tried to Kill Him, Abortion & More\n",
      "FULL SEND PODCAST - Donald Trump Calls Out Kamala Over FAKE Interview, Talks Joe Rogan, and Why He HATES Jimmy Kimmel!\n",
      "Bussin' With The Boys - Donald Trump On How Success Will Unite America + The Future Of Media\n",
      "PBD Podcast - Donald Trump Reveals His Next 5 Moves - Speaks On Tariffs, Obama & Iran | PBD Podcast | 489\n",
      "OutKick - \"Manhood Is Under ATTACK!\" Why Donald Trump Keeps Fighting For America | Maintaining with Tyrus\n",
      "Six Feet Under with Mark Calaway - Donald Trump Talks Pro Wrestling and What’s at Stake in 2024 | Six Feet Under #36\n",
      "PowerfulJRE - Joe Rogan Experience #2219 - Donald Trump\n",
      "Call Her Daddy - Vice President Kamala Harris\n",
      "ALL THE SMOKE - Vice President Kamala Harris Interview | All the Smoke Special Edition\n",
      "Breakfast Club Power 105.1 FM - We The People Town Hall With Kamala Harris & Charlamagne Tha God\n",
      "The Howard Stern Show - Vice President Kamala Harris on the Howard Stern Show (FULL INTERVIEW)\n",
      "Club Shay Shay - Kamala Harris' Advice To 18-Year-Old Self, Talks Student Loans, Stimulus Checks, HBCU & Donald Trump\n"
     ]
    }
   ],
   "execution_count": 5
  },
  {
   "metadata": {},
   "cell_type": "code",
   "source": [
    "for video in videos:\n",
    "    youtube_db.insert_video(video)\n",
    "    print(f\"Extracting comments from {video.channel_title} - {video.title}\")\n",
    "    for comment in youtube.get_comments(video.id, threads_count=1000):\n",
    "        youtube_db.insert_comment(comment)"
   ],
   "id": "3204c1a35083b6",
   "outputs": [],
   "execution_count": null
  },
  {
   "metadata": {
    "ExecuteTime": {
     "end_time": "2025-05-25T13:52:17.068388Z",
     "start_time": "2025-05-25T13:52:15.809921Z"
    }
   },
   "cell_type": "code",
   "source": [
    "text_classifier = tc.TextClassifier()\n",
    "\n",
    "all_comments = youtube_db.get_all_comments()"
   ],
   "id": "43f4730b36e09f08",
   "outputs": [],
   "execution_count": 28
  },
  {
   "metadata": {
    "ExecuteTime": {
     "end_time": "2025-05-25T13:52:17.128822Z",
     "start_time": "2025-05-25T13:52:17.072939Z"
    }
   },
   "cell_type": "code",
   "source": [
    "\n",
    "all_comments = [\n",
    "    comment\n",
    "    for comment in all_comments\n",
    "    if comment.video_id == trump_podcasts[12]\n",
    "]\n",
    "\n",
    "random.shuffle(all_comments)"
   ],
   "id": "2db8030199435220",
   "outputs": [],
   "execution_count": 29
  },
  {
   "metadata": {
    "ExecuteTime": {
     "end_time": "2025-05-25T13:52:17.142567Z",
     "start_time": "2025-05-25T13:52:17.138982Z"
    }
   },
   "cell_type": "code",
   "source": "print(len(all_comments))",
   "id": "56ffe39223609a99",
   "outputs": [
    {
     "name": "stdout",
     "output_type": "stream",
     "text": [
      "14561\n"
     ]
    }
   ],
   "execution_count": 30
  },
  {
   "metadata": {},
   "cell_type": "code",
   "source": [
    "current_batch = list() # Technically not a batch\n",
    "\n",
    "for idx, comment in enumerate(all_comments):\n",
    "\n",
    "    current_batch.append(comment)\n",
    "\n",
    "    if len(current_batch) < 5 and idx != len(all_comments) - 1:\n",
    "        continue\n",
    "\n",
    "    # biases = text_classifier.get_political_bias(\n",
    "    #     [comment.content for comment in current_batch]\n",
    "    # )\n",
    "    # leanings = text_classifier.get_political_leaning(\n",
    "    #     [comment.content for comment in current_batch]\n",
    "    # )\n",
    "    # is_politicals = text_classifier.is_political(\n",
    "    #     [comment.content for comment in current_batch]\n",
    "    # )\n",
    "    # sentiments = text_classifier.get_sentiment(\n",
    "    #     [comment.content for comment in current_batch]\n",
    "    # )\n",
    "    # emotions = text_classifier.get_emotion(\n",
    "    #     [comment.content for comment in current_batch]\n",
    "    # )\n",
    "    # llm_labels = text_classifier.get_llm_political_stance(\n",
    "    #     candidates=[\"Trump\" if comment.video_id in trump_podcasts else \"Harris\" for comment in current_batch],\n",
    "    #     texts=[comment.content for comment in current_batch]\n",
    "    # )\n",
    "    gemini_labels = text_classifier.get_gemini_stance(\n",
    "        candidates=[\"Trump\" if comment.video_id in trump_podcasts else \"Harris\" for comment in current_batch],\n",
    "        texts=[comment.content for comment in current_batch]\n",
    "    )\n",
    "\n",
    "    for i in range(len(current_batch)):\n",
    "        comment_id = current_batch[i].id\n",
    "        #bias = biases[i]\n",
    "        #leaning = leanings[i]\n",
    "        #is_political = is_politicals[i]\n",
    "        #sentiment = sentiments[i]\n",
    "        #emotion = emotions[i]\n",
    "        #llm_label = llm_labels[i]\n",
    "        gemini_label = gemini_labels[i]\n",
    "\n",
    "        youtube_db.insert_comment_analysis(\n",
    "            comment_id=comment_id,\n",
    "            #bias=bias,\n",
    "            #leaning=leaning,\n",
    "            #is_political=is_political,\n",
    "            #sentiment=sentiment,\n",
    "            #emotion=emotion,\n",
    "            #llm_label=llm_label,\n",
    "            gemini_label=gemini_label,\n",
    "        )\n",
    "\n",
    "    current_batch = list()\n",
    "\n",
    "    idx += 1\n",
    "    if idx % 100 == 0:\n",
    "        print(f\"{idx}/{len(all_comments)}\")"
   ],
   "id": "11dbf6fdc7e72699",
   "outputs": [],
   "execution_count": null
  },
  {
   "metadata": {
    "ExecuteTime": {
     "end_time": "2025-04-25T08:43:06.490556Z",
     "start_time": "2025-04-25T08:43:06.484551Z"
    }
   },
   "cell_type": "code",
   "source": "youtube_db.close()",
   "id": "b1322b21b8eb662e",
   "outputs": [],
   "execution_count": 13
  }
 ],
 "metadata": {
  "kernelspec": {
   "display_name": "Python 3",
   "language": "python",
   "name": "python3"
  },
  "language_info": {
   "codemirror_mode": {
    "name": "ipython",
    "version": 2
   },
   "file_extension": ".py",
   "mimetype": "text/x-python",
   "name": "python",
   "nbconvert_exporter": "python",
   "pygments_lexer": "ipython2",
   "version": "2.7.6"
  }
 },
 "nbformat": 4,
 "nbformat_minor": 5
}
