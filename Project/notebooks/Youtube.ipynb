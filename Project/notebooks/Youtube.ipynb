{
 "cells": [
  {
   "cell_type": "code",
   "id": "initial_id",
   "metadata": {
    "collapsed": true,
    "ExecuteTime": {
     "end_time": "2025-05-24T08:23:25.449627Z",
     "start_time": "2025-05-24T08:23:15.521405Z"
    }
   },
   "source": [
    "import json\n",
    "import importlib\n",
    "\n",
    "from Project.utils.api import youtube_api as api\n",
    "from Project.utils.storage import youtube_db as db\n",
    "from Project.utils.analysis import text_classifier as tc\n",
    "\n",
    "importlib.reload(api)\n",
    "importlib.reload(db)\n",
    "importlib.reload(tc)"
   ],
   "outputs": [
    {
     "name": "stderr",
     "output_type": "stream",
     "text": [
      "C:\\Users\\Filippo Corti\\miniconda3\\envs\\SocialMediaMining\\Lib\\site-packages\\tqdm\\auto.py:21: TqdmWarning: IProgress not found. Please update jupyter and ipywidgets. See https://ipywidgets.readthedocs.io/en/stable/user_install.html\n",
      "  from .autonotebook import tqdm as notebook_tqdm\n"
     ]
    },
    {
     "data": {
      "text/plain": [
       "<module 'Project.utils.analysis.text_classifier' from 'C:\\\\Users\\\\Filippo Corti\\\\Documents\\\\GitHub\\\\SocialMediaMining\\\\Project\\\\utils\\\\analysis\\\\text_classifier.py'>"
      ]
     },
     "execution_count": 1,
     "metadata": {},
     "output_type": "execute_result"
    }
   ],
   "execution_count": 1
  },
  {
   "metadata": {
    "ExecuteTime": {
     "end_time": "2025-05-24T08:23:25.460967Z",
     "start_time": "2025-05-24T08:23:25.456311Z"
    }
   },
   "cell_type": "code",
   "source": [
    "credentials = json.load(open('../../keys/youtube_key.json'))\n",
    "\n",
    "api_key = credentials['api_key']\n",
    "\n",
    "trump_podcasts = [\n",
    "    \"xrFdHO7FH8w\",\n",
    "    \"blqIZGXWUpU\",\n",
    "    \"s11uIW7wi-E\",\n",
    "    \"vC5cHjcgt5g\",\n",
    "    \"G80iLTctFuY\",\n",
    "    \"qCbfTN-caFI\",\n",
    "    \"Ry1IjOft95c\",\n",
    "    \"S7BTdUaNQM8\",\n",
    "    \"1SsmPh8gCxU\",\n",
    "    \"-dmwG54QsKc\",\n",
    "    \"nwQil7tcImI\",\n",
    "    \"G9lXnwuZ2qs\",\n",
    "    \"hBMoPUAeLnY\"\n",
    "]\n",
    "\n",
    "harris_podcasts = [\n",
    "    \"_KCRsjPCiCI\",\n",
    "    \"bzThwqnQJDY\",\n",
    "    \"7L4sts7I3xI\",\n",
    "    \"pNbwMrBMGgE\",\n",
    "    \"Vu5yD3fu6A8\",\n",
    "]"
   ],
   "id": "2593c303f04f2635",
   "outputs": [],
   "execution_count": 2
  },
  {
   "metadata": {
    "ExecuteTime": {
     "end_time": "2025-05-24T08:23:25.829937Z",
     "start_time": "2025-05-24T08:23:25.814865Z"
    }
   },
   "cell_type": "code",
   "source": [
    "youtube = api.YoutubeApi(api_key)\n",
    "youtube_db = db.SQLiteYoutubeSaver(db_name='../db/youtube.db')"
   ],
   "id": "a218fd1d6b0fbf40",
   "outputs": [],
   "execution_count": 3
  },
  {
   "metadata": {
    "ExecuteTime": {
     "end_time": "2025-05-24T08:23:27.136812Z",
     "start_time": "2025-05-24T08:23:25.838454Z"
    }
   },
   "cell_type": "code",
   "source": [
    "videos = [\n",
    "    youtube.get_video_by_id(video_id)\n",
    "    for video_id in trump_podcasts + harris_podcasts\n",
    "]"
   ],
   "id": "4487e838bf70dcca",
   "outputs": [],
   "execution_count": 4
  },
  {
   "metadata": {
    "ExecuteTime": {
     "end_time": "2025-05-24T08:19:42.194923Z",
     "start_time": "2025-05-24T08:19:42.190512Z"
    }
   },
   "cell_type": "code",
   "source": [
    "for video in videos:\n",
    "    print(f\"{video.channel_title} - {video.title}\")"
   ],
   "id": "e715b60d754e9ab5",
   "outputs": [
    {
     "name": "stdout",
     "output_type": "stream",
     "text": [
      "IMPAULSIVE - The Donald Trump Interview - IMPAULSIVE EP. 418\n",
      "All-In Podcast - In conversation with President Trump\n",
      "Adin Live - Adin Ross & Donald Trump FULL STREAM!\n",
      "Theo Von - Donald Trump | This Past Weekend w/ Theo Von #526\n",
      "Shawn Ryan Show - President Donald J. Trump - 47th President of the United States | SRS #127\n",
      "Lex Fridman - Donald Trump Interview | Lex Fridman Podcast #442\n",
      "FLAGRANT - Trump On Who Really Tried to Kill Him, Abortion & More\n",
      "FULL SEND PODCAST - Donald Trump Calls Out Kamala Over FAKE Interview, Talks Joe Rogan, and Why He HATES Jimmy Kimmel!\n",
      "Bussin' With The Boys - Donald Trump On How Success Will Unite America + The Future Of Media\n",
      "PBD Podcast - Donald Trump Reveals His Next 5 Moves - Speaks On Tariffs, Obama & Iran | PBD Podcast | 489\n",
      "OutKick - \"Manhood Is Under ATTACK!\" Why Donald Trump Keeps Fighting For America | Maintaining with Tyrus\n",
      "Six Feet Under with Mark Calaway - Donald Trump Talks Pro Wrestling and What’s at Stake in 2024 | Six Feet Under #36\n",
      "PowerfulJRE - Joe Rogan Experience #2219 - Donald Trump\n",
      "Call Her Daddy - Vice President Kamala Harris\n",
      "ALL THE SMOKE - Vice President Kamala Harris Interview | All the Smoke Special Edition\n",
      "Breakfast Club Power 105.1 FM - We The People Town Hall With Kamala Harris & Charlamagne Tha God\n",
      "The Howard Stern Show - Vice President Kamala Harris on the Howard Stern Show (FULL INTERVIEW)\n",
      "Club Shay Shay - Kamala Harris' Advice To 18-Year-Old Self, Talks Student Loans, Stimulus Checks, HBCU & Donald Trump\n"
     ]
    }
   ],
   "execution_count": 5
  },
  {
   "metadata": {},
   "cell_type": "code",
   "source": [
    "for video in videos:\n",
    "    youtube_db.insert_video(video)\n",
    "    print(f\"Extracting comments from {video.channel_title} - {video.title}\")\n",
    "    for comment in youtube.get_comments(video.id, threads_count=1000):\n",
    "        youtube_db.insert_comment(comment)"
   ],
   "id": "3204c1a35083b6",
   "outputs": [],
   "execution_count": null
  },
  {
   "metadata": {
    "ExecuteTime": {
     "end_time": "2025-05-24T10:59:59.837471Z",
     "start_time": "2025-05-24T10:59:58.434695Z"
    }
   },
   "cell_type": "code",
   "source": [
    "text_classifier = tc.TextClassifier()\n",
    "\n",
    "all_comments = youtube_db.get_all_comments()"
   ],
   "id": "43f4730b36e09f08",
   "outputs": [],
   "execution_count": 8
  },
  {
   "metadata": {
    "ExecuteTime": {
     "end_time": "2025-05-24T11:00:00.531166Z",
     "start_time": "2025-05-24T11:00:00.458962Z"
    }
   },
   "cell_type": "code",
   "source": [
    "\n",
    "all_comments = [\n",
    "    comment\n",
    "    for comment in all_comments\n",
    "    if comment.video_id == trump_podcasts[0]\n",
    "]"
   ],
   "id": "2db8030199435220",
   "outputs": [],
   "execution_count": 9
  },
  {
   "metadata": {
    "ExecuteTime": {
     "end_time": "2025-05-24T11:00:01.306633Z",
     "start_time": "2025-05-24T11:00:01.302755Z"
    }
   },
   "cell_type": "code",
   "source": "print(len(all_comments))",
   "id": "56ffe39223609a99",
   "outputs": [
    {
     "name": "stdout",
     "output_type": "stream",
     "text": [
      "3578\n"
     ]
    }
   ],
   "execution_count": 10
  },
  {
   "metadata": {
    "ExecuteTime": {
     "end_time": "2025-05-24T10:56:02.264137Z",
     "start_time": "2025-05-24T08:23:35.297077Z"
    }
   },
   "cell_type": "code",
   "source": [
    "current_batch = list() # Technically not a batch\n",
    "\n",
    "for idx, comment in enumerate(all_comments):\n",
    "\n",
    "    current_batch.append(comment)\n",
    "\n",
    "    if len(current_batch) < 5 and idx != len(all_comments) - 1:\n",
    "        continue\n",
    "\n",
    "    # biases = text_classifier.get_political_bias(\n",
    "    #     [comment.content for comment in current_batch]\n",
    "    # )\n",
    "    # leanings = text_classifier.get_political_leaning(\n",
    "    #     [comment.content for comment in current_batch]\n",
    "    # )\n",
    "    # is_politicals = text_classifier.is_political(\n",
    "    #     [comment.content for comment in current_batch]\n",
    "    # )\n",
    "    # sentiments = text_classifier.get_sentiment(\n",
    "    #     [comment.content for comment in current_batch]\n",
    "    # )\n",
    "    # emotions = text_classifier.get_emotion(\n",
    "    #     [comment.content for comment in current_batch]\n",
    "    # )\n",
    "    # llm_labels = text_classifier.get_llm_political_stance(\n",
    "    #     candidates=[\"Trump\" if comment.video_id in trump_podcasts else \"Harris\" for comment in current_batch],\n",
    "    #     texts=[comment.content for comment in current_batch]\n",
    "    # )\n",
    "    gemini_labels = text_classifier.get_gemini_stance(\n",
    "        candidates=[\"Trump\" if comment.video_id in trump_podcasts else \"Harris\" for comment in current_batch],\n",
    "        texts=[comment.content for comment in current_batch]\n",
    "    )\n",
    "\n",
    "    for i in range(len(current_batch)):\n",
    "        comment_id = current_batch[i].id\n",
    "        #bias = biases[i]\n",
    "        #leaning = leanings[i]\n",
    "        #is_political = is_politicals[i]\n",
    "        #sentiment = sentiments[i]\n",
    "        #emotion = emotions[i]\n",
    "        #llm_label = llm_labels[i]\n",
    "        gemini_label = gemini_labels[i]\n",
    "\n",
    "        youtube_db.insert_comment_analysis(\n",
    "            comment_id=comment_id,\n",
    "            #bias=bias,\n",
    "            #leaning=leaning,\n",
    "            #is_political=is_political,\n",
    "            #sentiment=sentiment,\n",
    "            #emotion=emotion,\n",
    "            #llm_label=llm_label,\n",
    "            gemini_label=gemini_label,\n",
    "        )\n",
    "\n",
    "    current_batch = list()\n",
    "\n",
    "    idx += 1\n",
    "    if idx % 100 == 0:\n",
    "        print(f\"{idx}/{len(all_comments)}\")"
   ],
   "id": "11dbf6fdc7e72699",
   "outputs": [
    {
     "name": "stdout",
     "output_type": "stream",
     "text": [
      "Quota exceeded. Retrying in 13 seconds.\n",
      "Quota exceeded. Retrying in 59 seconds.\n",
      "Quota exceeded. Retrying in 39 seconds.\n",
      "100/114616\n",
      "Quota exceeded. Retrying in 59 seconds.\n",
      "Quota exceeded. Retrying in 39 seconds.\n",
      "Quota exceeded. Retrying in 59 seconds.\n",
      "200/114616\n",
      "Quota exceeded. Retrying in 39 seconds.\n",
      "Quota exceeded. Retrying in 59 seconds.\n",
      "Quota exceeded. Retrying in 40 seconds.\n",
      "Quota exceeded. Retrying in 59 seconds.\n",
      "300/114616\n",
      "Quota exceeded. Retrying in 39 seconds.\n",
      "Quota exceeded. Retrying in 59 seconds.\n",
      "Quota exceeded. Retrying in 38 seconds.\n",
      "Quota exceeded. Retrying in 59 seconds.\n",
      "400/114616\n",
      "Quota exceeded. Retrying in 38 seconds.\n",
      "Quota exceeded. Retrying in 59 seconds.\n",
      "Quota exceeded. Retrying in 47 seconds.\n",
      "500/114616\n",
      "Quota exceeded. Retrying in 48 seconds.\n",
      "Quota exceeded. Retrying in 46 seconds.\n",
      "Quota exceeded. Retrying in 48 seconds.\n",
      "600/114616\n",
      "Quota exceeded. Retrying in 47 seconds.\n",
      "Quota exceeded. Retrying in 47 seconds.\n",
      "Quota exceeded. Retrying in 47 seconds.\n",
      "Quota exceeded. Retrying in 47 seconds.\n",
      "700/114616\n",
      "Quota exceeded. Retrying in 48 seconds.\n",
      "Quota exceeded. Retrying in 47 seconds.\n",
      "Quota exceeded. Retrying in 46 seconds.\n",
      "800/114616\n",
      "Quota exceeded. Retrying in 47 seconds.\n",
      "Quota exceeded. Retrying in 48 seconds.\n",
      "Quota exceeded. Retrying in 46 seconds.\n",
      "900/114616\n",
      "Quota exceeded. Retrying in 48 seconds.\n",
      "Quota exceeded. Retrying in 48 seconds.\n",
      "Quota exceeded. Retrying in 46 seconds.\n",
      "1000/114616\n",
      "Quota exceeded. Retrying in 48 seconds.\n",
      "Quota exceeded. Retrying in 47 seconds.\n",
      "Quota exceeded. Retrying in 47 seconds.\n",
      "1100/114616\n",
      "Quota exceeded. Retrying in 48 seconds.\n",
      "Quota exceeded. Retrying in 46 seconds.\n",
      "Quota exceeded. Retrying in 47 seconds.\n",
      "Quota exceeded. Retrying in 46 seconds.\n",
      "1200/114616\n",
      "Quota exceeded. Retrying in 47 seconds.\n",
      "Quota exceeded. Retrying in 47 seconds.\n",
      "Quota exceeded. Retrying in 48 seconds.\n",
      "1300/114616\n",
      "Quota exceeded. Retrying in 47 seconds.\n",
      "Quota exceeded. Retrying in 46 seconds.\n",
      "Quota exceeded. Retrying in 48 seconds.\n",
      "1400/114616\n",
      "Quota exceeded. Retrying in 47 seconds.\n",
      "Quota exceeded. Retrying in 48 seconds.\n",
      "Quota exceeded. Retrying in 51 seconds.\n",
      "Quota exceeded. Retrying in 59 seconds.\n",
      "Quota exceeded. Retrying in 59 seconds.\n",
      "Quota exceeded. Retrying in 59 seconds.\n",
      "Quota exceeded. Retrying in 59 seconds.\n",
      "Quota exceeded. Retrying in 59 seconds.\n",
      "1500/114616\n",
      "Quota exceeded. Retrying in 59 seconds.\n",
      "Quota exceeded. Retrying in 59 seconds.\n",
      "Quota exceeded. Retrying in 59 seconds.\n",
      "Quota exceeded. Retrying in 59 seconds.\n",
      "Quota exceeded. Retrying in 59 seconds.\n",
      "Quota exceeded. Retrying in 59 seconds.\n",
      "Quota exceeded. Retrying in 59 seconds.\n",
      "Quota exceeded. Retrying in 59 seconds.\n",
      "Quota exceeded. Retrying in 59 seconds.\n",
      "Quota exceeded. Retrying in 59 seconds.\n",
      "Quota exceeded. Retrying in 59 seconds.\n",
      "1600/114616\n",
      "Quota exceeded. Retrying in 59 seconds.\n",
      "Quota exceeded. Retrying in 59 seconds.\n",
      "Quota exceeded. Retrying in 59 seconds.\n",
      "Quota exceeded. Retrying in 59 seconds.\n",
      "Quota exceeded. Retrying in 59 seconds.\n",
      "Quota exceeded. Retrying in 59 seconds.\n",
      "Quota exceeded. Retrying in 59 seconds.\n",
      "Quota exceeded. Retrying in 59 seconds.\n",
      "Quota exceeded. Retrying in 59 seconds.\n",
      "Quota exceeded. Retrying in 59 seconds.\n",
      "Quota exceeded. Retrying in 59 seconds.\n",
      "1700/114616\n",
      "Quota exceeded. Retrying in 59 seconds.\n",
      "Quota exceeded. Retrying in 59 seconds.\n",
      "Quota exceeded. Retrying in 59 seconds.\n",
      "Quota exceeded. Retrying in 59 seconds.\n",
      "Quota exceeded. Retrying in 59 seconds.\n",
      "Quota exceeded. Retrying in 59 seconds.\n",
      "Quota exceeded. Retrying in 59 seconds.\n",
      "Quota exceeded. Retrying in 59 seconds.\n",
      "Quota exceeded. Retrying in 59 seconds.\n",
      "Quota exceeded. Retrying in 59 seconds.\n",
      "1800/114616\n",
      "Quota exceeded. Retrying in 59 seconds.\n",
      "Quota exceeded. Retrying in 59 seconds.\n",
      "Quota exceeded. Retrying in 59 seconds.\n",
      "Quota exceeded. Retrying in 59 seconds.\n",
      "Quota exceeded. Retrying in 59 seconds.\n",
      "Quota exceeded. Retrying in 59 seconds.\n",
      "Quota exceeded. Retrying in 59 seconds.\n",
      "Quota exceeded. Retrying in 59 seconds.\n",
      "Quota exceeded. Retrying in 59 seconds.\n",
      "Quota exceeded. Retrying in 59 seconds.\n",
      "1900/114616\n",
      "Quota exceeded. Retrying in 59 seconds.\n",
      "Quota exceeded. Retrying in 59 seconds.\n",
      "Quota exceeded. Retrying in 59 seconds.\n",
      "Quota exceeded. Retrying in 59 seconds.\n",
      "Quota exceeded. Retrying in 59 seconds.\n",
      "Quota exceeded. Retrying in 59 seconds.\n",
      "Quota exceeded. Retrying in 59 seconds.\n",
      "Quota exceeded. Retrying in 59 seconds.\n",
      "Quota exceeded. Retrying in 59 seconds.\n",
      "Quota exceeded. Retrying in 59 seconds.\n",
      "Quota exceeded. Retrying in 59 seconds.\n",
      "2000/114616\n",
      "Quota exceeded. Retrying in 59 seconds.\n",
      "Quota exceeded. Retrying in 59 seconds.\n",
      "Quota exceeded. Retrying in 59 seconds.\n",
      "Quota exceeded. Retrying in 59 seconds.\n",
      "Quota exceeded. Retrying in 59 seconds.\n",
      "Quota exceeded. Retrying in 59 seconds.\n",
      "Quota exceeded. Retrying in 59 seconds.\n",
      "Quota exceeded. Retrying in 59 seconds.\n",
      "Quota exceeded. Retrying in 59 seconds.\n",
      "Quota exceeded. Retrying in 59 seconds.\n",
      "2100/114616\n",
      "Quota exceeded. Retrying in 59 seconds.\n",
      "Quota exceeded. Retrying in 59 seconds.\n",
      "Quota exceeded. Retrying in 59 seconds.\n",
      "Quota exceeded. Retrying in 59 seconds.\n",
      "Quota exceeded. Retrying in 59 seconds.\n",
      "Quota exceeded. Retrying in 59 seconds.\n",
      "Quota exceeded. Retrying in 59 seconds.\n",
      "Quota exceeded. Retrying in 59 seconds.\n",
      "Quota exceeded. Retrying in 59 seconds.\n",
      "Quota exceeded. Retrying in 59 seconds.\n",
      "Quota exceeded. Retrying in 59 seconds.\n",
      "2200/114616\n",
      "Quota exceeded. Retrying in 59 seconds.\n",
      "Quota exceeded. Retrying in 59 seconds.\n",
      "Quota exceeded. Retrying in 59 seconds.\n",
      "Quota exceeded. Retrying in 59 seconds.\n",
      "Quota exceeded. Retrying in 59 seconds.\n",
      "Quota exceeded. Retrying in 59 seconds.\n",
      "Quota exceeded. Retrying in 59 seconds.\n",
      "Quota exceeded. Retrying in 59 seconds.\n",
      "Quota exceeded. Retrying in 59 seconds.\n",
      "Quota exceeded. Retrying in 59 seconds.\n",
      "Quota exceeded. Retrying in 59 seconds.\n",
      "2300/114616\n",
      "Quota exceeded. Retrying in 59 seconds.\n",
      "Quota exceeded. Retrying in 59 seconds.\n",
      "Quota exceeded. Retrying in 59 seconds.\n",
      "Quota exceeded. Retrying in 59 seconds.\n",
      "Quota exceeded. Retrying in 59 seconds.\n",
      "Quota exceeded. Retrying in 59 seconds.\n",
      "Quota exceeded. Retrying in 59 seconds.\n",
      "Quota exceeded. Retrying in 59 seconds.\n",
      "Quota exceeded. Retrying in 59 seconds.\n",
      "Quota exceeded. Retrying in 59 seconds.\n",
      "2400/114616\n",
      "Quota exceeded. Retrying in 59 seconds.\n",
      "Quota exceeded. Retrying in 59 seconds.\n",
      "Quota exceeded. Retrying in 59 seconds.\n",
      "Quota exceeded. Retrying in 59 seconds.\n"
     ]
    },
    {
     "ename": "KeyboardInterrupt",
     "evalue": "",
     "output_type": "error",
     "traceback": [
      "\u001B[1;31m---------------------------------------------------------------------------\u001B[0m",
      "\u001B[1;31mResourceExhausted\u001B[0m                         Traceback (most recent call last)",
      "File \u001B[1;32m~\\Documents\\GitHub\\SocialMediaMining\\Project\\utils\\analysis\\text_classifier.py:182\u001B[0m, in \u001B[0;36mTextClassifier.get_gemini_stance.<locals>.generate_response\u001B[1;34m(user_input)\u001B[0m\n\u001B[0;32m    181\u001B[0m \u001B[38;5;28;01mtry\u001B[39;00m:\n\u001B[1;32m--> 182\u001B[0m     response \u001B[38;5;241m=\u001B[39m \u001B[38;5;28mself\u001B[39m\u001B[38;5;241m.\u001B[39mgemini_model\u001B[38;5;241m.\u001B[39mgenerate_content(user_input)\n\u001B[0;32m    183\u001B[0m     \u001B[38;5;28;01mreturn\u001B[39;00m response\u001B[38;5;241m.\u001B[39mtext\u001B[38;5;241m.\u001B[39mstrip()\u001B[38;5;241m.\u001B[39mreplace(\u001B[38;5;124m'\u001B[39m\u001B[38;5;130;01m\\n\u001B[39;00m\u001B[38;5;124m'\u001B[39m, \u001B[38;5;124m'\u001B[39m\u001B[38;5;124m'\u001B[39m)\n",
      "File \u001B[1;32m~\\miniconda3\\envs\\SocialMediaMining\\Lib\\site-packages\\google\\generativeai\\generative_models.py:331\u001B[0m, in \u001B[0;36mGenerativeModel.generate_content\u001B[1;34m(self, contents, generation_config, safety_settings, stream, tools, tool_config, request_options)\u001B[0m\n\u001B[0;32m    330\u001B[0m \u001B[38;5;28;01melse\u001B[39;00m:\n\u001B[1;32m--> 331\u001B[0m     response \u001B[38;5;241m=\u001B[39m \u001B[38;5;28mself\u001B[39m\u001B[38;5;241m.\u001B[39m_client\u001B[38;5;241m.\u001B[39mgenerate_content(\n\u001B[0;32m    332\u001B[0m         request,\n\u001B[0;32m    333\u001B[0m         \u001B[38;5;241m*\u001B[39m\u001B[38;5;241m*\u001B[39mrequest_options,\n\u001B[0;32m    334\u001B[0m     )\n\u001B[0;32m    335\u001B[0m     \u001B[38;5;28;01mreturn\u001B[39;00m generation_types\u001B[38;5;241m.\u001B[39mGenerateContentResponse\u001B[38;5;241m.\u001B[39mfrom_response(response)\n",
      "File \u001B[1;32m~\\miniconda3\\envs\\SocialMediaMining\\Lib\\site-packages\\google\\ai\\generativelanguage_v1beta\\services\\generative_service\\client.py:835\u001B[0m, in \u001B[0;36mGenerativeServiceClient.generate_content\u001B[1;34m(self, request, model, contents, retry, timeout, metadata)\u001B[0m\n\u001B[0;32m    834\u001B[0m \u001B[38;5;66;03m# Send the request.\u001B[39;00m\n\u001B[1;32m--> 835\u001B[0m response \u001B[38;5;241m=\u001B[39m rpc(\n\u001B[0;32m    836\u001B[0m     request,\n\u001B[0;32m    837\u001B[0m     retry\u001B[38;5;241m=\u001B[39mretry,\n\u001B[0;32m    838\u001B[0m     timeout\u001B[38;5;241m=\u001B[39mtimeout,\n\u001B[0;32m    839\u001B[0m     metadata\u001B[38;5;241m=\u001B[39mmetadata,\n\u001B[0;32m    840\u001B[0m )\n\u001B[0;32m    842\u001B[0m \u001B[38;5;66;03m# Done; return the response.\u001B[39;00m\n",
      "File \u001B[1;32m~\\miniconda3\\envs\\SocialMediaMining\\Lib\\site-packages\\google\\api_core\\gapic_v1\\method.py:131\u001B[0m, in \u001B[0;36m_GapicCallable.__call__\u001B[1;34m(self, timeout, retry, compression, *args, **kwargs)\u001B[0m\n\u001B[0;32m    129\u001B[0m     kwargs[\u001B[38;5;124m\"\u001B[39m\u001B[38;5;124mcompression\u001B[39m\u001B[38;5;124m\"\u001B[39m] \u001B[38;5;241m=\u001B[39m compression\n\u001B[1;32m--> 131\u001B[0m \u001B[38;5;28;01mreturn\u001B[39;00m wrapped_func(\u001B[38;5;241m*\u001B[39margs, \u001B[38;5;241m*\u001B[39m\u001B[38;5;241m*\u001B[39mkwargs)\n",
      "File \u001B[1;32m~\\miniconda3\\envs\\SocialMediaMining\\Lib\\site-packages\\google\\api_core\\retry\\retry_unary.py:293\u001B[0m, in \u001B[0;36mRetry.__call__.<locals>.retry_wrapped_func\u001B[1;34m(*args, **kwargs)\u001B[0m\n\u001B[0;32m    290\u001B[0m sleep_generator \u001B[38;5;241m=\u001B[39m exponential_sleep_generator(\n\u001B[0;32m    291\u001B[0m     \u001B[38;5;28mself\u001B[39m\u001B[38;5;241m.\u001B[39m_initial, \u001B[38;5;28mself\u001B[39m\u001B[38;5;241m.\u001B[39m_maximum, multiplier\u001B[38;5;241m=\u001B[39m\u001B[38;5;28mself\u001B[39m\u001B[38;5;241m.\u001B[39m_multiplier\n\u001B[0;32m    292\u001B[0m )\n\u001B[1;32m--> 293\u001B[0m \u001B[38;5;28;01mreturn\u001B[39;00m retry_target(\n\u001B[0;32m    294\u001B[0m     target,\n\u001B[0;32m    295\u001B[0m     \u001B[38;5;28mself\u001B[39m\u001B[38;5;241m.\u001B[39m_predicate,\n\u001B[0;32m    296\u001B[0m     sleep_generator,\n\u001B[0;32m    297\u001B[0m     timeout\u001B[38;5;241m=\u001B[39m\u001B[38;5;28mself\u001B[39m\u001B[38;5;241m.\u001B[39m_timeout,\n\u001B[0;32m    298\u001B[0m     on_error\u001B[38;5;241m=\u001B[39mon_error,\n\u001B[0;32m    299\u001B[0m )\n",
      "File \u001B[1;32m~\\miniconda3\\envs\\SocialMediaMining\\Lib\\site-packages\\google\\api_core\\retry\\retry_unary.py:153\u001B[0m, in \u001B[0;36mretry_target\u001B[1;34m(target, predicate, sleep_generator, timeout, on_error, exception_factory, **kwargs)\u001B[0m\n\u001B[0;32m    151\u001B[0m \u001B[38;5;28;01mexcept\u001B[39;00m \u001B[38;5;167;01mException\u001B[39;00m \u001B[38;5;28;01mas\u001B[39;00m exc:\n\u001B[0;32m    152\u001B[0m     \u001B[38;5;66;03m# defer to shared logic for handling errors\u001B[39;00m\n\u001B[1;32m--> 153\u001B[0m     _retry_error_helper(\n\u001B[0;32m    154\u001B[0m         exc,\n\u001B[0;32m    155\u001B[0m         deadline,\n\u001B[0;32m    156\u001B[0m         sleep,\n\u001B[0;32m    157\u001B[0m         error_list,\n\u001B[0;32m    158\u001B[0m         predicate,\n\u001B[0;32m    159\u001B[0m         on_error,\n\u001B[0;32m    160\u001B[0m         exception_factory,\n\u001B[0;32m    161\u001B[0m         timeout,\n\u001B[0;32m    162\u001B[0m     )\n\u001B[0;32m    163\u001B[0m     \u001B[38;5;66;03m# if exception not raised, sleep before next attempt\u001B[39;00m\n",
      "File \u001B[1;32m~\\miniconda3\\envs\\SocialMediaMining\\Lib\\site-packages\\google\\api_core\\retry\\retry_base.py:212\u001B[0m, in \u001B[0;36m_retry_error_helper\u001B[1;34m(exc, deadline, next_sleep, error_list, predicate_fn, on_error_fn, exc_factory_fn, original_timeout)\u001B[0m\n\u001B[0;32m    207\u001B[0m     final_exc, source_exc \u001B[38;5;241m=\u001B[39m exc_factory_fn(\n\u001B[0;32m    208\u001B[0m         error_list,\n\u001B[0;32m    209\u001B[0m         RetryFailureReason\u001B[38;5;241m.\u001B[39mNON_RETRYABLE_ERROR,\n\u001B[0;32m    210\u001B[0m         original_timeout,\n\u001B[0;32m    211\u001B[0m     )\n\u001B[1;32m--> 212\u001B[0m     \u001B[38;5;28;01mraise\u001B[39;00m final_exc \u001B[38;5;28;01mfrom\u001B[39;00m \u001B[38;5;21;01msource_exc\u001B[39;00m\n\u001B[0;32m    213\u001B[0m \u001B[38;5;28;01mif\u001B[39;00m on_error_fn \u001B[38;5;129;01mis\u001B[39;00m \u001B[38;5;129;01mnot\u001B[39;00m \u001B[38;5;28;01mNone\u001B[39;00m:\n",
      "File \u001B[1;32m~\\miniconda3\\envs\\SocialMediaMining\\Lib\\site-packages\\google\\api_core\\retry\\retry_unary.py:144\u001B[0m, in \u001B[0;36mretry_target\u001B[1;34m(target, predicate, sleep_generator, timeout, on_error, exception_factory, **kwargs)\u001B[0m\n\u001B[0;32m    143\u001B[0m \u001B[38;5;28;01mtry\u001B[39;00m:\n\u001B[1;32m--> 144\u001B[0m     result \u001B[38;5;241m=\u001B[39m target()\n\u001B[0;32m    145\u001B[0m     \u001B[38;5;28;01mif\u001B[39;00m inspect\u001B[38;5;241m.\u001B[39misawaitable(result):\n",
      "File \u001B[1;32m~\\miniconda3\\envs\\SocialMediaMining\\Lib\\site-packages\\google\\api_core\\timeout.py:130\u001B[0m, in \u001B[0;36mTimeToDeadlineTimeout.__call__.<locals>.func_with_timeout\u001B[1;34m(*args, **kwargs)\u001B[0m\n\u001B[0;32m    128\u001B[0m     kwargs[\u001B[38;5;124m\"\u001B[39m\u001B[38;5;124mtimeout\u001B[39m\u001B[38;5;124m\"\u001B[39m] \u001B[38;5;241m=\u001B[39m remaining_timeout\n\u001B[1;32m--> 130\u001B[0m \u001B[38;5;28;01mreturn\u001B[39;00m func(\u001B[38;5;241m*\u001B[39margs, \u001B[38;5;241m*\u001B[39m\u001B[38;5;241m*\u001B[39mkwargs)\n",
      "File \u001B[1;32m~\\miniconda3\\envs\\SocialMediaMining\\Lib\\site-packages\\google\\api_core\\grpc_helpers.py:78\u001B[0m, in \u001B[0;36m_wrap_unary_errors.<locals>.error_remapped_callable\u001B[1;34m(*args, **kwargs)\u001B[0m\n\u001B[0;32m     77\u001B[0m \u001B[38;5;28;01mexcept\u001B[39;00m grpc\u001B[38;5;241m.\u001B[39mRpcError \u001B[38;5;28;01mas\u001B[39;00m exc:\n\u001B[1;32m---> 78\u001B[0m     \u001B[38;5;28;01mraise\u001B[39;00m exceptions\u001B[38;5;241m.\u001B[39mfrom_grpc_error(exc) \u001B[38;5;28;01mfrom\u001B[39;00m \u001B[38;5;21;01mexc\u001B[39;00m\n",
      "\u001B[1;31mResourceExhausted\u001B[0m: 429 You exceeded your current quota, please check your plan and billing details. For more information on this error, head to: https://ai.google.dev/gemini-api/docs/rate-limits. [violations {\n}\n, links {\n  description: \"Learn more about Gemini API quotas\"\n  url: \"https://ai.google.dev/gemini-api/docs/rate-limits\"\n}\n, retry_delay {\n  seconds: 59\n}\n]",
      "\nDuring handling of the above exception, another exception occurred:\n",
      "\u001B[1;31mKeyboardInterrupt\u001B[0m                         Traceback (most recent call last)",
      "Cell \u001B[1;32mIn[7], line 29\u001B[0m\n\u001B[0;32m      8\u001B[0m     \u001B[38;5;28;01mcontinue\u001B[39;00m\n\u001B[0;32m     10\u001B[0m \u001B[38;5;66;03m# biases = text_classifier.get_political_bias(\u001B[39;00m\n\u001B[0;32m     11\u001B[0m \u001B[38;5;66;03m#     [comment.content for comment in current_batch]\u001B[39;00m\n\u001B[0;32m     12\u001B[0m \u001B[38;5;66;03m# )\u001B[39;00m\n\u001B[1;32m   (...)\u001B[0m\n\u001B[0;32m     27\u001B[0m \u001B[38;5;66;03m#     texts=[comment.content for comment in current_batch]\u001B[39;00m\n\u001B[0;32m     28\u001B[0m \u001B[38;5;66;03m# )\u001B[39;00m\n\u001B[1;32m---> 29\u001B[0m gemini_labels \u001B[38;5;241m=\u001B[39m text_classifier\u001B[38;5;241m.\u001B[39mget_gemini_stance(\n\u001B[0;32m     30\u001B[0m     candidates\u001B[38;5;241m=\u001B[39m[\u001B[38;5;124m\"\u001B[39m\u001B[38;5;124mTrump\u001B[39m\u001B[38;5;124m\"\u001B[39m \u001B[38;5;28;01mif\u001B[39;00m comment\u001B[38;5;241m.\u001B[39mvideo_id \u001B[38;5;129;01min\u001B[39;00m trump_podcasts \u001B[38;5;28;01melse\u001B[39;00m \u001B[38;5;124m\"\u001B[39m\u001B[38;5;124mHarris\u001B[39m\u001B[38;5;124m\"\u001B[39m \u001B[38;5;28;01mfor\u001B[39;00m comment \u001B[38;5;129;01min\u001B[39;00m current_batch],\n\u001B[0;32m     31\u001B[0m     texts\u001B[38;5;241m=\u001B[39m[comment\u001B[38;5;241m.\u001B[39mcontent \u001B[38;5;28;01mfor\u001B[39;00m comment \u001B[38;5;129;01min\u001B[39;00m current_batch]\n\u001B[0;32m     32\u001B[0m )\n\u001B[0;32m     34\u001B[0m \u001B[38;5;28;01mfor\u001B[39;00m i \u001B[38;5;129;01min\u001B[39;00m \u001B[38;5;28mrange\u001B[39m(\u001B[38;5;28mlen\u001B[39m(current_batch)):\n\u001B[0;32m     35\u001B[0m     comment_id \u001B[38;5;241m=\u001B[39m current_batch[i]\u001B[38;5;241m.\u001B[39mid\n",
      "File \u001B[1;32m~\\Documents\\GitHub\\SocialMediaMining\\Project\\utils\\analysis\\text_classifier.py:200\u001B[0m, in \u001B[0;36mTextClassifier.get_gemini_stance\u001B[1;34m(self, candidates, texts)\u001B[0m\n\u001B[0;32m    197\u001B[0m sanitized_text \u001B[38;5;241m=\u001B[39m text\u001B[38;5;241m.\u001B[39mreplace(\u001B[38;5;124m'\u001B[39m\u001B[38;5;124m\"\u001B[39m\u001B[38;5;124m'\u001B[39m, \u001B[38;5;124m'\u001B[39m\u001B[38;5;130;01m\\\\\u001B[39;00m\u001B[38;5;124m\"\u001B[39m\u001B[38;5;124m'\u001B[39m)\u001B[38;5;241m.\u001B[39mreplace(\u001B[38;5;124m'\u001B[39m\u001B[38;5;130;01m\\n\u001B[39;00m\u001B[38;5;124m'\u001B[39m, \u001B[38;5;124m'\u001B[39m\u001B[38;5;124m \u001B[39m\u001B[38;5;124m'\u001B[39m)\u001B[38;5;241m.\u001B[39mstrip()\n\u001B[0;32m    198\u001B[0m json_input \u001B[38;5;241m=\u001B[39m \u001B[38;5;124mf\u001B[39m\u001B[38;5;124m'\u001B[39m\u001B[38;5;130;01m{{\u001B[39;00m\u001B[38;5;124m\"\u001B[39m\u001B[38;5;124mcandidate\u001B[39m\u001B[38;5;124m\"\u001B[39m\u001B[38;5;124m: \u001B[39m\u001B[38;5;124m\"\u001B[39m\u001B[38;5;132;01m{\u001B[39;00mcandidate\u001B[38;5;132;01m}\u001B[39;00m\u001B[38;5;124m\"\u001B[39m\u001B[38;5;124m, \u001B[39m\u001B[38;5;124m\"\u001B[39m\u001B[38;5;124mcomment\u001B[39m\u001B[38;5;124m\"\u001B[39m\u001B[38;5;124m: \u001B[39m\u001B[38;5;124m\"\u001B[39m\u001B[38;5;132;01m{\u001B[39;00msanitized_text\u001B[38;5;132;01m}\u001B[39;00m\u001B[38;5;124m\"\u001B[39m\u001B[38;5;130;01m}}\u001B[39;00m\u001B[38;5;124m'\u001B[39m\n\u001B[1;32m--> 200\u001B[0m result \u001B[38;5;241m=\u001B[39m generate_response(json_input)\n\u001B[0;32m    201\u001B[0m \u001B[38;5;28;01mif\u001B[39;00m result \u001B[38;5;129;01min\u001B[39;00m [\u001B[38;5;124m\"\u001B[39m\u001B[38;5;124mDemocratic\u001B[39m\u001B[38;5;124m\"\u001B[39m, \u001B[38;5;124m\"\u001B[39m\u001B[38;5;124mRepublican\u001B[39m\u001B[38;5;124m\"\u001B[39m, \u001B[38;5;124m\"\u001B[39m\u001B[38;5;124mNeutral\u001B[39m\u001B[38;5;124m\"\u001B[39m]:\n\u001B[0;32m    202\u001B[0m     labels\u001B[38;5;241m.\u001B[39mappend(result)\n",
      "File \u001B[1;32m~\\Documents\\GitHub\\SocialMediaMining\\Project\\utils\\analysis\\text_classifier.py:189\u001B[0m, in \u001B[0;36mTextClassifier.get_gemini_stance.<locals>.generate_response\u001B[1;34m(user_input)\u001B[0m\n\u001B[0;32m    187\u001B[0m \u001B[38;5;28;01mif\u001B[39;00m retry_seconds \u001B[38;5;129;01mis\u001B[39;00m \u001B[38;5;129;01mnot\u001B[39;00m \u001B[38;5;28;01mNone\u001B[39;00m:\n\u001B[0;32m    188\u001B[0m     \u001B[38;5;28mprint\u001B[39m(\u001B[38;5;124mf\u001B[39m\u001B[38;5;124m\"\u001B[39m\u001B[38;5;124mQuota exceeded. Retrying in \u001B[39m\u001B[38;5;132;01m{\u001B[39;00mretry_seconds\u001B[38;5;132;01m}\u001B[39;00m\u001B[38;5;124m seconds.\u001B[39m\u001B[38;5;124m\"\u001B[39m)\n\u001B[1;32m--> 189\u001B[0m     time\u001B[38;5;241m.\u001B[39msleep(retry_seconds)\n\u001B[0;32m    190\u001B[0m     \u001B[38;5;28;01mreturn\u001B[39;00m generate_response(user_input)\n\u001B[0;32m    191\u001B[0m \u001B[38;5;28;01melse\u001B[39;00m:\n",
      "\u001B[1;31mKeyboardInterrupt\u001B[0m: "
     ]
    }
   ],
   "execution_count": 7
  },
  {
   "metadata": {
    "ExecuteTime": {
     "end_time": "2025-04-25T08:43:06.490556Z",
     "start_time": "2025-04-25T08:43:06.484551Z"
    }
   },
   "cell_type": "code",
   "source": "youtube_db.close()",
   "id": "b1322b21b8eb662e",
   "outputs": [],
   "execution_count": 13
  }
 ],
 "metadata": {
  "kernelspec": {
   "display_name": "Python 3",
   "language": "python",
   "name": "python3"
  },
  "language_info": {
   "codemirror_mode": {
    "name": "ipython",
    "version": 2
   },
   "file_extension": ".py",
   "mimetype": "text/x-python",
   "name": "python",
   "nbconvert_exporter": "python",
   "pygments_lexer": "ipython2",
   "version": "2.7.6"
  }
 },
 "nbformat": 4,
 "nbformat_minor": 5
}
