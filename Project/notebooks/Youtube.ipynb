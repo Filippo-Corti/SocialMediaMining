{
 "cells": [
  {
   "cell_type": "code",
   "id": "initial_id",
   "metadata": {
    "collapsed": true,
    "ExecuteTime": {
     "end_time": "2025-04-25T08:22:28.652281Z",
     "start_time": "2025-04-25T08:22:28.647422Z"
    }
   },
   "source": [
    "import json\n",
    "from googleapiclient.discovery import build\n",
    "\n",
    "from utils.storage.youtube_db import SQLiteYoutubeSaver\n",
    "from utils.api.youtube_api import YoutubeApi"
   ],
   "outputs": [],
   "execution_count": 7
  },
  {
   "metadata": {
    "ExecuteTime": {
     "end_time": "2025-04-25T08:22:29.199914Z",
     "start_time": "2025-04-25T08:22:29.194684Z"
    }
   },
   "cell_type": "code",
   "source": [
    "credentials = json.load(open('../../keys/youtube_key.json'))\n",
    "\n",
    "api_key = credentials['api_key']\n",
    "\n",
    "trump_podcasts = [\n",
    "    \"xrFdHO7FH8w\",\n",
    "    \"blqIZGXWUpU\",\n",
    "    \"s11uIW7wi-E\",\n",
    "    \"vC5cHjcgt5g\",\n",
    "    \"G80iLTctFuY\",\n",
    "    \"qCbfTN-caFI\",\n",
    "    \"Ry1IjOft95c\",\n",
    "    \"S7BTdUaNQM8\",\n",
    "    \"1SsmPh8gCxU\",\n",
    "    \"-dmwG54QsKc\",\n",
    "    \"nwQil7tcImI\",\n",
    "    \"G9lXnwuZ2qs\",\n",
    "    \"hBMoPUAeLnY\"\n",
    "]\n",
    "\n",
    "harris_podcasts = [\n",
    "    \"_KCRsjPCiCI\",\n",
    "    \"bzThwqnQJDY\",\n",
    "    \"7L4sts7I3xI\",\n",
    "    \"pNbwMrBMGgE\",\n",
    "    \"Vu5yD3fu6A8\",\n",
    "]"
   ],
   "id": "2593c303f04f2635",
   "outputs": [],
   "execution_count": 8
  },
  {
   "metadata": {
    "ExecuteTime": {
     "end_time": "2025-04-25T08:22:29.990536Z",
     "start_time": "2025-04-25T08:22:29.974610Z"
    }
   },
   "cell_type": "code",
   "source": [
    "youtube = YoutubeApi(api_key)\n",
    "youtube_db = SQLiteYoutubeSaver()"
   ],
   "id": "a218fd1d6b0fbf40",
   "outputs": [],
   "execution_count": 9
  },
  {
   "metadata": {
    "ExecuteTime": {
     "end_time": "2025-04-25T07:41:29.941998Z",
     "start_time": "2025-04-25T07:41:28.573079Z"
    }
   },
   "cell_type": "code",
   "source": [
    "videos = [\n",
    "    youtube.get_video_by_id(video_id)\n",
    "    for video_id in trump_podcasts + harris_podcasts\n",
    "]"
   ],
   "id": "4487e838bf70dcca",
   "outputs": [],
   "execution_count": 4
  },
  {
   "metadata": {
    "ExecuteTime": {
     "end_time": "2025-04-25T08:22:35.271406Z",
     "start_time": "2025-04-25T08:22:35.267469Z"
    }
   },
   "cell_type": "code",
   "source": [
    "for video in videos:\n",
    "    print(f\"{video.channel_title} - {video.title}\")"
   ],
   "id": "e715b60d754e9ab5",
   "outputs": [
    {
     "name": "stdout",
     "output_type": "stream",
     "text": [
      "IMPAULSIVE - The Donald Trump Interview - IMPAULSIVE EP. 418\n",
      "All-In Podcast - In conversation with President Trump\n",
      "Adin Live - Adin Ross & Donald Trump FULL STREAM!\n",
      "Theo Von - Donald Trump | This Past Weekend w/ Theo Von #526\n",
      "Shawn Ryan Show - President Donald J. Trump - 47th President of the United States | SRS #127\n",
      "Lex Fridman - Donald Trump Interview | Lex Fridman Podcast #442\n",
      "FLAGRANT - Trump On Who Really Tried to Kill Him, Abortion & More\n",
      "FULL SEND PODCAST - Donald Trump Calls Out Kamala Over FAKE Interview, Talks Joe Rogan, and Why He HATES Jimmy Kimmel!\n",
      "Bussin' With The Boys - Donald Trump On How Success Will Unite America + The Future Of Media\n",
      "PBD Podcast - Donald Trump Reveals His Next 5 Moves - Speaks On Tariffs, Obama & Iran | PBD Podcast | 489\n",
      "OutKick - \"Manhood Is Under ATTACK!\" Why Donald Trump Keeps Fighting For America | Maintaining with Tyrus\n",
      "Six Feet Under with Mark Calaway - Donald Trump Talks Pro Wrestling and What’s at Stake in 2024 | Six Feet Under #36\n",
      "PowerfulJRE - Joe Rogan Experience #2219 - Donald Trump\n",
      "Call Her Daddy - Vice President Kamala Harris\n",
      "ALL THE SMOKE - Vice President Kamala Harris Interview | All the Smoke Special Edition\n",
      "Breakfast Club Power 105.1 FM - We The People Town Hall With Kamala Harris & Charlamagne Tha God\n",
      "The Howard Stern Show - Vice President Kamala Harris on the Howard Stern Show (FULL INTERVIEW)\n",
      "Club Shay Shay - Kamala Harris' Advice To 18-Year-Old Self, Talks Student Loans, Stimulus Checks, HBCU & Donald Trump\n"
     ]
    }
   ],
   "execution_count": 10
  },
  {
   "metadata": {},
   "cell_type": "code",
   "source": [
    "for video in videos[17:]:\n",
    "    youtube_db.insert_video(video)\n",
    "    print(f\"Extracting comments from {video.channel_title} - {video.title}\")\n",
    "    for comment in youtube.get_comments(video.id, threads_count=1000):\n",
    "        youtube_db.insert_comment(comment)"
   ],
   "id": "3204c1a35083b6",
   "outputs": [],
   "execution_count": null
  },
  {
   "metadata": {
    "ExecuteTime": {
     "end_time": "2025-04-25T08:43:06.490556Z",
     "start_time": "2025-04-25T08:43:06.484551Z"
    }
   },
   "cell_type": "code",
   "source": "youtube_db.close()",
   "id": "b1322b21b8eb662e",
   "outputs": [],
   "execution_count": 13
  },
  {
   "metadata": {},
   "cell_type": "code",
   "outputs": [],
   "execution_count": null,
   "source": "",
   "id": "62aa0c40ad0402c7"
  }
 ],
 "metadata": {
  "kernelspec": {
   "display_name": "Python 3",
   "language": "python",
   "name": "python3"
  },
  "language_info": {
   "codemirror_mode": {
    "name": "ipython",
    "version": 2
   },
   "file_extension": ".py",
   "mimetype": "text/x-python",
   "name": "python",
   "nbconvert_exporter": "python",
   "pygments_lexer": "ipython2",
   "version": "2.7.6"
  }
 },
 "nbformat": 4,
 "nbformat_minor": 5
}
