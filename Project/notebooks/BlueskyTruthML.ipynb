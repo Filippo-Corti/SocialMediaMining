{
 "cells": [
  {
   "metadata": {},
   "cell_type": "code",
   "outputs": [],
   "execution_count": null,
   "source": [
    "import importlib\n",
    "\n",
    "from Project.utils.storage import truth_db as t_db\n",
    "from Project.utils.storage import bluesky_db as b_db\n",
    "\n",
    "\n",
    "importlib.reload(t_db)\n",
    "importlib.reload(b_db)\n",
    "\n",
    "\n",
    "truth_db = t_db.SQLiteTruthSaver(db_name='../db/truthsocial.db')\n",
    "bluesky_db = b_db.SQLiteBlueSkySaver(db_name='../db/bluesky.db')"
   ],
   "id": "8212118c6788bfd3"
  },
  {
   "metadata": {
    "collapsed": true
   },
   "cell_type": "code",
   "outputs": [],
   "execution_count": null,
   "source": [
    "# THE PLAN:\n",
    "\n",
    "# 1. Label some comments from both socials, with Gemini\n",
    "\n",
    "# 2. Fine tune a HuggingFace model\n",
    "\n",
    "# 3. Run the model, don't care about performance honestly\n"
   ],
   "id": "initial_id"
  }
 ],
 "metadata": {
  "kernelspec": {
   "display_name": "Python 3",
   "language": "python",
   "name": "python3"
  },
  "language_info": {
   "codemirror_mode": {
    "name": "ipython",
    "version": 2
   },
   "file_extension": ".py",
   "mimetype": "text/x-python",
   "name": "python",
   "nbconvert_exporter": "python",
   "pygments_lexer": "ipython2",
   "version": "2.7.6"
  }
 },
 "nbformat": 4,
 "nbformat_minor": 5
}
