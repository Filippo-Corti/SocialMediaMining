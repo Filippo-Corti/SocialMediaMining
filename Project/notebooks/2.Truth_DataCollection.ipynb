{
 "cells": [
  {
   "cell_type": "code",
   "id": "initial_id",
   "metadata": {
    "collapsed": true,
    "ExecuteTime": {
     "end_time": "2025-06-02T17:17:18.337864Z",
     "start_time": "2025-06-02T17:17:18.321559Z"
    }
   },
   "source": [
    "import json\n",
    "import random\n",
    "import time\n",
    "import importlib\n",
    "\n",
    "from Project.utils.api import truth_api as api\n",
    "from Project.utils.storage import truth_db as db\n",
    "from Project.utils.analysis import text_classifier as tc\n",
    "\n",
    "importlib.reload(api)\n",
    "importlib.reload(db)\n",
    "importlib.reload(tc)\n"
   ],
   "outputs": [
    {
     "data": {
      "text/plain": [
       "<module 'Project.utils.analysis.text_classifier' from 'C:\\\\Users\\\\Filippo Corti\\\\Documents\\\\GitHub\\\\SocialMediaMining\\\\Project\\\\utils\\\\analysis\\\\text_classifier.py'>"
      ]
     },
     "execution_count": 27,
     "metadata": {},
     "output_type": "execute_result"
    }
   ],
   "execution_count": 27
  },
  {
   "metadata": {
    "ExecuteTime": {
     "end_time": "2025-06-02T17:17:19.599172Z",
     "start_time": "2025-06-02T17:17:19.594704Z"
    }
   },
   "cell_type": "code",
   "source": [
    "credentials = json.load(open('../../keys/truth_key.json'))\n",
    "\n",
    "username = credentials['username']\n",
    "password = credentials['password']"
   ],
   "id": "71997607408ca699",
   "outputs": [],
   "execution_count": 28
  },
  {
   "metadata": {
    "ExecuteTime": {
     "end_time": "2025-06-02T17:17:20.469760Z",
     "start_time": "2025-06-02T17:17:20.464681Z"
    }
   },
   "cell_type": "code",
   "source": [
    "truth = api.TruthApi(username, password)\n",
    "truth_db = db.SQLiteTruthSaver(db_name='../db/truthsocial.db')"
   ],
   "id": "c68af1468e14ccea",
   "outputs": [],
   "execution_count": 29
  },
  {
   "metadata": {},
   "cell_type": "code",
   "source": [
    "# 1. Extract the last 500 posts about tariffs\n",
    "idx = 0\n",
    "for post in truth.search_posts(keyword=\"tariffs\", limit=500):\n",
    "    print(f\"{idx}: New post: {post.id}\")\n",
    "    truth_db.insert_post(post)\n",
    "    idx+=1"
   ],
   "id": "c4c8463dea9afbed",
   "outputs": [],
   "execution_count": null
  },
  {
   "metadata": {},
   "cell_type": "code",
   "source": [
    "# 2. Extract the comments of each of the posts\n",
    "posts = truth_db.get_all_post_ids()\n",
    "\n",
    "for idx, post_id in enumerate(posts):\n",
    "    post_details = truth_db.get_post_by_id(post_id)\n",
    "    print(f\"{idx}: Extracting {post_details.replies_count} comments from post: {post_id}\")\n",
    "    for post in truth.get_comments(post_id):\n",
    "        truth_db.insert_post(post)\n",
    "\n",
    "    if post_details.replies_count > 2:\n",
    "        sleep_time = random.randrange(start=15, stop=60)\n",
    "        time.sleep(sleep_time)\n"
   ],
   "id": "d0ffb00b64074eed",
   "outputs": [],
   "execution_count": null
  },
  {
   "metadata": {
    "ExecuteTime": {
     "end_time": "2025-06-02T17:17:23.604256Z",
     "start_time": "2025-06-02T17:17:22.496583Z"
    }
   },
   "cell_type": "code",
   "source": [
    "text_classifier = tc.TextClassifier()\n",
    "\n",
    "all_posts = truth_db.get_all_posts()"
   ],
   "id": "e5dd441384d90d07",
   "outputs": [],
   "execution_count": 30
  },
  {
   "metadata": {
    "ExecuteTime": {
     "end_time": "2025-06-02T17:17:23.667930Z",
     "start_time": "2025-06-02T17:17:23.608684Z"
    }
   },
   "cell_type": "code",
   "source": [
    "all_posts = [\n",
    "    post\n",
    "    for post in all_posts\n",
    "]\n",
    "\n",
    "random.shuffle(all_posts)"
   ],
   "id": "cbbf836f1265413b",
   "outputs": [],
   "execution_count": 31
  },
  {
   "metadata": {
    "ExecuteTime": {
     "end_time": "2025-06-02T17:17:24.194450Z",
     "start_time": "2025-06-02T17:17:24.189020Z"
    }
   },
   "cell_type": "code",
   "source": "print(len(all_posts))",
   "id": "92535f025aa8f7e0",
   "outputs": [
    {
     "name": "stdout",
     "output_type": "stream",
     "text": [
      "72375\n"
     ]
    }
   ],
   "execution_count": 32
  },
  {
   "metadata": {},
   "cell_type": "code",
   "source": [
    "current_batch = list() # Technically not a batch\n",
    "\n",
    "for idx, post in enumerate(all_posts):\n",
    "\n",
    "    current_batch.append(post)\n",
    "\n",
    "    if len(current_batch) < 5 and idx != len(all_posts) - 1:\n",
    "        continue\n",
    "\n",
    "    gemini_labels = text_classifier.get_gemini_bt_stance(\n",
    "        texts=[comment.content for comment in current_batch]\n",
    "    )\n",
    "\n",
    "    for i in range(len(current_batch)):\n",
    "        comment_id = current_batch[i].id\n",
    "        gemini_label = gemini_labels[i]\n",
    "\n",
    "        truth_db.insert_comment_analysis(\n",
    "            comment_id=comment_id,\n",
    "            gemini_label=gemini_label,\n",
    "        )\n",
    "\n",
    "    current_batch = list()\n",
    "\n",
    "    idx += 1\n",
    "    if idx % 100 == 0:\n",
    "        print(f\"{idx}/{len(all_posts)}\")"
   ],
   "id": "465b1ed9664bb42e",
   "outputs": [],
   "execution_count": null
  },
  {
   "metadata": {
    "ExecuteTime": {
     "end_time": "2025-04-23T17:11:25.890814Z",
     "start_time": "2025-04-23T17:11:25.714334Z"
    }
   },
   "cell_type": "code",
   "source": "truth_db.close()",
   "id": "1d868ac30e511b24",
   "outputs": [],
   "execution_count": 5
  },
  {
   "metadata": {},
   "cell_type": "code",
   "outputs": [],
   "execution_count": null,
   "source": "",
   "id": "d6497404463a5162"
  }
 ],
 "metadata": {
  "kernelspec": {
   "display_name": "Python 3",
   "language": "python",
   "name": "python3"
  },
  "language_info": {
   "codemirror_mode": {
    "name": "ipython",
    "version": 2
   },
   "file_extension": ".py",
   "mimetype": "text/x-python",
   "name": "python",
   "nbconvert_exporter": "python",
   "pygments_lexer": "ipython2",
   "version": "2.7.6"
  }
 },
 "nbformat": 4,
 "nbformat_minor": 5
}
