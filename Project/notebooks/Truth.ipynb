{
 "cells": [
  {
   "cell_type": "code",
   "id": "initial_id",
   "metadata": {
    "collapsed": true,
    "ExecuteTime": {
     "end_time": "2025-04-23T11:15:36.687927Z",
     "start_time": "2025-04-23T11:15:36.577500Z"
    }
   },
   "source": [
    "import json\n",
    "import random\n",
    "import time\n",
    "from IPython.display import clear_output\n",
    "\n",
    "from utils.storage.truth_db import SQLiteTruthSaver\n",
    "from utils.api.truth_api import TruthApi\n"
   ],
   "outputs": [],
   "execution_count": 1
  },
  {
   "metadata": {
    "ExecuteTime": {
     "end_time": "2025-04-23T11:15:36.960940Z",
     "start_time": "2025-04-23T11:15:36.954899Z"
    }
   },
   "cell_type": "code",
   "source": [
    "credentials = json.load(open('../../keys/truth_key.json'))\n",
    "\n",
    "username = credentials['username']\n",
    "password = credentials['password']"
   ],
   "id": "71997607408ca699",
   "outputs": [],
   "execution_count": 2
  },
  {
   "metadata": {
    "ExecuteTime": {
     "end_time": "2025-04-23T11:15:38.057509Z",
     "start_time": "2025-04-23T11:15:38.053059Z"
    }
   },
   "cell_type": "code",
   "source": [
    "truth = TruthApi(username, password)\n",
    "truth_db = SQLiteTruthSaver()"
   ],
   "id": "c68af1468e14ccea",
   "outputs": [],
   "execution_count": 3
  },
  {
   "metadata": {},
   "cell_type": "code",
   "source": [
    "# 1. Extract the last 500 posts about tariffs\n",
    "idx = 0\n",
    "for post in truth.search_posts(keyword=\"tariffs\", limit=500):\n",
    "    print(f\"{idx}: New post: {post.id}\")\n",
    "    truth_db.insert_post(post)\n",
    "    idx+=1"
   ],
   "id": "c4c8463dea9afbed",
   "outputs": [],
   "execution_count": null
  },
  {
   "metadata": {},
   "cell_type": "code",
   "source": [
    "# 2. Extract the comments of each of the posts\n",
    "posts = truth_db.get_all_post_ids()\n",
    "\n",
    "for idx, post_id in enumerate(posts):\n",
    "    clear_output(wait=True)\n",
    "    post_details = truth_db.get_post_by_id(post_id)\n",
    "    print(f\"{idx}: Extracting {post_details.replies_count} comments from post: {post_id}\")\n",
    "    for post in truth.get_comments(post_id):\n",
    "        truth_db.insert_post(post)\n",
    "\n",
    "    if post_details.replies_count > 2:\n",
    "        sleep_time = random.randrange(start=15, stop=60)\n",
    "        time.sleep(sleep_time)\n"
   ],
   "id": "d0ffb00b64074eed",
   "outputs": [],
   "execution_count": null
  },
  {
   "metadata": {
    "ExecuteTime": {
     "end_time": "2025-04-23T17:11:25.890814Z",
     "start_time": "2025-04-23T17:11:25.714334Z"
    }
   },
   "cell_type": "code",
   "source": "truth_db.close()",
   "id": "1d868ac30e511b24",
   "outputs": [],
   "execution_count": 5
  },
  {
   "metadata": {},
   "cell_type": "code",
   "outputs": [],
   "execution_count": null,
   "source": "",
   "id": "d6497404463a5162"
  }
 ],
 "metadata": {
  "kernelspec": {
   "display_name": "Python 3",
   "language": "python",
   "name": "python3"
  },
  "language_info": {
   "codemirror_mode": {
    "name": "ipython",
    "version": 2
   },
   "file_extension": ".py",
   "mimetype": "text/x-python",
   "name": "python",
   "nbconvert_exporter": "python",
   "pygments_lexer": "ipython2",
   "version": "2.7.6"
  }
 },
 "nbformat": 4,
 "nbformat_minor": 5
}
