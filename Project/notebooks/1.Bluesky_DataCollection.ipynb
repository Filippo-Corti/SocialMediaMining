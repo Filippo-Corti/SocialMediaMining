{
 "cells": [
  {
   "metadata": {
    "ExecuteTime": {
     "end_time": "2025-06-02T15:02:48.612414Z",
     "start_time": "2025-06-02T15:02:48.596846Z"
    }
   },
   "cell_type": "code",
   "source": [
    "import json\n",
    "import random\n",
    "import time\n",
    "import importlib\n",
    "\n",
    "from Project.utils.api import bluesky_api as api\n",
    "from Project.utils.storage import bluesky_db as db\n",
    "from Project.utils.analysis import text_classifier as tc\n",
    "\n",
    "importlib.reload(api)\n",
    "importlib.reload(db)\n",
    "importlib.reload(tc)\n"
   ],
   "id": "1bbb06fd5f5f3a72",
   "outputs": [
    {
     "data": {
      "text/plain": [
       "<module 'Project.utils.analysis.text_classifier' from 'C:\\\\Users\\\\Filippo Corti\\\\Documents\\\\GitHub\\\\SocialMediaMining\\\\Project\\\\utils\\\\analysis\\\\text_classifier.py'>"
      ]
     },
     "execution_count": 31,
     "metadata": {},
     "output_type": "execute_result"
    }
   ],
   "execution_count": 31
  },
  {
   "metadata": {
    "ExecuteTime": {
     "end_time": "2025-06-02T15:02:49.349736Z",
     "start_time": "2025-06-02T15:02:49.344053Z"
    }
   },
   "cell_type": "code",
   "source": [
    "credentials = json.load(open('../../keys/bluesky_key.json'))\n",
    "\n",
    "username = credentials['username']\n",
    "password = credentials['password']"
   ],
   "id": "5a3d194a8a70fd84",
   "outputs": [],
   "execution_count": 32
  },
  {
   "metadata": {
    "ExecuteTime": {
     "end_time": "2025-06-02T15:02:51.541221Z",
     "start_time": "2025-06-02T15:02:50.060827Z"
    }
   },
   "cell_type": "code",
   "source": [
    "bluesky = api.BlueSkyApi(username, password)\n",
    "bluesky_db = db.SQLiteBlueSkySaver(db_name='../db/bluesky.db')"
   ],
   "id": "2a6cff6720e44066",
   "outputs": [],
   "execution_count": 33
  },
  {
   "metadata": {},
   "cell_type": "code",
   "source": [
    "# 1. Extract the last 500 posts about tariffs -> upped to 1500 (1354 exactly)\n",
    "idx = 0\n",
    "for post in bluesky.search_posts(keyword=\"tariffs\", limit=500):\n",
    "    print(f\"{idx}: New post: {post.id}\")\n",
    "    bluesky_db.insert_post(post)\n",
    "    idx+=1"
   ],
   "id": "c3016375a4a2ecff",
   "outputs": [],
   "execution_count": null
  },
  {
   "metadata": {},
   "cell_type": "code",
   "source": [
    "# 2. Extract the comments of each of the posts\n",
    "posts = bluesky_db.get_all_post_ids()\n",
    "\n",
    "for idx, post_id in enumerate(posts):\n",
    "    post_details = bluesky_db.get_post_by_id(post_id)\n",
    "    print(f\"{idx}: Extracting {post_details.replies_count} comments from post: {post_id}\")\n",
    "    for post in bluesky.get_comments(post_details.uri):\n",
    "        bluesky_db.insert_post(post)\n",
    "\n",
    "\n",
    "    if post_details.replies_count > 2:\n",
    "        sleep_time = random.randrange(start=1, stop=2)\n",
    "        time.sleep(sleep_time)\n"
   ],
   "id": "d5f06d379eaf1f16",
   "outputs": [],
   "execution_count": null
  },
  {
   "metadata": {
    "ExecuteTime": {
     "end_time": "2025-06-02T15:02:54.902177Z",
     "start_time": "2025-06-02T15:02:54.206358Z"
    }
   },
   "cell_type": "code",
   "source": [
    "text_classifier = tc.TextClassifier()\n",
    "\n",
    "all_posts = bluesky_db.get_all_posts()"
   ],
   "id": "9e5f9cbb49f3e6b4",
   "outputs": [],
   "execution_count": 34
  },
  {
   "metadata": {
    "ExecuteTime": {
     "end_time": "2025-06-02T15:02:55.205873Z",
     "start_time": "2025-06-02T15:02:55.191090Z"
    }
   },
   "cell_type": "code",
   "source": [
    "all_posts = [\n",
    "    post\n",
    "    for post in all_posts\n",
    "]\n",
    "\n",
    "random.shuffle(all_posts)"
   ],
   "id": "bf8b20bf3a84db26",
   "outputs": [],
   "execution_count": 35
  },
  {
   "metadata": {
    "ExecuteTime": {
     "end_time": "2025-06-02T15:02:55.841900Z",
     "start_time": "2025-06-02T15:02:55.837937Z"
    }
   },
   "cell_type": "code",
   "source": "print(len(all_posts))",
   "id": "34bfbfc62024fff1",
   "outputs": [
    {
     "name": "stdout",
     "output_type": "stream",
     "text": [
      "18610\n"
     ]
    }
   ],
   "execution_count": 36
  },
  {
   "metadata": {},
   "cell_type": "code",
   "source": [
    "current_batch = list() # Technically not a batch\n",
    "\n",
    "for idx, post in enumerate(all_posts):\n",
    "\n",
    "    current_batch.append(post)\n",
    "\n",
    "    if len(current_batch) < 5 and idx != len(all_posts) - 1:\n",
    "        continue\n",
    "\n",
    "    gemini_labels = text_classifier.get_gemini_bt_stance(\n",
    "        texts=[comment.content for comment in current_batch]\n",
    "    )\n",
    "\n",
    "    for i in range(len(current_batch)):\n",
    "        comment_id = current_batch[i].id\n",
    "        gemini_label = gemini_labels[i]\n",
    "\n",
    "        bluesky_db.insert_comment_analysis(\n",
    "            comment_id=comment_id,\n",
    "            gemini_label=gemini_label,\n",
    "        )\n",
    "\n",
    "    current_batch = list()\n",
    "\n",
    "    idx += 1\n",
    "    if idx % 100 == 0:\n",
    "        print(f\"{idx}/{len(all_posts)}\")"
   ],
   "id": "c9270e50490c3498",
   "outputs": [],
   "execution_count": null
  },
  {
   "metadata": {
    "ExecuteTime": {
     "end_time": "2025-06-02T15:02:43.603402Z",
     "start_time": "2025-06-02T15:02:43.599918Z"
    }
   },
   "cell_type": "code",
   "source": "bluesky_db.close()",
   "id": "2c708747660cbca8",
   "outputs": [],
   "execution_count": 30
  },
  {
   "metadata": {},
   "cell_type": "code",
   "outputs": [],
   "execution_count": null,
   "source": "",
   "id": "8cb179a27bc3b4eb"
  }
 ],
 "metadata": {
  "kernelspec": {
   "display_name": "Python 3",
   "language": "python",
   "name": "python3"
  },
  "language_info": {
   "codemirror_mode": {
    "name": "ipython",
    "version": 2
   },
   "file_extension": ".py",
   "mimetype": "text/x-python",
   "name": "python",
   "nbconvert_exporter": "python",
   "pygments_lexer": "ipython2",
   "version": "2.7.6"
  }
 },
 "nbformat": 4,
 "nbformat_minor": 5
}
