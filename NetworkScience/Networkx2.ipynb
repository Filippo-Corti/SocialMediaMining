{
 "cells": [
  {
   "cell_type": "code",
   "id": "initial_id",
   "metadata": {
    "collapsed": true,
    "ExecuteTime": {
     "end_time": "2025-03-11T15:13:20.136703Z",
     "start_time": "2025-03-11T15:13:20.125387Z"
    }
   },
   "source": "edges = list(open('./data/fb-pages-tvshow.edges'))",
   "outputs": [],
   "execution_count": 1
  },
  {
   "metadata": {
    "ExecuteTime": {
     "end_time": "2025-03-11T15:16:57.641382Z",
     "start_time": "2025-03-11T15:16:57.582250Z"
    }
   },
   "cell_type": "code",
   "source": [
    "# Creo la Edge List\n",
    "\n",
    "edge_list = [\n",
    "    tuple(map(int, edge.strip().split(',')))\n",
    "    for edge in edges\n",
    "]\n",
    "\n",
    "edge_list[:2]"
   ],
   "id": "aa235814bb45e1bb",
   "outputs": [
    {
     "data": {
      "text/plain": [
       "[(0, 1838), (0, 1744)]"
      ]
     },
     "execution_count": 5,
     "metadata": {},
     "output_type": "execute_result"
    }
   ],
   "execution_count": 5
  },
  {
   "metadata": {
    "ExecuteTime": {
     "end_time": "2025-03-11T15:23:42.804241Z",
     "start_time": "2025-03-11T15:23:42.787932Z"
    }
   },
   "cell_type": "code",
   "source": "nodes = list(open('./data/fb-pages-tvshow.nodes', 'r', encoding='utf-8'))",
   "id": "51db3a528f1a7e73",
   "outputs": [],
   "execution_count": 10
  },
  {
   "metadata": {
    "ExecuteTime": {
     "end_time": "2025-03-11T15:28:47.151860Z",
     "start_time": "2025-03-11T15:28:47.135037Z"
    }
   },
   "cell_type": "code",
   "source": [
    "nodes_list = {}\n",
    "\n",
    "for node in nodes[1:]:\n",
    "    i = node.index(',')\n",
    "    j = node.rindex(',')\n",
    "    title = node[i+1:j]\n",
    "    movie_id = int(node[j+1:])\n",
    "    nodes_list[movie_id] = title\n",
    "\n",
    "nodes_list[814]"
   ],
   "id": "fbc000844b9d1dca",
   "outputs": [
    {
     "data": {
      "text/plain": [
       "'\"ROMANIA, TE IUBESC!\"'"
      ]
     },
     "execution_count": 18,
     "metadata": {},
     "output_type": "execute_result"
    }
   ],
   "execution_count": 18
  },
  {
   "metadata": {},
   "cell_type": "code",
   "outputs": [],
   "execution_count": null,
   "source": "",
   "id": "ee3a0e043e19c097"
  }
 ],
 "metadata": {
  "kernelspec": {
   "display_name": "Python 3",
   "language": "python",
   "name": "python3"
  },
  "language_info": {
   "codemirror_mode": {
    "name": "ipython",
    "version": 2
   },
   "file_extension": ".py",
   "mimetype": "text/x-python",
   "name": "python",
   "nbconvert_exporter": "python",
   "pygments_lexer": "ipython2",
   "version": "2.7.6"
  }
 },
 "nbformat": 4,
 "nbformat_minor": 5
}
