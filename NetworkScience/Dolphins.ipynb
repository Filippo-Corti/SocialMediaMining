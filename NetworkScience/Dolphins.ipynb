{
 "cells": [
  {
   "metadata": {},
   "cell_type": "markdown",
   "source": [
    "## Esercizio\n",
    "* scaricare i dati sugli edge da http://www.konect.cc/networks/dolphins/\n",
    "* creare un grafo (capite voi se diretto o no) con gli edge dati -> undirected\n",
    "* stampare numero di edge e di nodi\n",
    "* aggiungere l'attributo age ai nodi con i dati presi dal file ./data/dolphins-nodes-age.csv\n",
    "* salvare il file in formato .gexf\n",
    "* fare il plot della distribuzione del grado della rete di delfini"
   ],
   "id": "a03bf1e075dec0d7"
  },
  {
   "metadata": {
    "collapsed": true,
    "ExecuteTime": {
     "end_time": "2025-03-11T16:54:15.976890Z",
     "start_time": "2025-03-11T16:54:15.939913Z"
    }
   },
   "cell_type": "code",
   "source": [
    "edge_list = [\n",
    "    tuple(map(int, line.split()))\n",
    "    for line in list(open('../../data/dolphins/out.dolphins'))[1:]\n",
    "]\n",
    "\n",
    "edge_list"
   ],
   "id": "initial_id",
   "outputs": [
    {
     "data": {
      "text/plain": [
       "[(9, 4),\n",
       " (10, 6),\n",
       " (10, 7),\n",
       " (11, 1),\n",
       " (11, 3),\n",
       " (14, 6),\n",
       " (14, 7),\n",
       " (14, 10),\n",
       " (15, 1),\n",
       " (15, 4),\n",
       " (16, 1),\n",
       " (17, 15),\n",
       " (18, 2),\n",
       " (18, 7),\n",
       " (18, 10),\n",
       " (18, 14),\n",
       " (19, 16),\n",
       " (20, 2),\n",
       " (20, 8),\n",
       " (21, 9),\n",
       " (21, 17),\n",
       " (21, 19),\n",
       " (22, 19),\n",
       " (23, 18),\n",
       " (25, 15),\n",
       " (25, 16),\n",
       " (25, 19),\n",
       " (26, 18),\n",
       " (27, 2),\n",
       " (27, 26),\n",
       " (28, 2),\n",
       " (28, 8),\n",
       " (28, 18),\n",
       " (28, 26),\n",
       " (28, 27),\n",
       " (29, 2),\n",
       " (29, 9),\n",
       " (29, 21),\n",
       " (30, 11),\n",
       " (30, 19),\n",
       " (30, 22),\n",
       " (30, 25),\n",
       " (31, 8),\n",
       " (31, 20),\n",
       " (31, 29),\n",
       " (32, 18),\n",
       " (33, 10),\n",
       " (33, 14),\n",
       " (34, 13),\n",
       " (34, 15),\n",
       " (34, 17),\n",
       " (34, 22),\n",
       " (35, 15),\n",
       " (35, 34),\n",
       " (36, 30),\n",
       " (37, 2),\n",
       " (37, 21),\n",
       " (37, 24),\n",
       " (38, 9),\n",
       " (38, 15),\n",
       " (38, 17),\n",
       " (38, 22),\n",
       " (38, 34),\n",
       " (38, 35),\n",
       " (38, 37),\n",
       " (39, 15),\n",
       " (39, 17),\n",
       " (39, 21),\n",
       " (39, 34),\n",
       " (40, 37),\n",
       " (41, 1),\n",
       " (41, 8),\n",
       " (41, 15),\n",
       " (41, 16),\n",
       " (41, 34),\n",
       " (41, 37),\n",
       " (41, 38),\n",
       " (42, 2),\n",
       " (42, 10),\n",
       " (42, 14),\n",
       " (43, 1),\n",
       " (43, 3),\n",
       " (43, 11),\n",
       " (43, 31),\n",
       " (44, 15),\n",
       " (44, 30),\n",
       " (44, 34),\n",
       " (44, 38),\n",
       " (44, 39),\n",
       " (45, 3),\n",
       " (45, 21),\n",
       " (45, 35),\n",
       " (45, 39),\n",
       " (46, 9),\n",
       " (46, 16),\n",
       " (46, 19),\n",
       " (46, 22),\n",
       " (46, 24),\n",
       " (46, 25),\n",
       " (46, 30),\n",
       " (46, 38),\n",
       " (47, 44),\n",
       " (48, 1),\n",
       " (48, 11),\n",
       " (48, 21),\n",
       " (48, 29),\n",
       " (48, 31),\n",
       " (48, 43),\n",
       " (50, 35),\n",
       " (50, 47),\n",
       " (51, 15),\n",
       " (51, 17),\n",
       " (51, 21),\n",
       " (51, 34),\n",
       " (51, 43),\n",
       " (51, 46),\n",
       " (52, 5),\n",
       " (52, 12),\n",
       " (52, 19),\n",
       " (52, 22),\n",
       " (52, 24),\n",
       " (52, 25),\n",
       " (52, 30),\n",
       " (52, 46),\n",
       " (52, 51),\n",
       " (53, 15),\n",
       " (53, 30),\n",
       " (53, 39),\n",
       " (53, 41),\n",
       " (54, 44),\n",
       " (55, 2),\n",
       " (55, 7),\n",
       " (55, 8),\n",
       " (55, 14),\n",
       " (55, 20),\n",
       " (55, 42),\n",
       " (56, 16),\n",
       " (56, 52),\n",
       " (57, 6),\n",
       " (57, 7),\n",
       " (58, 6),\n",
       " (58, 7),\n",
       " (58, 10),\n",
       " (58, 14),\n",
       " (58, 18),\n",
       " (58, 40),\n",
       " (58, 42),\n",
       " (58, 49),\n",
       " (58, 55),\n",
       " (59, 39),\n",
       " (60, 4),\n",
       " (60, 9),\n",
       " (60, 16),\n",
       " (60, 37),\n",
       " (60, 46),\n",
       " (61, 33),\n",
       " (62, 3),\n",
       " (62, 38),\n",
       " (62, 54)]"
      ]
     },
     "execution_count": 5,
     "metadata": {},
     "output_type": "execute_result"
    }
   ],
   "execution_count": 5
  },
  {
   "metadata": {
    "ExecuteTime": {
     "end_time": "2025-03-11T16:54:35.554915Z",
     "start_time": "2025-03-11T16:54:34.823106Z"
    }
   },
   "cell_type": "code",
   "source": "import networkx as nx",
   "id": "8e03fd34d1c51278",
   "outputs": [],
   "execution_count": 6
  },
  {
   "metadata": {
    "ExecuteTime": {
     "end_time": "2025-03-11T16:55:37.872658Z",
     "start_time": "2025-03-11T16:55:37.860835Z"
    }
   },
   "cell_type": "code",
   "source": "G = nx.from_edgelist(edge_list)",
   "id": "6002d29b24dd693b",
   "outputs": [],
   "execution_count": 7
  },
  {
   "metadata": {
    "ExecuteTime": {
     "end_time": "2025-03-11T16:57:47.480116Z",
     "start_time": "2025-03-11T16:57:47.469366Z"
    }
   },
   "cell_type": "code",
   "source": "f\"n={G.order()}, m={G.size()}\"",
   "id": "d172738a1ff0e638",
   "outputs": [
    {
     "data": {
      "text/plain": [
       "'n=62, m=159'"
      ]
     },
     "execution_count": 10,
     "metadata": {},
     "output_type": "execute_result"
    }
   ],
   "execution_count": 10
  },
  {
   "metadata": {
    "ExecuteTime": {
     "end_time": "2025-03-11T17:00:14.204987Z",
     "start_time": "2025-03-11T17:00:14.190704Z"
    }
   },
   "cell_type": "code",
   "source": [
    "ages_map = {\n",
    "    int(line.split(\", \")[0]) : int(line.split(\", \")[1])\n",
    "    for line in list(open('../../data/dolphins/dolphins-nodes-age.csv'))[1:]\n",
    "}\n",
    "\n",
    "ages_map"
   ],
   "id": "ed74d69421a36518",
   "outputs": [
    {
     "data": {
      "text/plain": [
       "{9: 15,\n",
       " 4: 17,\n",
       " 10: 20,\n",
       " 6: 21,\n",
       " 7: 13,\n",
       " 11: 31,\n",
       " 1: 34,\n",
       " 3: 44,\n",
       " 14: 30,\n",
       " 15: 22,\n",
       " 16: 29,\n",
       " 17: 16,\n",
       " 18: 37,\n",
       " 2: 10,\n",
       " 19: 17,\n",
       " 20: 46,\n",
       " 8: 21,\n",
       " 21: 20,\n",
       " 22: 34,\n",
       " 23: 14,\n",
       " 25: 44,\n",
       " 26: 43,\n",
       " 27: 21,\n",
       " 28: 41,\n",
       " 29: 23,\n",
       " 30: 44,\n",
       " 31: 35,\n",
       " 32: 27,\n",
       " 33: 44,\n",
       " 34: 31,\n",
       " 13: 44,\n",
       " 35: 30,\n",
       " 36: 15,\n",
       " 37: 43,\n",
       " 24: 21,\n",
       " 38: 35,\n",
       " 39: 22,\n",
       " 40: 47,\n",
       " 41: 31,\n",
       " 42: 25,\n",
       " 43: 15,\n",
       " 44: 30,\n",
       " 45: 19,\n",
       " 46: 16,\n",
       " 47: 17,\n",
       " 48: 29,\n",
       " 50: 19,\n",
       " 51: 49,\n",
       " 52: 28,\n",
       " 5: 36,\n",
       " 12: 31,\n",
       " 53: 37,\n",
       " 54: 26,\n",
       " 55: 39,\n",
       " 56: 14,\n",
       " 57: 23,\n",
       " 58: 12,\n",
       " 49: 19,\n",
       " 59: 32,\n",
       " 60: 37,\n",
       " 61: 35,\n",
       " 62: 13}"
      ]
     },
     "execution_count": 13,
     "metadata": {},
     "output_type": "execute_result"
    }
   ],
   "execution_count": 13
  },
  {
   "metadata": {
    "ExecuteTime": {
     "end_time": "2025-03-11T17:00:52.864062Z",
     "start_time": "2025-03-11T17:00:52.854952Z"
    }
   },
   "cell_type": "code",
   "source": [
    "nx.set_node_attributes(\n",
    "    G,\n",
    "    values=ages_map,\n",
    "    name='age'\n",
    ")"
   ],
   "id": "db215f5a829abb15",
   "outputs": [],
   "execution_count": 14
  },
  {
   "metadata": {
    "ExecuteTime": {
     "end_time": "2025-03-11T17:02:00.567706Z",
     "start_time": "2025-03-11T17:02:00.359981Z"
    }
   },
   "cell_type": "code",
   "source": [
    "nx.write_gexf(\n",
    "    G,\n",
    "    path='../../data/dolphins/dolphins.gexf'\n",
    ")"
   ],
   "id": "8245d46ab598fc36",
   "outputs": [],
   "execution_count": 15
  },
  {
   "metadata": {
    "ExecuteTime": {
     "end_time": "2025-03-11T17:26:31.506899Z",
     "start_time": "2025-03-11T17:26:31.409785Z"
    }
   },
   "cell_type": "code",
   "source": [
    "nx.draw_networkx(\n",
    "    G,\n",
    "    pos=nx.spring_layout(G),\n",
    "    node_size=10,\n",
    "    with_labels=False,\n",
    ")"
   ],
   "id": "c58ee6f0c35a1a0",
   "outputs": [
    {
     "data": {
      "text/plain": [
       "<Figure size 640x480 with 1 Axes>"
      ],
      "image/png": "[encoded data removed]"
     },
     "metadata": {},
     "output_type": "display_data"
    }
   ],
   "execution_count": 34
  },
  {
   "metadata": {
    "ExecuteTime": {
     "end_time": "2025-03-11T17:03:42.440011Z",
     "start_time": "2025-03-11T17:03:42.431822Z"
    }
   },
   "cell_type": "code",
   "source": "G.degree()",
   "id": "22ffd37574925dfa",
   "outputs": [
    {
     "data": {
      "text/plain": [
       "DegreeView({9: 6, 4: 3, 10: 7, 6: 4, 7: 6, 11: 5, 1: 6, 3: 4, 14: 8, 15: 12, 16: 7, 17: 6, 18: 9, 2: 8, 19: 7, 20: 4, 8: 5, 21: 9, 22: 6, 23: 1, 25: 6, 26: 3, 27: 3, 28: 5, 29: 5, 30: 9, 31: 5, 32: 1, 33: 3, 34: 10, 13: 1, 35: 5, 36: 1, 37: 7, 24: 3, 38: 11, 39: 8, 40: 2, 41: 8, 42: 5, 43: 6, 44: 7, 45: 4, 46: 11, 47: 2, 48: 6, 50: 2, 51: 7, 52: 10, 5: 1, 12: 1, 53: 4, 54: 2, 55: 7, 56: 2, 57: 2, 58: 9, 49: 1, 59: 1, 60: 5, 61: 1, 62: 3})"
      ]
     },
     "execution_count": 18,
     "metadata": {},
     "output_type": "execute_result"
    }
   ],
   "execution_count": 18
  },
  {
   "metadata": {
    "ExecuteTime": {
     "end_time": "2025-03-11T17:11:02.918880Z",
     "start_time": "2025-03-11T17:11:02.819Z"
    }
   },
   "cell_type": "code",
   "source": [
    "import numpy as np\n",
    "import matplotlib.pyplot as plt\n",
    "\n",
    "degrees = list(dict(G.degree()).values())\n",
    "\n",
    "counts, bins = np.histogram(\n",
    "    degrees,\n",
    "    bins=np.arange(min(degrees),max(degrees)+2)\n",
    ")\n",
    "\n",
    "plt.hist(bins[:-1], bins, weights=counts, color = 'tomato')\n",
    "plt.xticks([x+0.5 for x in range(1,max(degrees)+1)],range(1,max(degrees)+1))\n",
    "plt.yticks(range(10))\n",
    "plt.grid(True)\n",
    "plt.show()\n"
   ],
   "id": "c913d5c6bea8a5f2",
   "outputs": [
    {
     "data": {
      "text/plain": [
       "<Figure size 640x480 with 1 Axes>"
      ],
      "image/png": "[encoded data removed]"
     },
     "metadata": {},
     "output_type": "display_data"
    }
   ],
   "execution_count": 30
  },
  {
   "metadata": {
    "ExecuteTime": {
     "end_time": "2025-03-11T17:11:38.674597Z",
     "start_time": "2025-03-11T17:11:38.660554Z"
    }
   },
   "cell_type": "code",
   "source": "nx.density(G)",
   "id": "f5e442a2d4ea2341",
   "outputs": [
    {
     "data": {
      "text/plain": [
       "0.08408249603384453"
      ]
     },
     "execution_count": 31,
     "metadata": {},
     "output_type": "execute_result"
    }
   ],
   "execution_count": 31
  },
  {
   "metadata": {},
   "cell_type": "code",
   "outputs": [],
   "execution_count": null,
   "source": "",
   "id": "b15bd775cd9fc813"
  }
 ],
 "metadata": {
  "kernelspec": {
   "display_name": "Python 3",
   "language": "python",
   "name": "python3"
  },
  "language_info": {
   "codemirror_mode": {
    "name": "ipython",
    "version": 2
   },
   "file_extension": ".py",
   "mimetype": "text/x-python",
   "name": "python",
   "nbconvert_exporter": "python",
   "pygments_lexer": "ipython2",
   "version": "2.7.6"
  }
 },
 "nbformat": 4,
 "nbformat_minor": 5
}
