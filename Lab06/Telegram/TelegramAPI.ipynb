{
 "cells": [
  {
   "metadata": {
    "ExecuteTime": {
     "end_time": "2025-03-14T08:55:34.423203Z",
     "start_time": "2025-03-14T08:55:34.409032Z"
    }
   },
   "cell_type": "code",
   "source": [
    "from anaconda_anon_usage.tokens import client_token\n",
    "from telethon.sync import TelegramClient as TC\n",
    "from telethon import TelegramClient\n",
    "from telethon.tl.functions.channels import JoinChannelRequest\n",
    "import telethon\n",
    "import json\n",
    "from PIL import Image\n",
    "from io import BytesIO\n",
    "import networkx as nx"
   ],
   "id": "f78bf2846bc0444f",
   "outputs": [],
   "execution_count": 17
  },
  {
   "metadata": {
    "collapsed": true,
    "ExecuteTime": {
     "end_time": "2025-03-14T08:37:00.720021Z",
     "start_time": "2025-03-14T08:37:00.713116Z"
    }
   },
   "cell_type": "code",
   "source": [
    "credentials = json.load(open('../../keys/telegram_key.json'))\n",
    "client_id = credentials['api_id']\n",
    "client_secret = credentials['api_hash']"
   ],
   "id": "initial_id",
   "outputs": [],
   "execution_count": 2
  },
  {
   "metadata": {
    "ExecuteTime": {
     "end_time": "2025-03-14T08:37:02.705281Z",
     "start_time": "2025-03-14T08:37:02.699602Z"
    }
   },
   "cell_type": "code",
   "source": [
    "# Costruisco oggetto TelegramClient\n",
    "\n",
    "client = TelegramClient('anon', client_id, client_secret)"
   ],
   "id": "9560bf981d70287d",
   "outputs": [],
   "execution_count": 3
  },
  {
   "metadata": {
    "ExecuteTime": {
     "end_time": "2025-03-14T08:51:53.825043Z",
     "start_time": "2025-03-14T08:51:53.423795Z"
    }
   },
   "cell_type": "code",
   "source": [
    "async with client:\n",
    "    user = await client.get_me()\n",
    "\n",
    "print(user.first_name)"
   ],
   "id": "347fb3bac17542e7",
   "outputs": [
    {
     "name": "stdout",
     "output_type": "stream",
     "text": [
      "Filippo\n"
     ]
    }
   ],
   "execution_count": 16
  },
  {
   "metadata": {
    "ExecuteTime": {
     "end_time": "2025-03-14T09:13:01.709224Z",
     "start_time": "2025-03-14T09:13:01.396148Z"
    }
   },
   "cell_type": "code",
   "source": [
    "async with client:\n",
    "    #channel = await client.get_entity('JakiDale')\n",
    "    channel = await client.get_entity(1163643200)\n",
    "\n",
    "    #await client(JoinChannelRequest(channel.id))\n",
    "\n",
    "print(channel.stringify())"
   ],
   "id": "feb7a4dc81fe737d",
   "outputs": [
    {
     "name": "stdout",
     "output_type": "stream",
     "text": [
      "Channel(\n",
      "\tid=1163643200,\n",
      "\ttitle='Prodigeek Official',\n",
      "\tphoto=ChatPhoto(\n",
      "\t\tphoto_id=6023591964085171127,\n",
      "\t\tdc_id=4,\n",
      "\t\thas_video=False,\n",
      "\t\tstripped_thumb=b'\\x01\\x08\\x08\\xd5\\xfd\\xe7\\x9aq\\xf7}\\xe8\\xa2\\x8a\\x05c'\n",
      "\t),\n",
      "\tdate=datetime.datetime(2025, 3, 14, 9, 5, tzinfo=datetime.timezone.utc),\n",
      "\tcreator=False,\n",
      "\tleft=False,\n",
      "\tbroadcast=False,\n",
      "\tverified=False,\n",
      "\tmegagroup=True,\n",
      "\trestricted=False,\n",
      "\tsignatures=False,\n",
      "\tmin=False,\n",
      "\tscam=False,\n",
      "\thas_link=True,\n",
      "\thas_geo=False,\n",
      "\tslowmode_enabled=False,\n",
      "\tcall_active=False,\n",
      "\tcall_not_empty=False,\n",
      "\tfake=False,\n",
      "\tgigagroup=False,\n",
      "\tnoforwards=False,\n",
      "\tjoin_to_send=True,\n",
      "\tjoin_request=False,\n",
      "\tforum=False,\n",
      "\tstories_hidden=False,\n",
      "\tstories_hidden_min=False,\n",
      "\tstories_unavailable=True,\n",
      "\tsignature_profiles=False,\n",
      "\taccess_hash=384215503251515819,\n",
      "\tusername=None,\n",
      "\trestriction_reason=[\n",
      "\t],\n",
      "\tadmin_rights=None,\n",
      "\tbanned_rights=None,\n",
      "\tdefault_banned_rights=ChatBannedRights(\n",
      "\t\tuntil_date=datetime.datetime(2038, 1, 19, 3, 14, 7, tzinfo=datetime.timezone.utc),\n",
      "\t\tview_messages=False,\n",
      "\t\tsend_messages=False,\n",
      "\t\tsend_media=False,\n",
      "\t\tsend_stickers=False,\n",
      "\t\tsend_gifs=False,\n",
      "\t\tsend_games=False,\n",
      "\t\tsend_inline=False,\n",
      "\t\tembed_links=False,\n",
      "\t\tsend_polls=False,\n",
      "\t\tchange_info=True,\n",
      "\t\tinvite_users=False,\n",
      "\t\tpin_messages=True,\n",
      "\t\tmanage_topics=True,\n",
      "\t\tsend_photos=False,\n",
      "\t\tsend_videos=False,\n",
      "\t\tsend_roundvideos=False,\n",
      "\t\tsend_audios=False,\n",
      "\t\tsend_voices=True,\n",
      "\t\tsend_docs=False,\n",
      "\t\tsend_plain=False\n",
      "\t),\n",
      "\tparticipants_count=None,\n",
      "\tusernames=[\n",
      "\t],\n",
      "\tstories_max_id=None,\n",
      "\tcolor=None,\n",
      "\tprofile_color=None,\n",
      "\temoji_status=None,\n",
      "\tlevel=None,\n",
      "\tsubscription_until_date=None,\n",
      "\tbot_verification_icon=None\n",
      ")\n"
     ]
    }
   ],
   "execution_count": 31
  },
  {
   "metadata": {
    "ExecuteTime": {
     "end_time": "2025-03-14T09:38:03.790157Z",
     "start_time": "2025-03-14T09:38:03.111093Z"
    }
   },
   "cell_type": "code",
   "source": [
    "async with client:\n",
    "    dialogs = await client.get_dialogs()\n",
    "\n",
    "    for dialog in dialogs:\n",
    "        if 'prodigeek' in dialog.title.lower():\n",
    "            dialog_id = dialog.id\n",
    "\n",
    "\n",
    "print(f\"Conversazione con Prodigeek trovata con id {dialog_id}\")\n",
    "\n"
   ],
   "id": "ca0cf7d653d9b214",
   "outputs": [
    {
     "name": "stdout",
     "output_type": "stream",
     "text": [
      "Conversazione con Prodigeek trovata con id -1001163643200\n"
     ]
    }
   ],
   "execution_count": 34
  },
  {
   "metadata": {
    "ExecuteTime": {
     "end_time": "2025-03-14T09:54:57.149676Z",
     "start_time": "2025-03-14T09:54:50.884496Z"
    }
   },
   "cell_type": "code",
   "source": [
    "# Leggiamo 3000 messaggi\n",
    "\n",
    "group_messages = dict()\n",
    "async with client:\n",
    "    messages = client.iter_messages(entity=channel,limit=3000)\n",
    "    async for message in messages:\n",
    "        group_messages[message.id] = message\n",
    "\n",
    "\n",
    "\n"
   ],
   "id": "807288db19221ae1",
   "outputs": [],
   "execution_count": 58
  },
  {
   "metadata": {
    "ExecuteTime": {
     "end_time": "2025-03-14T09:59:11.796538Z",
     "start_time": "2025-03-14T09:59:11.786975Z"
    }
   },
   "cell_type": "code",
   "source": [
    "message_sample = group_messages[list(group_messages.keys())[2]]\n",
    "\n",
    "print(len(group_messages))\n",
    "print(message_sample.stringify())"
   ],
   "id": "f6d97f67084dd2e9",
   "outputs": [
    {
     "name": "stdout",
     "output_type": "stream",
     "text": [
      "3000\n",
      "Message(\n",
      "\tid=8284605,\n",
      "\tpeer_id=PeerChannel(\n",
      "\t\tchannel_id=1163643200\n",
      "\t),\n",
      "\tdate=datetime.datetime(2025, 3, 14, 9, 54, 14, tzinfo=datetime.timezone.utc),\n",
      "\tmessage='Comunque per non rischiare mi butto sulla b850 gigabyte aorus élite costicchia un po’ di più rispetto alla tomahawk ma vabbè',\n",
      "\tout=False,\n",
      "\tmentioned=False,\n",
      "\tmedia_unread=False,\n",
      "\tsilent=False,\n",
      "\tpost=False,\n",
      "\tfrom_scheduled=False,\n",
      "\tlegacy=False,\n",
      "\tedit_hide=False,\n",
      "\tpinned=False,\n",
      "\tnoforwards=False,\n",
      "\tinvert_media=False,\n",
      "\toffline=False,\n",
      "\tvideo_processing_pending=False,\n",
      "\tfrom_id=PeerUser(\n",
      "\t\tuser_id=765774617\n",
      "\t),\n",
      "\tfrom_boosts_applied=None,\n",
      "\tsaved_peer_id=None,\n",
      "\tfwd_from=None,\n",
      "\tvia_bot_id=None,\n",
      "\tvia_business_bot_id=None,\n",
      "\treply_to=None,\n",
      "\tmedia=None,\n",
      "\treply_markup=None,\n",
      "\tentities=[\n",
      "\t],\n",
      "\tviews=None,\n",
      "\tforwards=None,\n",
      "\treplies=MessageReplies(\n",
      "\t\treplies=0,\n",
      "\t\treplies_pts=9469750,\n",
      "\t\tcomments=False,\n",
      "\t\trecent_repliers=[\n",
      "\t\t],\n",
      "\t\tchannel_id=None,\n",
      "\t\tmax_id=None,\n",
      "\t\tread_max_id=None\n",
      "\t),\n",
      "\tedit_date=None,\n",
      "\tpost_author=None,\n",
      "\tgrouped_id=None,\n",
      "\treactions=None,\n",
      "\trestriction_reason=[\n",
      "\t],\n",
      "\tttl_period=None,\n",
      "\tquick_reply_shortcut_id=None,\n",
      "\teffect=None,\n",
      "\tfactcheck=None,\n",
      "\treport_delivery_until_date=None\n",
      ")\n"
     ]
    }
   ],
   "execution_count": 69
  },
  {
   "metadata": {
    "ExecuteTime": {
     "end_time": "2025-03-14T10:11:35.482979Z",
     "start_time": "2025-03-14T10:11:35.477433Z"
    }
   },
   "cell_type": "code",
   "source": [
    "# Find all unique users who sent those messages\n",
    "\n",
    "active_users = set()\n",
    "\n",
    "for message_id, message in group_messages.items():\n",
    "    user = message.from_id\n",
    "    if user is not None and 'user_id' in user.__dict__:\n",
    "        active_users.add(user.user_id)\n",
    "\n",
    "print(len(active_users))"
   ],
   "id": "2a86d5a26b6dce64",
   "outputs": [
    {
     "name": "stdout",
     "output_type": "stream",
     "text": [
      "327\n"
     ]
    }
   ],
   "execution_count": 88
  },
  {
   "metadata": {
    "ExecuteTime": {
     "end_time": "2025-03-14T10:17:49.974210Z",
     "start_time": "2025-03-14T10:17:49.969466Z"
    }
   },
   "cell_type": "code",
   "source": [
    "# Find non-reply messages\n",
    "\n",
    "non_reply_messages = set()\n",
    "\n",
    "for message_id, message in group_messages.items():\n",
    "    if message.reply_to is None:\n",
    "        non_reply_messages.add(message_id)\n",
    "\n",
    "print(len(non_reply_messages))"
   ],
   "id": "36e1ff8ed2ab2b0b",
   "outputs": [
    {
     "name": "stdout",
     "output_type": "stream",
     "text": [
      "887\n"
     ]
    }
   ],
   "execution_count": 91
  },
  {
   "metadata": {
    "ExecuteTime": {
     "end_time": "2025-03-14T10:20:25.472090Z",
     "start_time": "2025-03-14T10:20:25.467513Z"
    }
   },
   "cell_type": "code",
   "source": [
    "# Build a list of (Reply-Message, Source-Message)\n",
    "\n",
    "replies_list = list()\n",
    "\n",
    "for message_id, message in group_messages.items():\n",
    "    if message_id in non_reply_messages:\n",
    "        continue\n",
    "\n",
    "    assert message.reply_to is not None\n",
    "\n",
    "    replied_to_message_id = message.reply_to.reply_to_msg_id\n",
    "\n",
    "    replies_list.append((message_id, replied_to_message_id))"
   ],
   "id": "14494d5d41ac4a5f",
   "outputs": [],
   "execution_count": 93
  },
  {
   "metadata": {
    "ExecuteTime": {
     "end_time": "2025-03-14T10:20:29.088693Z",
     "start_time": "2025-03-14T10:20:29.082960Z"
    }
   },
   "cell_type": "code",
   "source": "len(replies_list)",
   "id": "5bcfdc953c29eb02",
   "outputs": [
    {
     "data": {
      "text/plain": [
       "2113"
      ]
     },
     "execution_count": 94,
     "metadata": {},
     "output_type": "execute_result"
    }
   ],
   "execution_count": 94
  },
  {
   "metadata": {
    "ExecuteTime": {
     "end_time": "2025-03-14T11:08:56.792360Z",
     "start_time": "2025-03-14T11:08:56.773779Z"
    }
   },
   "cell_type": "code",
   "source": [
    "# Build the Network from the Edge List\n",
    "\n",
    "def author_id_by_message_id(message_id):\n",
    "    if message_id not in group_messages:\n",
    "        return None\n",
    "    message = group_messages[message_id]\n",
    "    user = message.from_id\n",
    "    if user is not None and 'user_id' in user.__dict__:\n",
    "        return user.user_id\n",
    "    return None\n",
    "\n",
    "G = nx.DiGraph()\n",
    "for b, a in replies_list:\n",
    "    A, B = author_id_by_message_id(a), author_id_by_message_id(b)\n",
    "    if A and B:\n",
    "        G.add_edge(B, A)\n",
    "\n",
    "G.order(), G.size()"
   ],
   "id": "a26e985173474e6f",
   "outputs": [
    {
     "data": {
      "text/plain": [
       "(271, 920)"
      ]
     },
     "execution_count": 142,
     "metadata": {},
     "output_type": "execute_result"
    }
   ],
   "execution_count": 142
  },
  {
   "metadata": {
    "ExecuteTime": {
     "end_time": "2025-03-14T11:12:46.456521Z",
     "start_time": "2025-03-14T11:12:46.436052Z"
    }
   },
   "cell_type": "code",
   "source": [
    "# Add attributes\n",
    "\n",
    "for b, a in replies_list:\n",
    "    if a not in group_messages or b not in group_messages:\n",
    "        continue\n",
    "    msgA, msgB = group_messages[a], group_messages[b]\n",
    "    A, B = author_id_by_message_id(a), author_id_by_message_id(b)\n",
    "    if A and B:\n",
    "        if 'messaggi' not in G[B][A]:\n",
    "            G[B][A]['messaggi'] = list()\n",
    "\n",
    "        G[B][A]['messaggi'].append((msgB.message, msgB.date))\n"
   ],
   "id": "2b1ece7d227dfe6e",
   "outputs": [],
   "execution_count": 158
  },
  {
   "metadata": {
    "ExecuteTime": {
     "end_time": "2025-03-14T11:12:47.697520Z",
     "start_time": "2025-03-14T11:12:47.585153Z"
    }
   },
   "cell_type": "code",
   "source": [
    "nx.write_gexf(\n",
    "    G=G,\n",
    "    path='../../data/prodigeek_telegram.gexf'\n",
    ")\n"
   ],
   "id": "e0bd611c5f936639",
   "outputs": [
    {
     "ename": "ValueError",
     "evalue": "not enough values to unpack (expected 3, got 2)",
     "output_type": "error",
     "traceback": [
      "\u001B[1;31m---------------------------------------------------------------------------\u001B[0m",
      "\u001B[1;31mValueError\u001B[0m                                Traceback (most recent call last)",
      "Cell \u001B[1;32mIn[159], line 1\u001B[0m\n\u001B[1;32m----> 1\u001B[0m \u001B[43mnx\u001B[49m\u001B[38;5;241;43m.\u001B[39;49m\u001B[43mwrite_gexf\u001B[49m\u001B[43m(\u001B[49m\n\u001B[0;32m      2\u001B[0m \u001B[43m    \u001B[49m\u001B[43mG\u001B[49m\u001B[38;5;241;43m=\u001B[39;49m\u001B[43mG\u001B[49m\u001B[43m,\u001B[49m\n\u001B[0;32m      3\u001B[0m \u001B[43m    \u001B[49m\u001B[43mpath\u001B[49m\u001B[38;5;241;43m=\u001B[39;49m\u001B[38;5;124;43m'\u001B[39;49m\u001B[38;5;124;43m../../data/prodigeek_telegram.gexf\u001B[39;49m\u001B[38;5;124;43m'\u001B[39;49m\n\u001B[0;32m      4\u001B[0m \u001B[43m)\u001B[49m\n",
      "File \u001B[1;32m<class 'networkx.utils.decorators.argmap'> compilation 5:5\u001B[0m, in \u001B[0;36margmap_write_gexf_1\u001B[1;34m(G, path, encoding, prettyprint, version)\u001B[0m\n\u001B[0;32m      3\u001B[0m \u001B[38;5;28;01mimport\u001B[39;00m \u001B[38;5;21;01mgzip\u001B[39;00m\n\u001B[0;32m      4\u001B[0m \u001B[38;5;28;01mimport\u001B[39;00m \u001B[38;5;21;01minspect\u001B[39;00m\n\u001B[1;32m----> 5\u001B[0m \u001B[38;5;28;01mimport\u001B[39;00m \u001B[38;5;21;01mitertools\u001B[39;00m\n\u001B[0;32m      6\u001B[0m \u001B[38;5;28;01mimport\u001B[39;00m \u001B[38;5;21;01mre\u001B[39;00m\n\u001B[0;32m      7\u001B[0m \u001B[38;5;28;01mimport\u001B[39;00m \u001B[38;5;21;01mwarnings\u001B[39;00m\n",
      "File \u001B[1;32m~\\miniconda3\\Lib\\site-packages\\networkx\\readwrite\\gexf.py:87\u001B[0m, in \u001B[0;36mwrite_gexf\u001B[1;34m(G, path, encoding, prettyprint, version)\u001B[0m\n\u001B[0;32m     38\u001B[0m \u001B[38;5;250m\u001B[39m\u001B[38;5;124;03m\"\"\"Write G in GEXF format to path.\u001B[39;00m\n\u001B[0;32m     39\u001B[0m \n\u001B[0;32m     40\u001B[0m \u001B[38;5;124;03m\"GEXF (Graph Exchange XML Format) is a language for describing\u001B[39;00m\n\u001B[1;32m   (...)\u001B[0m\n\u001B[0;32m     84\u001B[0m \u001B[38;5;124;03m.. [2] GEXF schema, http://gexf.net/schema.html\u001B[39;00m\n\u001B[0;32m     85\u001B[0m \u001B[38;5;124;03m\"\"\"\u001B[39;00m\n\u001B[0;32m     86\u001B[0m writer \u001B[38;5;241m=\u001B[39m GEXFWriter(encoding\u001B[38;5;241m=\u001B[39mencoding, prettyprint\u001B[38;5;241m=\u001B[39mprettyprint, version\u001B[38;5;241m=\u001B[39mversion)\n\u001B[1;32m---> 87\u001B[0m \u001B[43mwriter\u001B[49m\u001B[38;5;241;43m.\u001B[39;49m\u001B[43madd_graph\u001B[49m\u001B[43m(\u001B[49m\u001B[43mG\u001B[49m\u001B[43m)\u001B[49m\n\u001B[0;32m     88\u001B[0m writer\u001B[38;5;241m.\u001B[39mwrite(path)\n",
      "File \u001B[1;32m~\\miniconda3\\Lib\\site-packages\\networkx\\readwrite\\gexf.py:347\u001B[0m, in \u001B[0;36mGEXFWriter.add_graph\u001B[1;34m(self, G)\u001B[0m\n\u001B[0;32m    345\u001B[0m \u001B[38;5;28mself\u001B[39m\u001B[38;5;241m.\u001B[39mgraph_element \u001B[38;5;241m=\u001B[39m graph_element\n\u001B[0;32m    346\u001B[0m \u001B[38;5;28mself\u001B[39m\u001B[38;5;241m.\u001B[39madd_nodes(G, graph_element)\n\u001B[1;32m--> 347\u001B[0m \u001B[38;5;28;43mself\u001B[39;49m\u001B[38;5;241;43m.\u001B[39;49m\u001B[43madd_edges\u001B[49m\u001B[43m(\u001B[49m\u001B[43mG\u001B[49m\u001B[43m,\u001B[49m\u001B[43m \u001B[49m\u001B[43mgraph_element\u001B[49m\u001B[43m)\u001B[49m\n\u001B[0;32m    348\u001B[0m \u001B[38;5;28mself\u001B[39m\u001B[38;5;241m.\u001B[39mxml\u001B[38;5;241m.\u001B[39mappend(graph_element)\n",
      "File \u001B[1;32m~\\miniconda3\\Lib\\site-packages\\networkx\\readwrite\\gexf.py:453\u001B[0m, in \u001B[0;36mGEXFWriter.add_edges\u001B[1;34m(self, G, graph_element)\u001B[0m\n\u001B[0;32m    451\u001B[0m         edge_data \u001B[38;5;241m=\u001B[39m \u001B[38;5;28mself\u001B[39m\u001B[38;5;241m.\u001B[39madd_spells(edge_element, edge_data)\n\u001B[0;32m    452\u001B[0m     edge_data \u001B[38;5;241m=\u001B[39m \u001B[38;5;28mself\u001B[39m\u001B[38;5;241m.\u001B[39madd_viz(edge_element, edge_data)\n\u001B[1;32m--> 453\u001B[0m     edge_data \u001B[38;5;241m=\u001B[39m \u001B[38;5;28;43mself\u001B[39;49m\u001B[38;5;241;43m.\u001B[39;49m\u001B[43madd_attributes\u001B[49m\u001B[43m(\u001B[49m\u001B[38;5;124;43m\"\u001B[39;49m\u001B[38;5;124;43medge\u001B[39;49m\u001B[38;5;124;43m\"\u001B[39;49m\u001B[43m,\u001B[49m\u001B[43m \u001B[49m\u001B[43medge_element\u001B[49m\u001B[43m,\u001B[49m\u001B[43m \u001B[49m\u001B[43medge_data\u001B[49m\u001B[43m,\u001B[49m\u001B[43m \u001B[49m\u001B[43mdefault\u001B[49m\u001B[43m)\u001B[49m\n\u001B[0;32m    454\u001B[0m     edges_element\u001B[38;5;241m.\u001B[39mappend(edge_element)\n\u001B[0;32m    455\u001B[0m graph_element\u001B[38;5;241m.\u001B[39mappend(edges_element)\n",
      "File \u001B[1;32m~\\miniconda3\\Lib\\site-packages\\networkx\\readwrite\\gexf.py:472\u001B[0m, in \u001B[0;36mGEXFWriter.add_attributes\u001B[1;34m(self, node_or_edge, xml_obj, data, default)\u001B[0m\n\u001B[0;32m    469\u001B[0m     \u001B[38;5;28;01mraise\u001B[39;00m \u001B[38;5;167;01mTypeError\u001B[39;00m(\u001B[38;5;124mf\u001B[39m\u001B[38;5;124m\"\u001B[39m\u001B[38;5;124mattribute value type is not allowed: \u001B[39m\u001B[38;5;132;01m{\u001B[39;00mval_type\u001B[38;5;132;01m}\u001B[39;00m\u001B[38;5;124m\"\u001B[39m)\n\u001B[0;32m    470\u001B[0m \u001B[38;5;28;01mif\u001B[39;00m \u001B[38;5;28misinstance\u001B[39m(v, \u001B[38;5;28mlist\u001B[39m):\n\u001B[0;32m    471\u001B[0m     \u001B[38;5;66;03m# dynamic data\u001B[39;00m\n\u001B[1;32m--> 472\u001B[0m     \u001B[38;5;28;01mfor\u001B[39;00m val, start, end \u001B[38;5;129;01min\u001B[39;00m v:\n\u001B[0;32m    473\u001B[0m         val_type \u001B[38;5;241m=\u001B[39m \u001B[38;5;28mtype\u001B[39m(val)\n\u001B[0;32m    474\u001B[0m         \u001B[38;5;28;01mif\u001B[39;00m start \u001B[38;5;129;01mis\u001B[39;00m \u001B[38;5;129;01mnot\u001B[39;00m \u001B[38;5;28;01mNone\u001B[39;00m \u001B[38;5;129;01mor\u001B[39;00m end \u001B[38;5;129;01mis\u001B[39;00m \u001B[38;5;129;01mnot\u001B[39;00m \u001B[38;5;28;01mNone\u001B[39;00m:\n",
      "\u001B[1;31mValueError\u001B[0m: not enough values to unpack (expected 3, got 2)"
     ]
    }
   ],
   "execution_count": 159
  },
  {
   "metadata": {
    "ExecuteTime": {
     "end_time": "2025-03-14T11:12:21.836531Z",
     "start_time": "2025-03-14T11:12:21.816216Z"
    }
   },
   "cell_type": "code",
   "source": [
    "for node, data in G.nodes(data=True):\n",
    "    print(node, data)  # Check attributes"
   ],
   "id": "54f9aad216cb7503",
   "outputs": [
    {
     "name": "stdout",
     "output_type": "stream",
     "text": [
      "90865968 {}\n",
      "321622456 {}\n",
      "572151306 {}\n",
      "6925718407 {}\n",
      "885265684 {}\n",
      "6827594915 {}\n",
      "909915156 {}\n",
      "180449098 {}\n",
      "603486804 {}\n",
      "71256842 {}\n",
      "765774617 {}\n",
      "201818567 {}\n",
      "7585388306 {}\n",
      "6417678372 {}\n",
      "1479991055 {}\n",
      "465711300 {}\n",
      "479105570 {}\n",
      "1721565788 {}\n",
      "7172433018 {}\n",
      "688801613 {}\n",
      "157914392 {}\n",
      "205515236 {}\n",
      "2111789119 {}\n",
      "787538373 {}\n",
      "5635997899 {}\n",
      "641591682 {}\n",
      "244688696 {}\n",
      "738109516 {}\n",
      "170324226 {}\n",
      "172608813 {}\n",
      "5965381639 {}\n",
      "6397236863 {}\n",
      "637577801 {}\n",
      "262721749 {}\n",
      "1153693273 {}\n",
      "372092129 {}\n",
      "7738142636 {}\n",
      "155278659 {}\n",
      "526410152 {}\n",
      "8106971140 {}\n",
      "1383223010 {}\n",
      "1533967032 {}\n",
      "5774394 {}\n",
      "6186720734 {}\n",
      "1136684968 {}\n",
      "904741694 {}\n",
      "135270368 {}\n",
      "258690385 {}\n",
      "679233748 {}\n",
      "262975777 {}\n",
      "140503703 {}\n",
      "353595053 {}\n",
      "6435592818 {}\n",
      "211779187 {}\n",
      "833205393 {}\n",
      "359247660 {}\n",
      "421483548 {}\n",
      "108065640 {}\n",
      "173053580 {}\n",
      "848865238 {}\n",
      "5518749328 {}\n",
      "303982486 {}\n",
      "1083488870 {}\n",
      "233182657 {}\n",
      "1616841009 {}\n",
      "5854799531 {}\n",
      "13564711 {}\n",
      "8198690800 {}\n",
      "552924006 {}\n",
      "288813584 {}\n",
      "979784049 {}\n",
      "1889926526 {}\n",
      "5399883108 {}\n",
      "348963294 {}\n",
      "78941955 {}\n",
      "1935197111 {}\n",
      "65738886 {}\n",
      "1834180493 {}\n",
      "136811745 {}\n",
      "574110811 {}\n",
      "911140394 {}\n",
      "839561409 {}\n",
      "124674035 {}\n",
      "1277494851 {}\n",
      "679488937 {}\n",
      "539979445 {}\n",
      "938520920 {}\n",
      "704210369 {}\n",
      "6169404471 {}\n",
      "2004893153 {}\n",
      "179791817 {}\n",
      "978092428 {}\n",
      "670980971 {}\n",
      "628069907 {}\n",
      "389475025 {}\n",
      "907217420 {}\n",
      "349783166 {}\n",
      "567395433 {}\n",
      "1130980654 {}\n",
      "5776840375 {}\n",
      "540187705 {}\n",
      "859969193 {}\n",
      "7109216121 {}\n",
      "915984033 {}\n",
      "1220749864 {}\n",
      "1540263137 {}\n",
      "905735275 {}\n",
      "5669365330 {}\n",
      "230027118 {}\n",
      "2116620098 {}\n",
      "331186893 {}\n",
      "792760615 {}\n",
      "6958318862 {}\n",
      "754654538 {}\n",
      "1306025285 {}\n",
      "390703772 {}\n",
      "180658736 {}\n",
      "521772415 {}\n",
      "300860929 {}\n",
      "350327494 {}\n",
      "6380602069 {}\n",
      "226480368 {}\n",
      "674735744 {}\n",
      "821664920 {}\n",
      "174196377 {}\n",
      "199685595 {}\n",
      "574524537 {}\n",
      "1151200374 {}\n",
      "306025993 {}\n",
      "1388072491 {}\n",
      "675762129 {}\n",
      "1144557311 {}\n",
      "571228724 {}\n",
      "545125709 {}\n",
      "888263923 {}\n",
      "354157239 {}\n",
      "258703373 {}\n",
      "203797998 {}\n",
      "7274472959 {}\n",
      "383267443 {}\n",
      "461963026 {}\n",
      "658764928 {}\n",
      "700862436 {}\n",
      "154716800 {}\n",
      "448909434 {}\n",
      "739393459 {}\n",
      "194764895 {}\n",
      "1246410334 {}\n",
      "966150058 {}\n",
      "388620320 {}\n",
      "6170685509 {}\n",
      "37361177 {}\n",
      "6276052554 {}\n",
      "465948003 {}\n",
      "1967780702 {}\n",
      "1435865991 {}\n",
      "895120147 {}\n",
      "124286863 {}\n",
      "871792592 {}\n",
      "1031661161 {}\n",
      "28362477 {}\n",
      "91353764 {}\n",
      "979449666 {}\n",
      "1211864734 {}\n",
      "601508196 {}\n",
      "6393969438 {}\n",
      "1687076972 {}\n",
      "218997636 {}\n",
      "5272472685 {}\n",
      "421797700 {}\n",
      "6970572225 {}\n",
      "830668570 {}\n",
      "217405559 {}\n",
      "200156529 {}\n",
      "148000055 {}\n",
      "170874142 {}\n",
      "361042969 {}\n",
      "7691867713 {}\n",
      "49954132 {}\n",
      "279277329 {}\n",
      "573683229 {}\n",
      "6504671604 {}\n",
      "71828937 {}\n",
      "107138687 {}\n",
      "284379867 {}\n",
      "1081206835 {}\n",
      "444605900 {}\n",
      "700229985 {}\n",
      "344854094 {}\n",
      "8882642 {}\n",
      "114123265 {}\n",
      "290962224 {}\n",
      "7862669789 {}\n",
      "259979188 {}\n",
      "147296481 {}\n",
      "788130604 {}\n",
      "1109369959 {}\n",
      "6120494011 {}\n",
      "739454392 {}\n",
      "752860295 {}\n",
      "927755742 {}\n",
      "11850606 {}\n",
      "5282885677 {}\n",
      "759766763 {}\n",
      "885913056 {}\n",
      "338736710 {}\n",
      "25673682 {}\n",
      "135034118 {}\n",
      "6948288260 {}\n",
      "5288487319 {}\n",
      "1835538781 {}\n",
      "1164284002 {}\n",
      "116521872 {}\n",
      "1330158048 {}\n",
      "459601060 {}\n",
      "341286096 {}\n",
      "497850132 {}\n",
      "8095051322 {}\n",
      "165862460 {}\n",
      "147264664 {}\n",
      "707443742 {}\n",
      "260038055 {}\n",
      "584366338 {}\n",
      "1327134030 {}\n",
      "68935017 {}\n",
      "148166261 {}\n",
      "2093262982 {}\n",
      "652929481 {}\n",
      "358968003 {}\n",
      "1694065097 {}\n",
      "7043521304 {}\n",
      "1313567093 {}\n",
      "877555055 {}\n",
      "5446058962 {}\n",
      "126366822 {}\n",
      "281815478 {}\n",
      "7270891196 {}\n",
      "234988702 {}\n",
      "389270691 {}\n",
      "166742340 {}\n",
      "6236228411 {}\n",
      "139336233 {}\n",
      "6161302978 {}\n",
      "1059414911 {}\n",
      "257747122 {}\n",
      "282974373 {}\n",
      "139398249 {}\n",
      "163595171 {}\n",
      "886056205 {}\n",
      "75072871 {}\n",
      "66057436 {}\n",
      "1587460589 {}\n",
      "378287525 {}\n",
      "1011602582 {}\n",
      "516374268 {}\n",
      "218338383 {}\n",
      "27218769 {}\n",
      "6019735798 {}\n",
      "127156669 {}\n",
      "7521685956 {}\n",
      "686977610 {}\n",
      "872150727 {}\n",
      "1743988290 {}\n",
      "196240141 {}\n",
      "406962643 {}\n",
      "6387683686 {}\n",
      "6365065109 {}\n",
      "877979618 {}\n",
      "133452652 {}\n",
      "12988966 {}\n",
      "441338524 {}\n"
     ]
    }
   ],
   "execution_count": 153
  },
  {
   "metadata": {},
   "cell_type": "code",
   "outputs": [],
   "execution_count": null,
   "source": "",
   "id": "e99108234a4008b1"
  }
 ],
 "metadata": {
  "kernelspec": {
   "display_name": "Python 3",
   "language": "python",
   "name": "python3"
  },
  "language_info": {
   "codemirror_mode": {
    "name": "ipython",
    "version": 2
   },
   "file_extension": ".py",
   "mimetype": "text/x-python",
   "name": "python",
   "nbconvert_exporter": "python",
   "pygments_lexer": "ipython2",
   "version": "2.7.6"
  }
 },
 "nbformat": 4,
 "nbformat_minor": 5
}
