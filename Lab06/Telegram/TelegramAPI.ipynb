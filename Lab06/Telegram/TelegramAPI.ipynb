{
 "cells": [
  {
   "metadata": {
    "ExecuteTime": {
     "end_time": "2025-03-14T16:57:05.147346Z",
     "start_time": "2025-03-14T16:57:04.219653Z"
    }
   },
   "cell_type": "code",
   "source": [
    "from types import NoneType\n",
    "\n",
    "from telethon.sync import TelegramClient as TC\n",
    "from telethon import TelegramClient\n",
    "from telethon.tl.functions.channels import JoinChannelRequest\n",
    "import telethon\n",
    "import json\n",
    "from PIL import Image\n",
    "from io import BytesIO\n",
    "import networkx as nx"
   ],
   "id": "f78bf2846bc0444f",
   "outputs": [],
   "execution_count": 3
  },
  {
   "metadata": {
    "collapsed": true,
    "ExecuteTime": {
     "end_time": "2025-03-14T17:00:13.946209Z",
     "start_time": "2025-03-14T17:00:13.941874Z"
    }
   },
   "cell_type": "code",
   "source": [
    "credentials = json.load(open('../../keys/telegram_key.json'))\n",
    "client_id = credentials['api_id']\n",
    "client_secret = credentials['api_hash']"
   ],
   "id": "initial_id",
   "outputs": [],
   "execution_count": 4
  },
  {
   "metadata": {
    "ExecuteTime": {
     "end_time": "2025-03-14T17:00:15.207589Z",
     "start_time": "2025-03-14T17:00:15.202253Z"
    }
   },
   "cell_type": "code",
   "source": [
    "# Costruisco oggetto TelegramClient\n",
    "\n",
    "client = TelegramClient('anon', client_id, client_secret)"
   ],
   "id": "9560bf981d70287d",
   "outputs": [],
   "execution_count": 5
  },
  {
   "metadata": {
    "ExecuteTime": {
     "end_time": "2025-03-14T17:00:17.388447Z",
     "start_time": "2025-03-14T17:00:16.934018Z"
    }
   },
   "cell_type": "code",
   "source": [
    "async with client:\n",
    "    user = await client.get_me()\n",
    "\n",
    "print(user.first_name)"
   ],
   "id": "347fb3bac17542e7",
   "outputs": [
    {
     "name": "stdout",
     "output_type": "stream",
     "text": [
      "Filippo\n"
     ]
    }
   ],
   "execution_count": 6
  },
  {
   "metadata": {
    "ExecuteTime": {
     "end_time": "2025-03-14T17:00:18.849952Z",
     "start_time": "2025-03-14T17:00:18.535602Z"
    }
   },
   "cell_type": "code",
   "source": [
    "async with client:\n",
    "    #channel = await client.get_entity('JakiDale')\n",
    "    channel = await client.get_entity(1163643200)\n",
    "\n",
    "    #await client(JoinChannelRequest(channel.id))\n",
    "\n",
    "print(channel.stringify())"
   ],
   "id": "feb7a4dc81fe737d",
   "outputs": [
    {
     "name": "stdout",
     "output_type": "stream",
     "text": [
      "Channel(\n",
      "\tid=1163643200,\n",
      "\ttitle='Prodigeek Official',\n",
      "\tphoto=ChatPhoto(\n",
      "\t\tphoto_id=6023591964085171127,\n",
      "\t\tdc_id=4,\n",
      "\t\thas_video=False,\n",
      "\t\tstripped_thumb=b'\\x01\\x08\\x08\\xd5\\xfd\\xe7\\x9aq\\xf7}\\xe8\\xa2\\x8a\\x05c'\n",
      "\t),\n",
      "\tdate=datetime.datetime(2025, 3, 14, 9, 5, tzinfo=datetime.timezone.utc),\n",
      "\tcreator=False,\n",
      "\tleft=False,\n",
      "\tbroadcast=False,\n",
      "\tverified=False,\n",
      "\tmegagroup=True,\n",
      "\trestricted=False,\n",
      "\tsignatures=False,\n",
      "\tmin=False,\n",
      "\tscam=False,\n",
      "\thas_link=True,\n",
      "\thas_geo=False,\n",
      "\tslowmode_enabled=False,\n",
      "\tcall_active=False,\n",
      "\tcall_not_empty=False,\n",
      "\tfake=False,\n",
      "\tgigagroup=False,\n",
      "\tnoforwards=False,\n",
      "\tjoin_to_send=True,\n",
      "\tjoin_request=False,\n",
      "\tforum=False,\n",
      "\tstories_hidden=False,\n",
      "\tstories_hidden_min=False,\n",
      "\tstories_unavailable=True,\n",
      "\tsignature_profiles=False,\n",
      "\taccess_hash=384215503251515819,\n",
      "\tusername=None,\n",
      "\trestriction_reason=[\n",
      "\t],\n",
      "\tadmin_rights=None,\n",
      "\tbanned_rights=None,\n",
      "\tdefault_banned_rights=ChatBannedRights(\n",
      "\t\tuntil_date=datetime.datetime(2038, 1, 19, 3, 14, 7, tzinfo=datetime.timezone.utc),\n",
      "\t\tview_messages=False,\n",
      "\t\tsend_messages=False,\n",
      "\t\tsend_media=False,\n",
      "\t\tsend_stickers=False,\n",
      "\t\tsend_gifs=False,\n",
      "\t\tsend_games=False,\n",
      "\t\tsend_inline=False,\n",
      "\t\tembed_links=False,\n",
      "\t\tsend_polls=False,\n",
      "\t\tchange_info=True,\n",
      "\t\tinvite_users=False,\n",
      "\t\tpin_messages=True,\n",
      "\t\tmanage_topics=True,\n",
      "\t\tsend_photos=False,\n",
      "\t\tsend_videos=False,\n",
      "\t\tsend_roundvideos=False,\n",
      "\t\tsend_audios=False,\n",
      "\t\tsend_voices=True,\n",
      "\t\tsend_docs=False,\n",
      "\t\tsend_plain=False\n",
      "\t),\n",
      "\tparticipants_count=None,\n",
      "\tusernames=[\n",
      "\t],\n",
      "\tstories_max_id=None,\n",
      "\tcolor=None,\n",
      "\tprofile_color=None,\n",
      "\temoji_status=None,\n",
      "\tlevel=None,\n",
      "\tsubscription_until_date=None,\n",
      "\tbot_verification_icon=None\n",
      ")\n"
     ]
    }
   ],
   "execution_count": 7
  },
  {
   "metadata": {
    "ExecuteTime": {
     "end_time": "2025-03-14T17:00:21.282429Z",
     "start_time": "2025-03-14T17:00:20.496909Z"
    }
   },
   "cell_type": "code",
   "source": [
    "async with client:\n",
    "    dialogs = await client.get_dialogs()\n",
    "\n",
    "    for dialog in dialogs:\n",
    "        if 'prodigeek' in dialog.title.lower():\n",
    "            dialog_id = dialog.id\n",
    "\n",
    "\n",
    "print(f\"Conversazione con Prodigeek trovata con id {dialog_id}\")\n",
    "\n"
   ],
   "id": "ca0cf7d653d9b214",
   "outputs": [
    {
     "name": "stdout",
     "output_type": "stream",
     "text": [
      "Conversazione con Prodigeek trovata con id -1001163643200\n"
     ]
    }
   ],
   "execution_count": 8
  },
  {
   "metadata": {
    "ExecuteTime": {
     "end_time": "2025-03-14T17:00:28.933722Z",
     "start_time": "2025-03-14T17:00:22.446138Z"
    }
   },
   "cell_type": "code",
   "source": [
    "# Leggiamo 3000 messaggi\n",
    "\n",
    "group_messages = dict()\n",
    "async with client:\n",
    "    messages = client.iter_messages(entity=channel,limit=3000)\n",
    "    async for message in messages:\n",
    "        group_messages[message.id] = message\n",
    "\n",
    "\n",
    "\n"
   ],
   "id": "807288db19221ae1",
   "outputs": [],
   "execution_count": 9
  },
  {
   "metadata": {
    "ExecuteTime": {
     "end_time": "2025-03-14T17:00:30.619475Z",
     "start_time": "2025-03-14T17:00:30.614480Z"
    }
   },
   "cell_type": "code",
   "source": [
    "message_sample = group_messages[list(group_messages.keys())[2]]\n",
    "\n",
    "print(len(group_messages))\n",
    "print(message_sample.stringify())"
   ],
   "id": "f6d97f67084dd2e9",
   "outputs": [
    {
     "name": "stdout",
     "output_type": "stream",
     "text": [
      "3000\n",
      "Message(\n",
      "\tid=8286776,\n",
      "\tpeer_id=PeerChannel(\n",
      "\t\tchannel_id=1163643200\n",
      "\t),\n",
      "\tdate=datetime.datetime(2025, 3, 14, 16, 58, 5, tzinfo=datetime.timezone.utc),\n",
      "\tmessage='Si regolano in automatico?',\n",
      "\tout=False,\n",
      "\tmentioned=False,\n",
      "\tmedia_unread=False,\n",
      "\tsilent=False,\n",
      "\tpost=False,\n",
      "\tfrom_scheduled=False,\n",
      "\tlegacy=False,\n",
      "\tedit_hide=False,\n",
      "\tpinned=False,\n",
      "\tnoforwards=False,\n",
      "\tinvert_media=False,\n",
      "\toffline=False,\n",
      "\tvideo_processing_pending=False,\n",
      "\tfrom_id=PeerUser(\n",
      "\t\tuser_id=1187317641\n",
      "\t),\n",
      "\tfrom_boosts_applied=None,\n",
      "\tsaved_peer_id=None,\n",
      "\tfwd_from=None,\n",
      "\tvia_bot_id=None,\n",
      "\tvia_business_bot_id=None,\n",
      "\treply_to=None,\n",
      "\tmedia=None,\n",
      "\treply_markup=None,\n",
      "\tentities=[\n",
      "\t],\n",
      "\tviews=None,\n",
      "\tforwards=None,\n",
      "\treplies=MessageReplies(\n",
      "\t\treplies=0,\n",
      "\t\treplies_pts=9472281,\n",
      "\t\tcomments=False,\n",
      "\t\trecent_repliers=[\n",
      "\t\t],\n",
      "\t\tchannel_id=None,\n",
      "\t\tmax_id=None,\n",
      "\t\tread_max_id=None\n",
      "\t),\n",
      "\tedit_date=None,\n",
      "\tpost_author=None,\n",
      "\tgrouped_id=None,\n",
      "\treactions=None,\n",
      "\trestriction_reason=[\n",
      "\t],\n",
      "\tttl_period=None,\n",
      "\tquick_reply_shortcut_id=None,\n",
      "\teffect=None,\n",
      "\tfactcheck=None,\n",
      "\treport_delivery_until_date=None\n",
      ")\n"
     ]
    }
   ],
   "execution_count": 10
  },
  {
   "metadata": {
    "ExecuteTime": {
     "end_time": "2025-03-14T17:00:31.788729Z",
     "start_time": "2025-03-14T17:00:31.780936Z"
    }
   },
   "cell_type": "code",
   "source": [
    "# Find all unique users who sent those messages\n",
    "\n",
    "active_users = set()\n",
    "\n",
    "for message_id, message in group_messages.items():\n",
    "    user = message.from_id\n",
    "    if user is not None and 'user_id' in user.__dict__:\n",
    "        active_users.add(user.user_id)\n",
    "\n",
    "print(len(active_users))"
   ],
   "id": "2a86d5a26b6dce64",
   "outputs": [
    {
     "name": "stdout",
     "output_type": "stream",
     "text": [
      "310\n"
     ]
    }
   ],
   "execution_count": 11
  },
  {
   "metadata": {
    "ExecuteTime": {
     "end_time": "2025-03-14T17:00:32.641475Z",
     "start_time": "2025-03-14T17:00:32.634839Z"
    }
   },
   "cell_type": "code",
   "source": [
    "# Find non-reply messages\n",
    "\n",
    "non_reply_messages = set()\n",
    "\n",
    "for message_id, message in group_messages.items():\n",
    "    if message.reply_to is None:\n",
    "        non_reply_messages.add(message_id)\n",
    "\n",
    "print(len(non_reply_messages))"
   ],
   "id": "36e1ff8ed2ab2b0b",
   "outputs": [
    {
     "name": "stdout",
     "output_type": "stream",
     "text": [
      "995\n"
     ]
    }
   ],
   "execution_count": 12
  },
  {
   "metadata": {
    "ExecuteTime": {
     "end_time": "2025-03-14T17:00:33.445994Z",
     "start_time": "2025-03-14T17:00:33.438653Z"
    }
   },
   "cell_type": "code",
   "source": [
    "# Build a list of (Reply-Message, Source-Message)\n",
    "\n",
    "replies_list = list()\n",
    "\n",
    "for message_id, message in group_messages.items():\n",
    "    if message_id in non_reply_messages:\n",
    "        continue\n",
    "\n",
    "    assert message.reply_to is not None\n",
    "\n",
    "    replied_to_message_id = message.reply_to.reply_to_msg_id\n",
    "\n",
    "    replies_list.append((message_id, replied_to_message_id))"
   ],
   "id": "14494d5d41ac4a5f",
   "outputs": [],
   "execution_count": 13
  },
  {
   "metadata": {
    "ExecuteTime": {
     "end_time": "2025-03-14T17:00:34.330878Z",
     "start_time": "2025-03-14T17:00:34.322847Z"
    }
   },
   "cell_type": "code",
   "source": "len(replies_list)",
   "id": "5bcfdc953c29eb02",
   "outputs": [
    {
     "data": {
      "text/plain": [
       "2005"
      ]
     },
     "execution_count": 14,
     "metadata": {},
     "output_type": "execute_result"
    }
   ],
   "execution_count": 14
  },
  {
   "metadata": {
    "ExecuteTime": {
     "end_time": "2025-03-14T17:19:35.347623Z",
     "start_time": "2025-03-14T17:19:35.332258Z"
    }
   },
   "cell_type": "code",
   "source": [
    "# Build the Network from the Edge List\n",
    "\n",
    "def author_id_by_message_id(message_id):\n",
    "    if message_id not in group_messages:\n",
    "        return None\n",
    "    message = group_messages[message_id]\n",
    "    user = message.from_id\n",
    "    if user is not None and 'user_id' in user.__dict__:\n",
    "        return user.user_id\n",
    "    return None\n",
    "\n",
    "G = nx.DiGraph()\n",
    "for b, a in replies_list:\n",
    "    A, B = author_id_by_message_id(a), author_id_by_message_id(b)\n",
    "    if A and B:\n",
    "        G.add_edge(B, A)\n",
    "\n",
    "G.order(), G.size()"
   ],
   "id": "a26e985173474e6f",
   "outputs": [
    {
     "data": {
      "text/plain": [
       "(249, 904)"
      ]
     },
     "execution_count": 61,
     "metadata": {},
     "output_type": "execute_result"
    }
   ],
   "execution_count": 61
  },
  {
   "metadata": {
    "ExecuteTime": {
     "end_time": "2025-03-14T17:19:36.004028Z",
     "start_time": "2025-03-14T17:19:35.984669Z"
    }
   },
   "cell_type": "code",
   "source": [
    "nx.write_gexf(\n",
    "    G=G,\n",
    "    path='../../data/prodigeek_telegram.gexf'\n",
    ")\n"
   ],
   "id": "e0bd611c5f936639",
   "outputs": [],
   "execution_count": 62
  },
  {
   "metadata": {
    "ExecuteTime": {
     "end_time": "2025-03-14T17:19:36.666482Z",
     "start_time": "2025-03-14T17:19:36.650932Z"
    }
   },
   "cell_type": "code",
   "source": [
    "# Add attributes on edges\n",
    "\n",
    "for b, a in replies_list:\n",
    "    A, B = author_id_by_message_id(a), author_id_by_message_id(b)\n",
    "    if A and B:\n",
    "        msgA, msgB = group_messages[a], group_messages[b]\n",
    "        if 'messages' not in G[B][A]:\n",
    "            G[B][A]['messages'] = list()\n",
    "\n",
    "        G[B][A]['messages'].append(msgB.message)\n"
   ],
   "id": "2b1ece7d227dfe6e",
   "outputs": [],
   "execution_count": 63
  },
  {
   "metadata": {
    "ExecuteTime": {
     "end_time": "2025-03-14T17:41:39.143336Z",
     "start_time": "2025-03-14T17:41:38.879521Z"
    }
   },
   "cell_type": "code",
   "source": [
    "# Add attributes on nodes\n",
    "\n",
    "from telethon.tl.functions.channels import GetParticipantsRequest\n",
    "from telethon.tl.types import ChannelParticipantsSearch\n",
    "\n",
    "async with client:\n",
    "    participants = await client(GetParticipantsRequest(\n",
    "        -1001163643200, ChannelParticipantsSearch(''), 0, 50,\n",
    "        hash=0\n",
    "    ))\n",
    "\n",
    "for node in G.nodes:\n",
    "    G.nodes[node]['role'] = ''\n",
    "\n",
    "for p in participants.participants:\n",
    "    if p.user_id in G.nodes:\n",
    "        G.nodes[p.user_id]['role'] = p.rank or ''"
   ],
   "id": "387f3d10ad39fb5b",
   "outputs": [],
   "execution_count": 115
  },
  {
   "metadata": {
    "ExecuteTime": {
     "end_time": "2025-03-14T17:42:32.920454Z",
     "start_time": "2025-03-14T17:42:32.915150Z"
    }
   },
   "cell_type": "code",
   "source": [
    "# Join list attributes\n",
    "\n",
    "for edge in G.edges:\n",
    "    G.edges[edge]['messages'] = ''.join(G.edges[edge]['messages'])"
   ],
   "id": "28894cab648a962",
   "outputs": [],
   "execution_count": 119
  },
  {
   "metadata": {
    "ExecuteTime": {
     "end_time": "2025-03-14T17:51:29.299057Z",
     "start_time": "2025-03-14T17:50:20.573118Z"
    }
   },
   "cell_type": "code",
   "source": [
    "# Add username as attribute to nodes\n",
    "\n",
    "async def get_username_by_id(user_id):\n",
    "    async with client:\n",
    "        user = await client.get_entity(user_id)\n",
    "\n",
    "    if user.username is not None:\n",
    "        return user.username\n",
    "    return user.first_name\n",
    "\n",
    "for node in G.nodes:\n",
    "    G.nodes[node]['name'] = await get_username_by_id(node)\n"
   ],
   "id": "36dbe879a4633433",
   "outputs": [],
   "execution_count": 126
  },
  {
   "metadata": {
    "ExecuteTime": {
     "end_time": "2025-03-14T17:51:32.321715Z",
     "start_time": "2025-03-14T17:51:32.280078Z"
    }
   },
   "cell_type": "code",
   "source": [
    "nx.write_gexf(\n",
    "    G=G,\n",
    "    path='../../data/telegram/prodigeek_telegram.gexf'\n",
    ")\n"
   ],
   "id": "cd3f8fa393f6e889",
   "outputs": [],
   "execution_count": 127
  },
  {
   "metadata": {},
   "cell_type": "code",
   "outputs": [],
   "execution_count": null,
   "source": "",
   "id": "6d961f761f5b26f6"
  }
 ],
 "metadata": {
  "kernelspec": {
   "display_name": "Python 3",
   "language": "python",
   "name": "python3"
  },
  "language_info": {
   "codemirror_mode": {
    "name": "ipython",
    "version": 2
   },
   "file_extension": ".py",
   "mimetype": "text/x-python",
   "name": "python",
   "nbconvert_exporter": "python",
   "pygments_lexer": "ipython2",
   "version": "2.7.6"
  }
 },
 "nbformat": 4,
 "nbformat_minor": 5
}
