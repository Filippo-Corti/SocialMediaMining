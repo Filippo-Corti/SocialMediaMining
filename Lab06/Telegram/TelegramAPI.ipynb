{
 "cells": [
  {
   "metadata": {
    "ExecuteTime": {
     "end_time": "2025-03-14T08:23:34.462667Z",
     "start_time": "2025-03-14T08:23:34.455443Z"
    }
   },
   "cell_type": "code",
   "source": "import json",
   "id": "f78bf2846bc0444f",
   "outputs": [],
   "execution_count": 1
  },
  {
   "metadata": {
    "collapsed": true,
    "ExecuteTime": {
     "end_time": "2025-03-14T08:24:27.837707Z",
     "start_time": "2025-03-14T08:24:27.832648Z"
    }
   },
   "cell_type": "code",
   "source": [
    "credentials = json.load(open('../../keys/telegram_key.json'))\n",
    "client_id = credentials['api_id']\n",
    "client_secret = credentials['api_hash']"
   ],
   "id": "initial_id",
   "outputs": [],
   "execution_count": 4
  },
  {
   "metadata": {},
   "cell_type": "code",
   "outputs": [],
   "execution_count": null,
   "source": "",
   "id": "9560bf981d70287d"
  }
 ],
 "metadata": {
  "kernelspec": {
   "display_name": "Python 3",
   "language": "python",
   "name": "python3"
  },
  "language_info": {
   "codemirror_mode": {
    "name": "ipython",
    "version": 2
   },
   "file_extension": ".py",
   "mimetype": "text/x-python",
   "name": "python",
   "nbconvert_exporter": "python",
   "pygments_lexer": "ipython2",
   "version": "2.7.6"
  }
 },
 "nbformat": 4,
 "nbformat_minor": 5
}
