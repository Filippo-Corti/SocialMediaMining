{
 "cells": [
  {
   "cell_type": "code",
   "id": "initial_id",
   "metadata": {
    "collapsed": true,
    "ExecuteTime": {
     "end_time": "2025-03-28T08:02:43.291411Z",
     "start_time": "2025-03-28T08:02:40.924643Z"
    }
   },
   "source": [
    "import os\n",
    "import time\n",
    "from googleapiclient.discovery import build\n",
    "import json\n",
    "import itertools\n",
    "import networkx as nx\n",
    "import numpy as np\n",
    "from scipy import stats\n",
    "import matplotlib.pyplot as plt"
   ],
   "outputs": [],
   "execution_count": 1
  },
  {
   "metadata": {
    "ExecuteTime": {
     "end_time": "2025-03-28T08:04:26.536186Z",
     "start_time": "2025-03-28T08:04:26.520025Z"
    }
   },
   "cell_type": "code",
   "source": [
    "DEVELOPER_KEY = json.load(open('../keys/youtube_key.json'))['api_key']\n",
    "YOUTUBE_API_SERVICE_NAME = 'youtube'\n",
    "YOUTUBE_API_VERSION = 'v3'\n",
    "\n",
    "youtube = build(\n",
    "    YOUTUBE_API_SERVICE_NAME,\n",
    "    YOUTUBE_API_VERSION,\n",
    "    developerKey=DEVELOPER_KEY\n",
    ")\n"
   ],
   "id": "981cb09bb652d9a",
   "outputs": [],
   "execution_count": 2
  },
  {
   "metadata": {
    "ExecuteTime": {
     "end_time": "2025-03-28T08:04:49.430292Z",
     "start_time": "2025-03-28T08:04:48.902207Z"
    }
   },
   "cell_type": "code",
   "source": [
    "# 1. First find Channel ID by Channel Name\n",
    "\n",
    "request = youtube.search().list(\n",
    "        part=\"snippet\",\n",
    "        maxResults=5,\n",
    "        q=\"TheMerluzz\",\n",
    "        type=\"channel\"\n",
    "    )\n",
    "\n",
    "response = request.execute()\n",
    "\n",
    "channelId = response['items'][0]['id']['channelId']\n",
    "\n",
    "channelId"
   ],
   "id": "762b95087611e501",
   "outputs": [
    {
     "data": {
      "text/plain": [
       "'UCBzFCho7e5KLWlfoV-V3p7Q'"
      ]
     },
     "execution_count": 3,
     "metadata": {},
     "output_type": "execute_result"
    }
   ],
   "execution_count": 3
  },
  {
   "metadata": {
    "ExecuteTime": {
     "end_time": "2025-03-28T08:07:54.412471Z",
     "start_time": "2025-03-28T08:07:54.356464Z"
    }
   },
   "cell_type": "code",
   "source": [
    "request = youtube.channels().list(\n",
    "    part=\"snippet,contentDetails\",\n",
    "    id= channelId\n",
    "    )\n",
    "response = request.execute()\n",
    "uploaded_playlist = response['items'][0]['contentDetails']['relatedPlaylists']['uploads']\n",
    "uploaded_playlist"
   ],
   "id": "59ead3dc57d589a4",
   "outputs": [
    {
     "data": {
      "text/plain": [
       "'UUBzFCho7e5KLWlfoV-V3p7Q'"
      ]
     },
     "execution_count": 4,
     "metadata": {},
     "output_type": "execute_result"
    }
   ],
   "execution_count": 4
  },
  {
   "metadata": {
    "ExecuteTime": {
     "end_time": "2025-03-28T08:11:15.763737Z",
     "start_time": "2025-03-28T08:11:14.218857Z"
    }
   },
   "cell_type": "code",
   "source": [
    "channel_videos : list = list()\n",
    "\n",
    "page_token = None\n",
    "\n",
    "while True:\n",
    "    request = youtube.playlistItems().list(\n",
    "            part=\"snippet,contentDetails\",\n",
    "            maxResults=10,\n",
    "            playlistId=uploaded_playlist,\n",
    "            pageToken = page_token\n",
    "    )\n",
    "\n",
    "    response = request.execute()\n",
    "\n",
    "    channel_videos.extend(\n",
    "        (\n",
    "            v['contentDetails']['videoId'],\n",
    "            v['snippet']['title']\n",
    "        )\n",
    "        for v in response['items']\n",
    "    )\n",
    "\n",
    "    if response.get('nextPageToken', None) is None:\n",
    "        break\n",
    "\n",
    "    if len(channel_videos) >= 100:\n",
    "        break\n",
    "\n",
    "    page_token = response['nextPageToken']\n",
    "\n",
    "\n",
    "channel_videos = channel_videos[:100]\n",
    "len(channel_videos)"
   ],
   "id": "240404ed008ee8d9",
   "outputs": [
    {
     "data": {
      "text/plain": [
       "100"
      ]
     },
     "execution_count": 9,
     "metadata": {},
     "output_type": "execute_result"
    }
   ],
   "execution_count": 9
  },
  {
   "metadata": {
    "ExecuteTime": {
     "end_time": "2025-03-28T08:14:01.199645Z",
     "start_time": "2025-03-28T08:14:01.194644Z"
    }
   },
   "cell_type": "code",
   "source": [
    "video_2_words = {\n",
    "    video_id: set(title.split())\n",
    "    for video_id, title in channel_videos\n",
    "}"
   ],
   "id": "68ebc091f7eb9048",
   "outputs": [],
   "execution_count": 11
  },
  {
   "metadata": {
    "ExecuteTime": {
     "end_time": "2025-03-28T08:29:47.619926Z",
     "start_time": "2025-03-28T08:29:26.249959Z"
    }
   },
   "cell_type": "code",
   "source": [
    "import time\n",
    "\n",
    "# Get Comments for Every Video\n",
    "video_2_comments = dict()\n",
    "\n",
    "for (video_id, video_title) in channel_videos:\n",
    "    try:\n",
    "        page_token = None\n",
    "\n",
    "        video_commentators : set = set()\n",
    "\n",
    "        while True:\n",
    "            request = youtube.commentThreads().list(\n",
    "                part=\"snippet\",\n",
    "                videoId=video_id,\n",
    "                maxResults=100,\n",
    "                pageToken = page_token\n",
    "            )\n",
    "\n",
    "            response = request.execute()\n",
    "\n",
    "\n",
    "            video_commentators.update(\n",
    "                (\n",
    "                    ct['snippet']['topLevelComment']['snippet']['authorDisplayName'],\n",
    "                    ct['snippet']['topLevelComment']['snippet']['textDisplay']\n",
    "                )\n",
    "                for ct in response['items']\n",
    "            )\n",
    "\n",
    "            if response.get('nextPageToken', None) is None:\n",
    "                break\n",
    "\n",
    "            page_token = response['nextPageToken']\n",
    "\n",
    "        time.sleep(0.1)\n",
    "        video_2_comments[video_id] = video_commentators\n",
    "    except Exception as e:\n",
    "        print(e)\n",
    "        video_2_comments[video_id] = set()\n",
    "\n",
    "\n"
   ],
   "id": "1d4f7113bb7cbd31",
   "outputs": [],
   "execution_count": 37
  },
  {
   "metadata": {
    "ExecuteTime": {
     "end_time": "2025-03-28T08:30:04.229739Z",
     "start_time": "2025-03-28T08:30:04.193198Z"
    }
   },
   "cell_type": "code",
   "source": [
    "video_2_comments = {k: list(v) for k, v in video_2_comments.items()}\n",
    "\n",
    "json.dump(video_2_comments, open('../data/themerluzz/video2comments.json','w')) # Salviamo i risultati"
   ],
   "id": "d81fabeaad130d0a",
   "outputs": [],
   "execution_count": 38
  },
  {
   "metadata": {
    "ExecuteTime": {
     "end_time": "2025-03-28T08:36:59.575393Z",
     "start_time": "2025-03-28T08:36:59.535071Z"
    }
   },
   "cell_type": "code",
   "source": [
    "# Create a Dict that associates every commentator with every word it used in the comments\n",
    "\n",
    "# UserName: (commented_videos, word_used)\n",
    "commenters_info : dict[str, tuple[set[str], set[str]]]= dict()\n",
    "\n",
    "for video_id, comments in video_2_comments.items():\n",
    "    for author, content in comments:\n",
    "        words = content.split()\n",
    "\n",
    "        if author not in commenters_info:\n",
    "            commenters_info[author] = (set(), set())\n",
    "\n",
    "        commenters_info[author][0].add(video_id)\n",
    "        commenters_info[author][1].update(words)\n"
   ],
   "id": "ef46550c94f15418",
   "outputs": [],
   "execution_count": 43
  },
  {
   "metadata": {
    "ExecuteTime": {
     "end_time": "2025-03-28T08:38:34.826113Z",
     "start_time": "2025-03-28T08:38:34.819753Z"
    }
   },
   "cell_type": "code",
   "source": "commenters_info[\"@EraldoPiccione\"]",
   "id": "3ca8911f739a7495",
   "outputs": [
    {
     "data": {
      "text/plain": [
       "({'BY9ppf2M3kE', 'zd-O24m_60o'},\n",
       " {'John?', 'Why', 'Why?', 'forti🎉', 'troppo', '😂😂😂'})"
      ]
     },
     "execution_count": 47,
     "metadata": {},
     "output_type": "execute_result"
    }
   ],
   "execution_count": 47
  },
  {
   "metadata": {
    "ExecuteTime": {
     "end_time": "2025-03-28T08:39:46.036111Z",
     "start_time": "2025-03-28T08:39:46.032708Z"
    }
   },
   "cell_type": "code",
   "source": [
    "def int_union_ratio(set1, set2):\n",
    "    return len(set1.intersection(set2))/len(set1.union(set2))\n"
   ],
   "id": "de2e10c74681e8d0",
   "outputs": [],
   "execution_count": 48
  },
  {
   "metadata": {
    "ExecuteTime": {
     "end_time": "2025-03-28T08:44:17.448791Z",
     "start_time": "2025-03-28T08:44:17.437602Z"
    }
   },
   "cell_type": "code",
   "source": [
    "commenters = commenters_info.keys()\n",
    "\n",
    "commentator_to_id = {\n",
    "    name: idx\n",
    "    for idx, name in enumerate(commenters)\n",
    "}"
   ],
   "id": "6172d4b553e86d2a",
   "outputs": [],
   "execution_count": 50
  },
  {
   "metadata": {
    "ExecuteTime": {
     "end_time": "2025-03-28T09:37:15.701096Z",
     "start_time": "2025-03-28T09:36:14.924889Z"
    }
   },
   "cell_type": "code",
   "source": [
    "\"\"\"\n",
    " Il Grafo G_voc ha:\n",
    " * Come nodi, tutti i commentatori\n",
    " * Un arco (n1, n2) come il peso della relazione tra n1 ed n2, calcolato a partire dall'insieme delle parole scritte nei commenti da loro (uso union_ratio)\n",
    "\"\"\"\n",
    "\n",
    "G_voc = nx.Graph()\n",
    "\n",
    "G_voc.add_nodes_from(commentator_to_id.values())\n",
    "\n",
    "for u, v in itertools.combinations(commenters, 2):\n",
    "    u_id, v_id = commentator_to_id[u], commentator_to_id[v]\n",
    "    u_words, v_words = commenters_info[u][1], commenters_info[v][1]\n",
    "\n",
    "    weight = int_union_ratio(u_words, v_words)\n",
    "    if weight and weight > 0:\n",
    "        G_voc.add_edge(u_id, v_id, weight=weight)\n"
   ],
   "id": "7bea513d0e536b7",
   "outputs": [],
   "execution_count": 85
  },
  {
   "metadata": {
    "ExecuteTime": {
     "end_time": "2025-03-28T09:37:43.786197Z",
     "start_time": "2025-03-28T09:37:43.775247Z"
    }
   },
   "cell_type": "code",
   "source": "G_voc.size(), G_voc.order()",
   "id": "816e05341d9c5078",
   "outputs": [
    {
     "data": {
      "text/plain": [
       "(10099502, 7658)"
      ]
     },
     "execution_count": 88,
     "metadata": {},
     "output_type": "execute_result"
    }
   ],
   "execution_count": 88
  },
  {
   "metadata": {
    "ExecuteTime": {
     "end_time": "2025-03-28T09:37:38.059413Z",
     "start_time": "2025-03-28T09:37:22.908327Z"
    }
   },
   "cell_type": "code",
   "source": [
    "\"\"\"\n",
    "Il Grafo G_com ha:\n",
    "* Come nodi, tutti i commentatori\n",
    "* Un arco (n1, n2) come il numero di video che hanno commentato entrambi (con un attributo aggiuntivo sim che indica la similarità tra tutt i titoli dei video)\n",
    "\"\"\"\n",
    "\n",
    "G_com = nx.Graph()\n",
    "\n",
    "G_com.add_nodes_from(commentator_to_id.values())\n",
    "\n",
    "# Precompute sim values for every couple\n",
    "video_coefs = dict()\n",
    "for v1, v2 in itertools.combinations(list(video_2_words.keys()),2):\n",
    "    v1_words, v2_words = video_2_words[v1], video_2_words[v2]\n",
    "    coef = int_union_ratio(v1_words, v2_words)\n",
    "    if coef and coef > 0:\n",
    "        video_coefs[(v1,v2)] = coef\n",
    "        video_coefs[(v2,v1)] = coef\n",
    "\n",
    "\n",
    "for u, v in itertools.combinations(commenters, 2):\n",
    "    u_id, v_id = commentator_to_id[u], commentator_to_id[v]\n",
    "    u_videos, v_videos = commenters_info[u][0], commenters_info[v][0]\n",
    "    common_videos = u_videos.intersection(v_videos)\n",
    "\n",
    "    weight = len(common_videos)\n",
    "\n",
    "    if weight > 0:\n",
    "        sim = sum(\n",
    "            int_union_ratio(video_2_words[a], video_2_words[b])\n",
    "            for a, b in itertools.combinations(common_videos, 2)\n",
    "        )\n",
    "\n",
    "        G_com.add_edge(u_id, v_id, weight=weight, sim=sim)\n"
   ],
   "id": "171ad7b88d01a1c0",
   "outputs": [],
   "execution_count": 86
  },
  {
   "metadata": {
    "ExecuteTime": {
     "end_time": "2025-03-28T09:37:40.354088Z",
     "start_time": "2025-03-28T09:37:40.344088Z"
    }
   },
   "cell_type": "code",
   "source": "G_com.size(), G_com.order()",
   "id": "5a06a6fc7ee79ce2",
   "outputs": [
    {
     "data": {
      "text/plain": [
       "(1019944, 7658)"
      ]
     },
     "execution_count": 87,
     "metadata": {},
     "output_type": "execute_result"
    }
   ],
   "execution_count": 87
  },
  {
   "metadata": {
    "ExecuteTime": {
     "end_time": "2025-03-28T09:24:00.765198Z",
     "start_time": "2025-03-28T09:24:00.754895Z"
    }
   },
   "cell_type": "code",
   "source": "degree_com, degree_voc = dict(nx.degree(G_com)), dict(nx.degree(G_voc))",
   "id": "b7ce717937cc46d8",
   "outputs": [],
   "execution_count": 75
  },
  {
   "metadata": {
    "ExecuteTime": {
     "end_time": "2025-03-28T09:37:57.683925Z",
     "start_time": "2025-03-28T09:37:57.673792Z"
    }
   },
   "cell_type": "code",
   "source": [
    "top_10_com = set(sorted(list(degree_com.keys()), key=degree_com.get, reverse=True)[:10])\n",
    "top_10_voc = set(sorted(list(degree_voc.keys()), key=degree_voc.get, reverse=True)[:10])\n",
    "\n",
    "top_10_com.intersection(top_10_voc)"
   ],
   "id": "aa951688ec6ff3e3",
   "outputs": [
    {
     "data": {
      "text/plain": [
       "{63, 168, 227, 724}"
      ]
     },
     "execution_count": 90,
     "metadata": {},
     "output_type": "execute_result"
    }
   ],
   "execution_count": 90
  },
  {
   "metadata": {
    "ExecuteTime": {
     "end_time": "2025-03-28T09:41:23.759195Z",
     "start_time": "2025-03-28T09:41:23.739127Z"
    }
   },
   "cell_type": "code",
   "source": [
    "com_deg_cent, voc_deg_cent = nx.degree_centrality(G_com), nx.degree_centrality(G_voc)\n",
    "\n",
    "x = [\n",
    "    com_deg_cent[node_id]\n",
    "    for node_id in sorted(com_deg_cent.keys())\n",
    "]\n",
    "y = [\n",
    "    voc_deg_cent[node_id]\n",
    "    for node_id in sorted(voc_deg_cent.keys())\n",
    "]\n",
    "\n",
    "\n",
    "stats.kendalltau(x, y).statistic"
   ],
   "id": "bc9e1550e3f23a1c",
   "outputs": [
    {
     "data": {
      "text/plain": [
       "np.float64(0.11281128023646074)"
      ]
     },
     "execution_count": 95,
     "metadata": {},
     "output_type": "execute_result"
    }
   ],
   "execution_count": 95
  },
  {
   "metadata": {
    "ExecuteTime": {
     "end_time": "2025-03-28T09:53:55.257070Z",
     "start_time": "2025-03-28T09:53:18.384934Z"
    }
   },
   "cell_type": "code",
   "source": [
    "# Grafo in cui ogni punto rappresenta una coppia di commentatori definita dalle rispettive similarità in G_com e G_voc\n",
    "\n",
    "points = list()\n",
    "\n",
    "for u, v in itertools.combinations(commenters, 2):\n",
    "    u_id, v_id = commentator_to_id[u], commentator_to_id[v]\n",
    "\n",
    "    try:\n",
    "        sim_x = G_com.edges[u_id, v_id]['sim']\n",
    "        sim_y = G_voc.edges[u_id, v_id]['weight']\n",
    "\n",
    "        if sim_x and sim_y:\n",
    "            points.append((sim_x, sim_y))\n",
    "    except:\n",
    "        pass"
   ],
   "id": "342d248b769d07d5",
   "outputs": [],
   "execution_count": 105
  },
  {
   "metadata": {
    "ExecuteTime": {
     "end_time": "2025-03-28T09:54:06.028704Z",
     "start_time": "2025-03-28T09:54:05.922991Z"
    }
   },
   "cell_type": "code",
   "source": [
    "fig = plt.figure(figsize=(16, 9))\n",
    "ax = fig.add_subplot()\n",
    "x_values, y_values = zip(*points)\n",
    "ax.scatter(x_values, y_values, color='red', alpha=0.5)\n",
    "ax.grid(True)\n",
    "plt.show()"
   ],
   "id": "95f1e6e7b97733a",
   "outputs": [
    {
     "data": {
      "text/plain": [
       "<Figure size 1600x900 with 1 Axes>"
      ],
      "image/png": "[encoded data removed]"
     },
     "metadata": {},
     "output_type": "display_data"
    }
   ],
   "execution_count": 106
  },
  {
   "metadata": {},
   "cell_type": "code",
   "outputs": [],
   "execution_count": null,
   "source": "",
   "id": "d54027d51217c6b3"
  }
 ],
 "metadata": {
  "kernelspec": {
   "display_name": "Python 3",
   "language": "python",
   "name": "python3"
  },
  "language_info": {
   "codemirror_mode": {
    "name": "ipython",
    "version": 2
   },
   "file_extension": ".py",
   "mimetype": "text/x-python",
   "name": "python",
   "nbconvert_exporter": "python",
   "pygments_lexer": "ipython2",
   "version": "2.7.6"
  }
 },
 "nbformat": 4,
 "nbformat_minor": 5
}
